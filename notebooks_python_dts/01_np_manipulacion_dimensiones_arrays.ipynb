{
 "cells": [
  {
   "metadata": {},
   "cell_type": "markdown",
   "source": [
    "# Manipulación de Dimensiones en Arrays con NumPy\n",
    "\n",
    "**Curso:** Python para Ciencia de Datos\n",
    "**Tema:** Manejo de dimensiones en NumPy\n",
    "**Fecha:** 02-03 de Octubre, 2025\n",
    "\n",
    "---"
   ],
   "id": "d9e4c713b0c3b1cf"
  },
  {
   "metadata": {},
   "cell_type": "markdown",
   "source": [
    "## Introducción\n",
    "\n",
    "Las dimensiones en NumPy transforman la manera de trabajar con datos. Entender cómo manejar y manipular datos en múltiples dimensiones es crucial para cualquier científico de datos."
   ],
   "id": "df3737346abfc1b9"
  },
  {
   "metadata": {
    "ExecuteTime": {
     "end_time": "2025-10-03T13:30:30.120344Z",
     "start_time": "2025-10-03T13:30:30.033346Z"
    }
   },
   "cell_type": "code",
   "source": "import numpy as np",
   "id": "328821b2ea7674a2",
   "outputs": [],
   "execution_count": 2
  },
  {
   "metadata": {},
   "cell_type": "markdown",
   "source": [
    "## 1. Escalar (Dimensión 0)\n",
    "\n",
    "Un escalar es un array de dimensión 0, es decir, un solo valor.\n",
    "\n",
    "**Ejemplo:** Temperatura de un día específico"
   ],
   "id": "294c87b2f66933e6"
  },
  {
   "metadata": {},
   "cell_type": "code",
   "source": [
    "escalar = np.array(42)\n",
    "print(escalar)\n",
    "print(type(escalar))\n",
    "print(\"-\" * 50)"
   ],
   "id": "a579655f717bdd24",
   "outputs": [],
   "execution_count": null
  },
  {
   "metadata": {},
   "cell_type": "markdown",
   "source": [
    "## 2. Vector (Dimensión 1)\n",
    "\n",
    "Un vector es una secuencia ordenada de valores. En NumPy, los arrays de una sola dimensión se llaman vectores.\n",
    "\n",
    "**Ejemplo:** Temperaturas de toda una semana\n",
    "\n",
    "**Nota:** La creación de listas o tuplas para NumPy es muy similar, sin embargo, el término correcto cuando estamos trabajando con array de una sola dimensión es **vector**."
   ],
   "id": "2a410517dfdffb51"
  },
  {
   "metadata": {},
   "cell_type": "code",
   "source": [
    "vector = np.array([30, 29, 35, 31, 33, 36, 42])\n",
    "print(vector)\n",
    "print(type(vector))\n",
    "print(\"-\" * 50)"
   ],
   "id": "8a810b54fe1c1e4e",
   "outputs": [],
   "execution_count": null
  },
  {
   "metadata": {},
   "cell_type": "markdown",
   "source": [
    "## 3. Matriz (Dimensión 2)\n",
    "\n",
    "Cuando queremos trabajar con 2 dimensiones hacemos referencia al concepto de matriz.\n",
    "\n",
    "**Regla práctica:** Una forma de saber qué tipo de matriz es se puede determinar por la cantidad de corchetes que tenga nuestro objeto `numpy.array`."
   ],
   "id": "99a51011b8220787"
  },
  {
   "metadata": {
    "ExecuteTime": {
     "end_time": "2025-10-03T12:18:16.196809Z",
     "start_time": "2025-10-03T12:18:16.189868Z"
    }
   },
   "cell_type": "code",
   "source": [
    "matriz = np.array([[1, 2, 3], [4, 5, 6], [7, 8, 9]])\n",
    "print(matriz)\n",
    "print(type(matriz))\n",
    "print(\"-\" * 50)"
   ],
   "id": "5ff85067c290c3b",
   "outputs": [
    {
     "name": "stdout",
     "output_type": "stream",
     "text": [
      "[[1 2 3]\n",
      " [4 5 6]\n",
      " [7 8 9]]\n",
      "<class 'numpy.ndarray'>\n",
      "--------------------------------------------------\n"
     ]
    }
   ],
   "execution_count": 6
  },
  {
   "metadata": {},
   "cell_type": "markdown",
   "source": [
    "## 4. Tensor (Dimensión 3+)\n",
    "\n",
    "Cuando trabajamos con 3 dimensiones hacemos referencia al concepto de **tensor**."
   ],
   "id": "e21ce30f6363e4e8"
  },
  {
   "metadata": {
    "ExecuteTime": {
     "end_time": "2025-10-03T12:18:13.418574Z",
     "start_time": "2025-10-03T12:18:13.410834Z"
    }
   },
   "cell_type": "code",
   "source": [
    "tensor = np.array([[[1, 2], [3, 4], [5, 6], [7, 8], [9, 10], [11, 12]]])\n",
    "print(tensor)\n",
    "print(type(tensor))\n",
    "print(\"-\" * 50)"
   ],
   "id": "fbf0e2eed831c0f3",
   "outputs": [
    {
     "name": "stdout",
     "output_type": "stream",
     "text": [
      "[[[ 1  2]\n",
      "  [ 3  4]\n",
      "  [ 5  6]\n",
      "  [ 7  8]\n",
      "  [ 9 10]\n",
      "  [11 12]]]\n",
      "<class 'numpy.ndarray'>\n",
      "--------------------------------------------------\n"
     ]
    }
   ],
   "execution_count": 5
  },
  {
   "metadata": {},
   "cell_type": "markdown",
   "source": [
    "---\n",
    "\n",
    "## Métodos de Creación de Arrays\n",
    "\n",
    "Según el curso, existen **6 mecanismos generales** para crear un array de NumPy:\n",
    "\n",
    "1. Conversión desde otras estructuras de datos (listas, tuplas)\n",
    "2. Funciones de creación de arrays (como crear una matriz de 0)\n",
    "3. Replicación (unión o mutación) de arrays existentes\n",
    "4. Lectura de arrays desde disco (formatos estándar o personalizados)\n",
    "5. Creación de arrays desde bytes crudos mediante cadenas o buffers\n",
    "6. Uso de funciones especiales de bibliotecas de álgebra lineal"
   ],
   "id": "9cf28390f26103a4"
  },
  {
   "metadata": {},
   "cell_type": "markdown",
   "source": [
    "### Vector con `arange()`\n",
    "\n",
    "Creación de un VECTOR con el método `arange()`"
   ],
   "id": "233ac40c9968b853"
  },
  {
   "metadata": {
    "ExecuteTime": {
     "end_time": "2025-10-03T13:31:40.798628Z",
     "start_time": "2025-10-03T13:31:40.791729Z"
    }
   },
   "cell_type": "code",
   "source": [
    "array_range = np.arange(10)\n",
    "print(array_range)\n",
    "print(type(array_range))\n",
    "print(\"-\" * 50)"
   ],
   "id": "35417c00fd8b4c5c",
   "outputs": [
    {
     "name": "stdout",
     "output_type": "stream",
     "text": [
      "[0 1 2 3 4 5 6 7 8 9]\n",
      "<class 'numpy.ndarray'>\n",
      "--------------------------------------------------\n"
     ]
    }
   ],
   "execution_count": 6
  },
  {
   "metadata": {},
   "cell_type": "markdown",
   "source": [
    "### Matriz Identidad con `eye()`\n",
    "\n",
    "Creación de una matriz IDENTIDAD, donde se usa el método `eye()` y se le pasa como argumento el número de la matriz."
   ],
   "id": "f681540087b4d77b"
  },
  {
   "metadata": {
    "ExecuteTime": {
     "end_time": "2025-10-03T13:30:38.423629Z",
     "start_time": "2025-10-03T13:30:38.416461Z"
    }
   },
   "cell_type": "code",
   "source": [
    "matriz_identidad = np.eye(3)\n",
    "print(matriz_identidad)\n",
    "print(type(matriz_identidad))\n",
    "print(\"-\" * 50)"
   ],
   "id": "ba2436b8ede100fe",
   "outputs": [
    {
     "name": "stdout",
     "output_type": "stream",
     "text": [
      "[[1. 0. 0.]\n",
      " [0. 1. 0.]\n",
      " [0. 0. 1.]]\n",
      "<class 'numpy.ndarray'>\n",
      "--------------------------------------------------\n"
     ]
    }
   ],
   "execution_count": 3
  },
  {
   "metadata": {},
   "cell_type": "markdown",
   "source": [
    "### Matriz Diagonal con `diag()`\n",
    "\n",
    "Creación de matriz diagonal, funciona como la matriz identidad pero solo con un valor determinado por nosotros dentro de las filas."
   ],
   "id": "da233534a40cedd2"
  },
  {
   "metadata": {},
   "cell_type": "code",
   "source": [
    "matriz_diagonal = np.diag([1, 2, 3, 4, 5, 6, 7])\n",
    "print(matriz_diagonal)\n",
    "print(type(matriz_diagonal))\n",
    "print(\"-\" * 50)"
   ],
   "id": "11bbc4f715359267",
   "outputs": [],
   "execution_count": null
  },
  {
   "metadata": {},
   "cell_type": "markdown",
   "source": [
    "### Matriz con Valores Aleatorios con `random()`\n",
    "\n",
    "Creación de una matriz RANDOM, nos da la información de una matriz con valores aleatorios.\n",
    "\n",
    "**Recibe como argumento el tamaño de la matriz:**\n",
    "- El primer argumento son las filas\n",
    "- El segundo argumento son las columnas"
   ],
   "id": "ffa0c9201161cf9"
  },
  {
   "metadata": {
    "ExecuteTime": {
     "end_time": "2025-10-03T13:30:51.363626Z",
     "start_time": "2025-10-03T13:30:51.336504Z"
    }
   },
   "cell_type": "code",
   "source": [
    "matriz_random = np.random.random((3, 3))\n",
    "print(matriz_random)\n",
    "print(type(matriz_random))"
   ],
   "id": "583741c39a693477",
   "outputs": [
    {
     "name": "stdout",
     "output_type": "stream",
     "text": [
      "[[0.69579771 0.29141694 0.90999765]\n",
      " [0.05961415 0.27844786 0.63708409]\n",
      " [0.64075028 0.91037489 0.7308847 ]]\n",
      "<class 'numpy.ndarray'>\n"
     ]
    }
   ],
   "execution_count": 4
  },
  {
   "metadata": {},
   "cell_type": "markdown",
   "source": [
    "---\n",
    "\n",
    "## Reto Personal\n",
    "\n",
    "Investiga cuáles otros métodos de NumPy existen para crear arrays.\n",
    "\n",
    "**Sugerencias para explorar:**\n",
    "- `np.zeros()` - Matriz de ceros\n",
    "- `np.ones()` - Matriz de unos\n",
    "- `np.full()` - Matriz con valor constante\n",
    "- `np.linspace()` - Secuencia con espaciado lineal\n",
    "- `np.empty()` - Matriz sin inicializar (más rápida)\n",
    "- `np.random.randint()` - Enteros aleatorios"
   ],
   "id": "78bc52e2bac6d56e"
  },
  {
   "metadata": {
    "ExecuteTime": {
     "end_time": "2025-10-03T13:35:01.509141Z",
     "start_time": "2025-10-03T13:35:01.494610Z"
    }
   },
   "cell_type": "code",
   "source": [
    "# Creación de un vector de ceros\n",
    "vector_zeros = np.zeros(4)\n",
    "print(vector_zeros)\n",
    "print(\"-\" * 50)\n",
    "\n",
    "# Creación vector de unos\n",
    "vector_ones = np.ones(4)\n",
    "print(vector_ones)\n",
    "print(\"-\" * 50)\n",
    "\n",
    "# Creación vector con valor constante, primer argumento como cantidad de columnas y segundo como valor\n",
    "vector_full_constante = np.full(5, 2)\n",
    "print(vector_full_constante)\n",
    "print(\"-\" * 50)\n",
    "\n",
    "# Creación vector con valores cantidad de valores exactos\n",
    "vector_linspace = np.linspace(0, 10, 11)\n",
    "print(vector_linspace)\n",
    "print(\"-\" * 50)\n",
    "\n",
    "# Vector sin inicializar (números basura), sirve para no limpiar la memoria\n",
    "vector_empty = np.empty(6)\n",
    "print(vector_empty)\n",
    "print(\"-\" * 50)\n",
    "\n",
    "# Vector de enteros aleatorios, primer argumento es el valor minimo, el segundo es el valor maximo y el tercero es la cantidad de valores\n",
    "vector_numeros_enteros = np.random.randint(low=0, high=15, size=20)\n",
    "print(vector_numeros_enteros)\n",
    "print(\"-\" * 50)\n",
    "\n",
    "# Existe la forma de crear las dimensiones de un array (matriz) desde un método sin tener que usar la manualidad\n",
    "matriz_metodo = np.arange(1, 13).reshape(3, 4)\n",
    "print(matriz_metodo)"
   ],
   "id": "b84e18d0d9bb799f",
   "outputs": [
    {
     "name": "stdout",
     "output_type": "stream",
     "text": [
      "[0. 0. 0. 0.]\n",
      "--------------------------------------------------\n",
      "[1. 1. 1. 1.]\n",
      "--------------------------------------------------\n",
      "[2 2 2 2 2]\n",
      "--------------------------------------------------\n",
      "[ 0.  1.  2.  3.  4.  5.  6.  7.  8.  9. 10.]\n",
      "--------------------------------------------------\n",
      "[0. 0. 0. 0. 0. 0.]\n",
      "--------------------------------------------------\n",
      "[ 3  6  5 10  1  6 11  5  2 14 10  6  4  3  9 13  5 14  4 10]\n",
      "--------------------------------------------------\n",
      "[[ 1  2  3  4]\n",
      " [ 5  6  7  8]\n",
      " [ 9 10 11 12]]\n"
     ]
    }
   ],
   "execution_count": 8
  },
  {
   "metadata": {},
   "cell_type": "markdown",
   "source": [
    "---\n",
    "\n",
    "## Resumen\n",
    "\n",
    "- **Escalar (0D):** Un solo valor\n",
    "- **Vector (1D):** Lista de valores\n",
    "- **Matriz (2D):** Tabla (filas × columnas)\n",
    "- **Tensor (3D+):** Estructuras multidimensionales\n",
    "- **6 formas de crear arrays:** Conversión, funciones, replicación, lectura, bytes, bibliotecas especializadas\n",
    "- **Funciones clave:** `arange()`, `eye()`, `diag()`, `random()`\n",
    "\n",
    "**Próximos pasos:** Practicar indexación y slicing de arrays para manipular subconjuntos de datos."
   ],
   "id": "ebaffec2a019f9f"
  }
 ],
 "metadata": {
  "kernelspec": {
   "display_name": "Python 3",
   "language": "python",
   "name": "python3"
  },
  "language_info": {
   "codemirror_mode": {
    "name": "ipython",
    "version": 2
   },
   "file_extension": ".py",
   "mimetype": "text/x-python",
   "name": "python",
   "nbconvert_exporter": "python",
   "pygments_lexer": "ipython2",
   "version": "2.7.6"
  }
 },
 "nbformat": 4,
 "nbformat_minor": 5
}
