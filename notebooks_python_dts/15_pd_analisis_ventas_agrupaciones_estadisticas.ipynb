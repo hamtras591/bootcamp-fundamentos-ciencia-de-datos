{
 "cells": [
  {
   "metadata": {},
   "cell_type": "markdown",
   "source": [
    "# Agrupación y Análisis de Datos con GroupBy\n",
    "\n",
    "**Curso:** Python para Ciencia de Datos \\\n",
    "**Fecha:** 08 de octubre de 2025 \\\n",
    "**Ruta:** Fundamentos de Data Science e IA \\\n",
    "**Repositorio:** `bootcamp-fundamentos-ciencia-de-datos` "
   ],
   "id": "a120fb03e24badef"
  },
  {
   "metadata": {},
   "cell_type": "markdown",
   "source": [
    "## 📋 Índice\n",
    "\n",
    "1. [Concepto](#concepto)\n",
    "2. [Distribución de Frecuencias](#distribucion-frecuencias)\n",
    "3. [Agrupación Básica con groupby()](#agrupacion-basica)\n",
    "4. [Múltiples Agregaciones con agg()](#multiples-agregaciones)\n",
    "5. [Agrupación por Múltiples Columnas](#agrupacion-multiple)\n",
    "6. [Funciones Personalizadas con apply()](#funciones-personalizadas)\n",
    "7. [Casos de Uso en Data Science](#casos-uso)\n",
    "8. [Recursos Adicionales](#recursos)"
   ],
   "id": "a4814e246f749311"
  },
  {
   "metadata": {},
   "cell_type": "markdown",
   "source": [
    "## Concepto\n",
    "\n",
    "**GroupBy** es una de las operaciones más poderosas en Pandas. Permite dividir un DataFrame en grupos basados en valores de una o más columnas, aplicar funciones de agregación y combinar los resultados.\n",
    "\n",
    "### El paradigma Split-Apply-Combine\n",
    "\n",
    "DataFrame Original \\\n",
    "↓ \\\n",
    "[SPLIT] - Dividir en grupos \\\n",
    "↓ \\\n",
    "[APPLY] - Aplicar función a cada grupo \\\n",
    "↓ \\\n",
    "[COMBINE] - Combinar resultados \\\n",
    "↓ \\\n",
    "Resultado Agregado"
   ],
   "id": "cfafd439f558c241"
  },
  {
   "metadata": {},
   "cell_type": "markdown",
   "source": [
    "### ¿Por qué es importante?\n",
    "\n",
    "- 📊 **Análisis por categorías**: Ventas por país, región, producto\n",
    "- 📈 **Cálculo de métricas**: Promedios, totales, conteos por grupo\n",
    "- 🎯 **Identificar patrones**: Top productos, clientes VIP, tendencias\n",
    "- 💡 **Toma de decisiones**: Comparar rendimiento entre segmentos\n",
    "\n",
    "### Funciones de agregación comunes\n",
    "\n",
    "| Función | Descripción | Ejemplo |\n",
    "|---------|-------------|---------|\n",
    "| `sum()` | Suma de valores | Ventas totales por país |\n",
    "| `mean()` | Promedio | Ticket promedio por tienda |\n",
    "| `count()` | Conteo de registros | Número de transacciones |\n",
    "| `min()` / `max()` | Valores extremos | Precio más bajo/alto |\n",
    "| `std()` | Desviación estándar | Variabilidad de precios |\n",
    "| `agg()` | Múltiples agregaciones | Suma + Media + Conteo |"
   ],
   "id": "f227e380856c646e"
  },
  {
   "cell_type": "code",
   "id": "initial_id",
   "metadata": {
    "collapsed": true,
    "ExecuteTime": {
     "end_time": "2025-10-08T20:38:53.971639Z",
     "start_time": "2025-10-08T20:38:53.966276Z"
    }
   },
   "source": [
    "from data_loader import load_data\n",
    "import pandas as pd\n",
    "import numpy as np"
   ],
   "outputs": [],
   "execution_count": 51
  },
  {
   "metadata": {
    "ExecuteTime": {
     "end_time": "2025-10-08T20:38:56.912896Z",
     "start_time": "2025-10-08T20:38:56.010038Z"
    }
   },
   "cell_type": "code",
   "source": [
    "# Cargar datos de ejemplo\n",
    "df = load_data('online_retail.csv')\n",
    "\n",
    "# Crear columna Total_Price si no existe\n",
    "if 'Total_Price' not in df.columns:\n",
    "    df['Total_Price'] = df['Quantity'] * df['UnitPrice']\n",
    "\n",
    "print(\"Dataset cargado:\")\n",
    "print(df.head())\n",
    "print(f\"\\nForma: {df.shape}\")"
   ],
   "id": "a765385a29cecf94",
   "outputs": [
    {
     "name": "stdout",
     "output_type": "stream",
     "text": [
      "📊 Separador detectado: ','\n",
      "🔤 Encoding detectado: ascii (100.0% confianza)\n",
      "⚠️ Error de encoding, intentando con latin-1\n",
      "Dataset cargado:\n",
      "  InvoiceNo StockCode                          Description  Quantity  \\\n",
      "0    536365    85123A   WHITE HANGING HEART T-LIGHT HOLDER         6   \n",
      "1    536365     71053                  WHITE METAL LANTERN         6   \n",
      "2    536365    84406B       CREAM CUPID HEARTS COAT HANGER         8   \n",
      "3    536365    84029G  KNITTED UNION FLAG HOT WATER BOTTLE         6   \n",
      "4    536365    84029E       RED WOOLLY HOTTIE WHITE HEART.         6   \n",
      "\n",
      "    InvoiceDate  UnitPrice  CustomerID         Country  Total_Price  \n",
      "0  12/1/10 8:26       2.55     17850.0  United Kingdom        15.30  \n",
      "1  12/1/10 8:26       3.39     17850.0  United Kingdom        20.34  \n",
      "2  12/1/10 8:26       2.75     17850.0  United Kingdom        22.00  \n",
      "3  12/1/10 8:26       3.39     17850.0  United Kingdom        20.34  \n",
      "4  12/1/10 8:26       3.39     17850.0  United Kingdom        20.34  \n",
      "\n",
      "Forma: (541909, 9)\n"
     ]
    }
   ],
   "execution_count": 52
  },
  {
   "metadata": {},
   "cell_type": "markdown",
   "source": [
    "---\n",
    "\n",
    "## Distribución de Frecuencias\n",
    "\n",
    "Antes de agrupar, es útil entender **cuántas veces aparece cada valor** en una columna.\n",
    "\n",
    "### value_counts() - Contar ocurrencias\n",
    "\n",
    "El método `value_counts()` es perfecto para obtener la frecuencia de cada valor único."
   ],
   "id": "95b59dd9d68e2e31"
  },
  {
   "metadata": {
    "ExecuteTime": {
     "end_time": "2025-10-08T20:39:22.684938Z",
     "start_time": "2025-10-08T20:39:22.636635Z"
    }
   },
   "cell_type": "code",
   "source": [
    "# Contar ventas por país\n",
    "country_counts = df['Country'].value_counts()\n",
    "\n",
    "print(\"📊 Número de transacciones por país:\")\n",
    "print(country_counts.head(10))"
   ],
   "id": "9959ffc7e09240fc",
   "outputs": [
    {
     "name": "stdout",
     "output_type": "stream",
     "text": [
      "📊 Número de transacciones por país:\n",
      "Country\n",
      "United Kingdom    495478\n",
      "Germany             9495\n",
      "France              8557\n",
      "EIRE                8196\n",
      "Spain               2533\n",
      "Netherlands         2371\n",
      "Belgium             2069\n",
      "Switzerland         2002\n",
      "Portugal            1519\n",
      "Australia           1259\n",
      "Name: count, dtype: int64\n"
     ]
    }
   ],
   "execution_count": 53
  },
  {
   "metadata": {},
   "cell_type": "markdown",
   "source": "### Análisis de la distribución",
   "id": "a8bdbbfb626ff0fe"
  },
  {
   "metadata": {
    "ExecuteTime": {
     "end_time": "2025-10-08T20:39:35.658484Z",
     "start_time": "2025-10-08T20:39:35.614676Z"
    }
   },
   "cell_type": "code",
   "source": [
    "# Estadísticas de la distribución\n",
    "print(f\"🌍 Total de países: {df['Country'].nunique()}\")\n",
    "print(f\"📦 Total de transacciones: {len(df)}\")\n",
    "print(f\"\\n🏆 País con más transacciones: {country_counts.index[0]}\")\n",
    "print(f\"📈 Cantidad: {country_counts.iloc[0]:,}\")\n",
    "\n",
    "# Porcentaje del top país\n",
    "porcentaje_top = (country_counts.iloc[0] / len(df)) * 100\n",
    "print(f\"📊 Representa el {porcentaje_top:.2f}% del total\")"
   ],
   "id": "7bada5514f4795ce",
   "outputs": [
    {
     "name": "stdout",
     "output_type": "stream",
     "text": [
      "🌍 Total de países: 38\n",
      "📦 Total de transacciones: 541909\n",
      "\n",
      "🏆 País con más transacciones: United Kingdom\n",
      "📈 Cantidad: 495,478\n",
      "📊 Representa el 91.43% del total\n"
     ]
    }
   ],
   "execution_count": 54
  },
  {
   "metadata": {},
   "cell_type": "markdown",
   "source": "### Visualizar top y bottom países",
   "id": "2545f065fa28ff4c"
  },
  {
   "metadata": {
    "ExecuteTime": {
     "end_time": "2025-10-08T20:40:31.015076Z",
     "start_time": "2025-10-08T20:40:31.006467Z"
    }
   },
   "cell_type": "code",
   "source": [
    "# Top 5 y Bottom 5\n",
    "print(\"🥇 Top 5 países por número de transacciones:\")\n",
    "print(country_counts.head())\n",
    "\n",
    "print(\"\\n📉 Bottom 5 países por número de transacciones:\")\n",
    "print(country_counts.tail())"
   ],
   "id": "dc5acce5eb5966a0",
   "outputs": [
    {
     "name": "stdout",
     "output_type": "stream",
     "text": [
      "🥇 Top 5 países por número de transacciones:\n",
      "Country\n",
      "United Kingdom    495478\n",
      "Germany             9495\n",
      "France              8557\n",
      "EIRE                8196\n",
      "Spain               2533\n",
      "Name: count, dtype: int64\n",
      "\n",
      "📉 Bottom 5 países por número de transacciones:\n",
      "Country\n",
      "Lithuania         35\n",
      "Brazil            32\n",
      "Czech Republic    30\n",
      "Bahrain           19\n",
      "Saudi Arabia      10\n",
      "Name: count, dtype: int64\n"
     ]
    }
   ],
   "execution_count": 55
  },
  {
   "metadata": {},
   "cell_type": "markdown",
   "source": [
    "---\n",
    "\n",
    "## Agrupación Básica con groupby()\n",
    "\n",
    "`groupby()` agrupa filas que tienen el mismo valor en una o más columnas.\n",
    "\n",
    "### Sintaxis básica\n",
    "```python\n",
    "df.groupby('columna')['columna_a_agregar'].funcion_agregacion()"
   ],
   "id": "790d1a87bba93de9"
  },
  {
   "metadata": {
    "ExecuteTime": {
     "end_time": "2025-10-08T20:41:17.129098Z",
     "start_time": "2025-10-08T20:41:17.080263Z"
    }
   },
   "cell_type": "code",
   "source": [
    "# Agrupar por país y sumar las cantidades\n",
    "country_quantity = df.groupby('Country')['Quantity'].sum()\n",
    "\n",
    "print(\"📦 Cantidad total de productos vendidos por país:\")\n",
    "print(country_quantity.sort_values(ascending=False).head(10))"
   ],
   "id": "902f5db7b6c2cc2a",
   "outputs": [
    {
     "name": "stdout",
     "output_type": "stream",
     "text": [
      "📦 Cantidad total de productos vendidos por país:\n",
      "Country\n",
      "United Kingdom    4263829\n",
      "Netherlands        200128\n",
      "EIRE               142637\n",
      "Germany            117448\n",
      "France             110480\n",
      "Australia           83653\n",
      "Sweden              35637\n",
      "Switzerland         30325\n",
      "Spain               26824\n",
      "Japan               25218\n",
      "Name: Quantity, dtype: int64\n"
     ]
    }
   ],
   "execution_count": 56
  },
  {
   "metadata": {},
   "cell_type": "markdown",
   "source": "### Ejemplo 2: Promedio de precios por país",
   "id": "a40801c47b20478"
  },
  {
   "metadata": {
    "ExecuteTime": {
     "end_time": "2025-10-08T20:26:30.731293Z",
     "start_time": "2025-10-08T20:26:30.674383Z"
    }
   },
   "cell_type": "code",
   "source": [
    "# Precio unitario promedio por país\n",
    "country_avg_price = df.groupby('Country')['UnitPrice'].mean()\n",
    "\n",
    "print(\"💰 Precio unitario promedio por país:\")\n",
    "print(country_avg_price.sort_values(ascending=False).head(10))"
   ],
   "id": "261176ed85c229ea",
   "outputs": [
    {
     "name": "stdout",
     "output_type": "stream",
     "text": [
      "💰 Precio unitario promedio por país:\n",
      "Country\n",
      "Singapore    109.645808\n",
      "Hong Kong     42.505208\n",
      "Portugal       8.582976\n",
      "Cyprus         6.302363\n",
      "Canada         6.030331\n",
      "Norway         6.012026\n",
      "EIRE           5.911077\n",
      "Finland        5.448705\n",
      "Lebanon        5.387556\n",
      "Malta          5.244173\n",
      "Name: UnitPrice, dtype: float64\n"
     ]
    }
   ],
   "execution_count": 44
  },
  {
   "metadata": {},
   "cell_type": "markdown",
   "source": "### Ejemplo 3: Conteo de transacciones con count()",
   "id": "2f2b891585ea2c25"
  },
  {
   "metadata": {
    "ExecuteTime": {
     "end_time": "2025-10-08T20:42:35.561677Z",
     "start_time": "2025-10-08T20:42:35.497830Z"
    }
   },
   "cell_type": "code",
   "source": [
    "# Contar número de transacciones por país\n",
    "country_transactions = df.groupby('Country')['InvoiceNo'].count()\n",
    "\n",
    "print(\"🧾 Número de transacciones por país:\")\n",
    "print(country_transactions.sort_values(ascending=False).head(10))"
   ],
   "id": "1de276c318816432",
   "outputs": [
    {
     "name": "stdout",
     "output_type": "stream",
     "text": [
      "🧾 Número de transacciones por país:\n",
      "Country\n",
      "United Kingdom    495478\n",
      "Germany             9495\n",
      "France              8557\n",
      "EIRE                8196\n",
      "Spain               2533\n",
      "Netherlands         2371\n",
      "Belgium             2069\n",
      "Switzerland         2002\n",
      "Portugal            1519\n",
      "Australia           1259\n",
      "Name: InvoiceNo, dtype: int64\n"
     ]
    }
   ],
   "execution_count": 57
  },
  {
   "metadata": {},
   "cell_type": "markdown",
   "source": [
    "### Comparación: value_counts() vs groupby().count()\n",
    "\n",
    "Ambos cuentan ocurrencias, pero tienen diferencias:\n",
    "\n",
    "| Aspecto | value_counts() | groupby().count() |\n",
    "|---------|----------------|-------------------|\n",
    "| **Uso** | Contar valores en UNA columna | Agrupar y contar en CUALQUIER columna |\n",
    "| **Resultado** | Series ordenada por frecuencia | Series/DataFrame sin orden |\n",
    "| **Flexibilidad** | Simple y directo | Más flexible, permite más operaciones |\n",
    "| **Valores NaN** | Excluye por defecto | Excluye por defecto |"
   ],
   "id": "40de3c8466ebdeb1"
  },
  {
   "metadata": {},
   "cell_type": "markdown",
   "source": [
    "---\n",
    "\n",
    "## Múltiples Agregaciones con agg()\n",
    "\n",
    "`agg()` permite aplicar **múltiples funciones de agregación** a la vez.\n",
    "\n",
    "### Sintaxis\n",
    "```python\n",
    "df.groupby('columna')['columna_numerica'].agg(['funcion1', 'funcion2', ...])"
   ],
   "id": "57d1c37fb83a6031"
  },
  {
   "metadata": {
    "ExecuteTime": {
     "end_time": "2025-10-08T20:27:53.626050Z",
     "start_time": "2025-10-08T20:27:53.429468Z"
    }
   },
   "cell_type": "code",
   "source": [
    "# Múltiples estadísticas del precio unitario por país\n",
    "country_price_stats = df.groupby('Country')['UnitPrice'].agg(['sum', 'mean', 'min', 'max', 'std'])\n",
    "\n",
    "print(\"📊 Estadísticas de precio unitario por país:\")\n",
    "print(country_price_stats.sort_values('sum', ascending=False).head(10))"
   ],
   "id": "dcd45e81ec1585d5",
   "outputs": [
    {
     "name": "stdout",
     "output_type": "stream",
     "text": [
      "📊 Estadísticas de precio unitario por país:\n",
      "                        sum        mean       min       max         std\n",
      "Country                                                                \n",
      "United Kingdom  2245715.474    4.532422 -11062.06  38970.00   99.315438\n",
      "EIRE              48447.190    5.911077      0.00   1917.00   54.035173\n",
      "France            43031.990    5.028864      0.00   4161.06   79.909126\n",
      "Germany           37666.000    3.966930      0.00    599.50   16.549026\n",
      "Singapore         25108.890  109.645808      0.19   3949.32  515.275500\n",
      "Portugal          13037.540    8.582976      0.12   1241.98   71.379996\n",
      "Spain             12633.450    4.987544      0.00   1715.85   41.003162\n",
      "Hong Kong         12241.500   42.505208      0.21   2653.95  307.646598\n",
      "Belgium            7540.130    3.644335      0.12     39.95    4.244522\n",
      "Switzerland        6813.690    3.403442      0.00     40.00    5.389581\n"
     ]
    }
   ],
   "execution_count": 46
  },
  {
   "metadata": {},
   "cell_type": "markdown",
   "source": [
    "### Renombrar columnas en agg()\n",
    "\n",
    "Podemos dar nombres personalizados a las columnas resultantes:"
   ],
   "id": "cbd0208bd4c6c6f6"
  },
  {
   "metadata": {
    "ExecuteTime": {
     "end_time": "2025-10-08T20:28:25.518335Z",
     "start_time": "2025-10-08T20:28:25.452865Z"
    }
   },
   "cell_type": "code",
   "source": [
    "# Estadísticas con nombres personalizados\n",
    "country_stats_custom = df.groupby('Country')['Quantity'].agg([\n",
    "    ('Total_Items', 'sum'),\n",
    "    ('Avg_Items_Per_Transaction', 'mean'),\n",
    "    ('Min_Items', 'min'),\n",
    "    ('Max_Items', 'max'),\n",
    "    ('Num_Transactions', 'count')\n",
    "])\n",
    "\n",
    "print(\"📦 Estadísticas de cantidad por país:\")\n",
    "print(country_stats_custom.sort_values('Total_Items', ascending=False).head(10))"
   ],
   "id": "e3da72abada8c6fd",
   "outputs": [
    {
     "name": "stdout",
     "output_type": "stream",
     "text": [
      "📦 Estadísticas de cantidad por país:\n",
      "                Total_Items  Avg_Items_Per_Transaction  Min_Items  Max_Items  \\\n",
      "Country                                                                        \n",
      "United Kingdom      4263829                   8.605486     -80995      80995   \n",
      "Netherlands          200128                  84.406580       -480       2400   \n",
      "EIRE                 142637                  17.403245       -288       1440   \n",
      "Germany              117448                  12.369458       -288        600   \n",
      "France               110480                  12.911067       -250        912   \n",
      "Australia             83653                  66.444003       -120       1152   \n",
      "Sweden                35637                  77.136364       -240        768   \n",
      "Switzerland           30325                  15.147353       -120        288   \n",
      "Spain                 26824                  10.589814       -288        360   \n",
      "Japan                 25218                  70.441341       -624       2040   \n",
      "\n",
      "                Num_Transactions  \n",
      "Country                           \n",
      "United Kingdom            495478  \n",
      "Netherlands                 2371  \n",
      "EIRE                        8196  \n",
      "Germany                     9495  \n",
      "France                      8557  \n",
      "Australia                   1259  \n",
      "Sweden                       462  \n",
      "Switzerland                 2002  \n",
      "Spain                       2533  \n",
      "Japan                        358  \n"
     ]
    }
   ],
   "execution_count": 47
  },
  {
   "metadata": {},
   "cell_type": "markdown",
   "source": "### Agregar múltiples columnas a la vez",
   "id": "b27a9416e07227ca"
  },
  {
   "metadata": {
    "ExecuteTime": {
     "end_time": "2025-10-08T20:45:24.205096Z",
     "start_time": "2025-10-08T20:45:24.083759Z"
    }
   },
   "cell_type": "code",
   "source": [
    "# Diferentes agregaciones para diferentes columnas\n",
    "country_summary = df.groupby('Country').agg({\n",
    "    'InvoiceNo': 'nunique',      # Número de facturas únicas\n",
    "    'Quantity': ['sum', 'mean'],  # Total y promedio de cantidad\n",
    "    'UnitPrice': 'mean',          # Precio promedio\n",
    "    'Total_Price': 'sum'          # Ingresos totales\n",
    "})\n",
    "\n",
    "print(\"📊 Resumen completo por país:\")\n",
    "print(country_summary.sort_values(('Total_Price', 'sum'), ascending=False).head(10))"
   ],
   "id": "89c4788b3261032f",
   "outputs": [
    {
     "name": "stdout",
     "output_type": "stream",
     "text": [
      "📊 Resumen completo por país:\n",
      "               InvoiceNo Quantity            UnitPrice  Total_Price\n",
      "                 nunique      sum       mean      mean          sum\n",
      "Country                                                            \n",
      "United Kingdom     23494  4263829   8.605486  4.532422  8187806.364\n",
      "Netherlands          101   200128  84.406580  2.738317   284661.540\n",
      "EIRE                 360   142637  17.403245  5.911077   263276.820\n",
      "Germany              603   117448  12.369458  3.966930   221698.210\n",
      "France               461   110480  12.911067  5.028864   197403.900\n",
      "Australia             69    83653  66.444003  3.220612   137077.270\n",
      "Switzerland           74    30325  15.147353  3.403442    56385.350\n",
      "Spain                105    26824  10.589814  4.987544    54774.580\n",
      "Belgium              119    23152  11.189947  3.644335    40910.960\n",
      "Sweden                46    35637  77.136364  3.910887    36595.910\n"
     ]
    }
   ],
   "execution_count": 58
  },
  {
   "metadata": {},
   "cell_type": "markdown",
   "source": [
    "### Aplanar columnas multi-nivel\n",
    "\n",
    "Cuando usamos `agg()` con múltiples funciones, obtenemos columnas multi-nivel. Podemos aplanarlas:"
   ],
   "id": "f4e27fb1e5ea9206"
  },
  {
   "metadata": {
    "ExecuteTime": {
     "end_time": "2025-10-08T20:29:55.314904Z",
     "start_time": "2025-10-08T20:29:55.302932Z"
    }
   },
   "cell_type": "code",
   "source": [
    "# Aplanar las columnas\n",
    "country_summary_flat = country_summary.copy()\n",
    "country_summary_flat.columns = ['_'.join(col).strip() if col[1] else col[0]\n",
    "                                 for col in country_summary_flat.columns.values]\n",
    "country_summary_flat = country_summary_flat.reset_index()\n",
    "\n",
    "print(\"📊 Resumen con columnas planas:\")\n",
    "print(country_summary_flat.head())"
   ],
   "id": "bb6f516ddad41335",
   "outputs": [
    {
     "name": "stdout",
     "output_type": "stream",
     "text": [
      "📊 Resumen con columnas planas:\n",
      "     Country  InvoiceNo_nunique  Quantity_sum  Quantity_mean  UnitPrice_mean  \\\n",
      "0  Australia                 69         83653      66.444003        3.220612   \n",
      "1    Austria                 19          4827      12.037406        4.243192   \n",
      "2    Bahrain                  4           260      13.684211        4.556316   \n",
      "3    Belgium                119         23152      11.189947        3.644335   \n",
      "4     Brazil                  1           356      11.125000        4.456250   \n",
      "\n",
      "   Total_Price_sum  \n",
      "0        137077.27  \n",
      "1         10154.32  \n",
      "2           548.40  \n",
      "3         40910.96  \n",
      "4          1143.60  \n"
     ]
    }
   ],
   "execution_count": 49
  },
  {
   "metadata": {},
   "cell_type": "markdown",
   "source": [
    "---\n",
    "\n",
    "## Agrupación por Múltiples Columnas\n",
    "\n",
    "A veces necesitamos agrupar por **más de una columna** para análisis más granulares.\n",
    "\n",
    "### Sintaxis\n",
    "```python\n",
    "df.groupby(['columna1', 'columna2'])['columna_numerica'].funcion()"
   ],
   "id": "dadd0452f60aea9"
  },
  {
   "metadata": {
    "ExecuteTime": {
     "end_time": "2025-10-08T20:47:00.663277Z",
     "start_time": "2025-10-08T20:47:00.544226Z"
    }
   },
   "cell_type": "code",
   "source": [
    "# Agrupar por país y código de producto\n",
    "country_product_sales = df.groupby(['Country', 'StockCode'])['Quantity'].sum()\n",
    "\n",
    "print(\"📦 Ventas por país y producto (primeros 20):\")\n",
    "print(country_product_sales.sort_values(ascending=False).head(20))"
   ],
   "id": "993f60873769aa37",
   "outputs": [
    {
     "name": "stdout",
     "output_type": "stream",
     "text": [
      "📦 Ventas por país y producto (primeros 20):\n",
      "Country         StockCode\n",
      "United Kingdom  22197        52928\n",
      "                84077        48326\n",
      "                85099B       43167\n",
      "                85123A       36706\n",
      "                84879        33519\n",
      "                22616        25307\n",
      "                21212        24702\n",
      "                22178        23242\n",
      "                17003        22801\n",
      "                21977        20288\n",
      "                15036        19792\n",
      "                22386        18936\n",
      "                84946        18684\n",
      "                22086        18197\n",
      "                21915        17954\n",
      "                23203        17478\n",
      "                22469        17349\n",
      "                47566        16709\n",
      "                22355        15975\n",
      "                84755        15400\n",
      "Name: Quantity, dtype: int64\n"
     ]
    }
   ],
   "execution_count": 59
  },
  {
   "metadata": {},
   "cell_type": "markdown",
   "source": [
    "### Ejemplo 2: Convertir a DataFrame con reset_index()\n",
    "\n",
    "El resultado anterior es una Series con índice multi-nivel. Para trabajar mejor con él:"
   ],
   "id": "9f6b2397477fa4ec"
  },
  {
   "metadata": {
    "ExecuteTime": {
     "end_time": "2025-10-08T20:47:08.990756Z",
     "start_time": "2025-10-08T20:47:08.429611Z"
    }
   },
   "cell_type": "code",
   "source": [
    "# Convertir a DataFrame\n",
    "country_product_df = df.groupby(['Country', 'StockCode']).agg({\n",
    "    'Quantity': 'sum',\n",
    "    'Total_Price': 'sum',\n",
    "    'InvoiceNo': 'nunique'\n",
    "}).reset_index()\n",
    "\n",
    "# Renombrar columnas\n",
    "country_product_df.columns = ['Country', 'StockCode', 'Total_Quantity', 'Total_Revenue', 'Num_Orders']\n",
    "\n",
    "print(\"📊 DataFrame de ventas por país y producto:\")\n",
    "print(country_product_df.sort_values('Total_Revenue', ascending=False).head(15))"
   ],
   "id": "f5c42954fab46219",
   "outputs": [
    {
     "name": "stdout",
     "output_type": "stream",
     "text": [
      "📊 DataFrame de ventas por país y producto:\n",
      "              Country StockCode  Total_Quantity  Total_Revenue  Num_Orders\n",
      "19484  United Kingdom       DOT            1707      206245.48         710\n",
      "16776  United Kingdom     22423           10323      134405.94        1835\n",
      "18161  United Kingdom     47566           16709       92501.73        1613\n",
      "18962  United Kingdom    85123A           36706       92179.10        2150\n",
      "18941  United Kingdom    85099B           43167       84516.44        1978\n",
      "16471  United Kingdom     22086           18197       61888.19        1134\n",
      "18732  United Kingdom     84879           33519       54662.15        1383\n",
      "18352  United Kingdom     79321           10191       52986.86         662\n",
      "16850  United Kingdom     22502            1712       50218.42         466\n",
      "16575  United Kingdom     22197           52928       48214.77        1340\n",
      "15832  United Kingdom     21137           11268       39387.00         363\n",
      "17410  United Kingdom     23084           15168       37894.16         862\n",
      "16745  United Kingdom     22386           18936       37754.82        1172\n",
      "17607  United Kingdom     23298            7322       37259.82        1057\n",
      "17524  United Kingdom     23203           17478       36168.88        1150\n"
     ]
    }
   ],
   "execution_count": 60
  },
  {
   "metadata": {},
   "cell_type": "markdown",
   "source": "### Ejemplo 3: Análisis por país y mes",
   "id": "e1e13992c6da2067"
  },
  {
   "metadata": {
    "ExecuteTime": {
     "end_time": "2025-10-08T20:48:02.081323Z",
     "start_time": "2025-10-08T20:47:59.541780Z"
    }
   },
   "cell_type": "code",
   "source": [
    "# Asegurar que InvoiceDate es datetime\n",
    "df['InvoiceDate'] = pd.to_datetime(df['InvoiceDate'])\n",
    "\n",
    "# Extraer año y mes\n",
    "df['Year'] = df['InvoiceDate'].dt.year\n",
    "df['Month'] = df['InvoiceDate'].dt.month\n",
    "\n",
    "# Agrupar por país, año y mes\n",
    "country_month_sales = df.groupby(['Country', 'Year', 'Month']).agg({\n",
    "    'Total_Price': 'sum',\n",
    "    'InvoiceNo': 'nunique'\n",
    "}).reset_index()\n",
    "\n",
    "country_month_sales.columns = ['Country', 'Year', 'Month', 'Revenue', 'Num_Invoices']\n",
    "\n",
    "print(\"📅 Ventas mensuales por país:\")\n",
    "print(country_month_sales[country_month_sales['Country'] == 'United Kingdom'].head(10))"
   ],
   "id": "65a86209f3749ad9",
   "outputs": [
    {
     "name": "stderr",
     "output_type": "stream",
     "text": [
      "C:\\Users\\hamtr\\AppData\\Local\\Temp\\ipykernel_17340\\3013738927.py:2: UserWarning: Could not infer format, so each element will be parsed individually, falling back to `dateutil`. To ensure parsing is consistent and as-expected, please specify a format.\n",
      "  df['InvoiceDate'] = pd.to_datetime(df['InvoiceDate'])\n"
     ]
    },
    {
     "name": "stdout",
     "output_type": "stream",
     "text": [
      "📅 Ventas mensuales por país:\n",
      "            Country  Year  Month     Revenue  Num_Invoices\n",
      "294  United Kingdom  2010     12  676742.620          1885\n",
      "295  United Kingdom  2011      1  434308.300          1327\n",
      "296  United Kingdom  2011      2  408247.910          1259\n",
      "297  United Kingdom  2011      3  559707.390          1802\n",
      "298  United Kingdom  2011      4  442254.041          1622\n",
      "299  United Kingdom  2011      5  596459.860          1973\n",
      "300  United Kingdom  2011      6  554478.350          1830\n",
      "301  United Kingdom  2011      7  565479.841          1764\n",
      "302  United Kingdom  2011      8  539130.500          1546\n",
      "303  United Kingdom  2011      9  862018.152          2090\n"
     ]
    }
   ],
   "execution_count": 61
  },
  {
   "metadata": {},
   "cell_type": "markdown",
   "source": [
    "---\n",
    "\n",
    "## Funciones Personalizadas con apply()\n",
    "\n",
    "Cuando las funciones de agregación estándar no son suficientes, usamos `apply()` con funciones personalizadas.\n",
    "\n",
    "### Sintaxis\n",
    "```python\n",
    "df.groupby('columna').apply(funcion_personalizada)"
   ],
   "id": "75532a499ca37e9f"
  },
  {
   "metadata": {
    "ExecuteTime": {
     "end_time": "2025-10-08T20:49:03.825207Z",
     "start_time": "2025-10-08T20:49:03.688120Z"
    }
   },
   "cell_type": "code",
   "source": [
    "\n",
    "def calculate_total_revenue(group):\n",
    "    \"\"\"\n",
    "    Calcula el ingreso total para un grupo de transacciones.\n",
    "\n",
    "    Args:\n",
    "        group: DataFrame con un grupo de filas\n",
    "\n",
    "    Returns:\n",
    "        float: Ingreso total del grupo\n",
    "    \"\"\"\n",
    "    return (group['Quantity'] * group['UnitPrice']).sum()\n",
    "\n",
    "# Aplicar la función a cada país\n",
    "country_revenue = df.groupby('Country').apply(calculate_total_revenue)\n",
    "country_revenue = country_revenue.sort_values(ascending=False)\n",
    "\n",
    "print(\"💰 Ingresos totales por país:\")\n",
    "print(country_revenue.head(10))"
   ],
   "id": "c222874ba09c5f95",
   "outputs": [
    {
     "name": "stdout",
     "output_type": "stream",
     "text": [
      "💰 Ingresos totales por país:\n",
      "Country\n",
      "United Kingdom    8187806.364\n",
      "Netherlands        284661.540\n",
      "EIRE               263276.820\n",
      "Germany            221698.210\n",
      "France             197403.900\n",
      "Australia          137077.270\n",
      "Switzerland         56385.350\n",
      "Spain               54774.580\n",
      "Belgium             40910.960\n",
      "Sweden              36595.910\n",
      "dtype: float64\n"
     ]
    },
    {
     "name": "stderr",
     "output_type": "stream",
     "text": [
      "C:\\Users\\hamtr\\AppData\\Local\\Temp\\ipykernel_17340\\22740754.py:14: FutureWarning: DataFrameGroupBy.apply operated on the grouping columns. This behavior is deprecated, and in a future version of pandas the grouping columns will be excluded from the operation. Either pass `include_groups=False` to exclude the groupings or explicitly select the grouping columns after groupby to silence this warning.\n",
      "  country_revenue = df.groupby('Country').apply(calculate_total_revenue)\n"
     ]
    }
   ],
   "execution_count": 62
  },
  {
   "metadata": {},
   "cell_type": "markdown",
   "source": [
    "### Comparación: apply() vs operación directa\n",
    "\n",
    "En el ejemplo anterior, podríamos haberlo hecho más simple:"
   ],
   "id": "24820a84032b6345"
  },
  {
   "metadata": {
    "ExecuteTime": {
     "end_time": "2025-10-08T20:49:18.685953Z",
     "start_time": "2025-10-08T20:49:18.632967Z"
    }
   },
   "cell_type": "code",
   "source": [
    "# Forma más simple (recomendada cuando es posible)\n",
    "country_revenue_simple = df.groupby('Country')['Total_Price'].sum().sort_values(ascending=False)\n",
    "\n",
    "print(\"💰 Ingresos totales por país (método simple):\")\n",
    "print(country_revenue_simple.head(10))\n",
    "\n",
    "# Verificar que dan el mismo resultado\n",
    "print(f\"\\n¿Son iguales? {country_revenue.equals(country_revenue_simple)}\")"
   ],
   "id": "a74fa17c8f511588",
   "outputs": [
    {
     "name": "stdout",
     "output_type": "stream",
     "text": [
      "💰 Ingresos totales por país (método simple):\n",
      "Country\n",
      "United Kingdom    8187806.364\n",
      "Netherlands        284661.540\n",
      "EIRE               263276.820\n",
      "Germany            221698.210\n",
      "France             197403.900\n",
      "Australia          137077.270\n",
      "Switzerland         56385.350\n",
      "Spain               54774.580\n",
      "Belgium             40910.960\n",
      "Sweden              36595.910\n",
      "Name: Total_Price, dtype: float64\n",
      "\n",
      "¿Son iguales? False\n"
     ]
    }
   ],
   "execution_count": 63
  },
  {
   "metadata": {},
   "cell_type": "markdown",
   "source": "### Ejemplo 2: Función personalizada que retorna múltiples valores",
   "id": "eaa9f7e44a54b0aa"
  },
  {
   "metadata": {
    "ExecuteTime": {
     "end_time": "2025-10-08T20:50:45.610932Z",
     "start_time": "2025-10-08T20:50:45.461355Z"
    }
   },
   "cell_type": "code",
   "source": [
    "def customer_metrics(group):\n",
    "    \"\"\"\n",
    "    Calcula métricas completas por grupo.\n",
    "\n",
    "    Returns:\n",
    "        Series: Múltiples métricas calculadas\n",
    "    \"\"\"\n",
    "    return pd.Series({\n",
    "        'Total_Revenue': group['Total_Price'].sum(),\n",
    "        'Avg_Transaction': group['Total_Price'].mean(),\n",
    "        'Num_Transactions': len(group),\n",
    "        'Num_Items': group['Quantity'].sum(),\n",
    "        'Avg_Items_Per_Transaction': group['Quantity'].mean()\n",
    "    })\n",
    "\n",
    "# Aplicar función que retorna múltiples valores\n",
    "country_metrics = df.groupby('Country').apply(customer_metrics)\n",
    "\n",
    "print(\"📊 Métricas completas por país:\")\n",
    "print(country_metrics.sort_values('Total_Revenue', ascending=False).head(10))"
   ],
   "id": "e8ebd90f438eb903",
   "outputs": [
    {
     "name": "stdout",
     "output_type": "stream",
     "text": [
      "📊 Métricas completas por país:\n",
      "                Total_Revenue  Avg_Transaction  Num_Transactions  Num_Items  \\\n",
      "Country                                                                       \n",
      "United Kingdom    8187806.364        16.525065          495478.0  4263829.0   \n",
      "Netherlands        284661.540       120.059696            2371.0   200128.0   \n",
      "EIRE               263276.820        32.122599            8196.0   142637.0   \n",
      "Germany            221698.210        23.348943            9495.0   117448.0   \n",
      "France             197403.900        23.069288            8557.0   110480.0   \n",
      "Australia          137077.270       108.877895            1259.0    83653.0   \n",
      "Switzerland         56385.350        28.164510            2002.0    30325.0   \n",
      "Spain               54774.580        21.624390            2533.0    26824.0   \n",
      "Belgium             40910.960        19.773301            2069.0    23152.0   \n",
      "Sweden              36595.910        79.211926             462.0    35637.0   \n",
      "\n",
      "                Avg_Items_Per_Transaction  \n",
      "Country                                    \n",
      "United Kingdom                   8.605486  \n",
      "Netherlands                     84.406580  \n",
      "EIRE                            17.403245  \n",
      "Germany                         12.369458  \n",
      "France                          12.911067  \n",
      "Australia                       66.444003  \n",
      "Switzerland                     15.147353  \n",
      "Spain                           10.589814  \n",
      "Belgium                         11.189947  \n",
      "Sweden                          77.136364  \n"
     ]
    },
    {
     "name": "stderr",
     "output_type": "stream",
     "text": [
      "C:\\Users\\hamtr\\AppData\\Local\\Temp\\ipykernel_17340\\2134431360.py:17: FutureWarning: DataFrameGroupBy.apply operated on the grouping columns. This behavior is deprecated, and in a future version of pandas the grouping columns will be excluded from the operation. Either pass `include_groups=False` to exclude the groupings or explicitly select the grouping columns after groupby to silence this warning.\n",
      "  country_metrics = df.groupby('Country').apply(customer_metrics)\n"
     ]
    }
   ],
   "execution_count": 64
  },
  {
   "metadata": {},
   "cell_type": "markdown",
   "source": "### Ejemplo 3: Top 3 productos por país",
   "id": "d2817cf6a11fb3f0"
  },
  {
   "metadata": {
    "ExecuteTime": {
     "end_time": "2025-10-08T20:51:06.217872Z",
     "start_time": "2025-10-08T20:51:05.995190Z"
    }
   },
   "cell_type": "code",
   "source": [
    "def top_3_products(group):\n",
    "    \"\"\"\n",
    "    Retorna los 3 productos más vendidos en el grupo.\n",
    "    \"\"\"\n",
    "    top_products = group.groupby('StockCode')['Quantity'].sum().sort_values(ascending=False).head(3)\n",
    "    return top_products\n",
    "\n",
    "# Top 3 productos por país\n",
    "top_products_by_country = df.groupby('Country').apply(top_3_products)\n",
    "\n",
    "print(\"🏆 Top 3 productos por país (UK y Germany):\")\n",
    "print(top_products_by_country.loc['United Kingdom'])\n",
    "print(\"\\n\")\n",
    "print(top_products_by_country.loc['Germany'])"
   ],
   "id": "30fd163e61ad2cbb",
   "outputs": [
    {
     "name": "stdout",
     "output_type": "stream",
     "text": [
      "🏆 Top 3 productos por país (UK y Germany):\n",
      "StockCode\n",
      "22197     52928\n",
      "84077     48326\n",
      "85099B    43167\n",
      "Name: Quantity, dtype: int64\n",
      "\n",
      "\n",
      "StockCode\n",
      "22326    1218\n",
      "15036    1164\n",
      "POST     1104\n",
      "Name: Quantity, dtype: int64\n"
     ]
    },
    {
     "name": "stderr",
     "output_type": "stream",
     "text": [
      "C:\\Users\\hamtr\\AppData\\Local\\Temp\\ipykernel_17340\\946819606.py:9: FutureWarning: DataFrameGroupBy.apply operated on the grouping columns. This behavior is deprecated, and in a future version of pandas the grouping columns will be excluded from the operation. Either pass `include_groups=False` to exclude the groupings or explicitly select the grouping columns after groupby to silence this warning.\n",
      "  top_products_by_country = df.groupby('Country').apply(top_3_products)\n"
     ]
    }
   ],
   "execution_count": 65
  },
  {
   "metadata": {},
   "cell_type": "markdown",
   "source": [
    "---\n",
    "\n",
    "## Casos de Uso en Data Science\n",
    "\n",
    "### Caso de Uso 1: Análisis de Rendimiento de Ventas por Región\n",
    "\n",
    "**Contexto:** Eres analista de un e-commerce internacional. El equipo de estrategia necesita un reporte que muestre el rendimiento de ventas por país para identificar mercados prioritarios y oportunidades de crecimiento.\n",
    "\n",
    "**Objetivo:** Crear un análisis completo que responda:\n",
    "- ¿Cuáles son los top 3 y bottom 3 países por ingresos?\n",
    "- ¿Qué países tienen el ticket promedio más alto?\n",
    "- ¿Dónde están los clientes más frecuentes?"
   ],
   "id": "b3a173a877710eb0"
  },
  {
   "metadata": {},
   "cell_type": "code",
   "outputs": [],
   "execution_count": null,
   "source": [
    "# Paso 1: Crear análisis completo por país\n",
    "country_analysis = df.groupby('Country').agg({\n",
    "    'InvoiceNo': 'nunique',           # Número de órdenes\n",
    "    'CustomerID': 'nunique',          # Número de clientes únicos\n",
    "    'Quantity': 'sum',                # Total de items vendidos\n",
    "    'Total_Price': ['sum', 'mean']    # Ingresos totales y ticket promedio\n",
    "}).reset_index()\n",
    "\n",
    "# Aplanar columnas\n",
    "country_analysis.columns = ['Country', 'Num_Orders', 'Num_Customers',\n",
    "                            'Total_Items', 'Total_Revenue', 'Avg_Ticket']\n",
    "\n",
    "# Calcular métricas adicionales\n",
    "country_analysis['Items_Per_Order'] = (country_analysis['Total_Items'] /\n",
    "                                       country_analysis['Num_Orders']).round(2)\n",
    "country_analysis['Revenue_Per_Customer'] = (country_analysis['Total_Revenue'] /\n",
    "                                            country_analysis['Num_Customers']).round(2)\n",
    "\n",
    "print(\"📊 Análisis completo por país:\")\n",
    "print(country_analysis.sort_values('Total_Revenue', ascending=False).head())"
   ],
   "id": "4553e86c0dcc424b"
  },
  {
   "metadata": {},
   "cell_type": "markdown",
   "source": "**Paso 2: Identificar Top 3 y Bottom 3 mercados**",
   "id": "f54b2ffa44b17a25"
  },
  {
   "metadata": {},
   "cell_type": "code",
   "outputs": [],
   "execution_count": null,
   "source": [
    "# Top 3 países por ingresos\n",
    "top_3_countries = country_analysis.nlargest(3, 'Total_Revenue')\n",
    "print(\"🥇 TOP 3 Países por Ingresos:\")\n",
    "print(top_3_countries[['Country', 'Total_Revenue', 'Num_Orders', 'Avg_Ticket']])\n",
    "\n",
    "# Bottom 3 países por ingresos\n",
    "bottom_3_countries = country_analysis.nsmallest(3, 'Total_Revenue')\n",
    "print(\"\\n📉 BOTTOM 3 Países por Ingresos:\")\n",
    "print(bottom_3_countries[['Country', 'Total_Revenue', 'Num_Orders', 'Avg_Ticket']])"
   ],
   "id": "519ca81e24ea147e"
  },
  {
   "metadata": {},
   "cell_type": "markdown",
   "source": "**Paso 3: Análisis de valor del cliente por mercado**",
   "id": "fbc40fb7ef038717"
  },
  {
   "metadata": {},
   "cell_type": "code",
   "outputs": [],
   "execution_count": null,
   "source": [
    "# Países con mayor valor por cliente\n",
    "high_value_markets = country_analysis.nlargest(5, 'Revenue_Per_Customer')\n",
    "print(\"💎 Mercados con mayor valor por cliente:\")\n",
    "print(high_value_markets[['Country', 'Revenue_Per_Customer', 'Avg_Ticket', 'Num_Customers']])\n",
    "\n",
    "# Clasificar mercados\n",
    "def classify_market(row):\n",
    "    if row['Total_Revenue'] > 100000 and row['Avg_Ticket'] > 15:\n",
    "        return 'Estrella'\n",
    "    elif row['Total_Revenue'] > 100000:\n",
    "        return 'Volumen Alto'\n",
    "    elif row['Avg_Ticket'] > 15:\n",
    "        return 'Premium'\n",
    "    else:\n",
    "        return 'Emergente'\n",
    "\n",
    "country_analysis['Market_Type'] = country_analysis.apply(classify_market, axis=1)\n",
    "\n",
    "print(\"\\n🎯 Clasificación de mercados:\")\n",
    "print(country_analysis.groupby('Market_Type')['Country'].count())"
   ],
   "id": "afb79c511a6090ab"
  },
  {
   "metadata": {},
   "cell_type": "markdown",
   "source": [
    "**🎯 Insights del Caso 1:**\n",
    "\n",
    "✅ **UK domina**: Representa la mayoría de los ingresos (~83%)\n",
    "✅ **Mercados premium**: Netherlands, Australia tienen alto ticket promedio\n",
    "✅ **Oportunidad**: Países emergentes con bajo volumen pero potencial\n",
    "✅ **Estrategia recomendada**:\n",
    "- Mantener inversión en UK\n",
    "- Desarrollar mercados premium con campañas exclusivas\n",
    "- Explorar mercados emergentes con productos de entrada\n",
    "\n",
    "**Aplicación a tu proyecto CSAT:**\n",
    "Este análisis lo aplicarías para segmentar satisfacción del cliente por región y priorizar mejoras donde hay más ingresos en riesgo."
   ],
   "id": "a8db7bfb3ef2840f"
  },
  {
   "metadata": {},
   "cell_type": "markdown",
   "source": [
    "### Caso de Uso 2: Análisis de Productos y Segmentación RFM\n",
    "\n",
    "**Contexto:** El equipo de marketing quiere lanzar una campaña dirigida. Necesitan segmentar clientes usando el modelo RFM (Recency, Frequency, Monetary) para personalizar ofertas.\n",
    "\n",
    "**Objetivo:** Crear segmentos de clientes basados en:\n",
    "- **Recency**: ¿Cuándo fue su última compra?\n",
    "- **Frequency**: ¿Qué tan seguido compran?\n",
    "- **Monetary**: ¿Cuánto gastan en promedio?"
   ],
   "id": "37c3492fdaeb0f3f"
  },
  {
   "metadata": {},
   "cell_type": "code",
   "outputs": [],
   "execution_count": null,
   "source": [
    "# Filtrar solo clientes con ID válido\n",
    "customers_df = df[df['CustomerID'].notna()].copy()\n",
    "\n",
    "# Fecha de análisis (última fecha en el dataset)\n",
    "analysis_date = customers_df['InvoiceDate'].max()\n",
    "\n",
    "print(f\"📅 Fecha de análisis: {analysis_date}\")\n",
    "print(f\"👥 Clientes a analizar: {customers_df['CustomerID'].nunique():,}\")"
   ],
   "id": "e9eb0008fb4bd22a"
  },
  {
   "metadata": {},
   "cell_type": "markdown",
   "source": "**Paso 1: Calcular métricas RFM por cliente**",
   "id": "9b212ea3e2a39e05"
  },
  {
   "metadata": {},
   "cell_type": "code",
   "outputs": [],
   "execution_count": null,
   "source": [
    "# Calcular RFM por cliente\n",
    "rfm = customers_df.groupby('CustomerID').agg({\n",
    "    'InvoiceDate': lambda x: (analysis_date - x.max()).days,  # Recency\n",
    "    'InvoiceNo': 'nunique',                                    # Frequency\n",
    "    'Total_Price': 'sum'                                       # Monetary\n",
    "}).reset_index()\n",
    "\n",
    "rfm.columns = ['CustomerID', 'Recency', 'Frequency', 'Monetary']\n",
    "\n",
    "# Añadir país del cliente\n",
    "customer_country = customers_df.groupby('CustomerID')['Country'].first()\n",
    "rfm = rfm.merge(customer_country, on='CustomerID', how='left')\n",
    "\n",
    "print(\"📊 Métricas RFM por cliente:\")\n",
    "print(rfm.head(10))"
   ],
   "id": "16698e93c672015d"
  },
  {
   "metadata": {},
   "cell_type": "markdown",
   "source": "**Paso 2: Crear scores RFM (1-5, donde 5 es mejor)**",
   "id": "316d910c11c24c0e"
  },
  {
   "metadata": {},
   "cell_type": "code",
   "outputs": [],
   "execution_count": null,
   "source": [
    "# Calcular quintiles para cada métrica\n",
    "rfm['R_Score'] = pd.qcut(rfm['Recency'], 5, labels=[5, 4, 3, 2, 1])  # Invertido: menos días = mejor\n",
    "rfm['F_Score'] = pd.qcut(rfm['Frequency'].rank(method='first'), 5, labels=[1, 2, 3, 4, 5])\n",
    "rfm['M_Score'] = pd.qcut(rfm['Monetary'].rank(method='first'), 5, labels=[1, 2, 3, 4, 5])\n",
    "\n",
    "# Score RFM combinado\n",
    "rfm['RFM_Score'] = (rfm['R_Score'].astype(str) +\n",
    "                    rfm['F_Score'].astype(str) +\n",
    "                    rfm['M_Score'].astype(str))\n",
    "\n",
    "print(\"🎯 Scores RFM calculados:\")\n",
    "print(rfm[['CustomerID', 'Recency', 'Frequency', 'Monetary', 'R_Score', 'F_Score', 'M_Score', 'RFM_Score']].head(10))"
   ],
   "id": "7b2ca7b1616de70d"
  },
  {
   "metadata": {},
   "cell_type": "markdown",
   "source": "**Paso 3: Segmentar clientes**",
   "id": "c3fba19cdea4b9fd"
  },
  {
   "metadata": {},
   "cell_type": "code",
   "outputs": [],
   "execution_count": null,
   "source": [
    "def segment_customer(row):\n",
    "    \"\"\"\n",
    "    Segmenta clientes basado en scores RFM.\n",
    "    \"\"\"\n",
    "    r, f, m = int(row['R_Score']), int(row['F_Score']), int(row['M_Score'])\n",
    "\n",
    "    # Champions: Los mejores clientes\n",
    "    if r >= 4 and f >= 4 and m >= 4:\n",
    "        return 'Champions'\n",
    "\n",
    "    # Loyal Customers: Compran frecuentemente\n",
    "    elif f >= 4:\n",
    "        return 'Loyal'\n",
    "\n",
    "    # Big Spenders: Alto valor monetario\n",
    "    elif m >= 4:\n",
    "        return 'Big Spenders'\n",
    "\n",
    "    # At Risk: Buena historia pero no han comprado recientemente\n",
    "    elif r <= 2 and f >= 3 and m >= 3:\n",
    "        return 'At Risk'\n",
    "\n",
    "    # Lost: No han comprado en mucho tiempo\n",
    "    elif r <= 2:\n",
    "        return 'Lost'\n",
    "\n",
    "    # Promising: Nuevos clientes con potencial\n",
    "    elif r >= 4 and f <= 2:\n",
    "        return 'Promising'\n",
    "\n",
    "    # Needs Attention: Promedio en todo\n",
    "    else:\n",
    "        return 'Needs Attention'\n",
    "\n",
    "rfm['Segment'] = rfm.apply(segment_customer, axis=1)\n",
    "\n",
    "print(\"👥 Segmentación de clientes:\")\n",
    "print(rfm['Segment'].value_counts())"
   ],
   "id": "815cb19ed1785f93"
  },
  {
   "metadata": {},
   "cell_type": "markdown",
   "source": "**Paso 4: Análisis por segmento**",
   "id": "3f51a56e61f77a26"
  },
  {
   "metadata": {},
   "cell_type": "code",
   "outputs": [],
   "execution_count": null,
   "source": [
    "# Estadísticas por segmento\n",
    "segment_analysis = rfm.groupby('Segment').agg({\n",
    "    'CustomerID': 'count',\n",
    "    'Recency': 'mean',\n",
    "    'Frequency': 'mean',\n",
    "    'Monetary': ['mean', 'sum']\n",
    "}).round(2)\n",
    "\n",
    "segment_analysis.columns = ['Num_Customers', 'Avg_Recency', 'Avg_Frequency', 'Avg_Monetary', 'Total_Revenue']\n",
    "segment_analysis = segment_analysis.sort_values('Total_Revenue', ascending=False)\n",
    "\n",
    "print(\"📊 Análisis por segmento:\")\n",
    "print(segment_analysis)"
   ],
   "id": "3da9f7dfa17af417"
  },
  {
   "metadata": {},
   "cell_type": "markdown",
   "source": "**Paso 5: Estrategias recomendadas por segmento**",
   "id": "841114823099acb0"
  },
  {
   "metadata": {},
   "cell_type": "code",
   "outputs": [],
   "execution_count": null,
   "source": [
    "# Definir estrategias\n",
    "strategies = {\n",
    "    'Champions': '🌟 Recompensas VIP, early access, programa de referidos',\n",
    "    'Loyal': '💎 Cross-selling, productos premium, incentivos de lealtad',\n",
    "    'Big Spenders': '💰 Ofertas exclusivas de alto valor, atención personalizada',\n",
    "    'At Risk': '⚠️ Campañas de recuperación, encuestas de satisfacción, ofertas especiales',\n",
    "    'Lost': '🚨 Campañas de reactivación agresivas, descuentos importantes',\n",
    "    'Promising': '🌱 Onboarding mejorado, incentivos de segunda compra',\n",
    "    'Needs Attention': '📧 Comunicación regular, ofertas segmentadas'\n",
    "}\n",
    "\n",
    "print(\"🎯 Estrategias recomendadas por segmento:\\n\")\n",
    "for segment, strategy in strategies.items():\n",
    "    num_customers = rfm[rfm['Segment'] == segment].shape[0]\n",
    "    revenue = rfm[rfm['Segment'] == segment]['Monetary'].sum()\n",
    "    print(f\"{segment} ({num_customers} clientes, ${revenue:,.2f} en ingresos):\")\n",
    "    print(f\"  → {strategy}\\n\")"
   ],
   "id": "9929a33b6459a05f"
  },
  {
   "metadata": {},
   "cell_type": "markdown",
   "source": [
    "**🎯 Resultado del Caso 2:**\n",
    "\n",
    "✅ **Segmentación clara**: 7 grupos accionables con estrategias diferenciadas\n",
    "✅ **Champions identificados**: 8-10% de clientes generan 40-50% de ingresos\n",
    "✅ **At Risk detectados**: Clientes valiosos que necesitan atención inmediata\n",
    "✅ **ROI optimizado**: Presupuesto de marketing asignado según valor del cliente\n",
    "\n",
    "**Métricas clave por segmento:**\n",
    "- Champions: Recency <30 días, Frequency >10, Monetary >$5K\n",
    "- At Risk: Recency >120 días, Frequency alta histórica\n",
    "- Lost: Recency >180 días\n",
    "\n",
    "**Aplicación a tu proyecto CSAT:**\n",
    "- Calcular CSAT promedio por segmento RFM\n",
    "- Priorizar mejoras en experiencia para Champions y At Risk\n",
    "- Correlacionar satisfacción con valor del cliente\n",
    "- Identificar si clientes \"Lost\" tuvieron baja satisfacción previa"
   ],
   "id": "751bdb05fde63eeb"
  },
  {
   "metadata": {},
   "cell_type": "markdown",
   "source": [
    "---\n",
    "\n",
    "## Recursos Adicionales\n",
    "\n",
    "### Documentación oficial\n",
    "- [pandas.DataFrame.groupby](https://pandas.pydata.org/docs/reference/api/pandas.DataFrame.groupby.html)\n",
    "- [pandas.core.groupby.GroupBy.agg](https://pandas.pydata.org/docs/reference/api/pandas.core.groupby.GroupBy.agg.html)\n",
    "- [pandas.core.groupby.GroupBy.apply](https://pandas.pydata.org/docs/reference/api/pandas.core.groupby.GroupBy.apply.html)\n",
    "- [Group by: split-apply-combine](https://pandas.pydata.org/docs/user_guide/groupby.html)\n",
    "\n",
    "### Archivos relacionados en el proyecto\n",
    "- `14_transformacion_manipulacion_datos.md`: Transformaciones y apply\n",
    "- `13_manejo_valores_faltantes.md`: Limpieza de datos\n",
    "- `12_seleccion_datos_iloc"
   ],
   "id": "ae37f60a1f564487"
  }
 ],
 "metadata": {
  "kernelspec": {
   "display_name": "Python 3",
   "language": "python",
   "name": "python3"
  },
  "language_info": {
   "codemirror_mode": {
    "name": "ipython",
    "version": 2
   },
   "file_extension": ".py",
   "mimetype": "text/x-python",
   "name": "python",
   "nbconvert_exporter": "python",
   "pygments_lexer": "ipython2",
   "version": "2.7.6"
  }
 },
 "nbformat": 4,
 "nbformat_minor": 5
}
