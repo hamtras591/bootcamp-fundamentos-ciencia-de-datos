{
 "cells": [
  {
   "metadata": {},
   "cell_type": "markdown",
   "source": [
    "# Indexación y Slicing en NumPy\n",
    "\n",
    "**Curso:** Python para Ciencia de Datos\n",
    "**Tema:** Acceso y manipulación de elementos en arrays\n",
    "**Fecha:** 06 de Octubre, 2025\n",
    "\n",
    "---"
   ],
   "id": "463e0715bd99cee2"
  },
  {
   "metadata": {},
   "cell_type": "markdown",
   "source": [
    "## Introducción\n",
    "\n",
    "La indexación y el slicing son técnicas fundamentales para acceder y manipular subconjuntos de datos en arrays de NumPy. Estas operaciones permiten extraer información específica de manera eficiente sin necesidad de recorrer todo el array manualmente.\n",
    "\n",
    "### Aplicaciones\n",
    "- Filtrado de datos\n",
    "- Selección de características\n",
    "- Análisis de subconjuntos\n",
    "- Transformación de datos"
   ],
   "id": "f1353127189585c5"
  },
  {
   "cell_type": "code",
   "id": "initial_id",
   "metadata": {
    "collapsed": true
   },
   "source": "import numpy as np",
   "outputs": [],
   "execution_count": null
  },
  {
   "metadata": {},
   "cell_type": "markdown",
   "source": [
    "---\n",
    "\n",
    "## 1. Indexación Básica\n",
    "\n",
    "La indexación permite acceder a elementos individuales usando su posición.\n",
    "\n",
    "### Índices Positivos\n",
    "- Comienzan desde 0 (primer elemento)\n",
    "- Van hasta n-1 (último elemento)\n",
    "\n",
    "### Índices Negativos\n",
    "- Comienzan desde -1 (último elemento)\n",
    "- Van hacia atrás: -2, -3, etc."
   ],
   "id": "e09e8e3f04b90b8f"
  },
  {
   "metadata": {},
   "cell_type": "code",
   "source": [
    "array = np.array([10, 20, 30, 40, 50])\n",
    "\n",
    "# Navegación de arrays con índices positivos\n",
    "print(\"Array:\", array)\n",
    "print(\"Elemento en posición 1:\", array[1])  # Segundo elemento (índice 1)\n",
    "\n",
    "# Navegación con índices negativos\n",
    "print(\"Último elemento (índice -1):\", array[-1])\n",
    "print(\"Penúltimo elemento (índice -2):\", array[-2])\n"
   ],
   "id": "7ff6fbb569c183aa",
   "outputs": [],
   "execution_count": null
  },
  {
   "metadata": {},
   "cell_type": "markdown",
   "source": [
    "---\n",
    "\n",
    "## 2. Slicing (Rebanado)\n",
    "\n",
    "El slicing permite extraer subconjuntos de elementos usando la sintaxis `[inicio:fin:paso]`.\n",
    "\n",
    "**Sintaxis:**\n",
    "```python\n",
    "array[inicio:fin]      # Desde inicio hasta fin-1\n",
    "array[inicio:]         # Desde inicio hasta el final\n",
    "array[:fin]            # Desde el principio hasta fin-1\n",
    "array[inicio:fin:paso] # Con saltos\n",
    "```\n",
    "\n",
    "**Importante: El índice final NO se incluye.**\n",
    "\n",
    "---\n"
   ],
   "id": "486111c4d799a301"
  },
  {
   "metadata": {},
   "cell_type": "code",
   "source": [
    "# Slicing básico\n",
    "print(\"Array completo:\", array)\n",
    "print(\"Elementos del índice 1 al 3:\", array[1:4])  # [20, 30, 40]\n",
    "\n",
    "# Puedes exceder los límites sin error\n",
    "print(\"Del índice 1 al 7 (excede límite):\", array[1:7])  # Toma hasta el final\n",
    "\n",
    "# Slicing desde el inicio\n",
    "print(\"Primeros 3 elementos:\", array[:3])\n",
    "\n",
    "# Slicing hasta el final\n",
    "print(\"Desde índice 2 al final:\", array[2:])\n",
    "\n",
    "# Con paso\n",
    "print(\"Elementos en posiciones pares:\", array[::2])  # [10, 30, 50]"
   ],
   "id": "756e20ac72bd3502",
   "outputs": [],
   "execution_count": null
  },
  {
   "metadata": {},
   "cell_type": "markdown",
   "source": [
    "---\n",
    "\n",
    "## 3. Indexación Booleana\n",
    "\n",
    "Permite filtrar elementos usando condiciones lógicas. Retorna un array de booleanos que indica qué elementos cumplen la condición.\n",
    "\n",
    "**Casos de uso:**\n",
    "- Filtrar datos por umbrales\n",
    "- Seleccionar valores atípicos\n",
    "- Análisis condicional"
   ],
   "id": "ae4ff00c9c1a35b9"
  },
  {
   "metadata": {},
   "cell_type": "code",
   "source": [
    "array = np.array([10, 20, 30, 40, 50])\n",
    "\n",
    "# Crear máscara booleana\n",
    "bool_index = array > 25\n",
    "print(\"Array:\", array)\n",
    "print(\"Condición (> 25):\", bool_index)\n",
    "print(\"Tipo:\", type(bool_index))\n",
    "\n",
    "# Usar la máscara para filtrar\n",
    "print(\"Elementos mayores a 25:\", array[bool_index])\n",
    "\n",
    "# Forma compacta (sin variable intermedia)\n",
    "print(\"Elementos menores o iguales a 30:\", array[array <= 30])"
   ],
   "id": "bc2ebf24cc316009",
   "outputs": [],
   "execution_count": null
  },
  {
   "metadata": {},
   "cell_type": "markdown",
   "source": [
    "---\n",
    "\n",
    "## 4. Indexación con Lista de Índices\n",
    "\n",
    "Permite acceder a múltiples posiciones específicas usando una lista de índices."
   ],
   "id": "99ed7d16925e0526"
  },
  {
   "metadata": {},
   "cell_type": "code",
   "source": [
    "# Acceder a posiciones específicas\n",
    "index = [2, 3, 4]\n",
    "print(\"Array:\", array)\n",
    "print(\"Elementos en posiciones [2, 3, 4]:\", array[index])\n",
    "\n",
    "# También funciona con arrays de índices\n",
    "indices_pares = np.array([0, 2, 4])\n",
    "print(\"Elementos en índices pares:\", array[indices_pares])\n",
    "\n",
    "# Repetir índices (sí, puedes acceder al mismo elemento múltiples veces)\n",
    "indices_repetidos = [1, 1, 3]\n",
    "print(\"Repitiendo índices:\", array[indices_repetidos])"
   ],
   "id": "771e851a45ec5830",
   "outputs": [],
   "execution_count": null
  },
  {
   "metadata": {},
   "cell_type": "markdown",
   "source": [
    "---\n",
    "\n",
    "## 5. Indexación en Matrices (Arrays 2D)\n",
    "\n",
    "En matrices, usamos dos índices: `[fila, columna]`\n",
    "\n",
    "**Sintaxis:**\n",
    "```python\n",
    "matriz[fila, columna]           # Elemento específico\n",
    "matriz[fila, :]                 # Toda la fila\n",
    "matriz[:, columna]              # Toda la columna\n",
    "matriz[inicio:fin, inicio:fin]  # Submatriz"
   ],
   "id": "2fed224115e263e3"
  },
  {
   "metadata": {},
   "cell_type": "code",
   "source": [
    "# Crear matriz 3x3 aleatoria\n",
    "array = np.random.randint(1, 10, size=(3, 3))\n",
    "print(\"Matriz 3x3:\")\n",
    "print(array)\n",
    "print('-' * 100)\n",
    "\n",
    "# Acceder a un elemento específico\n",
    "print(\"Elemento en fila 0, columna 2:\", array[0, 2])\n",
    "print('-' * 100)\n",
    "\n",
    "# Extraer una fila completa\n",
    "print(\"Primera fila:\", array[0, :])\n",
    "print(\"También: \", array[0])  # Equivalente\n",
    "print('-' * 100)\n",
    "\n",
    "# Extraer una columna completa\n",
    "print(\"Segunda columna:\", array[:, 1])\n",
    "print('-' * 100)\n",
    "\n",
    "# Extraer submatriz (primeras 2 filas y 2 columnas)\n",
    "print(\"Submatriz 2x2 (superior izquierda):\")\n",
    "print(array[:2, :2])"
   ],
   "id": "a60102e31f6930db",
   "outputs": [],
   "execution_count": null
  },
  {
   "metadata": {},
   "cell_type": "markdown",
   "source": [
    "---\n",
    "\n",
    "## Visualización de Indexación 2D\n",
    "\n",
    "Matriz:     Índices de columnas\n",
    "0   1   2\n",
    "┌───┬───┬───┐\n",
    "0  │ 7 │ 9 │ 1 │  ← Fila 0\n",
    "Índices   ├───┼───┼───┤\n",
    "de filas 1  │ 4 │ 9 │ 5 │  ← Fila 1\n",
    "├───┼───┼───┤\n",
    "2  │ 9 │ 7 │ 7 │  ← Fila 2\n",
    "└───┴───┴───┘\n",
    "array[0, 2] = 1    (fila 0, columna 2)\n",
    "array[:2, :2]      (filas 0-1, columnas 0-1)"
   ],
   "id": "439e5326d1f73eb0"
  },
  {
   "metadata": {},
   "cell_type": "markdown",
   "source": [
    "---\n",
    "\n",
    "## Resumen de Sintaxis\n",
    "\n",
    "| Operación | Sintaxis | Ejemplo |\n",
    "|-----------|----------|---------|\n",
    "| Elemento único | `array[i]` | `array[3]` |\n",
    "| Índice negativo | `array[-i]` | `array[-1]` |\n",
    "| Slicing | `array[i:j]` | `array[2:5]` |\n",
    "| Slicing con paso | `array[i:j:k]` | `array[::2]` |\n",
    "| Booleano | `array[condición]` | `array[array > 5]` |\n",
    "| Lista índices | `array[lista]` | `array[[1,3,5]]` |\n",
    "| Matriz elemento | `matriz[i, j]` | `matriz[0, 2]` |\n",
    "| Matriz fila | `matriz[i, :]` | `matriz[1, :]` |\n",
    "| Matriz columna | `matriz[:, j]` | `matriz[:, 0]` |\n",
    "| Submatriz | `matriz[i1:i2, j1:j2]` | `matriz[:2, :2]` |"
   ],
   "id": "2f8e703b5cd98f20"
  },
  {
   "metadata": {},
   "cell_type": "markdown",
   "source": [
    "---\n",
    "\n",
    "## Ejercicios de Práctica\n",
    "\n",
    "Basados en los ejercicios del resumen oficial del curso:"
   ],
   "id": "89aa9a4ce31c4c0"
  },
  {
   "metadata": {},
   "cell_type": "code",
   "source": [
    "# EJERCICIO 1: Acceder a elementos específicos\n",
    "# Crea un arreglo de 10 números y accede al cuarto y penúltimo elemento\n",
    "# usando índices positivos y negativos.\n",
    "\n",
    "# Tu código aquí:\n",
    "import numpy as np\n",
    "\n",
    "array_ejercicio_1 = np.arange(1,11)\n",
    "print(f\"El array original es: {array_ejercicio_1}\")\n",
    "print('-' * 200)\n",
    "\n",
    "print(f\"Accediendo al penultimo elemento y al cuarto elemento: {array_ejercicio_1[[3, -2]]}\")\n",
    "print('-' * 200)\n",
    "\n",
    "# Acceso directo con índices\n",
    "cuarto = array_ejercicio_1[3]      # Índice positivo\n",
    "penultimo = array_ejercicio_1[-2]  # Índice negativo\n",
    "\n",
    "print(f\"Cuarto: {cuarto}, Penúltimo: {penultimo}\")\n",
    "\n"
   ],
   "id": "3031589e21005d0",
   "outputs": [],
   "execution_count": null
  },
  {
   "metadata": {},
   "cell_type": "code",
   "source": [
    "# EJERCICIO 2: Slicing de arreglos\n",
    "# Dado un arreglo de números del 1 al 20, extrae:\n",
    "# a) Los elementos entre las posiciones 3 y 7\n",
    "# b) Los elementos de las últimas 5 posiciones\n",
    "\n",
    "# Tu código aquí:\n",
    "\n",
    "import numpy as np\n",
    "array_ejercicio_2 = np.arange(1,21)\n",
    "print(f\"El array original es: {array_ejercicio_2}\")\n",
    "print('-' * 200)\n",
    "\n",
    "# Index 3 al 7\n",
    "print(f\"Los números entre la posición 3 y 7 son: {array_ejercicio_2[3:7]}\")\n",
    "print('-' * 200)\n",
    "\n",
    "# Index últimas 5 posiciones\n",
    "print(f\"Los números de las ultimas 5 posiciones son: {array_ejercicio_2[-5:]}\")\n",
    "print('-' * 200)"
   ],
   "id": "9220ead4d68570d6",
   "outputs": [],
   "execution_count": null
  },
  {
   "metadata": {
    "ExecuteTime": {
     "end_time": "2025-10-06T20:32:57.262453Z",
     "start_time": "2025-10-06T20:32:57.253210Z"
    }
   },
   "cell_type": "code",
   "source": [
    "# EJERCICIO 3: Indexación con booleanos\n",
    "# Crea un arreglo de 15 números aleatorios entre 0 y 100.\n",
    "# Usa una expresión booleana para acceder solo a los números mayores a 50.\n",
    "# Además, imprime cuántos números cumplen la condición.\n",
    "\n",
    "# Tu código aquí:\n",
    "import numpy as np\n",
    "\n",
    "array_ejercicio_3 = np.random.randint(0, 101, size=15)\n",
    "print(f\"El array original es: {array_ejercicio_3}\")\n",
    "print('-' * 200)\n",
    "\n",
    "index_bool = array_ejercicio_3 > 50\n",
    "print(f\"Los números mayores a 50 son: {array_ejercicio_3[index_bool]}\")\n",
    "print('-' * 200)\n",
    "print(f\"La cantidad de registros que cumplen la condición son: {np.sum(index_bool)}\")"
   ],
   "id": "9e8788736e906760",
   "outputs": [
    {
     "name": "stdout",
     "output_type": "stream",
     "text": [
      "El array original es: [72 99 43 22 97 76 82  1 87 17  5 30 83 34 92]\n",
      "--------------------------------------------------------------------------------------------------------------------------------------------------------------------------------------------------------\n",
      "Los números mayores a 50 son: [72 99 97 76 82 87 83 92]\n",
      "--------------------------------------------------------------------------------------------------------------------------------------------------------------------------------------------------------\n",
      "La cantidad de registros que cumplen la condición son: 8\n"
     ]
    }
   ],
   "execution_count": 78
  },
  {
   "metadata": {
    "ExecuteTime": {
     "end_time": "2025-10-06T20:34:44.812677Z",
     "start_time": "2025-10-06T20:34:44.803686Z"
    }
   },
   "cell_type": "code",
   "source": [
    "# EJERCICIO 4: Indexación con múltiples índices\n",
    "# Dado un arreglo de 8 elementos, crea una lista de índices\n",
    "# para acceder a los elementos en las posiciones 1, 4, y 6.\n",
    "# Luego, modifica esos elementos multiplicándolos por 2.\n",
    "\n",
    "# Tu código aquí:\n",
    "import numpy as np\n",
    "\n",
    "array_ejercicio_4 = np.arange(1,9)\n",
    "print(f\"Original: {array_ejercicio_4}\")\n",
    "print('-' * 200)\n",
    "\n",
    "print(f\"Las posiciones a acceder son: [1, 4, 6] y estos valores son: {array_ejercicio_4[[1,4,6]]} \")\n",
    "print('-' * 200)\n",
    "\n",
    "# Modificar los elementos en su lugar\n",
    "array_ejercicio_4[[1,4,6]] = array_ejercicio_4[[1,4,6]] * 2\n",
    "print(f\"Modificado: {array_ejercicio_4}\")"
   ],
   "id": "499080e5cff6c256",
   "outputs": [
    {
     "name": "stdout",
     "output_type": "stream",
     "text": [
      "Original: [1 2 3 4 5 6 7 8]\n",
      "--------------------------------------------------------------------------------------------------------------------------------------------------------------------------------------------------------\n",
      "Las posiciones a acceder son: [1, 4, 6] y estos valores son: [2 5 7] \n",
      "--------------------------------------------------------------------------------------------------------------------------------------------------------------------------------------------------------\n",
      "Modificado: [ 1  4  3  4 10  6 14  8]\n"
     ]
    }
   ],
   "execution_count": 79
  },
  {
   "metadata": {},
   "cell_type": "code",
   "source": [
    "# EJERCICIO 5: Matrices bidimensionales\n",
    "# Genera una matriz 4x4 de números aleatorios entre 10 y 50.\n",
    "# a) Accede a la submatriz de 2x2 ubicada en la esquina inferior derecha\n",
    "# b) Extrae la diagonal principal (elementos donde fila == columna)\n",
    "# c) Extrae todos los elementos de la tercera columna\n",
    "\n",
    "# Pista para la diagonal: usa np.diag() o indexación avanzada\n",
    "\n",
    "# Tu código aquí:\n",
    "import numpy as np\n",
    "\n",
    "array_ejercicio_5 = np.random.randint(10, 50, size=(4, 4))\n",
    "print(f\"La matriz original es: {array_ejercicio_5}\")\n",
    "print('-' * 200)\n",
    "\n",
    "# Acceso a la submatriz 2 * 2 de la esquina inferior derecha\n",
    "sub_matriz = array_ejercicio_5[2: ,-2:]\n",
    "print(sub_matriz)\n",
    "print('-' * 200)\n",
    "\n",
    "# Extracción de la diagonal principal\n",
    "diagonal_principal = np.diag(array_ejercicio_5)\n",
    "print(f\"La diagonal principal es: {diagonal_principal}\")\n",
    "\n",
    "# Extracción de los elementos de la tercer columna\n",
    "tercer_columna = array_ejercicio_5[:, 2]\n",
    "print(f\"Los elementos de la tercera columna son: {tercer_columna}\")\n"
   ],
   "id": "cd9d3c08b6dbf8c8",
   "outputs": [],
   "execution_count": null
  },
  {
   "metadata": {},
   "cell_type": "code",
   "source": "",
   "id": "3451d9fbf9c318ca",
   "outputs": [],
   "execution_count": null
  }
 ],
 "metadata": {
  "kernelspec": {
   "display_name": "Python 3",
   "language": "python",
   "name": "python3"
  },
  "language_info": {
   "codemirror_mode": {
    "name": "ipython",
    "version": 2
   },
   "file_extension": ".py",
   "mimetype": "text/x-python",
   "name": "python",
   "nbconvert_exporter": "python",
   "pygments_lexer": "ipython2",
   "version": "2.7.6"
  }
 },
 "nbformat": 4,
 "nbformat_minor": 5
}
