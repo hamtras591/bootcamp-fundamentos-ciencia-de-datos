{
 "cells": [
  {
   "metadata": {},
   "cell_type": "markdown",
   "source": [
    "# Manejo de Valores Faltantes en Pandas\n",
    "\n",
    "**Curso:** Python para Ciencia de Datos\n",
    "**Fecha:** 08 de octubre de 2025\n",
    "**Ruta:** Fundamentos de Data Science e IA\n",
    "**Repositorio:** `bootcamp-fundamentos-ciencia-de-datos`"
   ],
   "id": "7c42458534390e3d"
  },
  {
   "metadata": {},
   "cell_type": "markdown",
   "source": [
    "## 📋 Índice\n",
    "\n",
    "1. [Concepto](#concepto)\n",
    "2. [Identificación de Valores Faltantes](#identificacion)\n",
    "3. [Estrategias de Manejo](#estrategias)\n",
    "4. [Casos de Uso en Data Science](#casos-uso)\n",
    "5. [Ejercicios Prácticos](#ejercicios)"
   ],
   "id": "6816bb5255cbe66d"
  },
  {
   "metadata": {},
   "cell_type": "markdown",
   "source": [
    "## Concepto\n",
    "\n",
    "Los **valores faltantes** (NaN, None, NULL) son comunes en análisis de datos y se originan por:\n",
    "\n",
    "- ❌ Errores en la recolección de datos\n",
    "- ❌ Problemas de almacenamiento o transferencia\n",
    "- ❌ Información no disponible al momento del registro\n",
    "- ❌ Respuestas en blanco en encuestas\n",
    "- ❌ Fallos en sensores o sistemas de captura\n",
    "\n",
    "**¿Por qué es importante manejarlos?**\n",
    "\n",
    "Ignorar valores faltantes puede llevar a:\n",
    "- Análisis sesgados e incorrectos\n",
    "- Modelos de ML con bajo rendimiento\n",
    "- Decisiones empresariales basadas en información incompleta\n",
    "- Errores en cálculos estadísticos"
   ],
   "id": "b155587e4970ba97"
  },
  {
   "cell_type": "code",
   "id": "initial_id",
   "metadata": {
    "collapsed": true
   },
   "source": [
    "import numpy as np\n",
    "import pandas as pd\n",
    "from data_loader import load_data, load_and_clean\n",
    "\n",
    "# Cargar cualquier archivo sin preocuparte por encoding\n",
    "retail_data = load_data('online_retail.csv')\n"
   ],
   "outputs": [],
   "execution_count": null
  },
  {
   "metadata": {},
   "cell_type": "markdown",
   "source": [
    "### Método 1: isnull() - Detectar valores faltantes\n",
    "\n",
    "`True` = valor faltante\n",
    "`False` = valor presente"
   ],
   "id": "9567a83756c671ff"
  },
  {
   "metadata": {},
   "cell_type": "code",
   "source": [
    "# Identificar valores faltantes\n",
    "datos_faltantes = retail_data.isnull()\n",
    "print(\"Matriz de valores faltantes:\")\n",
    "datos_faltantes"
   ],
   "id": "ce9ffaaa4483da7",
   "outputs": [],
   "execution_count": null
  },
  {
   "metadata": {},
   "cell_type": "markdown",
   "source": [
    "### Método 2: notnull() - Detectar valores presentes\n",
    "\n",
    "Opuesto a `isnull()`"
   ],
   "id": "ebc8154ac27c1459"
  },
  {
   "metadata": {},
   "cell_type": "code",
   "source": [
    "# Identificar valores presentes\n",
    "datos_presentes = retail_data.notnull()\n",
    "print(\"Matriz de valores presentes:\")\n",
    "datos_presentes"
   ],
   "id": "aa0c6064bcf18b57",
   "outputs": [],
   "execution_count": null
  },
  {
   "metadata": {},
   "cell_type": "markdown",
   "source": "### Método 3: Contar valores faltantes por columna\n",
   "id": "d75d4a50d587c9ac"
  },
  {
   "metadata": {},
   "cell_type": "code",
   "source": [
    "# Contar cuántos valores faltan en cada columna\n",
    "conteo_faltantes = retail_data.isnull().sum()\n",
    "print(\"Valores faltantes por columna:\")\n",
    "print(conteo_faltantes)"
   ],
   "id": "f4787fdd584a8f00",
   "outputs": [],
   "execution_count": null
  },
  {
   "metadata": {},
   "cell_type": "markdown",
   "source": "### Método 4: Calcular porcentaje de valores faltantes",
   "id": "18528669255fec4a"
  },
  {
   "metadata": {},
   "cell_type": "code",
   "source": [
    "# Calcular el porcentaje de valores faltantes\n",
    "porcentaje_faltantes = (retail_data.isnull().sum() / len(retail_data)) * 100\n",
    "print(\"El porcentaje de datos faltantes por cada columna es:\")\n",
    "for columna, porcentaje in porcentaje_faltantes.items():\n",
    "  print(f\"- {columna}: {porcentaje:.2f}%\")"
   ],
   "id": "ef0a6e2eb631e878",
   "outputs": [],
   "execution_count": null
  },
  {
   "metadata": {},
   "cell_type": "markdown",
   "source": [
    "---\n",
    "\n",
    "## Estrategias de Manejo\n",
    "\n",
    "Existen dos estrategias principales:\n",
    "\n",
    "1. **Eliminación**: Quitar filas o columnas con valores faltantes\n",
    "2. **Imputación**: Llenar valores faltantes con datos calculados o predeterminados"
   ],
   "id": "741db7cec7921cd"
  },
  {
   "metadata": {},
   "cell_type": "markdown",
   "source": [
    "### Estrategia 1: Eliminación de Datos\n",
    "\n",
    "#### A. Eliminar filas con valores faltantes"
   ],
   "id": "468b347bcac3d8e4"
  },
  {
   "metadata": {},
   "cell_type": "code",
   "source": [
    "# Crear copia del DataFrame original\n",
    "retail_copy = retail_data.copy()\n",
    "\n",
    "# Eliminar todas las filas que contengan al menos un valor faltante\n",
    "datos_sin_filas_faltantes = retail_copy.dropna()\n",
    "print(\"Datos sin filas con valores faltantes:\")\n",
    "datos_sin_filas_faltantes"
   ],
   "id": "5dd0ab05fdbdac57",
   "outputs": [],
   "execution_count": null
  },
  {
   "metadata": {},
   "cell_type": "markdown",
   "source": "#### B. Eliminar columnas con valores faltantes",
   "id": "83456f9c152f7092"
  },
  {
   "metadata": {},
   "cell_type": "code",
   "source": [
    "# Eliminar todas las columnas que contengan al menos un valor faltante\n",
    "datos_sin_columnas_faltantes = retail_copy.dropna(axis=1)\n",
    "print(\"Datos sin columnas con valores faltantes:\")\n",
    "datos_sin_columnas_faltantes"
   ],
   "id": "68931c4f59dca328",
   "outputs": [],
   "execution_count": null
  },
  {
   "metadata": {},
   "cell_type": "markdown",
   "source": "#### C. Eliminar solo si TODOS los valores son faltantes",
   "id": "fe932142c481d07c"
  },
  {
   "metadata": {},
   "cell_type": "code",
   "outputs": [],
   "execution_count": null,
   "source": [
    "# Crear DataFrame con una fila completamente vacía\n",
    "df_test = pd.DataFrame({\n",
    "    'A': [1, 2, None, None],\n",
    "    'B': [4, 5, None, None],\n",
    "    'C': [7, 8, None, None]\n",
    "})\n",
    "\n",
    "print(\"DataFrame de prueba:\")\n",
    "print(df_test)\n",
    "\n",
    "# Eliminar fila solo si TODOS los valores son NaN\n",
    "datos_how_all = df_test.dropna(how='all')\n",
    "print(\"\\nDespués de dropna(how='all'):\")\n",
    "print(datos_how_all)"
   ],
   "id": "8f6ff7a92d858cbf"
  },
  {
   "metadata": {},
   "cell_type": "markdown",
   "source": "#### D. Eliminar según umbral mínimo de valores no nulos",
   "id": "1298a6159b8efda0"
  },
  {
   "metadata": {},
   "cell_type": "code",
   "outputs": [],
   "execution_count": null,
   "source": [
    "# Eliminar filas que tengan menos de 2 valores no nulos\n",
    "datos_thresh = retail_copy.dropna(thresh=2)\n",
    "print(\"Filas con al menos 2 valores no nulos:\")\n",
    "print(datos_thresh)"
   ],
   "id": "2bc800aef6b0df8b"
  },
  {
   "metadata": {},
   "cell_type": "markdown",
   "source": [
    "### Estrategia 2: Imputación de Valores\n",
    "\n",
    "#### A. Llenar con un valor constante"
   ],
   "id": "59af1f777191b89c"
  },
  {
   "metadata": {},
   "cell_type": "code",
   "outputs": [],
   "execution_count": null,
   "source": [
    "# Llenar todos los valores faltantes con 0\n",
    "retail_filled_zero = retail_data.fillna(0)\n",
    "print(\"Valores faltantes llenados con 0:\")\n",
    "print(retail_filled_zero)"
   ],
   "id": "931004078ca80c24"
  },
  {
   "metadata": {},
   "cell_type": "markdown",
   "source": "#### B. Llenar con texto específico",
   "id": "3a9e3050e99070c4"
  },
  {
   "metadata": {},
   "cell_type": "code",
   "outputs": [],
   "execution_count": null,
   "source": [
    "# Llenar valores faltantes con un texto específico\n",
    "retail_filled_text = retail_data.fillna('Desconocido')\n",
    "print(\"Valores faltantes llenados con 'Desconocido':\")\n",
    "print(retail_filled_text)"
   ],
   "id": "f03e5018c6ad6ecc"
  },
  {
   "metadata": {},
   "cell_type": "markdown",
   "source": "#### C. Llenar con la media de la columna",
   "id": "f9679c6a0caa1b16"
  },
  {
   "metadata": {},
   "cell_type": "code",
   "outputs": [],
   "execution_count": null,
   "source": [
    "# Crear una copia para modificar\n",
    "retail_mean = retail_data.copy()\n",
    "\n",
    "# Calcular la media de la columna 'Cantidad' (ignora NaN automáticamente)\n",
    "media_cantidad = retail_mean['Cantidad'].mean()\n",
    "print(f\"Media de Cantidad: {media_cantidad}\")\n",
    "\n",
    "# Llenar valores faltantes de 'Cantidad' con la media\n",
    "retail_mean['Cantidad'].fillna(media_cantidad, inplace=True)\n",
    "print(\"\\nDespués de llenar con la media:\")\n",
    "print(retail_mean)"
   ],
   "id": "8b651af7934b7e7c"
  },
  {
   "metadata": {},
   "cell_type": "markdown",
   "source": "#### D. Llenar con la mediana (útil cuando hay valores atípicos)",
   "id": "2b694695fe653537"
  },
  {
   "metadata": {
    "ExecuteTime": {
     "end_time": "2025-10-08T14:23:41.266434Z",
     "start_time": "2025-10-08T14:23:41.251830Z"
    }
   },
   "cell_type": "code",
   "source": [
    "# Crear DataFrame con valores atípicos\n",
    "datos_atipicos = pd.DataFrame({\n",
    "    'Ventas': [100, 110, 105, None, 95, 1000, 108]  # 1000 es atípico\n",
    "})\n",
    "\n",
    "print(\"Datos con valor atípico:\")\n",
    "print(datos_atipicos)\n",
    "\n",
    "# Comparar media vs mediana\n",
    "print(f\"\\nMedia: {datos_atipicos['Ventas'].mean():.2f}\")\n",
    "print(f\"Mediana: {datos_atipicos['Ventas'].median():.2f}\")\n",
    "\n",
    "# Llenar con mediana (más robusta ante atípicos)\n",
    "mediana = datos_atipicos['Ventas'].median()\n",
    "datos_atipicos['Ventas'].fillna(mediana, inplace=True)\n",
    "print(f\"\\nDespués de llenar con mediana:\")\n",
    "print(datos_atipicos)"
   ],
   "id": "db5d0f17a2f29cd",
   "outputs": [
    {
     "name": "stdout",
     "output_type": "stream",
     "text": [
      "Datos con valor atípico:\n",
      "   Ventas\n",
      "0   100.0\n",
      "1   110.0\n",
      "2   105.0\n",
      "3     NaN\n",
      "4    95.0\n",
      "5  1000.0\n",
      "6   108.0\n",
      "\n",
      "Media: 253.00\n",
      "Mediana: 106.50\n",
      "\n",
      "Después de llenar con mediana:\n",
      "   Ventas\n",
      "0   100.0\n",
      "1   110.0\n",
      "2   105.0\n",
      "3   106.5\n",
      "4    95.0\n",
      "5  1000.0\n",
      "6   108.0\n"
     ]
    },
    {
     "name": "stderr",
     "output_type": "stream",
     "text": [
      "C:\\Users\\hamtr\\AppData\\Local\\Temp\\ipykernel_10948\\1628233919.py:15: FutureWarning: A value is trying to be set on a copy of a DataFrame or Series through chained assignment using an inplace method.\n",
      "The behavior will change in pandas 3.0. This inplace method will never work because the intermediate object on which we are setting values always behaves as a copy.\n",
      "\n",
      "For example, when doing 'df[col].method(value, inplace=True)', try using 'df.method({col: value}, inplace=True)' or df[col] = df[col].method(value) instead, to perform the operation inplace on the original object.\n",
      "\n",
      "\n",
      "  datos_atipicos['Ventas'].fillna(mediana, inplace=True)\n"
     ]
    }
   ],
   "execution_count": 23
  },
  {
   "metadata": {},
   "cell_type": "markdown",
   "source": "#### E. Forward Fill - Propagar valor anterior",
   "id": "c3e4f44fb4978308"
  },
  {
   "metadata": {},
   "cell_type": "code",
   "outputs": [],
   "execution_count": null,
   "source": [
    "# Crear serie temporal con valores faltantes\n",
    "serie_temporal = pd.DataFrame({\n",
    "    'Fecha': pd.date_range('2024-01-01', periods=7),\n",
    "    'Temperatura': [20, 22, None, None, 25, 26, None]\n",
    "})\n",
    "\n",
    "print(\"Serie temporal original:\")\n",
    "print(serie_temporal)\n",
    "\n",
    "# Forward fill: propagar el último valor válido hacia adelante\n",
    "serie_ffill = serie_temporal.copy()\n",
    "serie_ffill['Temperatura'].fillna(method='ffill', inplace=True)\n",
    "print(\"\\nDespués de forward fill:\")\n",
    "print(serie_ffill)"
   ],
   "id": "2bf64e7552d17063"
  },
  {
   "metadata": {},
   "cell_type": "markdown",
   "source": "#### F. Backward Fill - Propagar valor siguiente",
   "id": "58a0b3329d044ca0"
  },
  {
   "metadata": {},
   "cell_type": "code",
   "outputs": [],
   "execution_count": null,
   "source": [
    "# Backward fill: propagar el siguiente valor válido hacia atrás\n",
    "serie_bfill = serie_temporal.copy()\n",
    "serie_bfill['Temperatura'].fillna(method='bfill', inplace=True)\n",
    "print(\"Después de backward fill:\")\n",
    "print(serie_bfill)"
   ],
   "id": "704c575157810f08"
  },
  {
   "metadata": {},
   "cell_type": "markdown",
   "source": [
    "---\n",
    "\n",
    "## Casos de Uso en Data Science\n",
    "\n",
    "### Caso de Uso 1: Limpieza de Encuestas de Satisfacción del Cliente (CSAT)\n",
    "\n",
    "**Contexto:** Tienes un dataset de encuestas CSAT donde algunos clientes no respondieron todas las preguntas. Necesitas decidir cómo manejar estas respuestas incompletas para calcular un puntaje promedio confiable.\n",
    "\n",
    "**Objetivo:** Aplicar una estrategia de limpieza inteligente que preserve datos valiosos."
   ],
   "id": "142bb6e4997663c5"
  },
  {
   "metadata": {
    "ExecuteTime": {
     "end_time": "2025-10-08T14:26:22.265772Z",
     "start_time": "2025-10-08T14:26:22.253689Z"
    }
   },
   "cell_type": "code",
   "source": [
    "# Dataset de encuestas CSAT\n",
    "encuestas = pd.DataFrame({\n",
    "    'ClienteID': [1, 2, 3, 4, 5, 6],\n",
    "    'Departamento': ['Ventas', 'Soporte', 'Ventas', 'Logística', 'Soporte', 'Ventas'],\n",
    "    'Puntaje_CSAT': [5, 4, None, 3, 5, None],\n",
    "    'Tiempo_Respuesta': [10, None, 15, 20, 8, 12],\n",
    "    'Comentario': ['Excelente', None, 'Bueno', 'Regular', 'Muy bueno', 'Sin comentarios']\n",
    "})\n",
    "\n",
    "print(\"Dataset original:\")\n",
    "print(encuestas)\n",
    "print(\"\\n📊 Valores faltantes por columna:\")\n",
    "print(encuestas.isnull().sum())"
   ],
   "id": "5e5c3e425d020363",
   "outputs": [
    {
     "name": "stdout",
     "output_type": "stream",
     "text": [
      "Dataset original:\n",
      "   ClienteID Departamento  Puntaje_CSAT  Tiempo_Respuesta       Comentario\n",
      "0          1       Ventas           5.0              10.0        Excelente\n",
      "1          2      Soporte           4.0               NaN             None\n",
      "2          3       Ventas           NaN              15.0            Bueno\n",
      "3          4    Logística           3.0              20.0          Regular\n",
      "4          5      Soporte           5.0               8.0        Muy bueno\n",
      "5          6       Ventas           NaN              12.0  Sin comentarios\n",
      "\n",
      "📊 Valores faltantes por columna:\n",
      "ClienteID           0\n",
      "Departamento        0\n",
      "Puntaje_CSAT        2\n",
      "Tiempo_Respuesta    1\n",
      "Comentario          1\n",
      "dtype: int64\n"
     ]
    }
   ],
   "execution_count": 24
  },
  {
   "metadata": {},
   "cell_type": "markdown",
   "source": [
    "**Estrategia de limpieza:**\n",
    "\n",
    "1. ✅ Eliminar filas donde NO hay puntaje CSAT (métrica principal)\n",
    "2. ✅ Para Tiempo_Respuesta, llenar con la mediana\n",
    "3. ✅ Para Comentario, llenar con \"Sin comentario\""
   ],
   "id": "5bd417481e35a10e"
  },
  {
   "metadata": {
    "ExecuteTime": {
     "end_time": "2025-10-08T14:27:20.129986Z",
     "start_time": "2025-10-08T14:27:20.119596Z"
    }
   },
   "cell_type": "code",
   "source": [
    "# Paso 1: Eliminar filas sin puntaje CSAT (dato crítico)\n",
    "encuestas_limpias = encuestas.dropna(subset=['Puntaje_CSAT']).copy()\n",
    "\n",
    "print(\"Después de eliminar filas sin CSAT:\")\n",
    "print(encuestas_limpias)"
   ],
   "id": "7a37a6e31f9d7f13",
   "outputs": [
    {
     "name": "stdout",
     "output_type": "stream",
     "text": [
      "Después de eliminar filas sin CSAT:\n",
      "   ClienteID Departamento  Puntaje_CSAT  Tiempo_Respuesta Comentario\n",
      "0          1       Ventas           5.0              10.0  Excelente\n",
      "1          2      Soporte           4.0               NaN       None\n",
      "3          4    Logística           3.0              20.0    Regular\n",
      "4          5      Soporte           5.0               8.0  Muy bueno\n"
     ]
    }
   ],
   "execution_count": 25
  },
  {
   "metadata": {
    "ExecuteTime": {
     "end_time": "2025-10-08T14:28:34.808382Z",
     "start_time": "2025-10-08T14:28:34.795444Z"
    }
   },
   "cell_type": "code",
   "source": [
    "# Paso 2: Llenar Tiempo_Respuesta con la mediana\n",
    "mediana_tiempo = encuestas_limpias['Tiempo_Respuesta'].median()\n",
    "print(f\"Mediana de Tiempo_Respuesta: {mediana_tiempo}\")\n",
    "\n",
    "encuestas_limpias['Tiempo_Respuesta'].fillna(mediana_tiempo, inplace=True)\n",
    "\n",
    "# Paso 3: Llenar Comentario con texto predeterminado\n",
    "encuestas_limpias['Comentario'].fillna('Sin comentario', inplace=True)\n",
    "\n",
    "print(\"\\n✅ Dataset final limpio:\")\n",
    "print(encuestas_limpias)"
   ],
   "id": "7da343ddfe9faa1f",
   "outputs": [
    {
     "name": "stdout",
     "output_type": "stream",
     "text": [
      "Mediana de Tiempo_Respuesta: 10.0\n",
      "\n",
      "✅ Dataset final limpio:\n",
      "   ClienteID Departamento  Puntaje_CSAT  Tiempo_Respuesta      Comentario\n",
      "0          1       Ventas           5.0              10.0       Excelente\n",
      "1          2      Soporte           4.0              10.0  Sin comentario\n",
      "3          4    Logística           3.0              20.0         Regular\n",
      "4          5      Soporte           5.0               8.0       Muy bueno\n"
     ]
    },
    {
     "name": "stderr",
     "output_type": "stream",
     "text": [
      "C:\\Users\\hamtr\\AppData\\Local\\Temp\\ipykernel_10948\\216330967.py:5: FutureWarning: A value is trying to be set on a copy of a DataFrame or Series through chained assignment using an inplace method.\n",
      "The behavior will change in pandas 3.0. This inplace method will never work because the intermediate object on which we are setting values always behaves as a copy.\n",
      "\n",
      "For example, when doing 'df[col].method(value, inplace=True)', try using 'df.method({col: value}, inplace=True)' or df[col] = df[col].method(value) instead, to perform the operation inplace on the original object.\n",
      "\n",
      "\n",
      "  encuestas_limpias['Tiempo_Respuesta'].fillna(mediana_tiempo, inplace=True)\n"
     ]
    }
   ],
   "execution_count": 27
  },
  {
   "metadata": {
    "ExecuteTime": {
     "end_time": "2025-10-08T14:28:53.992622Z",
     "start_time": "2025-10-08T14:28:53.886033Z"
    }
   },
   "cell_type": "code",
   "source": [
    "# Calcular CSAT promedio por departamento\n",
    "csat_por_departamento = encuestas_limpias.groupby('Departamento')['Puntaje_CSAT'].mean()\n",
    "print(\"📈 CSAT Promedio por Departamento:\")\n",
    "print(csat_por_departamento)\n",
    "print(f\"\\n⭐ CSAT General: {encuestas_limpias['Puntaje_CSAT'].mean():.2f}\")"
   ],
   "id": "7ff50b2f38f6f046",
   "outputs": [
    {
     "name": "stdout",
     "output_type": "stream",
     "text": [
      "📈 CSAT Promedio por Departamento:\n",
      "Departamento\n",
      "Logística    3.0\n",
      "Soporte      4.5\n",
      "Ventas       5.0\n",
      "Name: Puntaje_CSAT, dtype: float64\n",
      "\n",
      "⭐ CSAT General: 4.25\n"
     ]
    }
   ],
   "execution_count": 28
  },
  {
   "metadata": {},
   "cell_type": "markdown",
   "source": [
    "**🎯 Resultado del Caso 1:**\n",
    "\n",
    "- ✅ Preservamos 4 de 6 registros (66% de datos)\n",
    "- ✅ No eliminamos información valiosa innecesariamente\n",
    "- ✅ La mediana evita sesgos por valores extremos\n",
    "- ✅ Mantenemos trazabilidad con \"Sin comentario\"\n",
    "\n",
    "**Aplicación al proyecto Customer Experience Analyzer:**\n",
    "Esta técnica la usarás para limpiar datos de encuestas CSAT antes de calcular el puntaje promedio por departamento."
   ],
   "id": "cc804fa0bf8a5b9b"
  },
  {
   "metadata": {},
   "cell_type": "markdown",
   "source": [
    "### Caso de Uso 2: Análisis de Ventas con Datos Incompletos\n",
    "\n",
    "**Contexto:** Estás analizando transacciones de ventas de un e-commerce. Algunos registros tienen el CustomerID faltante (clientes invitados), y otros tienen Quantity faltante por errores del sistema.\n",
    "\n",
    "**Objetivo:** Preparar los datos para un análisis de ingresos sin perder información valiosa."
   ],
   "id": "10f3b325888b51d1"
  },
  {
   "metadata": {
    "ExecuteTime": {
     "end_time": "2025-10-08T14:30:01.118631Z",
     "start_time": "2025-10-08T14:30:01.097964Z"
    }
   },
   "cell_type": "code",
   "source": [
    "# Dataset de ventas con valores faltantes\n",
    "ventas = pd.DataFrame({\n",
    "    'InvoiceNo': ['A001', 'A002', 'A003', 'A004', 'A005', 'A006'],\n",
    "    'StockCode': ['SKU1', 'SKU2', 'SKU3', 'SKU1', 'SKU2', 'SKU3'],\n",
    "    'Description': ['Producto A', 'Producto B', 'Producto C', 'Producto A', 'Producto B', 'Producto C'],\n",
    "    'Quantity': [10, None, 5, None, 15, 8],\n",
    "    'UnitPrice': [100, 200, 150, 100, 200, 150],\n",
    "    'CustomerID': [12345, None, 67890, 11111, None, 22222]\n",
    "})\n",
    "\n",
    "print(\"Dataset de ventas original:\")\n",
    "ventas"
   ],
   "id": "4c103f1bec2b9c79",
   "outputs": [
    {
     "name": "stdout",
     "output_type": "stream",
     "text": [
      "Dataset de ventas original:\n"
     ]
    },
    {
     "data": {
      "text/plain": [
       "  InvoiceNo StockCode Description  Quantity  UnitPrice  CustomerID\n",
       "0      A001      SKU1  Producto A      10.0        100     12345.0\n",
       "1      A002      SKU2  Producto B       NaN        200         NaN\n",
       "2      A003      SKU3  Producto C       5.0        150     67890.0\n",
       "3      A004      SKU1  Producto A       NaN        100     11111.0\n",
       "4      A005      SKU2  Producto B      15.0        200         NaN\n",
       "5      A006      SKU3  Producto C       8.0        150     22222.0"
      ],
      "text/html": [
       "<div>\n",
       "<style scoped>\n",
       "    .dataframe tbody tr th:only-of-type {\n",
       "        vertical-align: middle;\n",
       "    }\n",
       "\n",
       "    .dataframe tbody tr th {\n",
       "        vertical-align: top;\n",
       "    }\n",
       "\n",
       "    .dataframe thead th {\n",
       "        text-align: right;\n",
       "    }\n",
       "</style>\n",
       "<table border=\"1\" class=\"dataframe\">\n",
       "  <thead>\n",
       "    <tr style=\"text-align: right;\">\n",
       "      <th></th>\n",
       "      <th>InvoiceNo</th>\n",
       "      <th>StockCode</th>\n",
       "      <th>Description</th>\n",
       "      <th>Quantity</th>\n",
       "      <th>UnitPrice</th>\n",
       "      <th>CustomerID</th>\n",
       "    </tr>\n",
       "  </thead>\n",
       "  <tbody>\n",
       "    <tr>\n",
       "      <th>0</th>\n",
       "      <td>A001</td>\n",
       "      <td>SKU1</td>\n",
       "      <td>Producto A</td>\n",
       "      <td>10.0</td>\n",
       "      <td>100</td>\n",
       "      <td>12345.0</td>\n",
       "    </tr>\n",
       "    <tr>\n",
       "      <th>1</th>\n",
       "      <td>A002</td>\n",
       "      <td>SKU2</td>\n",
       "      <td>Producto B</td>\n",
       "      <td>NaN</td>\n",
       "      <td>200</td>\n",
       "      <td>NaN</td>\n",
       "    </tr>\n",
       "    <tr>\n",
       "      <th>2</th>\n",
       "      <td>A003</td>\n",
       "      <td>SKU3</td>\n",
       "      <td>Producto C</td>\n",
       "      <td>5.0</td>\n",
       "      <td>150</td>\n",
       "      <td>67890.0</td>\n",
       "    </tr>\n",
       "    <tr>\n",
       "      <th>3</th>\n",
       "      <td>A004</td>\n",
       "      <td>SKU1</td>\n",
       "      <td>Producto A</td>\n",
       "      <td>NaN</td>\n",
       "      <td>100</td>\n",
       "      <td>11111.0</td>\n",
       "    </tr>\n",
       "    <tr>\n",
       "      <th>4</th>\n",
       "      <td>A005</td>\n",
       "      <td>SKU2</td>\n",
       "      <td>Producto B</td>\n",
       "      <td>15.0</td>\n",
       "      <td>200</td>\n",
       "      <td>NaN</td>\n",
       "    </tr>\n",
       "    <tr>\n",
       "      <th>5</th>\n",
       "      <td>A006</td>\n",
       "      <td>SKU3</td>\n",
       "      <td>Producto C</td>\n",
       "      <td>8.0</td>\n",
       "      <td>150</td>\n",
       "      <td>22222.0</td>\n",
       "    </tr>\n",
       "  </tbody>\n",
       "</table>\n",
       "</div>"
      ]
     },
     "execution_count": 30,
     "metadata": {},
     "output_type": "execute_result"
    }
   ],
   "execution_count": 30
  },
  {
   "metadata": {
    "ExecuteTime": {
     "end_time": "2025-10-08T14:30:05.228979Z",
     "start_time": "2025-10-08T14:30:05.217014Z"
    }
   },
   "cell_type": "code",
   "source": [
    "# Analizar el impacto de los valores faltantes\n",
    "print(\"📊 Análisis de valores faltantes:\")\n",
    "print(f\"Total de registros: {len(ventas)}\")\n",
    "print(f\"Registros sin CustomerID: {ventas['CustomerID'].isnull().sum()}\")\n",
    "print(f\"Registros sin Quantity: {ventas['Quantity'].isnull().sum()}\")\n",
    "print(f\"\\nPorcentaje de faltantes:\")\n",
    "print((ventas.isnull().sum() / len(ventas) * 100).round(1))"
   ],
   "id": "1df23f27d7a7b0ba",
   "outputs": [
    {
     "name": "stdout",
     "output_type": "stream",
     "text": [
      "📊 Análisis de valores faltantes:\n",
      "Total de registros: 6\n",
      "Registros sin CustomerID: 2\n",
      "Registros sin Quantity: 2\n",
      "\n",
      "Porcentaje de faltantes:\n",
      "InvoiceNo       0.0\n",
      "StockCode       0.0\n",
      "Description     0.0\n",
      "Quantity       33.3\n",
      "UnitPrice       0.0\n",
      "CustomerID     33.3\n",
      "dtype: float64\n"
     ]
    }
   ],
   "execution_count": 31
  },
  {
   "metadata": {},
   "cell_type": "markdown",
   "source": [
    "**Estrategia:**\n",
    "\n",
    "1. ❌ Para Quantity faltante: **eliminar la fila** (no podemos calcular ingresos sin cantidad)\n",
    "2. ✅ Para CustomerID faltante: **llenar con 'GUEST'** (representa cliente invitado)"
   ],
   "id": "ba49648162ae4caf"
  },
  {
   "metadata": {
    "ExecuteTime": {
     "end_time": "2025-10-08T14:30:35.651221Z",
     "start_time": "2025-10-08T14:30:35.637608Z"
    }
   },
   "cell_type": "code",
   "source": [
    "# Paso 1: Eliminar filas sin Quantity\n",
    "ventas_limpias = ventas.dropna(subset=['Quantity']).copy()\n",
    "\n",
    "print(\"Después de eliminar filas sin Quantity:\")\n",
    "print(ventas_limpias)\n",
    "print(f\"\\n✅ Registros conservados: {len(ventas_limpias)}/{len(ventas)}\")"
   ],
   "id": "14d0c0539ae9d57",
   "outputs": [
    {
     "name": "stdout",
     "output_type": "stream",
     "text": [
      "Después de eliminar filas sin Quantity:\n",
      "  InvoiceNo StockCode Description  Quantity  UnitPrice  CustomerID\n",
      "0      A001      SKU1  Producto A      10.0        100     12345.0\n",
      "2      A003      SKU3  Producto C       5.0        150     67890.0\n",
      "4      A005      SKU2  Producto B      15.0        200         NaN\n",
      "5      A006      SKU3  Producto C       8.0        150     22222.0\n",
      "\n",
      "✅ Registros conservados: 4/6\n"
     ]
    }
   ],
   "execution_count": 32
  },
  {
   "metadata": {
    "ExecuteTime": {
     "end_time": "2025-10-08T14:31:01.647795Z",
     "start_time": "2025-10-08T14:31:01.636087Z"
    }
   },
   "cell_type": "code",
   "source": [
    "# Paso 2: Marcar clientes invitados\n",
    "ventas_limpias['CustomerID'].fillna('GUEST', inplace=True)\n",
    "\n",
    "print(\"Dataset final con CustomerID procesado:\")\n",
    "print(ventas_limpias)"
   ],
   "id": "c4530dcc63be4a89",
   "outputs": [
    {
     "name": "stdout",
     "output_type": "stream",
     "text": [
      "Dataset final con CustomerID procesado:\n",
      "  InvoiceNo StockCode Description  Quantity  UnitPrice CustomerID\n",
      "0      A001      SKU1  Producto A      10.0        100    12345.0\n",
      "2      A003      SKU3  Producto C       5.0        150    67890.0\n",
      "4      A005      SKU2  Producto B      15.0        200      GUEST\n",
      "5      A006      SKU3  Producto C       8.0        150    22222.0\n"
     ]
    },
    {
     "name": "stderr",
     "output_type": "stream",
     "text": [
      "C:\\Users\\hamtr\\AppData\\Local\\Temp\\ipykernel_10948\\567049302.py:2: FutureWarning: A value is trying to be set on a copy of a DataFrame or Series through chained assignment using an inplace method.\n",
      "The behavior will change in pandas 3.0. This inplace method will never work because the intermediate object on which we are setting values always behaves as a copy.\n",
      "\n",
      "For example, when doing 'df[col].method(value, inplace=True)', try using 'df.method({col: value}, inplace=True)' or df[col] = df[col].method(value) instead, to perform the operation inplace on the original object.\n",
      "\n",
      "\n",
      "  ventas_limpias['CustomerID'].fillna('GUEST', inplace=True)\n",
      "C:\\Users\\hamtr\\AppData\\Local\\Temp\\ipykernel_10948\\567049302.py:2: FutureWarning: Setting an item of incompatible dtype is deprecated and will raise an error in a future version of pandas. Value 'GUEST' has dtype incompatible with float64, please explicitly cast to a compatible dtype first.\n",
      "  ventas_limpias['CustomerID'].fillna('GUEST', inplace=True)\n"
     ]
    }
   ],
   "execution_count": 33
  },
  {
   "metadata": {
    "ExecuteTime": {
     "end_time": "2025-10-08T14:31:14.475836Z",
     "start_time": "2025-10-08T14:31:14.458752Z"
    }
   },
   "cell_type": "code",
   "source": [
    "# Calcular ingresos totales\n",
    "ventas_limpias['TotalRevenue'] = ventas_limpias['Quantity'] * ventas_limpias['UnitPrice']\n",
    "\n",
    "print(\"💰 Ingresos por transacción:\")\n",
    "print(ventas_limpias[['InvoiceNo', 'Description', 'Quantity', 'UnitPrice', 'TotalRevenue']])"
   ],
   "id": "b72b517da12c7a3c",
   "outputs": [
    {
     "name": "stdout",
     "output_type": "stream",
     "text": [
      "💰 Ingresos por transacción:\n",
      "  InvoiceNo Description  Quantity  UnitPrice  TotalRevenue\n",
      "0      A001  Producto A      10.0        100        1000.0\n",
      "2      A003  Producto C       5.0        150         750.0\n",
      "4      A005  Producto B      15.0        200        3000.0\n",
      "5      A006  Producto C       8.0        150        1200.0\n"
     ]
    }
   ],
   "execution_count": 34
  },
  {
   "metadata": {
    "ExecuteTime": {
     "end_time": "2025-10-08T14:31:38.808613Z",
     "start_time": "2025-10-08T14:31:38.689824Z"
    }
   },
   "cell_type": "code",
   "source": [
    "# Análisis: Ingresos de clientes registrados vs invitados\n",
    "ventas_limpias['TipoCliente'] = ventas_limpias['CustomerID'].apply(\n",
    "    lambda x: 'Invitado' if x == 'GUEST' else 'Registrado'\n",
    ")\n",
    "\n",
    "ingresos_por_tipo = ventas_limpias.groupby('TipoCliente')['TotalRevenue'].agg(['sum', 'mean', 'count'])\n",
    "ingresos_por_tipo.columns = ['Ingresos Totales', 'Ingreso Promedio', 'Transacciones']\n",
    "\n",
    "print(\"📊 Análisis por tipo de cliente:\")\n",
    "print(ingresos_por_tipo)"
   ],
   "id": "7bb08551c77ed2eb",
   "outputs": [
    {
     "name": "stdout",
     "output_type": "stream",
     "text": [
      "📊 Análisis por tipo de cliente:\n",
      "             Ingresos Totales  Ingreso Promedio  Transacciones\n",
      "TipoCliente                                                   \n",
      "Invitado               3000.0       3000.000000              1\n",
      "Registrado             2950.0        983.333333              3\n"
     ]
    }
   ],
   "execution_count": 35
  },
  {
   "metadata": {},
   "cell_type": "markdown",
   "source": [
    "**🎯 Resultado del Caso 2:**\n",
    "\n",
    "- ✅ Eliminamos solo registros donde es imposible calcular ingresos\n",
    "- ✅ Preservamos información valiosa categorizando clientes invitados\n",
    "- ✅ Permitimos análisis comparativos (registrados vs invitados)\n",
    "- ✅ Mantenemos la integridad del análisis financiero\n",
    "\n",
    "**Aplicación práctica:**\n",
    "Esta técnica es útil para dashboards de ventas donde necesitas segmentar por tipo de cliente."
   ],
   "id": "4e30029630e78789"
  }
 ],
 "metadata": {
  "kernelspec": {
   "display_name": "Python 3",
   "language": "python",
   "name": "python3"
  },
  "language_info": {
   "codemirror_mode": {
    "name": "ipython",
    "version": 2
   },
   "file_extension": ".py",
   "mimetype": "text/x-python",
   "name": "python",
   "nbconvert_exporter": "python",
   "pygments_lexer": "ipython2",
   "version": "2.7.6"
  }
 },
 "nbformat": 4,
 "nbformat_minor": 5
}
