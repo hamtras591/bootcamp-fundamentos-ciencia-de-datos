{
 "cells": [
  {
   "metadata": {},
   "cell_type": "markdown",
   "source": [
    "# Arrays de Datos en NumPy\n",
    "\n",
    "**Curso:** Python para Ciencia de Datos\n",
    "**Tema:** Análisis de datos con Arrays de NumPy\n",
    "**Fecha:** 03 de Octubre, 2025\n",
    "\n",
    "---"
   ],
   "id": "c09d767797015710"
  },
  {
   "metadata": {},
   "cell_type": "markdown",
   "source": [
    "## ¿Qué es un Array en NumPy?\n",
    "\n",
    "**Definición:** Es una estructura de datos homogénea organizada en una o más dimensiones, esencial para cálculos matemáticos en Python.\n",
    "\n",
    "### Ventajas de los Arrays sobre Listas\n",
    "\n",
    "1. **Eficiencia:** Son más eficientes y usan menos memoria que las listas nativas de Python\n",
    "2. **Funciones avanzadas:** Ofrecen funciones matemáticas y estadísticas avanzadas, ideales para análisis de información y procesamiento de datos complejos\n",
    "3. **Orientado a objetos:** Son instancias de una clase, por lo que se puede acceder a atributos y métodos especializados"
   ],
   "id": "7536b5d2bd3296a9"
  },
  {
   "metadata": {},
   "cell_type": "code",
   "source": "import numpy as np",
   "id": "9be382719fd259f2",
   "outputs": [],
   "execution_count": null
  },
  {
   "metadata": {},
   "cell_type": "markdown",
   "source": [
    "## Atributos de los Arrays\n",
    "\n",
    "Los arrays tienen atributos que nos dan información sobre su estructura:"
   ],
   "id": "b6b1a03f63a7946d"
  },
  {
   "metadata": {
    "collapsed": true
   },
   "cell_type": "code",
   "source": [
    "array = np.array([[1, 2, 3], [4, 5, 6]])\n",
    "\n",
    "print(\"Array:\")\n",
    "print(array)\n",
    "print('-' * 100)\n",
    "\n",
    "# Para conocer las dimensiones del array\n",
    "print(\"Número de dimensiones (ndim):\")\n",
    "print(array.ndim)\n",
    "print('-' * 100)\n",
    "\n",
    "# Para conocer el cuánto por cuánto son sus dimensiones\n",
    "print(\"Forma del array (shape):\")\n",
    "print(array.shape)  # (2, 3) = 2 filas, 3 columnas\n",
    "print('-' * 100)\n",
    "\n",
    "# Para conocer el tipo de datos\n",
    "print(\"Tipo de datos (dtype):\")\n",
    "print(array.dtype)\n",
    "print('-' * 100)"
   ],
   "id": "61408a119383418b",
   "outputs": [],
   "execution_count": null
  },
  {
   "metadata": {},
   "cell_type": "markdown",
   "source": [
    "---\n",
    "\n",
    "## dtype: Tipo de Datos\n",
    "\n",
    "**Definición:** Es el objeto de NumPy que describe el tipo de elementos en el array. Indica el tipo de datos que se tiene dentro del array (int, float, string, etc).\n",
    "\n",
    "### Tipos de Datos Comunes\n",
    "\n",
    "| Tipo | Descripción | Uso |\n",
    "|------|-------------|-----|\n",
    "| `int8` | Enteros de 8 bits (-128 a 127) | Valores pequeños |\n",
    "| `uint8` | Enteros sin signo (0 a 255) | Valores no negativos pequeños |\n",
    "| `int32` | Enteros de 32 bits | Valores enteros estándar |\n",
    "| `float32` | Flotantes de 32 bits | Cálculos con precisión moderada, ahorra memoria |\n",
    "| `float64` | Flotantes de 64 bits | Cálculos científicos con alta precisión (por defecto) |\n",
    "| `bool` | Booleanos | True/False |\n",
    "| `complex64` | Números complejos de 64 bits | Cálculos con números complejos |\n",
    "| `str` | Cadenas de texto | Datos textuales |"
   ],
   "id": "1e561ba1be836a6"
  },
  {
   "metadata": {},
   "cell_type": "markdown",
   "source": [
    "### Especificar el Tipo de Datos al Crear Arrays\n",
    "\n",
    "Podemos definir explícitamente el tipo de datos usando el parámetro `dtype`:"
   ],
   "id": "a77c2f4ad049012e"
  },
  {
   "metadata": {},
   "cell_type": "code",
   "source": [
    "# Escalar con tipo específico\n",
    "z = np.array(3, dtype=np.int8)\n",
    "print(\"Escalar int8:\", z)\n",
    "print('-' * 100)\n",
    "\n",
    "# Forma explícita\n",
    "double_array = np.array([1, 2, 3], dtype=np.float64)\n",
    "print(\"Array float64 (explícito):\", double_array)\n",
    "\n",
    "# Forma abreviada ('d' = float64)\n",
    "double_array_short = np.array([1, 2, 3], dtype='d')\n",
    "print(\"Array float64 (abreviado 'd'):\", double_array_short)\n",
    "print('-' * 100)"
   ],
   "id": "d79fe89b1d0c81b5",
   "outputs": [],
   "execution_count": null
  },
  {
   "metadata": {},
   "cell_type": "markdown",
   "source": [
    "### Conversión de Tipos con `astype()`\n",
    "\n",
    "Podemos cambiar el tipo de datos de un array existente:"
   ],
   "id": "19b591f555c3fc85"
  },
  {
   "metadata": {},
   "cell_type": "code",
   "source": [
    "# Convertir de int8 a float64\n",
    "z = np.array(3, dtype=np.int8)\n",
    "z_float = z.astype(np.float64)\n",
    "print(\"Original (int8):\", z)\n",
    "print(\"Convertido (float64):\", z_float)\n",
    "print('-' * 100)"
   ],
   "id": "7c72ff9d11c58542",
   "outputs": [],
   "execution_count": null
  },
  {
   "metadata": {},
   "cell_type": "markdown",
   "source": [
    "---\n",
    "\n",
    "## Operaciones Aritméticas con NumPy\n",
    "\n",
    "NumPy ofrece funciones matemáticas y estadísticas integradas:"
   ],
   "id": "36410e6c045a91aa"
  },
  {
   "metadata": {},
   "cell_type": "code",
   "source": [
    "array = np.array([[1, 2, 3], [4, 5, 6]])\n",
    "\n",
    "# Suma de todos los elementos\n",
    "suma = np.sum(array)\n",
    "print(\"Suma total:\", suma)\n",
    "print('-' * 100)\n",
    "\n",
    "# Promedio de todos los elementos\n",
    "media = np.mean(array)\n",
    "print(\"Promedio:\", media)\n",
    "print('-' * 100)\n",
    "\n",
    "# Desviación estándar\n",
    "des_estandar = np.std(array)\n",
    "print(\"Desviación estándar:\", des_estandar)\n",
    "print('-' * 100)"
   ],
   "id": "c8ab119c21ede038",
   "outputs": [],
   "execution_count": null
  },
  {
   "metadata": {},
   "cell_type": "markdown",
   "source": [
    "---\n",
    "\n",
    "## NaN (Not a Number)\n",
    "\n",
    "**Definición:** NaN es un valor especial utilizado para representar datos que no son números, especialmente en operaciones matemáticas sin resultado definido.\n",
    "\n",
    "**Casos de uso:**\n",
    "- División 0/0\n",
    "- Raíz cuadrada de un número negativo\n",
    "- Datos faltantes en datasets\n",
    "\n",
    "**Utilidad:** Muy útil para manejar datos faltantes o resultados indefinidos en análisis de datos."
   ],
   "id": "75202b50b84fa418"
  },
  {
   "metadata": {},
   "cell_type": "code",
   "source": [
    "# Array con valores NaN\n",
    "nan_array = np.array([1, 2, np.nan, 4, np.nan])\n",
    "print(\"Array con NaN:\", nan_array)\n",
    "print('-' * 100)\n",
    "\n",
    "# Detectar valores NaN\n",
    "print(\"¿Hay NaN?:\", np.isnan(nan_array))\n",
    "print('-' * 100)\n",
    "\n",
    "# Contar cuántos NaN hay\n",
    "print(\"Cantidad de NaN:\", np.sum(np.isnan(nan_array)))"
   ],
   "id": "21b36365707ddc4b",
   "outputs": [],
   "execution_count": null
  },
  {
   "metadata": {},
   "cell_type": "markdown",
   "source": [
    "---\n",
    "\n",
    "## Métodos de Creación de Arrays (Repaso)\n",
    "\n",
    "NumPy proporciona diversas maneras de crear arrays:\n",
    "\n",
    "### Desde Listas\n",
    "```python\n",
    "array_1d = np.array([1, 2, 3, 4])\n",
    "array_2d = np.array([[1, 2, 3], [4, 5, 6]])"
   ],
   "id": "2b34a825d43dcc2b"
  },
  {
   "metadata": {},
   "cell_type": "markdown",
   "source": [
    "---\n",
    "\n",
    "## Pregunta de Reflexión\n",
    "\n",
    "**¿Cuál crees que es la principal diferencia entre uso de listas y uso de arrays que nos va a ayudar en los proyectos?**\n",
    "\n",
    "Respuesta esperada:\n",
    "- **Rendimiento:** Los arrays son más rápidos y eficientes con grandes volúmenes de datos\n",
    "- **Funciones especializadas:** Operaciones matemáticas y estadísticas integradas\n",
    "- **Vectorización:** Operaciones en todo el array sin loops explícitos\n",
    "- **Consistencia de tipos:** Todos los elementos son del mismo tipo"
   ],
   "id": "2d648f10302e706f"
  },
  {
   "metadata": {},
   "cell_type": "code",
   "source": [
    "# Espacio para la experimentación\n",
    "\n",
    "'''\n",
    "EJERCICIO 1: Creación y Análisis Básico\n",
    "Crea un array 3x4 con números del 1 al 12\n",
    "Imprime: sus dimensiones, forma y tipo de datos\n",
    "'''\n",
    "\n",
    "# Tu código aquí:\n",
    "\n",
    "# Existe la forma de crear las dimensiones de un array (matriz) desde un método sin tener que usar la manualidad\n",
    "matriz1 = np.arange(1, 13).reshape(3, 4)\n",
    "print('-' * 100)\n",
    "print(matriz1)\n",
    "print('-' * 100)\n",
    "# Para conocer las dimensiones del array\n",
    "print(\"Número de dimensiones (ndim):\")\n",
    "print(matriz1.ndim)\n",
    "print('-' * 100)\n",
    "\n",
    "# Para conocer el cuánto por cuánto son sus dimensiones\n",
    "print(\"Forma del array (shape):\")\n",
    "print(matriz1.shape)  # (2, 3) = 2 filas, 3 columnas\n",
    "print('-' * 100)\n",
    "\n",
    "# Para conocer el tipo de datos\n",
    "print(\"Tipo de datos (dtype):\")\n",
    "print(matriz1.dtype)\n",
    "print('-' * 100)"
   ],
   "id": "906735cf87effc01",
   "outputs": [],
   "execution_count": null
  },
  {
   "metadata": {},
   "cell_type": "code",
   "source": [
    "'''\n",
    "EJERCICIO 2: Conversión de Tipos\n",
    "Crea un array con los números [10, 20, 30, 40, 50] como enteros (int32)\n",
    "Conviértelo a float64\n",
    "Imprime ambos arrays y sus tipos de datos\n",
    "'''\n",
    "# Tu código aquí:\n",
    "\n",
    "array_1 = np.array([10, 20, 30, 40, 50], dtype=np.int32)\n",
    "print('-' * 100)\n",
    "print(array_1)\n",
    "print(array_1.dtype)\n",
    "print('-' * 100)\n",
    "\n",
    "# Conversión\n",
    "\n",
    "array_2 = array_1.astype(np.float64)\n",
    "\n",
    "print(array_2)\n",
    "print(array_2.dtype)"
   ],
   "id": "a9652a042d57be99",
   "outputs": [],
   "execution_count": null
  },
  {
   "metadata": {},
   "cell_type": "code",
   "source": [
    "'''\n",
    "EJERCICIO 3: Operaciones Estadísticas\n",
    "Dado el siguiente array de temperaturas de una semana:\n",
    "'''\n",
    "temperaturas = np.array([22.5, 24.0, 23.5, 25.0, 26.5, 24.5, 23.0])\n",
    "\n",
    "# Calcula:\n",
    "# a) La temperatura promedio\n",
    "# b) La temperatura máxima (usa np.max())\n",
    "# c) La temperatura mínima (usa np.min())\n",
    "# d) La desviación estándar\n",
    "\n",
    "# Tu código aquí:\n",
    "\n",
    "# a. Solución\n",
    "promedio = np.mean(temperaturas)\n",
    "# b. Solución\n",
    "maxima = np.max(temperaturas)\n",
    "# c. Solución\n",
    "minima = np.min(temperaturas)\n",
    "# d. Solución\n",
    "desviacion = np.std(temperaturas)\n",
    "\n",
    "print('-' * 100)\n",
    "print(f\"El promedio del array es: {promedio}. \\nLa temperatura maxima del array es: {maxima} \\nla temperatura minima es: {minima} \\ny la desviación estandar es: {desviacion}\")\n",
    "print('-' * 100)\n",
    "print(f\"Promedio: {promedio:.2f}\")\n",
    "print(f\"Temperatura máxima: {maxima}\")\n",
    "print(f\"Temperatura mínima: {minima}\")\n",
    "print(f\"Desviación estándar: {desviacion:.2f}\")\n",
    "print('-' * 100)\n",
    "\n"
   ],
   "id": "f95c433225ccdf74",
   "outputs": [],
   "execution_count": null
  },
  {
   "metadata": {},
   "cell_type": "code",
   "source": [
    "'''\n",
    "# EJERCICIO 4: Manejo de NaN\n",
    "# Crea un array con valores: [100, 200, NaN, 400, NaN, 600]\n",
    "# a) Cuenta cuántos valores NaN hay\n",
    "# b) Reemplaza los NaN por 0 usando np.nan_to_num()\n",
    "# c) Calcula el promedio solo de los valores válidos (usa np.nanmean())\n",
    "'''\n",
    "\n",
    "# Tu código aquí:\n",
    "\n",
    "array_3 = np.array([100, 200, np.nan, 400, np.nan, 600])\n",
    "# Cantidad de valores NaN\n",
    "cantidad_nulos = np.sum(np.isnan(array_3))\n",
    "print(cantidad_nulos)\n",
    "print('-' * 100)\n",
    "\n",
    "array_sin_nan = np.nan_to_num(array_3).astype(np.float64)\n",
    "array_int = array_sin_nan.astype(np.int32)\n",
    "print(array_int)\n",
    "\n",
    "# Transformando los nan en 0 y luego generando el cálculo del promedio, tener en cuenta que esto es una mala praxis, puesto a que los valores nulos que se transforman en 0 desdibujan el dato\n",
    "print(np.nanmean(array_int))\n",
    "\n",
    "# Forma correcta y directa de tratar con estos problemas de NaN\n",
    "print(np.nanmean(array_3))"
   ],
   "id": "fcf3708a45de9217",
   "outputs": [],
   "execution_count": null
  },
  {
   "metadata": {},
   "cell_type": "code",
   "source": [
    "'''\n",
    "EJERCICIO 5: Desafío Integrador\n",
    "Simula las notas de 5 estudiantes en 3 materias usando np.random.randint()\n",
    "    - Notas entre 60 y 100\n",
    "    - Matriz de 5 filas (estudiantes) x 3 columnas (materias)\n",
    "'''\n",
    "#\n",
    "# Calcula:\n",
    "# a) El promedio de cada estudiante (por fila, usa axis=1)\n",
    "# b) El promedio de cada materia (por columna, usa axis=0)\n",
    "# c) El estudiante con mejor promedio\n",
    "# d) La materia más difícil (menor promedio)\n",
    "\n",
    "# Pista: investiga el parámetro 'axis' en np.mean()\n",
    "\n",
    "# Tu código aquí:\n",
    "\n",
    "matriz_notas = np.random.randint(low=60, high=100, size=15).reshape(5, 3)\n",
    "print(matriz_notas)\n",
    "print('-' * 100)\n",
    "\n",
    "# Promedio de notas de cada estudiante\n",
    "promedio_estudiantes = np.mean(matriz_notas, axis=1)\n",
    "print(promedio_estudiantes)\n",
    "print('-' * 100)\n",
    "\n",
    "\n",
    "# Promedio de notas de cada materia\n",
    "promedio_materias = np.mean(matriz_notas, axis=0)\n",
    "print(promedio_materias)\n",
    "print('-' * 100)\n",
    "\n",
    "mejor_estudiante_idx = np.argmax(promedio_estudiantes)\n",
    "materia_dificil_idx = np.argmin(promedio_materias)\n",
    "\n",
    "print(f\"Mejor estudiante: #{mejor_estudiante_idx + 1} con promedio {promedio_estudiantes[mejor_estudiante_idx]:.2f}\")\n",
    "print(f\"Materia más difícil: Materia {materia_dificil_idx + 1} con promedio {promedio_materias[materia_dificil_idx]:.2f}\")\n",
    "\n",
    "\n"
   ],
   "id": "dc2fcb98a9f9841d",
   "outputs": [],
   "execution_count": null
  },
  {
   "metadata": {},
   "cell_type": "markdown",
   "source": [
    "---\n",
    "\n",
    "## Resumen\n",
    "\n",
    "- **Arrays:** Estructuras homogéneas más eficientes que listas\n",
    "- **Atributos clave:** `ndim`, `shape`, `dtype`\n",
    "- **Tipos de datos:** int8, uint8, float32, float64, bool, complex, str\n",
    "- **Conversión:** `astype()` para cambiar tipos\n",
    "- **Operaciones:** `sum()`, `mean()`, `std()` y más\n",
    "- **NaN:** Representa datos faltantes o indefinidos\n",
    "\n",
    "**Próximos pasos:** Indexación y slicing de arrays para acceder a subconjuntos específicos de datos."
   ],
   "id": "1ccf4354c4ea043b"
  },
  {
   "metadata": {
    "ExecuteTime": {
     "end_time": "2025-10-03T15:45:44.037647Z",
     "start_time": "2025-10-03T15:45:44.024933Z"
    }
   },
   "cell_type": "code",
   "source": [
    "import numpy as np\n",
    "\n",
    "A = np.array([[1, 2], [3, 4]])\n",
    "B = np.array([[5, 6], [7, 8]])\n",
    "\n",
    "suma = A + B\n",
    "print(\"Suma de matrices:\\n\", suma)"
   ],
   "id": "56afbf8a091b2891",
   "outputs": [
    {
     "name": "stdout",
     "output_type": "stream",
     "text": [
      "Suma de matrices:\n",
      " [[ 6  8]\n",
      " [10 12]]\n"
     ]
    }
   ],
   "execution_count": 54
  }
 ],
 "metadata": {
  "kernelspec": {
   "display_name": "Python 3",
   "language": "python",
   "name": "python3"
  },
  "language_info": {
   "codemirror_mode": {
    "name": "ipython",
    "version": 2
   },
   "file_extension": ".py",
   "mimetype": "text/x-python",
   "name": "python",
   "nbconvert_exporter": "python",
   "pygments_lexer": "ipython2",
   "version": "2.7.6"
  }
 },
 "nbformat": 4,
 "nbformat_minor": 5
}
