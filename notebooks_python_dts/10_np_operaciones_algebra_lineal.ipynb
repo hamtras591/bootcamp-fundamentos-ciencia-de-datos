{
 "cells": [
  {
   "cell_type": "code",
   "id": "initial_id",
   "metadata": {
    "collapsed": true,
    "ExecuteTime": {
     "end_time": "2025-10-07T20:45:14.465879Z",
     "start_time": "2025-10-07T20:45:14.259077Z"
    }
   },
   "source": [
    "import numpy as np\n",
    "A = np.array([[1,2], [3,4]])\n",
    "B = np.array([[5,6], [7,8]])\n",
    "\n",
    "# Suma\n",
    "sum = A + B\n",
    "print(sum)\n"
   ],
   "outputs": [
    {
     "name": "stdout",
     "output_type": "stream",
     "text": [
      "[[ 6  8]\n",
      " [10 12]]\n"
     ]
    }
   ],
   "execution_count": 1
  },
  {
   "metadata": {
    "ExecuteTime": {
     "end_time": "2025-10-07T20:46:12.775640Z",
     "start_time": "2025-10-07T20:46:12.764900Z"
    }
   },
   "cell_type": "code",
   "source": [
    "# Multiplicación\n",
    "product = np.dot(A, B)\n",
    "print(product)"
   ],
   "id": "153874285be77dc1",
   "outputs": [
    {
     "name": "stdout",
     "output_type": "stream",
     "text": [
      "[[19 22]\n",
      " [43 50]]\n"
     ]
    }
   ],
   "execution_count": 2
  }
 ],
 "metadata": {
  "kernelspec": {
   "display_name": "Python 3",
   "language": "python",
   "name": "python3"
  },
  "language_info": {
   "codemirror_mode": {
    "name": "ipython",
    "version": 2
   },
   "file_extension": ".py",
   "mimetype": "text/x-python",
   "name": "python",
   "nbconvert_exporter": "python",
   "pygments_lexer": "ipython2",
   "version": "2.7.6"
  }
 },
 "nbformat": 4,
 "nbformat_minor": 5
}
