{
 "cells": [
  {
   "metadata": {},
   "cell_type": "markdown",
   "source": "# Ejercicio practico para conteo de información",
   "id": "a6db367754e37fc"
  },
  {
   "metadata": {
    "ExecuteTime": {
     "end_time": "2025-10-06T22:31:51.030298Z",
     "start_time": "2025-10-06T22:31:51.021772Z"
    }
   },
   "cell_type": "code",
   "source": [
    "import numpy as np\n",
    "# Respuestas de los clientes al producto\n",
    "survey_responses = np.array([\"bueno\", \"excelente\", \"malo\",\n",
    "                             \"bueno\", \"malo\", \"excelente\",\n",
    "                             \"bueno\", \"bueno\", \"malo\",\n",
    "                             \"excelente\"])\n",
    "\n",
    "# Obtener valores unicos con atributo unique()\n",
    "print(np.unique(survey_responses))\n",
    "\n",
    "unique_elements, counts = np.unique(survey_responses, return_counts=True)\n",
    "print(unique_elements)\n",
    "print(counts)"
   ],
   "id": "2dfb521fd5f37259",
   "outputs": [
    {
     "name": "stdout",
     "output_type": "stream",
     "text": [
      "['bueno' 'excelente' 'malo']\n",
      "['bueno' 'excelente' 'malo']\n",
      "[4 3 3]\n"
     ]
    }
   ],
   "execution_count": 3
  },
  {
   "metadata": {
    "ExecuteTime": {
     "end_time": "2025-10-06T22:34:08.011003Z",
     "start_time": "2025-10-06T22:34:08.002655Z"
    }
   },
   "cell_type": "code",
   "source": [
    "# Vistas\n",
    "\n",
    "array_x = np.arange(10)\n",
    "vista_y = array_x[1:3]\n",
    "\n",
    "print(array_x)\n",
    "print(vista_y)\n",
    "\n",
    "array_x[1:3] = [10,11]\n",
    "\n",
    "print(array_x)\n",
    "print(vista_y)"
   ],
   "id": "aa145cc3f981b58f",
   "outputs": [
    {
     "name": "stdout",
     "output_type": "stream",
     "text": [
      "[0 1 2 3 4 5 6 7 8 9]\n",
      "[1 2]\n",
      "[ 0 10 11  3  4  5  6  7  8  9]\n",
      "[10 11]\n"
     ]
    }
   ],
   "execution_count": 5
  },
  {
   "metadata": {
    "ExecuteTime": {
     "end_time": "2025-10-06T22:36:33.346502Z",
     "start_time": "2025-10-06T22:36:33.339018Z"
    }
   },
   "cell_type": "code",
   "source": [
    "# Crear copias\n",
    "array_x = np.arange(10)\n",
    "print(array_x)\n",
    "\n",
    "copy_x = array_x[[1,2]]\n",
    "print(copy_x)\n",
    "\n",
    "array_x[1:3] = [10, 11]\n",
    "print(array_x)"
   ],
   "id": "3d340c1bf294ed98",
   "outputs": [
    {
     "name": "stdout",
     "output_type": "stream",
     "text": [
      "[0 1 2 3 4 5 6 7 8 9]\n",
      "[1 2]\n",
      "[ 0 10 11  3  4  5  6  7  8  9]\n"
     ]
    }
   ],
   "execution_count": 8
  }
 ],
 "metadata": {
  "kernelspec": {
   "display_name": "Python 3",
   "language": "python",
   "name": "python3"
  },
  "language_info": {
   "codemirror_mode": {
    "name": "ipython",
    "version": 2
   },
   "file_extension": ".py",
   "mimetype": "text/x-python",
   "name": "python",
   "nbconvert_exporter": "python",
   "pygments_lexer": "ipython2",
   "version": "2.7.6"
  }
 },
 "nbformat": 4,
 "nbformat_minor": 5
}
