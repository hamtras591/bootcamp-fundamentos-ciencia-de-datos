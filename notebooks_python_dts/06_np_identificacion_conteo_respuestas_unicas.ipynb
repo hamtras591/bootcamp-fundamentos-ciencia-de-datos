{
 "cells": [
  {
   "metadata": {},
   "cell_type": "markdown",
   "source": [
    "# Identificación y Conteo de Elementos Únicos en NumPy\n",
    "\n",
    "**Curso:** Python para Ciencia de Datos\n",
    "**Tema:** Análisis de frecuencias y gestión de memoria (vistas vs copias)\n",
    "**Fecha:** 06 de Octubre, 2025\n",
    "\n",
    "---"
   ],
   "id": "a6db367754e37fc"
  },
  {
   "metadata": {},
   "cell_type": "markdown",
   "source": [
    "## Introducción\n",
    "\n",
    "Al analizar datos, frecuentemente necesitamos:\n",
    "- Identificar valores únicos en un dataset\n",
    "- Contar cuántas veces aparece cada valor\n",
    "- Entender cómo NumPy maneja la memoria (vistas vs copias)\n",
    "\n",
    "Estas operaciones son fundamentales para análisis exploratorio de datos (EDA) y procesamiento eficiente."
   ],
   "id": "58ae1460e65e8a70"
  },
  {
   "metadata": {},
   "cell_type": "code",
   "source": "import numpy as np",
   "id": "ac8e74e69b24293",
   "outputs": [],
   "execution_count": null
  },
  {
   "metadata": {},
   "cell_type": "markdown",
   "source": [
    "---\n",
    "\n",
    "## 1. Identificación de Elementos Únicos\n",
    "\n",
    "### Caso de uso: Análisis de Opiniones de Clientes\n",
    "\n",
    "Imagina que recolectaste respuestas de una encuesta de satisfacción. Necesitas saber qué categorías existen."
   ],
   "id": "b5ddbf3fed0db04c"
  },
  {
   "metadata": {},
   "cell_type": "code",
   "source": [
    "# Respuestas de los clientes al producto\n",
    "survey_responses = np.array([\"bueno\", \"excelente\", \"malo\",\n",
    "                              \"bueno\", \"malo\", \"excelente\",\n",
    "                              \"bueno\", \"bueno\", \"malo\",\n",
    "                              \"excelente\"])\n",
    "\n",
    "print(\"Respuestas originales:\")\n",
    "print(survey_responses)\n",
    "print(\"\\nTotal de respuestas:\", len(survey_responses))"
   ],
   "id": "2dfb521fd5f37259",
   "outputs": [],
   "execution_count": null
  },
  {
   "metadata": {},
   "cell_type": "markdown",
   "source": [
    "### Método `np.unique()`\n",
    "\n",
    "Identifica todos los valores únicos en un array."
   ],
   "id": "dc76e182f024ac06"
  },
  {
   "metadata": {},
   "cell_type": "code",
   "source": [
    "# Obtener valores únicos\n",
    "unique_elements = np.unique(survey_responses)\n",
    "print(\"Categorías únicas encontradas:\")\n",
    "print(unique_elements)"
   ],
   "id": "aa145cc3f981b58f",
   "outputs": [],
   "execution_count": null
  },
  {
   "metadata": {},
   "cell_type": "markdown",
   "source": [
    "---\n",
    "\n",
    "## 2. Conteo de Frecuencias\n",
    "\n",
    "Además de identificar valores únicos, necesitamos saber **cuántas veces** aparece cada uno.\n",
    "\n",
    "### Parámetro `return_counts=True`\n",
    "\n",
    "Retorna dos arrays: elementos únicos y sus frecuencias."
   ],
   "id": "49e55d0370474b8e"
  },
  {
   "metadata": {},
   "cell_type": "code",
   "source": [
    "# Obtener valores únicos con conteos\n",
    "unique_elements, counts = np.unique(survey_responses, return_counts=True)\n",
    "\n",
    "print(\"Elementos únicos:\")\n",
    "print(unique_elements)\n",
    "print(\"\\nConteos:\")\n",
    "print(counts)\n",
    "\n",
    "# Visualización más clara\n",
    "print(\"\\n--- Resumen de Frecuencias ---\")\n",
    "for elemento, conteo in zip(unique_elements, counts):\n",
    "    print(f\"{elemento}: {conteo} veces\")"
   ],
   "id": "3d340c1bf294ed98",
   "outputs": [],
   "execution_count": null
  },
  {
   "metadata": {},
   "cell_type": "markdown",
   "source": [
    "---\n",
    "\n",
    "## 3. Vistas vs Copias en NumPy\n",
    "\n",
    "**Concepto crítico:** NumPy puede crear \"vistas\" (referencias) o \"copias\" (duplicados) de arrays.\n",
    "\n",
    "### ¿Qué es una Vista?\n",
    "\n",
    "Una vista es una **referencia al mismo espacio de memoria**. Modificar la vista modifica el array original.\n",
    "\n",
    "**Ventaja:** Ahorro de memoria\n",
    "**Riesgo:** Modificaciones no intencionales"
   ],
   "id": "288b6c689fb7384"
  },
  {
   "metadata": {},
   "cell_type": "code",
   "source": [
    "# Crear array original\n",
    "array_x = np.arange(10)\n",
    "print(\"Array original:\")\n",
    "print(array_x)\n",
    "\n",
    "# Crear una VISTA (slicing)\n",
    "vista_y = array_x[1:3]\n",
    "print(\"\\nVista (elementos 1-2):\")\n",
    "print(vista_y)"
   ],
   "id": "a4ab3d8a6761078b",
   "outputs": [],
   "execution_count": null
  },
  {
   "metadata": {},
   "cell_type": "markdown",
   "source": [
    "### Comportamiento de las Vistas\n",
    "\n",
    "Observa qué pasa cuando modificamos el array original:"
   ],
   "id": "15ad82321f3098ea"
  },
  {
   "metadata": {},
   "cell_type": "code",
   "source": [
    "# Modificar el array original\n",
    "array_x[1:3] = [10, 11]\n",
    "\n",
    "print(\"Array original después de modificar:\")\n",
    "print(array_x)\n",
    "\n",
    "print(\"\\nVista (¡también cambió!):\")\n",
    "print(vista_y)\n",
    "\n",
    "# IMPORTANTE: vista_y apunta a la misma memoria que array_x"
   ],
   "id": "5d98969497661f70",
   "outputs": [],
   "execution_count": null
  },
  {
   "metadata": {},
   "cell_type": "markdown",
   "source": [
    "**Explicación:** `vista_y` no es un array independiente, es una \"ventana\" al array original.\n",
    "\n",
    "Memoria: \\\n",
    "array_x: [0, 10, 11, 3, 4, 5, 6, 7, 8, 9] \\\n",
    "↑   ↑ \\\n",
    "vista_y apunta aquí"
   ],
   "id": "a333b7f4a7f353ee"
  },
  {
   "metadata": {},
   "cell_type": "markdown",
   "source": [
    "---\n",
    "\n",
    "## 4. Creación de Copias\n",
    "\n",
    "Para evitar modificaciones no deseadas, creamos **copias independientes**.\n",
    "\n",
    "### Método `.copy()`\n",
    "\n",
    "Crea un duplicado en memoria diferente."
   ],
   "id": "43d7fa3ef3bee62b"
  },
  {
   "metadata": {},
   "cell_type": "code",
   "source": [
    "# Reiniciar array\n",
    "array_x = np.arange(10)\n",
    "print(\"Array original:\")\n",
    "print(array_x)\n",
    "\n",
    "# Crear una COPIA (memoria independiente)\n",
    "copy_x = array_x[1:3].copy()\n",
    "print(\"\\nCopia (elementos 1-2):\")\n",
    "print(copy_x)"
   ],
   "id": "bcbc0b89a764e32b",
   "outputs": [],
   "execution_count": null
  },
  {
   "metadata": {},
   "cell_type": "code",
   "source": [
    "# Modificar el array original\n",
    "array_x[1:3] = [10, 11]\n",
    "\n",
    "print(\"Array original después de modificar:\")\n",
    "print(array_x)\n",
    "\n",
    "print(\"\\nCopia (NO cambió):\")\n",
    "print(copy_x)\n",
    "\n",
    "# IMPORTANTE: copy_x es independiente de array_x"
   ],
   "id": "50f6cd69069002a2",
   "outputs": [],
   "execution_count": null
  },
  {
   "metadata": {},
   "cell_type": "markdown",
   "source": [
    "---\n",
    "\n",
    "## Comparación: Vistas vs Copias\n",
    "\n",
    "| Aspecto | Vista | Copia |\n",
    "|---------|-------|-------|\n",
    "| Creación | `array[inicio:fin]` | `array[inicio:fin].copy()` |\n",
    "| Memoria | Comparte con original | Independiente |\n",
    "| Velocidad | Más rápida | Más lenta |\n",
    "| Modificaciones | Afectan al original | No afectan al original |\n",
    "| Uso | Cuando solo lees datos | Cuando modificarás sin afectar original |\n",
    "\n",
    "### ¿Cuándo usar cada una?\n",
    "\n",
    "**Usa vistas cuando:**\n",
    "- Solo lees datos (sin modificar)\n",
    "- Quieres ahorrar memoria\n",
    "- Trabajas con arrays muy grandes\n",
    "\n",
    "**Usa copias cuando:**\n",
    "- Vas a modificar los datos\n",
    "- Necesitas independencia total\n",
    "- Quieres evitar efectos secundarios"
   ],
   "id": "6a499c755054d3e2"
  },
  {
   "metadata": {},
   "cell_type": "markdown",
   "source": [
    "---\n",
    "\n",
    "## Indexación Avanzada: Siempre Copia\n",
    "\n",
    "**Importante:** Indexar con listas o arrays SIEMPRE crea una copia, no una vista."
   ],
   "id": "1fe57337d359ea51"
  },
  {
   "metadata": {},
   "cell_type": "code",
   "source": [
    "array_x = np.arange(10)\n",
    "\n",
    "# Indexación con lista (crea copia automáticamente)\n",
    "copy_x = array_x[[1, 2]]  # Nota los dobles corchetes\n",
    "print(\"Original:\")\n",
    "print(array_x)\n",
    "print(\"\\nIndexación con lista:\")\n",
    "print(copy_x)\n",
    "\n",
    "# Modificar original\n",
    "array_x[1:3] = [10, 11]\n",
    "\n",
    "print(\"\\nOriginal modificado:\")\n",
    "print(array_x)\n",
    "print(\"\\nIndexación con lista (NO cambió):\")\n",
    "print(copy_x)  # Es independiente porque indexar con lista siempre copia"
   ],
   "id": "200bc23ee11773e",
   "outputs": [],
   "execution_count": null
  },
  {
   "metadata": {},
   "cell_type": "markdown",
   "source": [
    "---\n",
    "\n",
    "## Resumen\n",
    "\n",
    "### Elementos Únicos y Conteos\n",
    "- `np.unique(array)` → Valores únicos\n",
    "- `np.unique(array, return_counts=True)` → Valores únicos + frecuencias\n",
    "\n",
    "### Vistas vs Copias\n",
    "- **Slicing (`[:]`)** → Vista (comparte memoria)\n",
    "- **`.copy()`** → Copia independiente\n",
    "- **Indexación con lista (`[[]]`)** → Siempre copia\n",
    "\n",
    "### Regla de Oro\n",
    "*\"Si vas a modificar, haz una copia. Si solo lees, usa vistas.\"*"
   ],
   "id": "6042bd70bf7a0c54"
  },
  {
   "metadata": {},
   "cell_type": "markdown",
   "source": [
    "---\n",
    "\n",
    "## Aplicaciones en Ciencia de Datos\n",
    "\n",
    "### Ejemplo 1: Análisis de Satisfacción del Cliente\n",
    "\n",
    "Calcular porcentajes y detectar categoría dominante."
   ],
   "id": "5778ab6c198a6fd7"
  },
  {
   "metadata": {},
   "cell_type": "code",
   "source": [
    "# Datos de ejemplo\n",
    "respuestas = np.array([\"bueno\", \"excelente\", \"malo\",\n",
    "                       \"bueno\", \"malo\", \"excelente\",\n",
    "                       \"bueno\", \"bueno\", \"malo\",\n",
    "                       \"excelente\", \"excelente\", \"bueno\"])\n",
    "\n",
    "# Análisis completo\n",
    "categorias, frecuencias = np.unique(respuestas, return_counts=True)\n",
    "total = len(respuestas)\n",
    "\n",
    "print(\"=== Análisis de Satisfacción ===\")\n",
    "for cat, freq in zip(categorias, frecuencias):\n",
    "    porcentaje = (freq / total) * 100\n",
    "    print(f\"{cat.capitalize()}: {freq} ({porcentaje:.1f}%)\")\n",
    "\n",
    "# Categoría más común\n",
    "indice_max = np.argmax(frecuencias)\n",
    "print(f\"\\nCategoría dominante: {categorias[indice_max]} ({frecuencias[indice_max]} votos)\")"
   ],
   "id": "637d397b60ad5e12",
   "outputs": [],
   "execution_count": null
  },
  {
   "metadata": {},
   "cell_type": "markdown",
   "source": [
    "### Ejemplo 2: Limpieza de Datos con Vistas\n",
    "\n",
    "Filtrar datos sin copiar (eficiente para datasets grandes)."
   ],
   "id": "c6f7c14b4ff800db"
  },
  {
   "metadata": {},
   "cell_type": "code",
   "source": [
    "# Dataset de edades\n",
    "edades = np.array([25, 30, -5, 45, 120, 18, 22, 35, 40])\n",
    "\n",
    "# Crear vista booleana (NO copia datos)\n",
    "edades_validas_mask = (edades >= 0) & (edades <= 100)\n",
    "\n",
    "# Filtrar usando la vista\n",
    "edades_limpias = edades[edades_validas_mask]\n",
    "\n",
    "print(\"Edades originales:\", edades)\n",
    "print(\"Máscara de validez:\", edades_validas_mask)\n",
    "print(\"Edades válidas:\", edades_limpias)\n",
    "print(\"\\nNota: Si el dataset fuera de 1 millón de filas,\")\n",
    "print(\"este enfoque ahorra mucha memoria.\")"
   ],
   "id": "83a041c63a08d607",
   "outputs": [],
   "execution_count": null
  },
  {
   "metadata": {},
   "cell_type": "markdown",
   "source": [
    "---\n",
    "\n",
    "## Ejercicios de Práctica"
   ],
   "id": "5028d810963a6a65"
  },
  {
   "metadata": {},
   "cell_type": "code",
   "source": [
    "# EJERCICIO 1: Análisis de Productos Vendidos\n",
    "# Tienes un array con nombres de productos vendidos en un día:\n",
    "productos = np.array([\"manzana\", \"naranja\", \"manzana\", \"plátano\",\n",
    "                      \"naranja\", \"manzana\", \"plátano\", \"manzana\"])\n",
    "\n",
    "# a) Identifica qué productos se vendieron\n",
    "# b) Cuenta cuántas unidades de cada producto\n",
    "# c) ¿Cuál es el producto más vendido?\n",
    "\n",
    "# Tu código aquí:\n",
    "\n",
    "producto, cantidades = np.unique(productos, return_counts=True)\n",
    "total_productos = len(productos)\n",
    "\n",
    "print(\"=== Productos Vendidos ===\")\n",
    "for prod, cant in zip(producto, cantidades):\n",
    "    print(f\"Producto {prod}: {cant} unidades\")\n",
    "\n",
    "index_max = np.argmax(cantidades)\n",
    "\n",
    "print(f\"El producto mas vendido fue {producto[index_max].capitalize()} con {cantidades[index_max]} unidades\")\n"
   ],
   "id": "82e9d2d0fe0c5ba0",
   "outputs": [],
   "execution_count": null
  },
  {
   "metadata": {},
   "cell_type": "code",
   "source": [
    "# EJERCICIO 2: Vista vs Copia\n",
    "# Crea un array de 1 a 10\n",
    "# a) Crea una vista de los elementos del 3 al 7\n",
    "# b) Modifica la vista sumándole 100 a cada elemento\n",
    "# c) Imprime el array original. ¿Qué pasó?\n",
    "# d) Ahora crea una COPIA de los elementos 3 al 7\n",
    "# e) Modifica la copia y verifica que el original no cambió\n",
    "\n",
    "# Tu código aquí:\n",
    "\n",
    "array_a = np.arange(1, 11)\n",
    "print(array)\n",
    "print('-' * 200)\n",
    "\n",
    "view_a = array_a[3:7]\n",
    "print(\"Vista (elementos 3-6):\")\n",
    "print(view_a)\n",
    "print('-' * 200)\n",
    "\n",
    "# view_a += 100\n",
    "# print(array_a)\n",
    "\n",
    "copy_a = array_a[3:7].copy()\n",
    "copy_a += 100\n",
    "print(array_a)\n",
    "print('-' * 200)\n",
    "print(copy_a)\n"
   ],
   "id": "3d7fc65200655955",
   "outputs": [],
   "execution_count": null
  },
  {
   "metadata": {
    "ExecuteTime": {
     "end_time": "2025-10-06T23:21:41.991237Z",
     "start_time": "2025-10-06T23:21:41.979420Z"
    }
   },
   "cell_type": "code",
   "source": [
    "# EJERCICIO 3: Categorización de Notas\n",
    "# Tienes calificaciones de 20 estudiantes (genera con randint entre 0-100)\n",
    "# a) Clasifica en categorías: \"Bajo\" (<60), \"Medio\" (60-80), \"Alto\" (>80)\n",
    "# b) Cuenta cuántos estudiantes hay en cada categoría\n",
    "# c) ¿Qué porcentaje de estudiantes aprobó (>=60)?\n",
    "\n",
    "# Pista: usa np.where() o indexación booleana para categorizar\n",
    "\n",
    "# Tu código aquí:\n",
    "\n",
    "np.random.seed(123)\n",
    "calificaciones_est = np.random.randint(0, 100, size=20)\n",
    "total_estudiantes = len(calificaciones_est)\n",
    "print(calificaciones_est)\n",
    "print(total_estudiantes)\n",
    "\n",
    "\n",
    "cat_baja = calificaciones_est < 60\n",
    "cat_medio = (calificaciones_est >= 60) & (calificaciones_est < 80)\n",
    "cat_alto = calificaciones_est >= 80\n",
    "\n",
    "print(f\"Estudiantes Bajo: {calificaciones_est[cat_baja].size}\")\n",
    "print(f\"Estudiantes Medio: {calificaciones_est[cat_medio].size}\")\n",
    "print(f\"Estudiantes Alto: {calificaciones_est[cat_alto].size}\")\n",
    "\n",
    "estudiantes_aprobados = len(calificaciones_est[cat_medio]) + len(calificaciones_est[cat_alto])\n",
    "print(f\"Los estudiantes que pasaron la matería fueron: {estudiantes_aprobados}\")\n",
    "porcentaje_aprobacion = estudiantes_aprobados / total_estudiantes\n",
    "print(f\"El porcentaje de los estudiantes aprobados es de: {porcentaje_aprobacion:.2f}\")\n"
   ],
   "id": "bec6089cdd8cb021",
   "outputs": [
    {
     "name": "stdout",
     "output_type": "stream",
     "text": [
      "[66 92 98 17 83 57 86 97 96 47 73 32 46 96 25 83 78 36 96 80]\n",
      "20\n",
      "Estudiantes Bajo: 7\n",
      "Estudiantes Medio: 3\n",
      "Estudiantes Alto: 10\n",
      "Los estudiantes que pasaron la matería fueron: 13\n",
      "El porcentaje de los estudiantes aprobados es de: 0.65\n"
     ]
    }
   ],
   "execution_count": 46
  },
  {
   "metadata": {
    "ExecuteTime": {
     "end_time": "2025-10-06T23:27:32.854601Z",
     "start_time": "2025-10-06T23:27:32.845328Z"
    }
   },
   "cell_type": "code",
   "source": [
    "# EJERCICIO 4: Optimización de Memoria\n",
    "# Crea un array gigante simulado de 100 elementos\n",
    "np.random.seed(123)\n",
    "datos = np.random.randint(1, 10, size=100)\n",
    "\n",
    "# a) Extrae solo los números pares usando una VISTA (mask booleana)\n",
    "# b) Calcula la suma de los pares SIN crear una copia\n",
    "# c) Verifica que no creaste copias innecesarias\n",
    "\n",
    "# Tu código aquí:\n",
    "\n",
    "# Archivo original\n",
    "print(datos)\n",
    "print('-' * 200)\n",
    "\n",
    "mask_bool = datos %2 == 0\n",
    "datos_v2 = np.sum(datos[mask_bool])\n",
    "print(datos_v2)\n",
    "print('-' * 200)\n",
    "# Verificando que no tenga copias innecesarias\n",
    "print(datos)"
   ],
   "id": "515f516a6c1aebe0",
   "outputs": [
    {
     "name": "stdout",
     "output_type": "stream",
     "text": [
      "[3 3 7 2 4 7 2 1 2 1 1 4 5 1 1 5 2 8 4 3 5 8 3 5 9 1 8 4 5 7 2 6 7 3 2 9 4\n",
      " 6 1 3 7 3 5 5 7 4 1 7 5 8 7 8 2 6 8 3 5 9 2 3 2 2 4 6 1 9 2 7 4 4 6 8 3 4\n",
      " 4 4 9 7 8 7 4 7 7 7 2 4 5 4 2 1 6 9 7 9 2 1 4 2 4 5]\n",
      "--------------------------------------------------------------------------------------------------------------------------------------------------------------------------------------------------------\n",
      "198\n",
      "--------------------------------------------------------------------------------------------------------------------------------------------------------------------------------------------------------\n",
      "[3 3 7 2 4 7 2 1 2 1 1 4 5 1 1 5 2 8 4 3 5 8 3 5 9 1 8 4 5 7 2 6 7 3 2 9 4\n",
      " 6 1 3 7 3 5 5 7 4 1 7 5 8 7 8 2 6 8 3 5 9 2 3 2 2 4 6 1 9 2 7 4 4 6 8 3 4\n",
      " 4 4 9 7 8 7 4 7 7 7 2 4 5 4 2 1 6 9 7 9 2 1 4 2 4 5]\n"
     ]
    }
   ],
   "execution_count": 53
  },
  {
   "metadata": {
    "ExecuteTime": {
     "end_time": "2025-10-06T23:40:23.558873Z",
     "start_time": "2025-10-06T23:40:23.543952Z"
    }
   },
   "cell_type": "code",
   "source": [
    "# EJERCICIO 5: Pipeline Completo de Análisis\n",
    "# Simula respuestas de encuesta de 50 personas con 3 opciones: A, B, C\n",
    "# (Usa np.random.choice(['A', 'B', 'C'], size=50))\n",
    "#\n",
    "# a) Identifica opciones únicas y sus frecuencias\n",
    "# b) Calcula el porcentaje de cada opción\n",
    "# c) Crea un array booleano que indique si ganó la opción mayoritaria\n",
    "# d) Extrae las respuestas minoritarias (las que NO son la más votada)\n",
    "\n",
    "# Tu código aquí:\n",
    "\n",
    "\n",
    "np.random.seed(123)\n",
    "respuestas_encuesta = np.random.choice(['A', 'B', 'C'], size=50)\n",
    "print(respuestas_encuesta)\n",
    "\n",
    "resp, frecu = np.unique(respuestas_encuesta, return_counts=True)\n",
    "total = len(respuestas_encuesta)\n",
    "\n",
    "print(\"=== Productos Vendidos ===\")\n",
    "for respuestas, cantidades in zip(resp, frecu):\n",
    "    porcentaje = (cantidades / total) * 100\n",
    "    print(f\"Respuesta {respuestas}: {cantidades} votos, con un porcentaje de {porcentaje:.2f}%\")\n",
    "\n",
    "print('-' * 200)\n",
    "# respuesta más votada\n",
    "max_respuesta = np.argmax(frecu)\n",
    "respuesta_ganadora = resp[max_respuesta]\n",
    "cantidad_ganadora = frecu[max_respuesta]\n",
    "\n",
    "# c) Array booleano indicando si cada respuesta es la ganadora\n",
    "es_ganadora = respuestas_encuesta == respuesta_ganadora\n",
    "print(\"\\nArray booleano (True = ganadora):\")\n",
    "print(es_ganadora)\n",
    "\n",
    "# d) Extraer respuestas minoritarias (las que NO son la ganadora)\n",
    "respuestas_minoritarias = respuestas_encuesta[~es_ganadora]\n",
    "print(\"\\nRespuestas minoritarias:\")\n",
    "print(respuestas_minoritarias)\n",
    "print(f\"Total de respuestas no ganadoras: {len(respuestas_minoritarias)}\")\n",
    "\n",
    "# Extra: Detalle de minoritarias\n",
    "minoritarias_unicas, minoritarias_conteo = np.unique(respuestas_minoritarias, return_counts=True)\n",
    "print(\"\\nDistribución de respuestas minoritarias:\")\n",
    "for resp, cant in zip(minoritarias_unicas, minoritarias_conteo):\n",
    "    print(f\"{resp}: {cant} votos\")"
   ],
   "id": "ff13fb3c3a73ab43",
   "outputs": [
    {
     "name": "stdout",
     "output_type": "stream",
     "text": [
      "['C' 'B' 'C' 'C' 'A' 'C' 'C' 'B' 'C' 'B' 'C' 'B' 'A' 'B' 'C' 'B' 'A' 'C'\n",
      " 'A' 'B' 'C' 'B' 'A' 'A' 'A' 'A' 'B' 'C' 'A' 'C' 'A' 'A' 'B' 'A' 'B' 'A'\n",
      " 'A' 'A' 'C' 'B' 'B' 'C' 'C' 'C' 'B' 'A' 'A' 'C' 'B' 'A']\n",
      "=== Productos Vendidos ===\n",
      "Respuesta A: 18 votos, con un porcentaje de 36.00%\n",
      "Respuesta B: 15 votos, con un porcentaje de 30.00%\n",
      "Respuesta C: 17 votos, con un porcentaje de 34.00%\n",
      "--------------------------------------------------------------------------------------------------------------------------------------------------------------------------------------------------------\n",
      "\n",
      "Array booleano (True = ganadora):\n",
      "[False False False False  True False False False False False False False\n",
      "  True False False False  True False  True False False False  True  True\n",
      "  True  True False False  True False  True  True False  True False  True\n",
      "  True  True False False False False False False False  True  True False\n",
      " False  True]\n",
      "\n",
      "Respuestas minoritarias:\n",
      "['C' 'B' 'C' 'C' 'C' 'C' 'B' 'C' 'B' 'C' 'B' 'B' 'C' 'B' 'C' 'B' 'C' 'B'\n",
      " 'B' 'C' 'C' 'B' 'B' 'C' 'B' 'B' 'C' 'C' 'C' 'B' 'C' 'B']\n",
      "Total de respuestas no ganadoras: 32\n",
      "\n",
      "Distribución de respuestas minoritarias:\n",
      "B: 15 votos\n",
      "C: 17 votos\n"
     ]
    }
   ],
   "execution_count": 70
  }
 ],
 "metadata": {
  "kernelspec": {
   "display_name": "Python 3",
   "language": "python",
   "name": "python3"
  },
  "language_info": {
   "codemirror_mode": {
    "name": "ipython",
    "version": 2
   },
   "file_extension": ".py",
   "mimetype": "text/x-python",
   "name": "python",
   "nbconvert_exporter": "python",
   "pygments_lexer": "ipython2",
   "version": "2.7.6"
  }
 },
 "nbformat": 4,
 "nbformat_minor": 5
}
