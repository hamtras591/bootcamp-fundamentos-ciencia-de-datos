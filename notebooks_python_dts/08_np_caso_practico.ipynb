{
 "cells": [
  {
   "cell_type": "code",
   "id": "initial_id",
   "metadata": {
    "collapsed": true,
    "ExecuteTime": {
     "end_time": "2025-10-07T15:23:45.142663Z",
     "start_time": "2025-10-07T15:23:44.951255Z"
    }
   },
   "source": [
    "import numpy as np\n",
    "\n",
    "# Paso 1: Crear arrays con datos de ventas mensuales\n",
    "meses = np.array(['Enero', 'Febrero', 'Marzo', 'Abril', 'Mayo', 'Junio',\n",
    "                  'Julio', 'Agosto', 'Septiembre', 'Octubre', 'Noviembre', 'Diciembre'])\n",
    "ventas_A = np.array([150, 200, 250, 300, 220, 210, 180, 190, 230, 240, 280, 300])\n",
    "ventas_B = np.array([180, 210, 230, 250, 270, 260, 240, 250, 270, 290, 310, 330])\n",
    "ventas_C = np.array([200, 220, 240, 260, 280, 300, 320, 340, 360, 380, 400, 420])"
   ],
   "outputs": [],
   "execution_count": 1
  },
  {
   "metadata": {
    "ExecuteTime": {
     "end_time": "2025-10-07T15:25:11.119263Z",
     "start_time": "2025-10-07T15:25:11.103264Z"
    }
   },
   "cell_type": "code",
   "source": [
    "# Paso 2: Transformaciones básicas con NumPy\n",
    "# Estadísticas básicas\n",
    "media_A = np.mean(ventas_A)\n",
    "suma_A = np.sum(ventas_A)\n",
    "media_B = np.mean(ventas_B)\n",
    "suma_B = np.sum(ventas_B)\n",
    "media_C = np.mean(ventas_C)\n",
    "suma_C = np.sum(ventas_C)\n",
    "\n",
    "print(f\"Media de ventas Producto A: {media_A}\")\n",
    "print(f\"Suma de ventas Producto A: {suma_A}\")\n",
    "print(f\"Media de ventas Producto B: {media_B}\")\n",
    "print(f\"Suma de ventas Producto B: {suma_B}\")\n",
    "print(f\"Media de ventas Producto C: {media_C}\")\n",
    "print(f\"Suma de ventas Producto C: {suma_C}\")"
   ],
   "id": "2206e8d2ac42ff16",
   "outputs": [
    {
     "name": "stdout",
     "output_type": "stream",
     "text": [
      "Media de ventas Producto A: 229.16666666666666\n",
      "Suma de ventas Producto A: 2750\n",
      "Media de ventas Producto B: 257.5\n",
      "Suma de ventas Producto B: 3090\n",
      "Media de ventas Producto C: 310.0\n",
      "Suma de ventas Producto C: 3720\n"
     ]
    }
   ],
   "execution_count": 2
  },
  {
   "metadata": {
    "ExecuteTime": {
     "end_time": "2025-10-07T15:34:47.720986Z",
     "start_time": "2025-10-07T15:34:47.709594Z"
    }
   },
   "cell_type": "code",
   "source": [
    "# Paso 3: Manipulación y análisis de datos\n",
    "# Calcular el total de ventas por mes\n",
    "total_ventas_por_mes = ventas_A + ventas_B + ventas_C\n",
    "\n",
    "# Calcular el promedio de ventas por producto\n",
    "promedio_ventas_productos = np.array([media_A, media_B, media_C])\n",
    "\n",
    "# Identificar el mes con mayor y menor ventas\n",
    "mes_mayor_ventas = meses[np.argmax(total_ventas_por_mes)]\n",
    "mes_menor_ventas = meses[np.argmin(total_ventas_por_mes)]\n",
    "\n",
    "print(\"Total de ventas por mes:\", total_ventas_por_mes)\n",
    "print(\"Promedio de ventas por producto:\", promedio_ventas_productos)\n",
    "print(f\"Mes con mayor ventas: {mes_mayor_ventas}\")\n",
    "print(f\"Mes con menor ventas: {mes_menor_ventas}\")"
   ],
   "id": "f9af8c652a0fab6a",
   "outputs": [
    {
     "name": "stdout",
     "output_type": "stream",
     "text": [
      "Total de ventas por mes: [ 530  630  720  810  770  770  740  780  860  910  990 1050]\n",
      "Promedio de ventas por producto: [229.16666667 257.5        310.        ]\n",
      "Mes con mayor ventas: Diciembre\n",
      "Mes con menor ventas: Enero\n"
     ]
    }
   ],
   "execution_count": 3
  },
  {
   "metadata": {},
   "cell_type": "code",
   "outputs": [],
   "execution_count": null,
   "source": [
    "\n",
    "# Paso 4: Operaciones avanzadas con NumPy\n",
    "# Reshape y Transposición\n",
    "ventas_matrix = np.array([ventas_A, ventas_B, ventas_C])\n",
    "ventas_reshaped = ventas_matrix.reshape(3, 4, 3)\n",
    "ventas_transposed = ventas_matrix.T\n",
    "\n",
    "print(\"Ventas Matrix:\\n\", ventas_matrix)\n",
    "print(\"Ventas Reshaped (3, 4, 3):\\n\", ventas_reshaped)\n",
    "print(\"Ventas Transposed:\\n\", ventas_transposed)\n",
    "\n",
    "# Invertir arrays y aplanar matrices\n",
    "ventas_inverted = ventas_matrix[:, ::-1]\n",
    "ventas_flattened = ventas_matrix.flatten()\n",
    "\n",
    "print(\"Ventas Invertidas:\\n\", ventas_inverted)\n",
    "print(\"Ventas Aplanadas:\\n\", ventas_flattened)"
   ],
   "id": "588231c16df49e21"
  },
  {
   "metadata": {},
   "cell_type": "code",
   "outputs": [],
   "execution_count": null,
   "source": [
    "# Paso 5: Análisis de elementos únicos y sus conteos\n",
    "unique_ventas, counts_ventas = np.unique(ventas_flattened, return_counts=True)\n",
    "print(\"Elementos únicos en las ventas:\", unique_ventas)\n",
    "print(\"Conteos de elementos únicos en las ventas:\", counts_ventas)"
   ],
   "id": "5f29b415c11d069d"
  },
  {
   "metadata": {},
   "cell_type": "code",
   "outputs": [],
   "execution_count": null,
   "source": [
    "\n",
    "# Paso 6: Indexación y slicing\n",
    "# Seleccionar ventas del primer trimestre\n",
    "ventas_primer_trimestre = ventas_matrix[:, :3]\n",
    "print(\"Ventas del primer trimestre:\\n\", ventas_primer_trimestre)\n",
    "\n",
    "# Indexación booleana para seleccionar meses con ventas totales superiores a 800\n",
    "meses_altas_ventas = meses[total_ventas_por_mes > 800]\n",
    "ventas_altas = total_ventas_por_mes[total_ventas_por_mes > 800]\n",
    "print(\"Meses con ventas totales superiores a 800:\", meses_altas_ventas)\n",
    "print(\"Ventas totales superiores a 800:\", ventas_altas)\n",
    "\n",
    "# Selección avanzada\n",
    "indices = [0, 2, 4, 6, 8, 10]\n",
    "ventas_indices_seleccionados = ventas_matrix[:, indices]\n",
    "print(\"Ventas en meses seleccionados:\\n\", ventas_indices_seleccionados)"
   ],
   "id": "5356b0d2453367d6"
  }
 ],
 "metadata": {
  "kernelspec": {
   "display_name": "Python 3",
   "language": "python",
   "name": "python3"
  },
  "language_info": {
   "codemirror_mode": {
    "name": "ipython",
    "version": 2
   },
   "file_extension": ".py",
   "mimetype": "text/x-python",
   "name": "python",
   "nbconvert_exporter": "python",
   "pygments_lexer": "ipython2",
   "version": "2.7.6"
  }
 },
 "nbformat": 4,
 "nbformat_minor": 5
}
