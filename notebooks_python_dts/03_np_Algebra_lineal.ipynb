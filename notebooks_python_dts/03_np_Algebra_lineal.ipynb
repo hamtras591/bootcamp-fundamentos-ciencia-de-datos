{
 "cells": [
  {
   "metadata": {},
   "cell_type": "markdown",
   "source": [
    "# Álgebra Lineal con NumPy\n",
    "\n",
    "**Curso:** Python para Ciencia de Datos\n",
    "**Tema:** Operaciones de Álgebra Lineal\n",
    "**Fecha:** 03 de Octubre, 2025\n",
    "\n",
    "---"
   ],
   "id": "c0aed10adf54f2c7"
  },
  {
   "metadata": {},
   "cell_type": "markdown",
   "source": [
    "## Introducción\n",
    "\n",
    "El álgebra lineal es una rama fundamental de las matemáticas que se centra en el estudio de los vectores, las matrices y las transformaciones lineales. NumPy proporciona herramientas para resolver sistemas de ecuaciones lineales, realizar transformaciones geométricas y modelar problemas en diversas áreas de la ciencia y la ingeniería.\n",
    "\n",
    "### Aplicaciones\n",
    "\n",
    "- Gráficos por computadora\n",
    "- Procesamiento de imágenes\n",
    "- Machine Learning\n",
    "- Física y simulaciones\n",
    "- Optimización de sistemas complejos"
   ],
   "id": "63dc9ed1cd528aa9"
  },
  {
   "metadata": {},
   "cell_type": "code",
   "source": "import numpy as np",
   "id": "ba70787d1d491c81",
   "outputs": [],
   "execution_count": null
  },
  {
   "metadata": {},
   "cell_type": "markdown",
   "source": [
    "## Conceptos Básicos\n",
    "\n",
    "### Vectores\n",
    "Objetos que tienen magnitud y dirección. Se representan como una lista de números (coordenadas).\n",
    "\n",
    "### Matrices\n",
    "Arreglos bidimensionales de números que representan transformaciones lineales.\n",
    "\n",
    "### Transformaciones Lineales\n",
    "Funciones que toman vectores como entrada y producen otros vectores, respetando suma y multiplicación por escalar.\n",
    "\n",
    "### Espacios Vectoriales\n",
    "Conjuntos de vectores que pueden sumarse entre sí y multiplicarse por escalares."
   ],
   "id": "904958071f8b7dc1"
  },
  {
   "metadata": {},
   "cell_type": "markdown",
   "source": [
    "---\n",
    "\n",
    "## 1. Suma de Matrices\n",
    "\n",
    "La suma de matrices se realiza **elemento por elemento**. Ambas matrices deben tener las mismas dimensiones.\n",
    "\n",
    "**Ejemplo:**\n",
    "\n",
    "$$ \\underbrace{\\begin{bmatrix} 1 & 2 \\\\ 3 & 4 \\end{bmatrix}}_{A} + \\underbrace{\\begin{bmatrix} 5 & 6 \\\\ 7 & 8 \\end{bmatrix}}_{B} = \\begin{bmatrix} 1+5 & 2+6 \\\\ 3+7 & 4+8 \\end{bmatrix} = \\begin{bmatrix} 6 & 8 \\\\ 10 & 12 \\end{bmatrix} $$"
   ],
   "id": "95f5eeb5cf52f029"
  },
  {
   "metadata": {
    "collapsed": true
   },
   "cell_type": "code",
   "source": [
    "# Definir dos matrices\n",
    "A = np.array([[1, 2], [3, 4]])\n",
    "B = np.array([[5, 6], [7, 8]])\n",
    "\n",
    "# Suma de matrices\n",
    "suma = A + B\n",
    "print(\"Matriz A:\\n\", A)\n",
    "print(\"\\nMatriz B:\\n\", B)\n",
    "print(\"\\nSuma A + B:\\n\", suma)"
   ],
   "id": "c017580155fc3974",
   "outputs": [],
   "execution_count": null
  },
  {
   "metadata": {},
   "cell_type": "markdown",
   "source": [
    "---\n",
    "\n",
    "## 2. Multiplicación de Matrices\n",
    "\n",
    "La multiplicación de matrices combina **filas de la primera matriz con columnas de la segunda**.\n",
    "\n",
    "**Importante:** El número de columnas de A debe ser igual al número de filas de B.\n",
    "\n",
    "**Fórmula:**\n",
    "- Resultado[i,j] = suma de (A[i,:] * B[:,j])"
   ],
   "id": "6e02fa74aa9b828f"
  },
  {
   "metadata": {},
   "cell_type": "code",
   "source": [
    "# Multiplicación de matrices (dot product)\n",
    "producto = np.dot(A, B)\n",
    "print(\"Producto A · B:\\n\", producto)\n",
    "\n",
    "# Alternativa (Python 3.5+)\n",
    "producto_alt = A @ B\n",
    "print(\"\\nProducto A @ B (mismo resultado):\\n\", producto_alt)"
   ],
   "id": "c5bb60cfd222dfdd",
   "outputs": [],
   "execution_count": null
  },
  {
   "metadata": {},
   "cell_type": "markdown",
   "source": [
    "---\n",
    "\n",
    "## 3. Transposición de Matrices\n",
    "\n",
    "La transposición intercambia **filas por columnas**.\n",
    "\n",
    "**Ejemplo:**\n",
    "\n",
    "$$ A = \\begin{bmatrix} 1 & 2 \\\\ 3 & 4 \\end{bmatrix} \\quad A^T = \\begin{bmatrix} 1 & 3 \\\\ 2 & 4 \\end{bmatrix} $$"
   ],
   "id": "fb58accc9c6a4605"
  },
  {
   "metadata": {},
   "cell_type": "code",
   "source": [
    "# Transposición\n",
    "transpuesta = A.T\n",
    "print(\"Matriz A:\\n\", A)\n",
    "print(\"\\nTranspuesta A^T:\\n\", transpuesta)"
   ],
   "id": "c90d0f5d3b91898d",
   "outputs": [],
   "execution_count": null
  },
  {
   "metadata": {},
   "cell_type": "markdown",
   "source": [
    "---\n",
    "\n",
    "## 4. Determinante de una Matriz\n",
    "\n",
    "El determinante es un valor único calculado a partir de una **matriz cuadrada**.\n",
    "\n",
    "**Para matriz 2x2:**\n",
    "\n",
    "$$ \\det(A) = (a \\cdot d) - (b \\cdot c) $$\n",
    "\n",
    "**Utilidad:**\n",
    "- Si det = 0, la matriz no tiene inversa\n",
    "- Indica si un sistema de ecuaciones tiene solución única"
   ],
   "id": "10f80fc913eb5ff5"
  },
  {
   "metadata": {},
   "cell_type": "code",
   "source": [
    "# Determinante\n",
    "determinante = np.linalg.det(A)\n",
    "print(\"Determinante de A:\", determinante)\n",
    "print(\"\\n¿A tiene inversa?:\", determinante != 0)"
   ],
   "id": "30ad7b74182cfc8",
   "outputs": [],
   "execution_count": null
  },
  {
   "metadata": {},
   "cell_type": "markdown",
   "source": [
    "---\n",
    "\n",
    "## 5. Inversa de una Matriz\n",
    "\n",
    "La matriz inversa A^(-1) cumple que: **A · A^(-1) = I** (matriz identidad)\n",
    "\n",
    "**Solo existe si det(A) ≠ 0**"
   ],
   "id": "2795fa23dd222d9a"
  },
  {
   "metadata": {},
   "cell_type": "code",
   "source": [
    "# Inversa de la matriz\n",
    "inversa = np.linalg.inv(A)\n",
    "print(\"Matriz A:\\n\", A)\n",
    "print(\"\\nInversa A^(-1):\\n\", inversa)\n",
    "\n",
    "# Verificación: A · A^(-1) = I\n",
    "verificacion = np.dot(A, inversa)\n",
    "print(\"\\nVerificación A · A^(-1) ≈ I:\\n\", np.round(verificacion, 10))"
   ],
   "id": "53e7b826c701a52d",
   "outputs": [],
   "execution_count": null
  },
  {
   "metadata": {},
   "cell_type": "markdown",
   "source": [
    "---\n",
    "\n",
    "## 6. Valores y Vectores Propios\n",
    "\n",
    "**Valores propios (eigenvalues):** Escalares λ que satisfacen: A·v = λ·v\n",
    "\n",
    "**Vectores propios (eigenvectors):** Vectores v que solo cambian de escala al aplicar A\n",
    "\n",
    "**Aplicaciones:**\n",
    "- Compresión de datos (PCA)\n",
    "- Análisis de sistemas dinámicos\n",
    "- Reconocimiento facial"
   ],
   "id": "d304f55565741102"
  },
  {
   "metadata": {},
   "cell_type": "code",
   "source": [
    "# Valores y vectores propios\n",
    "valores_propios, vectores_propios = np.linalg.eig(A)\n",
    "\n",
    "print(\"Valores propios de A:\\n\", valores_propios)\n",
    "print(\"\\nVectores propios de A:\\n\", vectores_propios)"
   ],
   "id": "5f7197b3c41e5043",
   "outputs": [],
   "execution_count": null
  },
  {
   "metadata": {},
   "cell_type": "markdown",
   "source": [
    "---\n",
    "\n",
    "## 7. Resolución de Sistemas de Ecuaciones Lineales\n",
    "\n",
    "Resolver sistemas del tipo: **A·X = B**\n",
    "\n",
    "**Ejemplo:**\n",
    "\n",
    "$$ \\begin{cases} x + 2y = 1 \\\\ 3x + 4y = 2 \\end{cases} $$\n",
    "\n",
    "**Se representa como:**\n",
    "\n",
    "$$ \\begin{bmatrix} 1 & 2 \\\\ 3 & 4 \\end{bmatrix} \\cdot \\begin{bmatrix} x \\\\ y \\end{bmatrix} = \\begin{bmatrix} 1 \\\\ 2 \\end{bmatrix} $$\n"
   ],
   "id": "8db50e581c2ac7e8"
  },
  {
   "metadata": {},
   "cell_type": "code",
   "source": [
    "# Sistema de ecuaciones: A·X = B\n",
    "B = np.array([1, 2])\n",
    "\n",
    "# Resolver para X\n",
    "X = np.linalg.solve(A, B)\n",
    "print(\"Sistema: A·X = B\")\n",
    "print(\"Matriz A:\\n\", A)\n",
    "print(\"\\nVector B:\", B)\n",
    "print(\"\\nSolución X:\", X)\n",
    "\n",
    "# Verificación\n",
    "verificacion = np.dot(A, X)\n",
    "print(\"\\nVerificación A·X =\", verificacion, \"(debe ser igual a B)\")"
   ],
   "id": "bf5a20b293472228",
   "outputs": [],
   "execution_count": null
  },
  {
   "metadata": {},
   "cell_type": "markdown",
   "source": [
    "---\n",
    "\n",
    "## Resumen de Funciones NumPy para Álgebra Lineal\n",
    "\n",
    "| Operación | Función | Ejemplo |\n",
    "|-----------|---------|---------|\n",
    "| Suma | `A + B` | Suma elemento por elemento |\n",
    "| Producto | `np.dot(A, B)` o `A @ B` | Multiplicación matricial |\n",
    "| Transpuesta | `A.T` | Intercambio filas/columnas |\n",
    "| Determinante | `np.linalg.det(A)` | Valor escalar |\n",
    "| Inversa | `np.linalg.inv(A)` | A^(-1) |\n",
    "| Valores propios | `np.linalg.eig(A)` | Eigenvalues y eigenvectors |\n",
    "| Resolver sistema | `np.linalg.solve(A, B)` | A·X = B |\n",
    "\n",
    "**Próximos pasos:** Aplicar álgebra lineal en transformaciones geométricas y machine learning."
   ],
   "id": "f8d3d4af88da0944"
  },
  {
   "metadata": {},
   "cell_type": "markdown",
   "source": [
    "---\n",
    "\n",
    "## Ejercicios de Práctica\n",
    "\n",
    "Resuelve los siguientes ejercicios para consolidar tu aprendizaje:"
   ],
   "id": "5ed610a3e6bbe936"
  },
  {
   "metadata": {},
   "cell_type": "code",
   "source": [
    "# EJERCICIO 1: Operaciones Básicas\n",
    "# Dadas las matrices:\n",
    "C = np.array([[2, 0], [1, 3]])\n",
    "D = np.array([[1, 4], [2, 1]])\n",
    "\n",
    "# Calcula:\n",
    "# a) C + D\n",
    "# b) C - D\n",
    "# c) 3 * C (multiplicación por escalar)\n",
    "# d) C · D (producto matricial)\n",
    "\n",
    "# Tu código aquí:\n",
    "\n",
    "# Suma de matrices\n",
    "suma = C + D\n",
    "print(\"Matriz C:\\n\", C)\n",
    "print(\"\\nMatriz D:\\n\", D)\n",
    "print(\"\\nSuma C + D:\\n\", suma)\n",
    "print('-' * 200)\n",
    "\n",
    "# Resta de matrices\n",
    "resta = C - D\n",
    "print(\"\\nResta C - D:\\n\", resta)\n",
    "print('-' * 200)\n",
    "\n",
    "# Multiplicación de escalar con matriz (dot product)\n",
    "producto_escalar = np.dot(3, C)\n",
    "print(\"Producto 3 · C:\\n\", producto_escalar)\n",
    "\n",
    "# Multiplicación de matrices (dot product)\n",
    "producto_matricial = np.dot(C, D)\n",
    "print(\"Producto C · D:\\n\", producto_matricial)\n"
   ],
   "id": "129e062a7b6b9409",
   "outputs": [],
   "execution_count": null
  },
  {
   "metadata": {},
   "cell_type": "code",
   "source": [
    "# EJERCICIO 2: Propiedades de la Transposición\n",
    "# Dada la matriz:\n",
    "E = np.array([[1, 2, 3], [4, 5, 6]])\n",
    "\n",
    "# Verifica las siguientes propiedades:\n",
    "# a) (E^T)^T = E (la transpuesta de la transpuesta es la matriz original)\n",
    "# b) Imprime las dimensiones de E y E^T\n",
    "# c) ¿Qué pasa si intentas multiplicar E · E? ¿Y E · E^T?\n",
    "\n",
    "# Tu código aquí:\n",
    "\n",
    "print(f'Matriz E:\\n{E}')\n",
    "print('-' * 200)\n",
    "\n",
    "Transpuesta_de_tranpuesta_E = (E.T).T\n",
    "print(f'Transpuesta de la transpuesta de la matriz E es:\\n{Transpuesta_de_tranpuesta_E}')\n",
    "print('-' * 200)\n",
    "\n",
    "Transpuesta_E = E.T\n",
    "print(f'Transpuesta de la matriz E es:\\n{Transpuesta_E}')\n",
    "print('-' * 200)\n",
    "\n",
    "print(f'Dimensiones de E: {E.shape}')\n",
    "print(f'Dimensiones de E^T: {Transpuesta_E.shape}')\n",
    "print('-' * 200)\n",
    "\n",
    "'''\n",
    "#! No te deja obtener el producto matricial entre E y E\n",
    "producto_matricial_E = np.dot(E, E)\n",
    "print(f\"Producto matricial entre E y E:\\n{producto_matricial_E}\")\n",
    "'''\n",
    "\n",
    "#! Si dejo hacer la multiplicación de matrices, sin embargo, porque la matriz del primer atributo tiene la misma cantidad de filas que la matriz del segundo atributo\n",
    "producto_matricial = np.dot(E, Transpuesta_E)\n",
    "print(f\"Producto matricial entre E y E^T:\\n{producto_matricial}\")\n"
   ],
   "id": "178cf1a1ad76851e",
   "outputs": [],
   "execution_count": null
  },
  {
   "metadata": {
    "ExecuteTime": {
     "end_time": "2025-10-03T23:10:19.664473Z",
     "start_time": "2025-10-03T23:10:19.649366Z"
    }
   },
   "cell_type": "code",
   "source": [
    "# EJERCICIO 3: Determinante e Inversa\n",
    "# Dada la matriz:\n",
    "F = np.array([[4, 7], [2, 6]])\n",
    "G = np.array([[1, 2], [2, 4]])\n",
    "\n",
    "# a) Calcula el determinante de F\n",
    "# b) Si det(F) ≠ 0, calcula la inversa\n",
    "# c) Verifica que F · F^(-1) = I (matriz identidad)\n",
    "# d) ¿Qué pasa si intentas calcular la inversa de [[1, 2], [2, 4]]?\n",
    "#    (Pista: primero calcula su determinante)\n",
    "\n",
    "# Tu código aquí:\n",
    "\n",
    "# Determinante\n",
    "determinante = np.linalg.det(F)\n",
    "print(\"Determinante de F:\", determinante)\n",
    "print(\"\\n¿F tiene inversa?:\", determinante != 0)\n",
    "print('-' * 200)\n",
    "\n",
    "# Inversa de F ya que la determinante es != a 0\n",
    "\n",
    "# Inversa de la matriz\n",
    "inversa = np.linalg.inv(F)\n",
    "print(\"Matriz F:\\n\", F)\n",
    "print(\"\\nInversa F^(-1):\\n\", inversa)\n",
    "print('-' * 200)\n",
    "\n",
    "# Verificación: F · F^(-1) = I\n",
    "verificacion = np.dot(F, inversa)\n",
    "print(\"\\nVerificación F · F^(-1) ≈ I:\\n\", np.round(verificacion, 10))\n",
    "print('-' * 200)\n",
    "\n",
    "# Verificando el punto D .. Para ello cree la matriz G\n",
    "# Determinante\n",
    "determinante = np.linalg.det(G)\n",
    "print(\"Determinante de G:\", determinante)\n",
    "print(\"\\n¿G tiene inversa?:\", determinante != 0)\n",
    "print('-' * 200)\n",
    "\n",
    "\n",
    "'''\n",
    "# Inversa de la matriz\n",
    "inversa = np.linalg.inv(G)\n",
    "print(\"Matriz G:\\n\", G)\n",
    "print(\"\\nInversa G^(-1):\\n\", inversa)\n",
    "print('-' * 200)\n",
    "'''\n",
    "# Identificamos que no se puede calcular, puesto a que es una matriz Singular, adicional que su determinante es igual a 0"
   ],
   "id": "3cbe8f09408821aa",
   "outputs": [
    {
     "name": "stdout",
     "output_type": "stream",
     "text": [
      "Determinante de F: 10.000000000000002\n",
      "\n",
      "¿F tiene inversa?: True\n",
      "--------------------------------------------------------------------------------------------------------------------------------------------------------------------------------------------------------\n",
      "Matriz F:\n",
      " [[4 7]\n",
      " [2 6]]\n",
      "\n",
      "Inversa F^(-1):\n",
      " [[ 0.6 -0.7]\n",
      " [-0.2  0.4]]\n",
      "--------------------------------------------------------------------------------------------------------------------------------------------------------------------------------------------------------\n",
      "\n",
      "Verificación F · F^(-1) ≈ I:\n",
      " [[ 1. -0.]\n",
      " [ 0.  1.]]\n",
      "--------------------------------------------------------------------------------------------------------------------------------------------------------------------------------------------------------\n",
      "Determinante de G: 0.0\n",
      "\n",
      "¿G tiene inversa?: False\n",
      "--------------------------------------------------------------------------------------------------------------------------------------------------------------------------------------------------------\n"
     ]
    },
    {
     "data": {
      "text/plain": [
       "'\\n# Inversa de la matriz\\ninversa = np.linalg.inv(G)\\nprint(\"Matriz G:\\n\", G)\\nprint(\"\\nInversa G^(-1):\\n\", inversa)\\nprint(\\'-\\' * 200)\\n'"
      ]
     },
     "execution_count": 37,
     "metadata": {},
     "output_type": "execute_result"
    }
   ],
   "execution_count": 37
  }
 ],
 "metadata": {
  "kernelspec": {
   "display_name": "Python 3",
   "language": "python",
   "name": "python3"
  },
  "language_info": {
   "codemirror_mode": {
    "name": "ipython",
    "version": 2
   },
   "file_extension": ".py",
   "mimetype": "text/x-python",
   "name": "python",
   "nbconvert_exporter": "python",
   "pygments_lexer": "ipython2",
   "version": "2.7.6"
  }
 },
 "nbformat": 4,
 "nbformat_minor": 5
}
