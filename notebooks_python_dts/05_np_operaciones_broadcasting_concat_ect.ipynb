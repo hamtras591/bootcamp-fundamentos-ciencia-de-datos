{
 "cells": [
  {
   "metadata": {},
   "cell_type": "markdown",
   "source": [
    "# Operaciones Avanzadas en NumPy\n",
    "\n",
    "**Curso:** Python para Ciencia de Datos\n",
    "**Tema:** Broadcasting, Concatenación y División de Arrays\n",
    "**Fecha:** 06 de Octubre, 2025\n",
    "\n",
    "---"
   ],
   "id": "9c4aa245185230d"
  },
  {
   "metadata": {},
   "cell_type": "markdown",
   "source": [
    "## Introducción\n",
    "\n",
    "NumPy proporciona operaciones avanzadas que permiten manipular arrays de manera eficiente:\n",
    "\n",
    "- **Broadcasting:** Operaciones entre arrays de diferentes dimensiones\n",
    "- **Concatenación:** Unión de múltiples arrays\n",
    "- **División:** Separación de arrays en partes\n",
    "- **Operaciones lógicas:** Evaluación de condiciones en arrays\n",
    "\n",
    "Estas herramientas son fundamentales para procesamiento de datos a gran escala."
   ],
   "id": "5efda521a7d3eec9"
  },
  {
   "metadata": {},
   "cell_type": "code",
   "source": "import numpy as np",
   "id": "9724d41459fedd53",
   "outputs": [],
   "execution_count": null
  },
  {
   "metadata": {},
   "cell_type": "markdown",
   "source": [
    "---\n",
    "\n",
    "## 1. Broadcasting\n",
    "\n",
    "**Definición:** Broadcasting permite realizar operaciones aritméticas entre arrays de diferentes tamaños sin duplicar datos explícitamente.\n",
    "\n",
    "### ¿Cómo funciona?\n",
    "\n",
    "NumPy extiende automáticamente los arrays más pequeños para que coincidan con las dimensiones de los más grandes, optimizando memoria y velocidad.\n",
    "\n",
    "### Ventajas\n",
    "\n",
    "- Código más conciso y legible\n",
    "- Sin bucles explícitos\n",
    "- Aprovecha optimizaciones internas de NumPy\n",
    "- Crítico para análisis de datos y ML"
   ],
   "id": "4646897b500d749"
  },
  {
   "metadata": {},
   "cell_type": "markdown",
   "source": [
    "### Ejemplo 1: Aplicar Descuento a Productos\n",
    "\n",
    "Aplicar un descuento del 10% (multiplicar por 0.9) a todos los productos."
   ],
   "id": "f0c6fe34376ac4cf"
  },
  {
   "metadata": {},
   "cell_type": "code",
   "source": [
    "prices = np.array([100, 200, 300])\n",
    "discount = np.array([0.9])  # Un solo valor\n",
    "\n",
    "# Broadcasting: el 0.9 se aplica a cada precio\n",
    "discounted_prices = prices * discount\n",
    "print(\"Precios originales:\", prices)\n",
    "print(\"Descuento aplicado:\", discounted_prices)"
   ],
   "id": "63ba65ad4d8706d6",
   "outputs": [],
   "execution_count": null
  },
  {
   "metadata": {},
   "cell_type": "markdown",
   "source": [
    "### Ejemplo 2: Broadcasting en Matrices\n",
    "\n",
    "Sumar diferentes valores a cada columna de una matriz."
   ],
   "id": "c3ad7383ab83d4d3"
  },
  {
   "metadata": {},
   "cell_type": "code",
   "source": [
    "# Matriz 3x3 de precios aleatorios\n",
    "prices = np.random.randint(100, 500, size=(3, 3))\n",
    "\n",
    "# Vector de descuentos/incrementos por columna\n",
    "adjustments = np.array([10, 20, 30])\n",
    "\n",
    "# Broadcasting: cada columna se ajusta con su valor correspondiente\n",
    "result = prices + adjustments\n",
    "\n",
    "print(\"Precios originales:\")\n",
    "print(prices)\n",
    "print(\"\\nAjustes por columna:\", adjustments)\n",
    "print(\"\\nResultado (cada columna ajustada):\")\n",
    "print(result)"
   ],
   "id": "2f72ac91357e85cf",
   "outputs": [],
   "execution_count": null
  },
  {
   "metadata": {},
   "cell_type": "markdown",
   "source": [
    "### Reglas de Broadcasting\n",
    "\n",
    "Para que el broadcasting funcione, las dimensiones deben cumplir:\n",
    "\n",
    "1. **Comparación desde la última dimensión** hacia la primera\n",
    "2. **Dimensiones compatibles:** Iguales o una de ellas es 1\n",
    "\n",
    "**Ejemplos de compatibilidad:**\n",
    "\n",
    "| Array A | Array B | ¿Compatible? |\n",
    "|---------|---------|--------------|\n",
    "| (3, 1) | (1, 3) | Sí |\n",
    "| (3, 3) | (3,) | Sí (se expande a (1, 3)) |\n",
    "| (5, 4) | (4,) | Sí |\n",
    "| (3, 2) | (3, 3) | No |"
   ],
   "id": "918c2a32e975f578"
  },
  {
   "metadata": {},
   "cell_type": "markdown",
   "source": [
    "---\n",
    "\n",
    "## 2. Operaciones Lógicas\n",
    "\n",
    "Permiten evaluar condiciones sobre todo el array de forma eficiente.\n",
    "\n",
    "- `np.all()`: Retorna True si TODOS los elementos cumplen la condición\n",
    "- `np.any()`: Retorna True si AL MENOS UN elemento cumple la condición"
   ],
   "id": "e3d38834d7c26fee"
  },
  {
   "metadata": {},
   "cell_type": "code",
   "source": [
    "array = np.array([1, 2, 3, 4, 5])\n",
    "\n",
    "# ¿Todos los elementos son mayores a 2?\n",
    "print(\"¿Todos > 2?:\", np.all(array > 2))  # False (1 y 2 no cumplen)\n",
    "\n",
    "# ¿Al menos uno es mayor a 3?\n",
    "print(\"¿Alguno > 3?:\", np.any(array > 3))  # True (4 y 5 cumplen)\n",
    "\n",
    "# Casos prácticos\n",
    "print(\"¿Todos positivos?:\", np.all(array > 0))  # True\n",
    "print(\"¿Algún número par?:\", np.any(array % 2 == 0))  # True"
   ],
   "id": "86f61be2bd87ab26",
   "outputs": [],
   "execution_count": null
  },
  {
   "metadata": {},
   "cell_type": "markdown",
   "source": [
    "---\n",
    "\n",
    "## 3. Concatenación de Arrays\n",
    "\n",
    "Unir múltiples arrays en uno solo.\n",
    "\n",
    "### `np.concatenate()`\n",
    "\n",
    "Une arrays a lo largo de un eje existente.\n",
    "\n",
    "**Nota:** Requiere doble paréntesis porque recibe una tupla de arrays."
   ],
   "id": "ebfebf68a2435739"
  },
  {
   "metadata": {},
   "cell_type": "code",
   "source": [
    "array_a = np.array([1, 2, 3])\n",
    "array_b = np.array([4, 5, 6])\n",
    "\n",
    "# Concatenar horizontalmente (eje por defecto)\n",
    "concatenado = np.concatenate((array_a, array_b))\n",
    "print(\"Concatenado:\", concatenado)\n",
    "\n",
    "# ¿Por qué doble paréntesis?\n",
    "# Porque concatenate recibe UNA tupla con múltiples arrays:\n",
    "# concatenate((array1, array2, array3))\n",
    "#            ^                        ^\n",
    "#            Inicio y fin de la tupla"
   ],
   "id": "1fee7c934903f987",
   "outputs": [],
   "execution_count": null
  },
  {
   "metadata": {},
   "cell_type": "markdown",
   "source": [
    "### `np.vstack()` - Apilamiento Vertical\n",
    "\n",
    "Apila arrays uno encima del otro (añade filas)."
   ],
   "id": "c9376f50a9d84c9e"
  },
  {
   "metadata": {},
   "cell_type": "code",
   "source": [
    "array_a = np.array([1, 2, 3])\n",
    "array_b = np.array([4, 5, 6])\n",
    "\n",
    "# Apilar verticalmente (vertical stack)\n",
    "stacked_v = np.vstack((array_a, array_b))\n",
    "print(\"Apilado vertical:\")\n",
    "print(stacked_v)\n",
    "print(\"Forma:\", stacked_v.shape)  # (2, 3) - 2 filas, 3 columnas"
   ],
   "id": "1f10903da6016e00",
   "outputs": [],
   "execution_count": null
  },
  {
   "metadata": {},
   "cell_type": "markdown",
   "source": [
    "### `np.hstack()` - Apilamiento Horizontal\n",
    "\n",
    "Apila arrays lado a lado (añade columnas)."
   ],
   "id": "9e97d273efd8cd2c"
  },
  {
   "metadata": {},
   "cell_type": "code",
   "source": [
    "array_a = np.array([1, 2, 3])\n",
    "array_b = np.array([4, 5, 6])\n",
    "\n",
    "# Apilar horizontalmente (horizontal stack)\n",
    "stacked_h = np.hstack((array_a, array_b))\n",
    "print(\"Apilado horizontal:\", stacked_h)\n",
    "print(\"Forma:\", stacked_h.shape)  # (6,) - vector de 6 elementos"
   ],
   "id": "31a3f5a074b5dda2",
   "outputs": [],
   "execution_count": null
  },
  {
   "metadata": {},
   "cell_type": "markdown",
   "source": [
    "### Comparación Visual\n",
    "\n",
    "Vectores originales:\n",
    "array_a = [1, 2, 3]\n",
    "array_b = [4, 5, 6] \\\n",
    "\n",
    "vstack (vertical):\n",
    "\n",
    "[[1 2 3] \\\n",
    "[4 5 6]]\n",
    "\n",
    "hstack (horizontal): \\\n",
    "[1 2 3 4 5 6]"
   ],
   "id": "dcf5ec74883825f4"
  },
  {
   "metadata": {},
   "cell_type": "markdown",
   "source": [
    "---\n",
    "\n",
    "## 4. División de Arrays\n",
    "\n",
    "Separar un array en múltiples sub-arrays.\n",
    "\n",
    "### `np.split()`\n",
    "\n",
    "Divide un array en N partes iguales.\n"
   ],
   "id": "7f5069a8afc6ea9c"
  },
  {
   "metadata": {},
   "cell_type": "code",
   "source": [
    "# Array de 1 a 9\n",
    "array_c = np.arange(1, 10)\n",
    "print(\"Array original:\", array_c)\n",
    "print('-' * 100)\n",
    "\n",
    "# Dividir en 3 partes iguales\n",
    "split_array = np.split(array_c, 3)\n",
    "print(\"Dividido en 3:\")\n",
    "print(split_array)\n",
    "print(\"\\nTipo:\", type(split_array))  # Lista de arrays\n",
    "\n",
    "# Acceder a cada parte\n",
    "print(\"\\nPrimera parte:\", split_array[0])\n",
    "print(\"Segunda parte:\", split_array[1])\n",
    "print(\"Tercera parte:\", split_array[2])"
   ],
   "id": "be9d8299a90c7b95",
   "outputs": [],
   "execution_count": null
  },
  {
   "metadata": {},
   "cell_type": "markdown",
   "source": [
    "---\n",
    "\n",
    "## Resumen de Operaciones\n",
    "\n",
    "| Operación | Función | Uso |\n",
    "|-----------|---------|-----|\n",
    "| Broadcasting | Operadores (+, -, *, /) | Operar arrays de diferentes tamaños |\n",
    "| Todos cumplen | `np.all()` | Verificar que todos los elementos cumplan condición |\n",
    "| Alguno cumple | `np.any()` | Verificar que al menos uno cumpla |\n",
    "| Concatenar | `np.concatenate()` | Unir arrays en un eje |\n",
    "| Apilar vertical | `np.vstack()` | Apilar filas |\n",
    "| Apilar horizontal | `np.hstack()` | Apilar columnas |\n",
    "| Dividir | `np.split()` | Separar en partes iguales |"
   ],
   "id": "8a7f67a99dd11eee"
  },
  {
   "metadata": {},
   "cell_type": "markdown",
   "source": [
    "---\n",
    "\n",
    "## Aplicaciones en Ciencia de Datos\n",
    "\n",
    "### Ejemplo 1: Normalización de Datos\n",
    "\n",
    "En machine learning, normalizar datos es común (restar media y dividir por desviación estándar)."
   ],
   "id": "6d68788d522f507d"
  },
  {
   "metadata": {},
   "cell_type": "code",
   "source": [
    "# Dataset de ejemplo: calificaciones de 100 estudiantes en 5 materias\n",
    "\n",
    "np.random.seed(42)\n",
    "calificaciones = np.random.randint(50, 100, size=(100, 5))\n",
    "print(\"Dataset original (primeras 5 filas):\")\n",
    "print(calificaciones[:5])\n",
    "print(\"\\nForma:\", calificaciones.shape)\n",
    "\n",
    "# Calcular media y desviación estándar POR COLUMNA (materia)\n",
    "media = np.mean(calificaciones, axis=0)\n",
    "std = np.std(calificaciones, axis=0)\n",
    "\n",
    "print(\"\\nMedia por materia:\", media)\n",
    "print(\"Desviación estándar:\", std)\n",
    "\n",
    "# Normalización usando BROADCASTING\n",
    "# Cada columna se normaliza con su propia media y std\n",
    "calificaciones_normalizadas = (calificaciones - media) / std\n",
    "\n",
    "print(\"\\nDatos normalizados (primeras 5 filas):\")\n",
    "print(calificaciones_normalizadas[:5])\n",
    "\n",
    "# Verificación: media ≈ 0, std ≈ 1\n",
    "print(\"\\nNueva media por materia:\", np.mean(calificaciones_normalizadas, axis=0))\n",
    "print(\"Nueva std por materia:\", np.std(calificaciones_normalizadas, axis=0))"
   ],
   "id": "5248dc5a253836b5",
   "outputs": [],
   "execution_count": null
  },
  {
   "metadata": {},
   "cell_type": "markdown",
   "source": [
    "### Ejemplo 2: Análisis de Ventas por Región\n",
    "\n",
    "Combinar datos de múltiples regiones y detectar outliers."
   ],
   "id": "7d911e5a7608bf50"
  },
  {
   "metadata": {},
   "cell_type": "code",
   "source": [
    "# Ventas trimestrales de 3 regiones (Q1, Q2, Q3, Q4)\n",
    "ventas_norte = np.array([150000, 180000, 200000, 220000])\n",
    "ventas_sur = np.array([120000, 140000, 160000, 180000])\n",
    "ventas_este = np.array([100000, 130000, 150000, 170000])\n",
    "\n",
    "# 1. CONCATENACIÓN: Combinar todas las regiones\n",
    "todas_ventas = np.vstack((ventas_norte, ventas_sur, ventas_este))\n",
    "print(\"Ventas por región:\")\n",
    "print(todas_ventas)\n",
    "print(\"\\nForma:\", todas_ventas.shape)  # (3 regiones, 4 trimestres)\n",
    "\n",
    "# 2. BROADCASTING: Aplicar impuesto del 16% a todas las ventas\n",
    "tasa_impuesto = 1.16\n",
    "ventas_con_impuesto = todas_ventas * tasa_impuesto\n",
    "print(\"\\nVentas con impuesto (16%):\")\n",
    "print(ventas_con_impuesto.astype(int))\n",
    "\n",
    "# 3. OPERACIONES LÓGICAS: Detectar si alguna región superó 200k\n",
    "print(\"\\n¿Alguna región superó 200k en algún trimestre?\")\n",
    "print(np.any(todas_ventas > 200000))\n",
    "\n",
    "print(\"\\n¿Todas las ventas fueron mayores a 90k?\")\n",
    "print(np.all(todas_ventas > 90000))\n",
    "\n",
    "# 4. DIVISIÓN: Separar por semestres\n",
    "primer_semestre, segundo_semestre = np.split(todas_ventas, 2, axis=1)\n",
    "print(\"\\nPrimer semestre (Q1-Q2):\")\n",
    "print(primer_semestre)\n",
    "print(\"\\nSegundo semestre (Q3-Q4):\")\n",
    "print(segundo_semestre)\n",
    "\n",
    "# Análisis: Crecimiento promedio por región\n",
    "crecimiento = todas_ventas[:, -1] - todas_ventas[:, 0]  # Q4 - Q1\n",
    "print(\"\\nCrecimiento por región (Q4 - Q1):\")\n",
    "print(\"Norte:\", crecimiento[0])\n",
    "print(\"Sur:\", crecimiento[1])\n",
    "print(\"Este:\", crecimiento[2])"
   ],
   "id": "f2fc17d14ddd4121",
   "outputs": [],
   "execution_count": null
  },
  {
   "metadata": {},
   "cell_type": "markdown",
   "source": [
    "---\n",
    "\n",
    "## Ejercicios de Práctica"
   ],
   "id": "537b0aea6f4516ad"
  },
  {
   "metadata": {},
   "cell_type": "code",
   "source": [
    "# EJERCICIO 1: Broadcasting con Temperaturas\n",
    "# Tienes temperaturas en Celsius para 7 días: [22, 24, 23, 25, 26, 24, 23]\n",
    "# Convierte todas a Fahrenheit usando broadcasting: F = C * 9/5 + 32\n",
    "\n",
    "# Tu código aquí:\n",
    "temperaturas_c = np.array([22, 24, 23, 25, 26, 24, 23])\n",
    "fahrenheit_divisor = np.array([9/5])\n",
    "fahrenheit_add = np.array([32])\n",
    "\n",
    "\n",
    "temperaturas_f = (temperaturas_c * fahrenheit) + fahrenheit_add\n",
    "print(\"Temperaturas en Celsius:\", temperaturas_c)\n",
    "print('-' * 200)\n",
    "print(\"Temperaturas en Fahrenheit:\", temperaturas_f)"
   ],
   "id": "d4ca82c8d1f3620e",
   "outputs": [],
   "execution_count": null
  },
  {
   "metadata": {},
   "cell_type": "code",
   "source": [
    "# EJERCICIO 2: Validación de Datos\n",
    "# Tienes un array de edades: [25, 30, -5, 45, 120, 18, 22]\n",
    "# a) Usa np.all() para verificar si todas están entre 0 y 100\n",
    "# b) Usa np.any() para detectar si hay valores negativos o mayores a 100\n",
    "\n",
    "# Tu código aquí:\n",
    "edades = np.array([25, 30, -5, 45, 120, 18, 22])\n",
    "verificacion_0 = np.all(edades > 0)\n",
    "verificacion_100 = np.all(edades < 100)\n",
    "\n",
    "print(f\"¿Todas las edades expuestas en el array son mayores a 0? {verificacion_0} y menores de 100?: {verificacion_100}\")\n",
    "\n",
    "verificacion_a = np.any(edades < 0)\n",
    "verificacion_b = np.any(edades > 100)\n",
    "\n",
    "print(f\"¿Tenemos registros con edades menores a 0?:{verificacion_a}. Y tenemos registros mayores de 100?:{verificacion_b}\")"
   ],
   "id": "df80a98497dec69b",
   "outputs": [],
   "execution_count": null
  },
  {
   "metadata": {},
   "cell_type": "code",
   "source": [
    "# EJERCICIO 3: Concatenación de Datasets\n",
    "# Tienes 3 arrays de ventas mensuales:\n",
    "# enero = [1000, 1200, 1100]\n",
    "# febrero = [1300, 1400, 1500]\n",
    "# marzo = [1600, 1700, 1800]\n",
    "#\n",
    "# a) Usa vstack para crear una matriz de ventas (3 meses x 3 productos)\n",
    "# b) Calcula el total de ventas por producto (suma por columna)\n",
    "\n",
    "# Tu código aquí:\n",
    "enero = np.array([1000, 1200, 1100])\n",
    "febrero = np.array([1300, 1400, 1500])\n",
    "marzo = np.array([1600, 1700, 1800])\n",
    "\n",
    "stacked_v = np.vstack((enero, febrero, marzo))\n",
    "print(f\"Matriz de ventas (3 meses x 3 productos):\\n {stacked_v}\")\n",
    "\n",
    "ventas_por_producto = np.sum(stacked_v, axis=0)\n",
    "print(f\"Ventas por producto (suma por columna):\\n {ventas_por_producto}\")\n",
    "\n"
   ],
   "id": "193b8a37a0d82e90",
   "outputs": [],
   "execution_count": null
  },
  {
   "metadata": {},
   "cell_type": "code",
   "source": [
    "# EJERCICIO 4: División para Validación Cruzada\n",
    "# Crea un array con 20 números del 1 al 20\n",
    "# Divídelo en 4 partes iguales (útil para train/test splits)\n",
    "# Imprime cada parte\n",
    "\n",
    "array_numeros = np.arange(1, 21)\n",
    "print(f\"Array original: {array_numeros}\")\n",
    "\n",
    "partes_4 = np.split(array_numeros, 4)\n",
    "print(f\"Array partidos: {partes_4}\")\n",
    "\n",
    "print(f\"Parte 1: {partes_4[0]}\")\n",
    "print(f\"Parte 2: {partes_4[1]}\")\n",
    "print(f\"Parte 3: {partes_4[2]}\")\n",
    "print(f\"Parte 4: {partes_4[3]}\")\n",
    "\n",
    "# Tu código aquí:"
   ],
   "id": "aa40b9b3b247ecdd",
   "outputs": [],
   "execution_count": null
  },
  {
   "metadata": {},
   "cell_type": "code",
   "source": [
    "# EJERCICIO 5: Pipeline Completo\n",
    "# Simula calificaciones de 50 estudiantes en 3 exámenes (entre 0 y 100)\n",
    "#\n",
    "# a) Aplica una curva de ajuste: suma 5 puntos a todos (broadcasting)\n",
    "# b) Verifica si algún estudiante tiene todas las notas >= 90\n",
    "# c) Concatena una columna con el promedio de cada estudiante\n",
    "# d) Divide en dos grupos: primeros 25 y últimos 25 estudiantes\n",
    "\n",
    "# Pista: usa np.mean con axis=1 para promedios por fila\n",
    "\n",
    "# Tu código aquí:\n",
    "\n",
    "np.random.seed(52)\n",
    "calificaciones_estudiantes = np.random.randint(0, 100, size=(50, 3))\n",
    "# Imprimir 6 calificaciones\n",
    "print(f\"Calificaciones primeros 6 estudiantes:\\n {calificaciones_estudiantes[:6]}\")\n",
    "print('-' * 200)\n",
    "\n",
    "# Aplicar ajuste en calificaciones\n",
    "calificaciones_ajustados = calificaciones_estudiantes + 5\n",
    "print(f\"Calificaciones ajustadas primeros 6 estudiantes:\\n {calificaciones_ajustados[:6]}\")\n",
    "print('-' * 200)\n",
    "\n",
    "# Validación calificaciones estudiantes\n",
    "estudiantes = np.mean(calificaciones_ajustados, axis=1)\n",
    "condicional = np.any(estudiantes >= 90)\n",
    "\n",
    "# Verificar si TODAS las notas de un estudiante son >= 90\n",
    "todas_altas = np.all(calificaciones_ajustados >= 90, axis=1)  # Por fila\n",
    "algun_estudiante = np.any(todas_altas)\n",
    "print(f\"¿Algún estudiante con todas >= 90?: {algun_estudiante}\")\n",
    "\n",
    "# Para obtener QUÉ estudiantes cumplen:\n",
    "indices = np.where(todas_altas)[0]\n",
    "print(f\"Estudiantes con todas >= 90: {indices}\")\n",
    "\n",
    "organizados = np.sort(estudiantes)\n",
    "divisor_grupos = np.split(organizados, 2)\n",
    "\n",
    "print(f\"Ultimas 25 notas:\\n {divisor_grupos[0]}\")\n",
    "print('-' * 200)\n",
    "print(f\"Primeras 25 notas:\\n {divisor_grupos[1]}\")\n",
    "\n",
    "\n",
    "\n",
    "\n"
   ],
   "id": "24f7cf4285c82bbf",
   "outputs": [],
   "execution_count": null
  }
 ],
 "metadata": {
  "kernelspec": {
   "display_name": "Python 3",
   "language": "python",
   "name": "python3"
  },
  "language_info": {
   "codemirror_mode": {
    "name": "ipython",
    "version": 2
   },
   "file_extension": ".py",
   "mimetype": "text/x-python",
   "name": "python",
   "nbconvert_exporter": "python",
   "pygments_lexer": "ipython2",
   "version": "2.7.6"
  }
 },
 "nbformat": 4,
 "nbformat_minor": 5
}
