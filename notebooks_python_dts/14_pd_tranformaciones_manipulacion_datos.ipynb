{
 "cells": [
  {
   "metadata": {},
   "cell_type": "markdown",
   "source": [
    "# Transformación y Manipulación de Datos en Pandas\n",
    "\n",
    "**Curso:** Python para Ciencia de Datos\n",
    "**Fecha:** 08 de octubre de 2025\n",
    "**Ruta:** Fundamentos de Data Science e IA\n",
    "**Repositorio:** `bootcamp-fundamentos-ciencia-de-datos`"
   ],
   "id": "3f58ce0d79cfa687"
  },
  {
   "metadata": {},
   "cell_type": "markdown",
   "source": [
    "## 📋 Índice\n",
    "\n",
    "1. [Concepto](#concepto)\n",
    "2. [Creación de Nuevas Columnas](#creacion-columnas)\n",
    "3. [Transformaciones con Condicionales](#transformaciones-condicionales)\n",
    "4. [Cambio de Tipos de Datos](#tipos-datos)\n",
    "5. [Funciones Lambda](#funciones-lambda)\n",
    "6. [Funciones Personalizadas con Apply](#funciones-personalizadas)\n",
    "7. [Casos de Uso en Data Science](#casos-uso)\n",
    "8. [Recursos Adicionales](#recursos)"
   ],
   "id": "3a643d1a810a0529"
  },
  {
   "metadata": {},
   "cell_type": "markdown",
   "source": [
    "## Concepto\n",
    "\n",
    "La **transformación de datos** es el proceso de crear nuevas variables, modificar existentes o cambiar la estructura de un DataFrame para facilitar el análisis.\n",
    "\n",
    "### ¿Por qué transformar datos?\n",
    "\n",
    "- ✅ **Crear métricas calculadas**: Ingresos totales, tasas de conversión, etc.\n",
    "- ✅ **Categorizar información**: Segmentar datos en grupos significativos\n",
    "- ✅ **Limpiar y estandarizar**: Cambiar formatos, normalizar valores\n",
    "- ✅ **Enriquecer el dataset**: Añadir columnas derivadas para análisis más profundos\n",
    "- ✅ **Preparar para modelos ML**: Feature engineering\n",
    "\n",
    "### Técnicas principales en Pandas:\n",
    "\n",
    "| Técnica | Uso | Método |\n",
    "|---------|-----|--------|\n",
    "| **Operaciones aritméticas** | Crear columnas calculadas | `df['nueva'] = df['a'] * df['b']` |\n",
    "| **Condicionales** | Columnas booleanas | `df['flag'] = df['col'] > 100` |\n",
    "| **Conversión de tipos** | Cambiar dtype | `pd.to_datetime()`, `astype()` |\n",
    "| **Lambda** | Transformaciones rápidas | `df['col'].apply(lambda x: ...)` |\n",
    "| **Funciones personalizadas** | Lógica compleja | `df['col'].apply(funcion)` |"
   ],
   "id": "bf41822eb2d49299"
  },
  {
   "cell_type": "code",
   "id": "initial_id",
   "metadata": {
    "collapsed": true,
    "ExecuteTime": {
     "end_time": "2025-10-08T15:11:57.679133Z",
     "start_time": "2025-10-08T15:11:57.673384Z"
    }
   },
   "source": [
    "from data_loader import load_data\n",
    "import pandas as pd\n",
    "import numpy as np"
   ],
   "outputs": [],
   "execution_count": 31
  },
  {
   "metadata": {
    "ExecuteTime": {
     "end_time": "2025-10-08T15:12:29.030900Z",
     "start_time": "2025-10-08T15:12:28.144736Z"
    }
   },
   "cell_type": "code",
   "source": [
    "# Cargar datos de ejemplo\n",
    "df = load_data('online_retail.csv')\n",
    "\n",
    "# Visualizar primeras filas\n",
    "print(\"Dataset original:\")\n",
    "print(df.head())\n",
    "print(f\"\\nForma del DataFrame: {df.shape}\")\n",
    "print(f\"Columnas: {df.columns.tolist()}\")"
   ],
   "id": "e941410ab0d264a4",
   "outputs": [
    {
     "name": "stdout",
     "output_type": "stream",
     "text": [
      "📊 Separador detectado: ','\n",
      "🔤 Encoding detectado: ascii (100.0% confianza)\n",
      "⚠️ Error de encoding, intentando con latin-1\n",
      "Dataset original:\n",
      "  InvoiceNo StockCode                          Description  Quantity  \\\n",
      "0    536365    85123A   WHITE HANGING HEART T-LIGHT HOLDER         6   \n",
      "1    536365     71053                  WHITE METAL LANTERN         6   \n",
      "2    536365    84406B       CREAM CUPID HEARTS COAT HANGER         8   \n",
      "3    536365    84029G  KNITTED UNION FLAG HOT WATER BOTTLE         6   \n",
      "4    536365    84029E       RED WOOLLY HOTTIE WHITE HEART.         6   \n",
      "\n",
      "    InvoiceDate  UnitPrice  CustomerID         Country  \n",
      "0  12/1/10 8:26       2.55     17850.0  United Kingdom  \n",
      "1  12/1/10 8:26       3.39     17850.0  United Kingdom  \n",
      "2  12/1/10 8:26       2.75     17850.0  United Kingdom  \n",
      "3  12/1/10 8:26       3.39     17850.0  United Kingdom  \n",
      "4  12/1/10 8:26       3.39     17850.0  United Kingdom  \n",
      "\n",
      "Forma del DataFrame: (541909, 8)\n",
      "Columnas: ['InvoiceNo', 'StockCode', 'Description', 'Quantity', 'InvoiceDate', 'UnitPrice', 'CustomerID', 'Country']\n"
     ]
    }
   ],
   "execution_count": 32
  },
  {
   "metadata": {},
   "cell_type": "markdown",
   "source": [
    "---\n",
    "\n",
    "## Creación de Nuevas Columnas\n",
    "\n",
    "### Operaciones Aritméticas Básicas\n",
    "\n",
    "La forma más simple de crear una nueva columna es realizar operaciones matemáticas entre columnas existentes."
   ],
   "id": "2e6f56450ae56ea9"
  },
  {
   "metadata": {
    "ExecuteTime": {
     "end_time": "2025-10-08T15:12:40.108977Z",
     "start_time": "2025-10-08T15:12:40.085594Z"
    }
   },
   "cell_type": "code",
   "source": [
    "# Crear columna de Precio Total (Cantidad × Precio Unitario)\n",
    "df['Total_Price'] = df['Quantity'] * df['UnitPrice']\n",
    "\n",
    "print(\"Nueva columna Total_Price:\")\n",
    "print(df[['Quantity', 'UnitPrice', 'Total_Price']].head())"
   ],
   "id": "435b6d196b0e72ee",
   "outputs": [
    {
     "name": "stdout",
     "output_type": "stream",
     "text": [
      "Nueva columna Total_Price:\n",
      "   Quantity  UnitPrice  Total_Price\n",
      "0         6       2.55        15.30\n",
      "1         6       3.39        20.34\n",
      "2         8       2.75        22.00\n",
      "3         6       3.39        20.34\n",
      "4         6       3.39        20.34\n"
     ]
    }
   ],
   "execution_count": 33
  },
  {
   "metadata": {},
   "cell_type": "markdown",
   "source": "### Estadísticas de la nueva columna",
   "id": "695cbd5d302b7fa6"
  },
  {
   "metadata": {
    "ExecuteTime": {
     "end_time": "2025-10-08T15:12:52.035774Z",
     "start_time": "2025-10-08T15:12:51.988095Z"
    }
   },
   "cell_type": "code",
   "source": [
    "# Analizar la nueva columna\n",
    "print(\"📊 Estadísticas de Total_Price:\")\n",
    "print(df['Total_Price'].describe())\n",
    "print(f\"\\n💰 Ingresos totales: ${df['Total_Price'].sum():,.2f}\")\n",
    "print(f\"💵 Ticket promedio: ${df['Total_Price'].mean():.2f}\")"
   ],
   "id": "f6bd86000897d6e9",
   "outputs": [
    {
     "name": "stdout",
     "output_type": "stream",
     "text": [
      "📊 Estadísticas de Total_Price:\n",
      "count    541909.000000\n",
      "mean         17.987795\n",
      "std         378.810824\n",
      "min     -168469.600000\n",
      "25%           3.400000\n",
      "50%           9.750000\n",
      "75%          17.400000\n",
      "max      168469.600000\n",
      "Name: Total_Price, dtype: float64\n",
      "\n",
      "💰 Ingresos totales: $9,747,747.93\n",
      "💵 Ticket promedio: $17.99\n"
     ]
    }
   ],
   "execution_count": 34
  },
  {
   "metadata": {},
   "cell_type": "markdown",
   "source": [
    "---\n",
    "\n",
    "## Transformaciones con Condicionales\n",
    "\n",
    "### Crear columnas booleanas\n",
    "\n",
    "Las comparaciones generan columnas de tipo `bool` (True/False) útiles para filtrado y análisis."
   ],
   "id": "ce41684e895e12c7"
  },
  {
   "metadata": {
    "ExecuteTime": {
     "end_time": "2025-10-08T15:13:22.450662Z",
     "start_time": "2025-10-08T15:13:22.435069Z"
    }
   },
   "cell_type": "code",
   "source": [
    "# Identificar transacciones de alto valor (> $20)\n",
    "df['High_Value'] = df['Total_Price'] > 20\n",
    "\n",
    "print(\"Columna condicional High_Value:\")\n",
    "print(df[['Total_Price', 'High_Value']].head(10))"
   ],
   "id": "b120f10df952cffd",
   "outputs": [
    {
     "name": "stdout",
     "output_type": "stream",
     "text": [
      "Columna condicional High_Value:\n",
      "   Total_Price  High_Value\n",
      "0        15.30       False\n",
      "1        20.34        True\n",
      "2        22.00        True\n",
      "3        20.34        True\n",
      "4        20.34        True\n",
      "5        15.30       False\n",
      "6        25.50        True\n",
      "7        11.10       False\n",
      "8        11.10       False\n",
      "9        54.08        True\n"
     ]
    }
   ],
   "execution_count": 35
  },
  {
   "metadata": {},
   "cell_type": "markdown",
   "source": "### Análisis de la columna booleana",
   "id": "87f3968d4dd10530"
  },
  {
   "metadata": {
    "ExecuteTime": {
     "end_time": "2025-10-08T15:13:41.568754Z",
     "start_time": "2025-10-08T15:13:41.552301Z"
    }
   },
   "cell_type": "code",
   "source": [
    "# Contar transacciones de alto valor\n",
    "conteo = df['High_Value'].value_counts()\n",
    "porcentaje = (df['High_Value'].value_counts(normalize=True) * 100).round(2)\n",
    "\n",
    "print(\"📊 Distribución de transacciones:\")\n",
    "print(conteo)\n",
    "print(f\"\\n📈 Porcentajes:\")\n",
    "print(porcentaje)"
   ],
   "id": "7db00a1f4ae13008",
   "outputs": [
    {
     "name": "stdout",
     "output_type": "stream",
     "text": [
      "📊 Distribución de transacciones:\n",
      "High_Value\n",
      "False    441602\n",
      "True     100307\n",
      "Name: count, dtype: int64\n",
      "\n",
      "📈 Porcentajes:\n",
      "High_Value\n",
      "False    81.49\n",
      "True     18.51\n",
      "Name: proportion, dtype: float64\n"
     ]
    }
   ],
   "execution_count": 36
  },
  {
   "metadata": {},
   "cell_type": "markdown",
   "source": [
    "### Múltiples condiciones con np.where()\n",
    "\n",
    "Para lógica más compleja (if-elif-else), usa `np.where()` o `np.select()`."
   ],
   "id": "3e91e7794749248a"
  },
  {
   "metadata": {
    "ExecuteTime": {
     "end_time": "2025-10-08T15:14:12.799644Z",
     "start_time": "2025-10-08T15:14:12.702397Z"
    }
   },
   "cell_type": "code",
   "source": [
    "# Categorizar transacciones en 3 niveles\n",
    "df['Value_Level'] = np.where(df['Total_Price'] > 50, 'Alto',\n",
    "                     np.where(df['Total_Price'] > 20, 'Medio', 'Bajo'))\n",
    "\n",
    "print(\"Categorización con np.where:\")\n",
    "print(df[['Total_Price', 'Value_Level']].head(10))"
   ],
   "id": "8e83b082f82b2af9",
   "outputs": [
    {
     "name": "stdout",
     "output_type": "stream",
     "text": [
      "Categorización con np.where:\n",
      "   Total_Price Value_Level\n",
      "0        15.30        Bajo\n",
      "1        20.34       Medio\n",
      "2        22.00       Medio\n",
      "3        20.34       Medio\n",
      "4        20.34       Medio\n",
      "5        15.30        Bajo\n",
      "6        25.50       Medio\n",
      "7        11.10        Bajo\n",
      "8        11.10        Bajo\n",
      "9        54.08        Alto\n"
     ]
    }
   ],
   "execution_count": 37
  },
  {
   "metadata": {
    "ExecuteTime": {
     "end_time": "2025-10-08T15:14:24.073570Z",
     "start_time": "2025-10-08T15:14:24.011213Z"
    }
   },
   "cell_type": "code",
   "source": [
    "# Distribución de niveles\n",
    "print(\"\\n📊 Distribución por nivel de valor:\")\n",
    "print(df['Value_Level'].value_counts())"
   ],
   "id": "86d90e0e6179b232",
   "outputs": [
    {
     "name": "stdout",
     "output_type": "stream",
     "text": [
      "\n",
      "📊 Distribución por nivel de valor:\n",
      "Value_Level\n",
      "Bajo     441602\n",
      "Medio     69217\n",
      "Alto      31090\n",
      "Name: count, dtype: int64\n"
     ]
    }
   ],
   "execution_count": 38
  },
  {
   "metadata": {},
   "cell_type": "markdown",
   "source": [
    "---\n",
    "\n",
    "## Cambio de Tipos de Datos\n",
    "\n",
    "### ¿Por qué importa el tipo de dato?\n",
    "\n",
    "- 🔢 **int/float**: Operaciones matemáticas\n",
    "- 📅 **datetime**: Operaciones temporales (filtrar por fecha, extraer mes/año)\n",
    "- 📝 **string**: Manipulación de texto\n",
    "- ✅ **bool**: Filtrado y condiciones\n",
    "\n",
    "### Verificar tipos actuales"
   ],
   "id": "5180c0ebff3ac0b4"
  },
  {
   "metadata": {
    "ExecuteTime": {
     "end_time": "2025-10-08T15:14:45.543377Z",
     "start_time": "2025-10-08T15:14:45.389747Z"
    }
   },
   "cell_type": "code",
   "source": [
    "# Mostrar información del DataFrame\n",
    "print(\"ℹ️ Información de tipos de datos:\")\n",
    "print(df.info())"
   ],
   "id": "d614f420226e210f",
   "outputs": [
    {
     "name": "stdout",
     "output_type": "stream",
     "text": [
      "ℹ️ Información de tipos de datos:\n",
      "<class 'pandas.core.frame.DataFrame'>\n",
      "RangeIndex: 541909 entries, 0 to 541908\n",
      "Data columns (total 11 columns):\n",
      " #   Column       Non-Null Count   Dtype  \n",
      "---  ------       --------------   -----  \n",
      " 0   InvoiceNo    541909 non-null  object \n",
      " 1   StockCode    541909 non-null  object \n",
      " 2   Description  540455 non-null  object \n",
      " 3   Quantity     541909 non-null  int64  \n",
      " 4   InvoiceDate  541909 non-null  object \n",
      " 5   UnitPrice    541909 non-null  float64\n",
      " 6   CustomerID   406829 non-null  float64\n",
      " 7   Country      541909 non-null  object \n",
      " 8   Total_Price  541909 non-null  float64\n",
      " 9   High_Value   541909 non-null  bool   \n",
      " 10  Value_Level  541909 non-null  object \n",
      "dtypes: bool(1), float64(3), int64(1), object(6)\n",
      "memory usage: 41.9+ MB\n",
      "None\n"
     ]
    }
   ],
   "execution_count": 39
  },
  {
   "metadata": {},
   "cell_type": "markdown",
   "source": [
    "### Convertir a tipo DateTime\n",
    "\n",
    "La columna `InvoiceDate` está como `object` (string), pero debería ser `datetime` para análisis temporal."
   ],
   "id": "8aa8c9dd40ffbaeb"
  },
  {
   "metadata": {
    "ExecuteTime": {
     "end_time": "2025-10-08T15:15:02.635262Z",
     "start_time": "2025-10-08T15:15:02.628309Z"
    }
   },
   "cell_type": "code",
   "source": [
    "# Antes de la conversión\n",
    "print(f\"Tipo actual de InvoiceDate: {df['InvoiceDate'].dtype}\")\n",
    "print(f\"Ejemplo de valor: {df['InvoiceDate'].iloc[0]}\")"
   ],
   "id": "7f9c5e78d70b50ef",
   "outputs": [
    {
     "name": "stdout",
     "output_type": "stream",
     "text": [
      "Tipo actual de InvoiceDate: object\n",
      "Ejemplo de valor: 12/1/10 8:26\n"
     ]
    }
   ],
   "execution_count": 40
  },
  {
   "metadata": {
    "ExecuteTime": {
     "end_time": "2025-10-08T15:15:11.947286Z",
     "start_time": "2025-10-08T15:15:09.999943Z"
    }
   },
   "cell_type": "code",
   "source": [
    "# Convertir a datetime\n",
    "df['InvoiceDate'] = pd.to_datetime(df['InvoiceDate'])\n",
    "\n",
    "print(f\"\\n✅ Tipo después de conversión: {df['InvoiceDate'].dtype}\")\n",
    "print(f\"Ejemplo de valor: {df['InvoiceDate'].iloc[0]}\")"
   ],
   "id": "750961afe4015337",
   "outputs": [
    {
     "name": "stderr",
     "output_type": "stream",
     "text": [
      "C:\\Users\\hamtr\\AppData\\Local\\Temp\\ipykernel_8460\\3837862453.py:2: UserWarning: Could not infer format, so each element will be parsed individually, falling back to `dateutil`. To ensure parsing is consistent and as-expected, please specify a format.\n",
      "  df['InvoiceDate'] = pd.to_datetime(df['InvoiceDate'])\n"
     ]
    },
    {
     "name": "stdout",
     "output_type": "stream",
     "text": [
      "\n",
      "✅ Tipo después de conversión: datetime64[ns]\n",
      "Ejemplo de valor: 2010-12-01 08:26:00\n"
     ]
    }
   ],
   "execution_count": 41
  },
  {
   "metadata": {},
   "cell_type": "markdown",
   "source": [
    "### Ventajas de tener datetime\n",
    "\n",
    "Ahora podemos extraer componentes temporales fácilmente:"
   ],
   "id": "f8c388313a9964c8"
  },
  {
   "metadata": {
    "ExecuteTime": {
     "end_time": "2025-10-08T15:15:48.943796Z",
     "start_time": "2025-10-08T15:15:48.650859Z"
    }
   },
   "cell_type": "code",
   "source": [
    "# Extraer componentes de fecha\n",
    "df['Year'] = df['InvoiceDate'].dt.year\n",
    "df['Month'] = df['InvoiceDate'].dt.month\n",
    "df['Day'] = df['InvoiceDate'].dt.day\n",
    "df['DayOfWeek'] = df['InvoiceDate'].dt.day_name()\n",
    "df['Hour'] = df['InvoiceDate'].dt.hour\n",
    "\n",
    "print(\"Componentes temporales extraídos:\")\n",
    "print(df[['InvoiceDate', 'Year', 'Month', 'Day', 'DayOfWeek', 'Hour']].head())"
   ],
   "id": "90477d910cb69282",
   "outputs": [
    {
     "name": "stdout",
     "output_type": "stream",
     "text": [
      "Componentes temporales extraídos:\n",
      "          InvoiceDate  Year  Month  Day  DayOfWeek  Hour\n",
      "0 2010-12-01 08:26:00  2010     12    1  Wednesday     8\n",
      "1 2010-12-01 08:26:00  2010     12    1  Wednesday     8\n",
      "2 2010-12-01 08:26:00  2010     12    1  Wednesday     8\n",
      "3 2010-12-01 08:26:00  2010     12    1  Wednesday     8\n",
      "4 2010-12-01 08:26:00  2010     12    1  Wednesday     8\n"
     ]
    }
   ],
   "execution_count": 42
  },
  {
   "metadata": {
    "ExecuteTime": {
     "end_time": "2025-10-08T15:16:46.582923Z",
     "start_time": "2025-10-08T15:16:46.561587Z"
    }
   },
   "cell_type": "code",
   "source": [
    "# Análisis temporal: Ventas por mes\n",
    "ventas_por_mes = df.groupby('Month')['Total_Price'].sum().sort_index()\n",
    "print(\"\\n💰 Ventas totales por mes:\")\n",
    "print(ventas_por_mes)"
   ],
   "id": "8ca0ab90e784a48c",
   "outputs": [
    {
     "name": "stdout",
     "output_type": "stream",
     "text": [
      "\n",
      "💰 Ventas totales por mes:\n",
      "Month\n",
      "1      560000.260\n",
      "2      498062.650\n",
      "3      683267.080\n",
      "4      493207.121\n",
      "5      723333.510\n",
      "6      691123.120\n",
      "7      681300.111\n",
      "8      682680.510\n",
      "9     1019687.622\n",
      "10    1070704.670\n",
      "11    1461756.250\n",
      "12    1182625.030\n",
      "Name: Total_Price, dtype: float64\n"
     ]
    }
   ],
   "execution_count": 45
  },
  {
   "metadata": {},
   "cell_type": "markdown",
   "source": "### Otros tipos de conversión comunes",
   "id": "d6cc2ecc72d0a312"
  },
  {
   "metadata": {
    "ExecuteTime": {
     "end_time": "2025-10-08T15:18:07.174758Z",
     "start_time": "2025-10-08T15:18:07.153357Z"
    }
   },
   "cell_type": "code",
   "source": [
    "# Convertir CustomerID a entero (actualmente float por valores NaN)\n",
    "# Primero llenar NaN, luego convertir\n",
    "df['CustomerID_int'] = df['CustomerID'].fillna(0).astype(int)\n",
    "\n",
    "print(\"Conversión de CustomerID:\")\n",
    "print(df[['CustomerID', 'CustomerID_int']].head())"
   ],
   "id": "3ba80809db4084a3",
   "outputs": [
    {
     "name": "stdout",
     "output_type": "stream",
     "text": [
      "Conversión de CustomerID:\n",
      "   CustomerID  CustomerID_int\n",
      "0     17850.0           17850\n",
      "1     17850.0           17850\n",
      "2     17850.0           17850\n",
      "3     17850.0           17850\n",
      "4     17850.0           17850\n"
     ]
    }
   ],
   "execution_count": 46
  },
  {
   "metadata": {},
   "cell_type": "markdown",
   "source": [
    "---\n",
    "\n",
    "## Funciones Lambda\n",
    "\n",
    "### ¿Qué es una función Lambda?\n",
    "\n",
    "Una **función anónima** (sin nombre) que se define en una sola línea para transformaciones rápidas.\n",
    "\n",
    "**Sintaxis:**\n",
    "```python\n",
    "lambda argumentos: expresión"
   ],
   "id": "c132d27b3c6b437a"
  },
  {
   "metadata": {
    "ExecuteTime": {
     "end_time": "2025-10-08T15:18:35.160122Z",
     "start_time": "2025-10-08T15:18:34.997253Z"
    }
   },
   "cell_type": "code",
   "source": [
    "# Crear columna con precio descontado (90% del original)\n",
    "df['Discounted_Price'] = df['UnitPrice'].apply(lambda x: x * 0.9)\n",
    "\n",
    "print(\"Precio con descuento aplicado:\")\n",
    "print(df[['UnitPrice', 'Discounted_Price']].head())"
   ],
   "id": "6303680eb1846154",
   "outputs": [
    {
     "name": "stdout",
     "output_type": "stream",
     "text": [
      "Precio con descuento aplicado:\n",
      "   UnitPrice  Discounted_Price\n",
      "0       2.55             2.295\n",
      "1       3.39             3.051\n",
      "2       2.75             2.475\n",
      "3       3.39             3.051\n",
      "4       3.39             3.051\n"
     ]
    }
   ],
   "execution_count": 47
  },
  {
   "metadata": {},
   "cell_type": "markdown",
   "source": "### Caso 2: Transformaciones con múltiples operaciones",
   "id": "3aec769f7a0082cc"
  },
  {
   "metadata": {
    "ExecuteTime": {
     "end_time": "2025-10-08T15:18:58.275898Z",
     "start_time": "2025-10-08T15:18:57.928349Z"
    }
   },
   "cell_type": "code",
   "source": [
    "# Calcular impuesto del 19% sobre el Total_Price\n",
    "df['Tax'] = df['Total_Price'].apply(lambda x: x * 0.19)\n",
    "df['Price_With_Tax'] = df['Total_Price'].apply(lambda x: x * 1.19)\n",
    "\n",
    "print(\"Cálculo de impuestos:\")\n",
    "print(df[['Total_Price', 'Tax', 'Price_With_Tax']].head())"
   ],
   "id": "703616810b86296c",
   "outputs": [
    {
     "name": "stdout",
     "output_type": "stream",
     "text": [
      "Cálculo de impuestos:\n",
      "   Total_Price     Tax  Price_With_Tax\n",
      "0        15.30  2.9070         18.2070\n",
      "1        20.34  3.8646         24.2046\n",
      "2        22.00  4.1800         26.1800\n",
      "3        20.34  3.8646         24.2046\n",
      "4        20.34  3.8646         24.2046\n"
     ]
    }
   ],
   "execution_count": 48
  },
  {
   "metadata": {},
   "cell_type": "markdown",
   "source": "### Caso 3: Lambda con condicionales",
   "id": "1bafde7e6169774"
  },
  {
   "metadata": {
    "ExecuteTime": {
     "end_time": "2025-10-08T15:19:49.776615Z",
     "start_time": "2025-10-08T15:19:49.593600Z"
    }
   },
   "cell_type": "code",
   "source": [
    "# Aplicar descuento solo si el precio es mayor a $10\n",
    "df['Smart_Discount'] = df['UnitPrice'].apply(\n",
    "    lambda x: x * 0.85 if x > 10 else x\n",
    ")\n",
    "\n",
    "print(\"Descuento inteligente (solo precios > $10):\")\n",
    "print(df[['UnitPrice', 'Smart_Discount']].head(10))"
   ],
   "id": "e944291fca426757",
   "outputs": [
    {
     "name": "stdout",
     "output_type": "stream",
     "text": [
      "Descuento inteligente (solo precios > $10):\n",
      "   UnitPrice  Smart_Discount\n",
      "0       2.55            2.55\n",
      "1       3.39            3.39\n",
      "2       2.75            2.75\n",
      "3       3.39            3.39\n",
      "4       3.39            3.39\n",
      "5       7.65            7.65\n",
      "6       4.25            4.25\n",
      "7       1.85            1.85\n",
      "8       1.85            1.85\n",
      "9       1.69            1.69\n"
     ]
    }
   ],
   "execution_count": 49
  },
  {
   "metadata": {},
   "cell_type": "markdown",
   "source": [
    "### Ventajas de Lambda:\n",
    "\n",
    "✅ **Conciso**: Una línea de código\n",
    "✅ **Rápido**: Para transformaciones simples\n",
    "✅ **Legible**: Cuando la lógica es directa\n",
    "\n",
    "### Cuándo NO usar Lambda:\n",
    "\n",
    "❌ Lógica compleja (usa función personalizada)\n",
    "❌ Necesitas reutilizar la función\n",
    "❌ Dificulta la lectura del código"
   ],
   "id": "5fd7be14ef578953"
  },
  {
   "metadata": {},
   "cell_type": "markdown",
   "source": [
    "---\n",
    "\n",
    "## Funciones Personalizadas con Apply\n",
    "\n",
    "### ¿Cuándo usar funciones personalizadas?\n",
    "\n",
    "Cuando la transformación requiere:\n",
    "- Múltiples condiciones (if-elif-else)\n",
    "- Lógica compleja\n",
    "- Legibilidad y reutilización\n",
    "- Debugging más fácil\n",
    "\n",
    "### Ejemplo: Categorizar precios"
   ],
   "id": "21b5c6dd8aa73f4d"
  },
  {
   "metadata": {
    "ExecuteTime": {
     "end_time": "2025-10-08T15:20:28.853283Z",
     "start_time": "2025-10-08T15:20:28.665572Z"
    }
   },
   "cell_type": "code",
   "source": [
    "def categorize_price(price):\n",
    "    \"\"\"\n",
    "    Categoriza precios en tres niveles.\n",
    "\n",
    "    Args:\n",
    "        price (float): Precio unitario\n",
    "\n",
    "    Returns:\n",
    "        str: Categoría ('High', 'Medium', 'Low')\n",
    "    \"\"\"\n",
    "    if price > 50:\n",
    "        return 'High'\n",
    "    elif price >= 20:\n",
    "        return 'Medium'\n",
    "    else:\n",
    "        return 'Low'\n",
    "\n",
    "# Aplicar la función a la columna\n",
    "df['Price_Category'] = df['UnitPrice'].apply(categorize_price)\n",
    "\n",
    "print(\"Categorización de precios:\")\n",
    "print(df[['UnitPrice', 'Price_Category']].head(15))"
   ],
   "id": "66164315f040ff0",
   "outputs": [
    {
     "name": "stdout",
     "output_type": "stream",
     "text": [
      "Categorización de precios:\n",
      "    UnitPrice Price_Category\n",
      "0        2.55            Low\n",
      "1        3.39            Low\n",
      "2        2.75            Low\n",
      "3        3.39            Low\n",
      "4        3.39            Low\n",
      "5        7.65            Low\n",
      "6        4.25            Low\n",
      "7        1.85            Low\n",
      "8        1.85            Low\n",
      "9        1.69            Low\n",
      "10       2.10            Low\n",
      "11       2.10            Low\n",
      "12       3.75            Low\n",
      "13       1.65            Low\n",
      "14       4.25            Low\n"
     ]
    }
   ],
   "execution_count": 50
  },
  {
   "metadata": {
    "ExecuteTime": {
     "end_time": "2025-10-08T15:20:50.049072Z",
     "start_time": "2025-10-08T15:20:49.981706Z"
    }
   },
   "cell_type": "code",
   "source": [
    "# Análisis de la distribución de categorías\n",
    "print(\"\\n📊 Distribución de categorías de precio:\")\n",
    "print(df['Price_Category'].value_counts())\n",
    "print(\"\\n📈 Porcentajes:\")\n",
    "print(df['Price_Category'].value_counts(normalize=True) * 100)"
   ],
   "id": "b499b5193dc243b9",
   "outputs": [
    {
     "name": "stdout",
     "output_type": "stream",
     "text": [
      "\n",
      "📊 Distribución de categorías de precio:\n",
      "Price_Category\n",
      "Low       537734\n",
      "Medium      2902\n",
      "High        1273\n",
      "Name: count, dtype: int64\n",
      "\n",
      "📈 Porcentajes:\n",
      "Price_Category\n",
      "Low       99.229575\n",
      "Medium     0.535514\n",
      "High       0.234910\n",
      "Name: proportion, dtype: float64\n"
     ]
    }
   ],
   "execution_count": 51
  },
  {
   "metadata": {},
   "cell_type": "markdown",
   "source": "### Ejemplo 2: Función con múltiples argumentos",
   "id": "30f745c9aa9137e7"
  },
  {
   "metadata": {
    "ExecuteTime": {
     "end_time": "2025-10-08T15:22:48.327592Z",
     "start_time": "2025-10-08T15:22:42.041664Z"
    }
   },
   "cell_type": "code",
   "source": [
    "def calculate_profit_margin(quantity, unit_price, cost_pct=0.6):\n",
    "    \"\"\"\n",
    "    Calcula el margen de ganancia.\n",
    "\n",
    "    Args:\n",
    "        quantity (int): Cantidad vendida\n",
    "        unit_price (float): Precio unitario\n",
    "        cost_pct (float): Porcentaje del costo (default 60%)\n",
    "\n",
    "    Returns:\n",
    "        float: Margen de ganancia\n",
    "    \"\"\"\n",
    "    revenue = quantity * unit_price\n",
    "    cost = revenue * cost_pct\n",
    "    profit = revenue - cost\n",
    "    return profit\n",
    "\n",
    "# Apply con múltiples columnas usando lambda\n",
    "df['Profit_Margin'] = df.apply(\n",
    "    lambda row: calculate_profit_margin(row['Quantity'], row['UnitPrice']),\n",
    "    axis=1\n",
    ")\n",
    "\n",
    "print(\"Margen de ganancia calculado:\")\n",
    "print(df[['Quantity', 'UnitPrice', 'Total_Price', 'Profit_Margin']].head())"
   ],
   "id": "315995a79070f6d4",
   "outputs": [
    {
     "name": "stdout",
     "output_type": "stream",
     "text": [
      "Margen de ganancia calculado:\n",
      "   Quantity  UnitPrice  Total_Price  Profit_Margin\n",
      "0         6       2.55        15.30          6.120\n",
      "1         6       3.39        20.34          8.136\n",
      "2         8       2.75        22.00          8.800\n",
      "3         6       3.39        20.34          8.136\n",
      "4         6       3.39        20.34          8.136\n"
     ]
    }
   ],
   "execution_count": 53
  },
  {
   "metadata": {},
   "cell_type": "markdown",
   "source": "### Ejemplo 3: Función para análisis de texto",
   "id": "73eb67d26ab9e799"
  },
  {
   "metadata": {
    "ExecuteTime": {
     "end_time": "2025-10-08T15:24:08.988135Z",
     "start_time": "2025-10-08T15:24:07.487358Z"
    }
   },
   "cell_type": "code",
   "source": [
    "def analyze_description(description):\n",
    "    \"\"\"\n",
    "    Analiza la descripción del producto.\n",
    "\n",
    "    Returns:\n",
    "        dict: Información extraída\n",
    "    \"\"\"\n",
    "    if pd.isna(description):\n",
    "        return 'Unknown'\n",
    "\n",
    "    description = str(description).upper()\n",
    "\n",
    "    # Identificar categorías por palabras clave\n",
    "    if any(word in description for word in ['HEART', 'LOVE', 'CUPID']):\n",
    "        return 'Romance'\n",
    "    elif any(word in description for word in ['CHRISTMAS', 'SANTA', 'XMAS']):\n",
    "        return 'Holiday'\n",
    "    elif any(word in description for word in ['LUNCH', 'CAKE', 'BAKING']):\n",
    "        return 'Kitchen'\n",
    "    else:\n",
    "        return 'General'\n",
    "\n",
    "# Aplicar categorización\n",
    "df['Product_Category'] = df['Description'].apply(analyze_description)\n",
    "\n",
    "print(\"Categorización por descripción:\")\n",
    "print(df[['Description', 'Product_Category']].head(10))"
   ],
   "id": "88f90ee434bcc14c",
   "outputs": [
    {
     "name": "stdout",
     "output_type": "stream",
     "text": [
      "Categorización por descripción:\n",
      "                           Description Product_Category\n",
      "0   WHITE HANGING HEART T-LIGHT HOLDER          Romance\n",
      "1                  WHITE METAL LANTERN          General\n",
      "2       CREAM CUPID HEARTS COAT HANGER          Romance\n",
      "3  KNITTED UNION FLAG HOT WATER BOTTLE          General\n",
      "4       RED WOOLLY HOTTIE WHITE HEART.          Romance\n",
      "5         SET 7 BABUSHKA NESTING BOXES          General\n",
      "6    GLASS STAR FROSTED T-LIGHT HOLDER          General\n",
      "7               HAND WARMER UNION JACK          General\n",
      "8            HAND WARMER RED POLKA DOT          General\n",
      "9        ASSORTED COLOUR BIRD ORNAMENT          General\n"
     ]
    }
   ],
   "execution_count": 54
  },
  {
   "metadata": {
    "ExecuteTime": {
     "end_time": "2025-10-08T15:24:29.453379Z",
     "start_time": "2025-10-08T15:24:29.414420Z"
    }
   },
   "cell_type": "code",
   "source": [
    "# Distribución de categorías de productos\n",
    "print(\"\\n📦 Distribución de categorías de productos:\")\n",
    "print(df['Product_Category'].value_counts())"
   ],
   "id": "320f66ed0b1099f4",
   "outputs": [
    {
     "name": "stdout",
     "output_type": "stream",
     "text": [
      "\n",
      "📦 Distribución de categorías de productos:\n",
      "Product_Category\n",
      "General    414711\n",
      "Romance     58277\n",
      "Kitchen     43076\n",
      "Holiday     24391\n",
      "Unknown      1454\n",
      "Name: count, dtype: int64\n"
     ]
    }
   ],
   "execution_count": 55
  },
  {
   "metadata": {},
   "cell_type": "markdown",
   "source": [
    "### Comparación: Lambda vs Función Personalizada\n",
    "\n",
    "| Aspecto | Lambda | Función Personalizada |\n",
    "|---------|--------|----------------------|\n",
    "| **Complejidad** | Simple (1 línea) | Compleja (múltiples líneas) |\n",
    "| **Legibilidad** | Buena para lógica simple | Mejor para lógica compleja |\n",
    "| **Reutilización** | Difícil | Fácil |\n",
    "| **Debugging** | Complicado | Sencillo |\n",
    "| **Documentación** | No disponible | Docstrings ✅ |\n",
    "| **Ejemplo** | `lambda x: x * 2` | `def double(x): return x * 2` |"
   ],
   "id": "f66bff792be25adc"
  },
  {
   "metadata": {
    "ExecuteTime": {
     "end_time": "2025-10-08T15:25:19.352574Z",
     "start_time": "2025-10-08T15:25:18.495580Z"
    }
   },
   "cell_type": "code",
   "source": "df",
   "id": "47f26fc1bc6ab2a4",
   "outputs": [
    {
     "data": {
      "text/plain": [
       "       InvoiceNo StockCode                          Description  Quantity  \\\n",
       "0         536365    85123A   WHITE HANGING HEART T-LIGHT HOLDER         6   \n",
       "1         536365     71053                  WHITE METAL LANTERN         6   \n",
       "2         536365    84406B       CREAM CUPID HEARTS COAT HANGER         8   \n",
       "3         536365    84029G  KNITTED UNION FLAG HOT WATER BOTTLE         6   \n",
       "4         536365    84029E       RED WOOLLY HOTTIE WHITE HEART.         6   \n",
       "...          ...       ...                                  ...       ...   \n",
       "541904    581587     22613          PACK OF 20 SPACEBOY NAPKINS        12   \n",
       "541905    581587     22899         CHILDREN'S APRON DOLLY GIRL          6   \n",
       "541906    581587     23254        CHILDRENS CUTLERY DOLLY GIRL          4   \n",
       "541907    581587     23255      CHILDRENS CUTLERY CIRCUS PARADE         4   \n",
       "541908    581587     22138        BAKING SET 9 PIECE RETROSPOT          3   \n",
       "\n",
       "               InvoiceDate  UnitPrice  CustomerID         Country  \\\n",
       "0      2010-12-01 08:26:00       2.55     17850.0  United Kingdom   \n",
       "1      2010-12-01 08:26:00       3.39     17850.0  United Kingdom   \n",
       "2      2010-12-01 08:26:00       2.75     17850.0  United Kingdom   \n",
       "3      2010-12-01 08:26:00       3.39     17850.0  United Kingdom   \n",
       "4      2010-12-01 08:26:00       3.39     17850.0  United Kingdom   \n",
       "...                    ...        ...         ...             ...   \n",
       "541904 2011-12-09 12:50:00       0.85     12680.0          France   \n",
       "541905 2011-12-09 12:50:00       2.10     12680.0          France   \n",
       "541906 2011-12-09 12:50:00       4.15     12680.0          France   \n",
       "541907 2011-12-09 12:50:00       4.15     12680.0          France   \n",
       "541908 2011-12-09 12:50:00       4.95     12680.0          France   \n",
       "\n",
       "        Total_Price  High_Value  ...  DayOfWeek  Hour  CustomerID_int  \\\n",
       "0             15.30       False  ...  Wednesday     8           17850   \n",
       "1             20.34        True  ...  Wednesday     8           17850   \n",
       "2             22.00        True  ...  Wednesday     8           17850   \n",
       "3             20.34        True  ...  Wednesday     8           17850   \n",
       "4             20.34        True  ...  Wednesday     8           17850   \n",
       "...             ...         ...  ...        ...   ...             ...   \n",
       "541904        10.20       False  ...     Friday    12           12680   \n",
       "541905        12.60       False  ...     Friday    12           12680   \n",
       "541906        16.60       False  ...     Friday    12           12680   \n",
       "541907        16.60       False  ...     Friday    12           12680   \n",
       "541908        14.85       False  ...     Friday    12           12680   \n",
       "\n",
       "        Discounted_Price     Tax  Price_With_Tax  Smart_Discount  \\\n",
       "0                  2.295  2.9070         18.2070            2.55   \n",
       "1                  3.051  3.8646         24.2046            3.39   \n",
       "2                  2.475  4.1800         26.1800            2.75   \n",
       "3                  3.051  3.8646         24.2046            3.39   \n",
       "4                  3.051  3.8646         24.2046            3.39   \n",
       "...                  ...     ...             ...             ...   \n",
       "541904             0.765  1.9380         12.1380            0.85   \n",
       "541905             1.890  2.3940         14.9940            2.10   \n",
       "541906             3.735  3.1540         19.7540            4.15   \n",
       "541907             3.735  3.1540         19.7540            4.15   \n",
       "541908             4.455  2.8215         17.6715            4.95   \n",
       "\n",
       "        Price_Category  Profit_Margin  Product_Category  \n",
       "0                  Low          6.120           Romance  \n",
       "1                  Low          8.136           General  \n",
       "2                  Low          8.800           Romance  \n",
       "3                  Low          8.136           General  \n",
       "4                  Low          8.136           Romance  \n",
       "...                ...            ...               ...  \n",
       "541904             Low          4.080           General  \n",
       "541905             Low          5.040           General  \n",
       "541906             Low          6.640           General  \n",
       "541907             Low          6.640           General  \n",
       "541908             Low          5.940           Kitchen  \n",
       "\n",
       "[541909 rows x 24 columns]"
      ],
      "text/html": [
       "<div>\n",
       "<style scoped>\n",
       "    .dataframe tbody tr th:only-of-type {\n",
       "        vertical-align: middle;\n",
       "    }\n",
       "\n",
       "    .dataframe tbody tr th {\n",
       "        vertical-align: top;\n",
       "    }\n",
       "\n",
       "    .dataframe thead th {\n",
       "        text-align: right;\n",
       "    }\n",
       "</style>\n",
       "<table border=\"1\" class=\"dataframe\">\n",
       "  <thead>\n",
       "    <tr style=\"text-align: right;\">\n",
       "      <th></th>\n",
       "      <th>InvoiceNo</th>\n",
       "      <th>StockCode</th>\n",
       "      <th>Description</th>\n",
       "      <th>Quantity</th>\n",
       "      <th>InvoiceDate</th>\n",
       "      <th>UnitPrice</th>\n",
       "      <th>CustomerID</th>\n",
       "      <th>Country</th>\n",
       "      <th>Total_Price</th>\n",
       "      <th>High_Value</th>\n",
       "      <th>...</th>\n",
       "      <th>DayOfWeek</th>\n",
       "      <th>Hour</th>\n",
       "      <th>CustomerID_int</th>\n",
       "      <th>Discounted_Price</th>\n",
       "      <th>Tax</th>\n",
       "      <th>Price_With_Tax</th>\n",
       "      <th>Smart_Discount</th>\n",
       "      <th>Price_Category</th>\n",
       "      <th>Profit_Margin</th>\n",
       "      <th>Product_Category</th>\n",
       "    </tr>\n",
       "  </thead>\n",
       "  <tbody>\n",
       "    <tr>\n",
       "      <th>0</th>\n",
       "      <td>536365</td>\n",
       "      <td>85123A</td>\n",
       "      <td>WHITE HANGING HEART T-LIGHT HOLDER</td>\n",
       "      <td>6</td>\n",
       "      <td>2010-12-01 08:26:00</td>\n",
       "      <td>2.55</td>\n",
       "      <td>17850.0</td>\n",
       "      <td>United Kingdom</td>\n",
       "      <td>15.30</td>\n",
       "      <td>False</td>\n",
       "      <td>...</td>\n",
       "      <td>Wednesday</td>\n",
       "      <td>8</td>\n",
       "      <td>17850</td>\n",
       "      <td>2.295</td>\n",
       "      <td>2.9070</td>\n",
       "      <td>18.2070</td>\n",
       "      <td>2.55</td>\n",
       "      <td>Low</td>\n",
       "      <td>6.120</td>\n",
       "      <td>Romance</td>\n",
       "    </tr>\n",
       "    <tr>\n",
       "      <th>1</th>\n",
       "      <td>536365</td>\n",
       "      <td>71053</td>\n",
       "      <td>WHITE METAL LANTERN</td>\n",
       "      <td>6</td>\n",
       "      <td>2010-12-01 08:26:00</td>\n",
       "      <td>3.39</td>\n",
       "      <td>17850.0</td>\n",
       "      <td>United Kingdom</td>\n",
       "      <td>20.34</td>\n",
       "      <td>True</td>\n",
       "      <td>...</td>\n",
       "      <td>Wednesday</td>\n",
       "      <td>8</td>\n",
       "      <td>17850</td>\n",
       "      <td>3.051</td>\n",
       "      <td>3.8646</td>\n",
       "      <td>24.2046</td>\n",
       "      <td>3.39</td>\n",
       "      <td>Low</td>\n",
       "      <td>8.136</td>\n",
       "      <td>General</td>\n",
       "    </tr>\n",
       "    <tr>\n",
       "      <th>2</th>\n",
       "      <td>536365</td>\n",
       "      <td>84406B</td>\n",
       "      <td>CREAM CUPID HEARTS COAT HANGER</td>\n",
       "      <td>8</td>\n",
       "      <td>2010-12-01 08:26:00</td>\n",
       "      <td>2.75</td>\n",
       "      <td>17850.0</td>\n",
       "      <td>United Kingdom</td>\n",
       "      <td>22.00</td>\n",
       "      <td>True</td>\n",
       "      <td>...</td>\n",
       "      <td>Wednesday</td>\n",
       "      <td>8</td>\n",
       "      <td>17850</td>\n",
       "      <td>2.475</td>\n",
       "      <td>4.1800</td>\n",
       "      <td>26.1800</td>\n",
       "      <td>2.75</td>\n",
       "      <td>Low</td>\n",
       "      <td>8.800</td>\n",
       "      <td>Romance</td>\n",
       "    </tr>\n",
       "    <tr>\n",
       "      <th>3</th>\n",
       "      <td>536365</td>\n",
       "      <td>84029G</td>\n",
       "      <td>KNITTED UNION FLAG HOT WATER BOTTLE</td>\n",
       "      <td>6</td>\n",
       "      <td>2010-12-01 08:26:00</td>\n",
       "      <td>3.39</td>\n",
       "      <td>17850.0</td>\n",
       "      <td>United Kingdom</td>\n",
       "      <td>20.34</td>\n",
       "      <td>True</td>\n",
       "      <td>...</td>\n",
       "      <td>Wednesday</td>\n",
       "      <td>8</td>\n",
       "      <td>17850</td>\n",
       "      <td>3.051</td>\n",
       "      <td>3.8646</td>\n",
       "      <td>24.2046</td>\n",
       "      <td>3.39</td>\n",
       "      <td>Low</td>\n",
       "      <td>8.136</td>\n",
       "      <td>General</td>\n",
       "    </tr>\n",
       "    <tr>\n",
       "      <th>4</th>\n",
       "      <td>536365</td>\n",
       "      <td>84029E</td>\n",
       "      <td>RED WOOLLY HOTTIE WHITE HEART.</td>\n",
       "      <td>6</td>\n",
       "      <td>2010-12-01 08:26:00</td>\n",
       "      <td>3.39</td>\n",
       "      <td>17850.0</td>\n",
       "      <td>United Kingdom</td>\n",
       "      <td>20.34</td>\n",
       "      <td>True</td>\n",
       "      <td>...</td>\n",
       "      <td>Wednesday</td>\n",
       "      <td>8</td>\n",
       "      <td>17850</td>\n",
       "      <td>3.051</td>\n",
       "      <td>3.8646</td>\n",
       "      <td>24.2046</td>\n",
       "      <td>3.39</td>\n",
       "      <td>Low</td>\n",
       "      <td>8.136</td>\n",
       "      <td>Romance</td>\n",
       "    </tr>\n",
       "    <tr>\n",
       "      <th>...</th>\n",
       "      <td>...</td>\n",
       "      <td>...</td>\n",
       "      <td>...</td>\n",
       "      <td>...</td>\n",
       "      <td>...</td>\n",
       "      <td>...</td>\n",
       "      <td>...</td>\n",
       "      <td>...</td>\n",
       "      <td>...</td>\n",
       "      <td>...</td>\n",
       "      <td>...</td>\n",
       "      <td>...</td>\n",
       "      <td>...</td>\n",
       "      <td>...</td>\n",
       "      <td>...</td>\n",
       "      <td>...</td>\n",
       "      <td>...</td>\n",
       "      <td>...</td>\n",
       "      <td>...</td>\n",
       "      <td>...</td>\n",
       "      <td>...</td>\n",
       "    </tr>\n",
       "    <tr>\n",
       "      <th>541904</th>\n",
       "      <td>581587</td>\n",
       "      <td>22613</td>\n",
       "      <td>PACK OF 20 SPACEBOY NAPKINS</td>\n",
       "      <td>12</td>\n",
       "      <td>2011-12-09 12:50:00</td>\n",
       "      <td>0.85</td>\n",
       "      <td>12680.0</td>\n",
       "      <td>France</td>\n",
       "      <td>10.20</td>\n",
       "      <td>False</td>\n",
       "      <td>...</td>\n",
       "      <td>Friday</td>\n",
       "      <td>12</td>\n",
       "      <td>12680</td>\n",
       "      <td>0.765</td>\n",
       "      <td>1.9380</td>\n",
       "      <td>12.1380</td>\n",
       "      <td>0.85</td>\n",
       "      <td>Low</td>\n",
       "      <td>4.080</td>\n",
       "      <td>General</td>\n",
       "    </tr>\n",
       "    <tr>\n",
       "      <th>541905</th>\n",
       "      <td>581587</td>\n",
       "      <td>22899</td>\n",
       "      <td>CHILDREN'S APRON DOLLY GIRL</td>\n",
       "      <td>6</td>\n",
       "      <td>2011-12-09 12:50:00</td>\n",
       "      <td>2.10</td>\n",
       "      <td>12680.0</td>\n",
       "      <td>France</td>\n",
       "      <td>12.60</td>\n",
       "      <td>False</td>\n",
       "      <td>...</td>\n",
       "      <td>Friday</td>\n",
       "      <td>12</td>\n",
       "      <td>12680</td>\n",
       "      <td>1.890</td>\n",
       "      <td>2.3940</td>\n",
       "      <td>14.9940</td>\n",
       "      <td>2.10</td>\n",
       "      <td>Low</td>\n",
       "      <td>5.040</td>\n",
       "      <td>General</td>\n",
       "    </tr>\n",
       "    <tr>\n",
       "      <th>541906</th>\n",
       "      <td>581587</td>\n",
       "      <td>23254</td>\n",
       "      <td>CHILDRENS CUTLERY DOLLY GIRL</td>\n",
       "      <td>4</td>\n",
       "      <td>2011-12-09 12:50:00</td>\n",
       "      <td>4.15</td>\n",
       "      <td>12680.0</td>\n",
       "      <td>France</td>\n",
       "      <td>16.60</td>\n",
       "      <td>False</td>\n",
       "      <td>...</td>\n",
       "      <td>Friday</td>\n",
       "      <td>12</td>\n",
       "      <td>12680</td>\n",
       "      <td>3.735</td>\n",
       "      <td>3.1540</td>\n",
       "      <td>19.7540</td>\n",
       "      <td>4.15</td>\n",
       "      <td>Low</td>\n",
       "      <td>6.640</td>\n",
       "      <td>General</td>\n",
       "    </tr>\n",
       "    <tr>\n",
       "      <th>541907</th>\n",
       "      <td>581587</td>\n",
       "      <td>23255</td>\n",
       "      <td>CHILDRENS CUTLERY CIRCUS PARADE</td>\n",
       "      <td>4</td>\n",
       "      <td>2011-12-09 12:50:00</td>\n",
       "      <td>4.15</td>\n",
       "      <td>12680.0</td>\n",
       "      <td>France</td>\n",
       "      <td>16.60</td>\n",
       "      <td>False</td>\n",
       "      <td>...</td>\n",
       "      <td>Friday</td>\n",
       "      <td>12</td>\n",
       "      <td>12680</td>\n",
       "      <td>3.735</td>\n",
       "      <td>3.1540</td>\n",
       "      <td>19.7540</td>\n",
       "      <td>4.15</td>\n",
       "      <td>Low</td>\n",
       "      <td>6.640</td>\n",
       "      <td>General</td>\n",
       "    </tr>\n",
       "    <tr>\n",
       "      <th>541908</th>\n",
       "      <td>581587</td>\n",
       "      <td>22138</td>\n",
       "      <td>BAKING SET 9 PIECE RETROSPOT</td>\n",
       "      <td>3</td>\n",
       "      <td>2011-12-09 12:50:00</td>\n",
       "      <td>4.95</td>\n",
       "      <td>12680.0</td>\n",
       "      <td>France</td>\n",
       "      <td>14.85</td>\n",
       "      <td>False</td>\n",
       "      <td>...</td>\n",
       "      <td>Friday</td>\n",
       "      <td>12</td>\n",
       "      <td>12680</td>\n",
       "      <td>4.455</td>\n",
       "      <td>2.8215</td>\n",
       "      <td>17.6715</td>\n",
       "      <td>4.95</td>\n",
       "      <td>Low</td>\n",
       "      <td>5.940</td>\n",
       "      <td>Kitchen</td>\n",
       "    </tr>\n",
       "  </tbody>\n",
       "</table>\n",
       "<p>541909 rows × 24 columns</p>\n",
       "</div>"
      ]
     },
     "execution_count": 56,
     "metadata": {},
     "output_type": "execute_result"
    }
   ],
   "execution_count": 56
  },
  {
   "metadata": {
    "ExecuteTime": {
     "end_time": "2025-10-08T15:26:48.586188Z",
     "start_time": "2025-10-08T15:26:48.522828Z"
    }
   },
   "cell_type": "code",
   "source": [
    "# Crear dataset de ejemplo\n",
    "ventas_ecommerce = df[['InvoiceNo', 'InvoiceDate', 'Quantity', 'UnitPrice', 'Country']].copy()\n",
    "ventas_ecommerce['Total_Price'] = ventas_ecommerce['Quantity'] * ventas_ecommerce['UnitPrice']\n",
    "\n",
    "print(\"📦 Dataset de ventas e-commerce:\")\n",
    "print(ventas_ecommerce.head())"
   ],
   "id": "a11c07b9652a009",
   "outputs": [
    {
     "name": "stdout",
     "output_type": "stream",
     "text": [
      "📦 Dataset de ventas e-commerce:\n",
      "  InvoiceNo         InvoiceDate  Quantity  UnitPrice         Country  \\\n",
      "0    536365 2010-12-01 08:26:00         6       2.55  United Kingdom   \n",
      "1    536365 2010-12-01 08:26:00         6       3.39  United Kingdom   \n",
      "2    536365 2010-12-01 08:26:00         8       2.75  United Kingdom   \n",
      "3    536365 2010-12-01 08:26:00         6       3.39  United Kingdom   \n",
      "4    536365 2010-12-01 08:26:00         6       3.39  United Kingdom   \n",
      "\n",
      "   Total_Price  \n",
      "0        15.30  \n",
      "1        20.34  \n",
      "2        22.00  \n",
      "3        20.34  \n",
      "4        20.34  \n"
     ]
    }
   ],
   "execution_count": 57
  },
  {
   "metadata": {},
   "cell_type": "markdown",
   "source": "**Paso 1: Crear métricas temporales**",
   "id": "cff8e26c488e1af4"
  },
  {
   "metadata": {
    "ExecuteTime": {
     "end_time": "2025-10-08T15:27:05.057763Z",
     "start_time": "2025-10-08T15:27:04.642887Z"
    }
   },
   "cell_type": "code",
   "source": [
    "# Asegurar que InvoiceDate es datetime\n",
    "ventas_ecommerce['InvoiceDate'] = pd.to_datetime(ventas_ecommerce['InvoiceDate'])\n",
    "\n",
    "# Extraer componentes temporales\n",
    "ventas_ecommerce['Year'] = ventas_ecommerce['InvoiceDate'].dt.year\n",
    "ventas_ecommerce['Month'] = ventas_ecommerce['InvoiceDate'].dt.month\n",
    "ventas_ecommerce['DayOfWeek'] = ventas_ecommerce['InvoiceDate'].dt.day_name()\n",
    "ventas_ecommerce['Hour'] = ventas_ecommerce['InvoiceDate'].dt.hour\n",
    "\n",
    "# Categorizar horas del día\n",
    "def categorize_hour(hour):\n",
    "    if 6 <= hour < 12:\n",
    "        return 'Mañana'\n",
    "    elif 12 <= hour < 18:\n",
    "        return 'Tarde'\n",
    "    elif 18 <= hour < 24:\n",
    "        return 'Noche'\n",
    "    else:\n",
    "        return 'Madrugada'\n",
    "\n",
    "ventas_ecommerce['TimeOfDay'] = ventas_ecommerce['Hour'].apply(categorize_hour)\n",
    "\n",
    "print(\"⏰ Métricas temporales:\")\n",
    "print(ventas_ecommerce[['InvoiceDate', 'Hour', 'TimeOfDay', 'DayOfWeek']].head())"
   ],
   "id": "1068cacda3305942",
   "outputs": [
    {
     "name": "stdout",
     "output_type": "stream",
     "text": [
      "⏰ Métricas temporales:\n",
      "          InvoiceDate  Hour TimeOfDay  DayOfWeek\n",
      "0 2010-12-01 08:26:00     8    Mañana  Wednesday\n",
      "1 2010-12-01 08:26:00     8    Mañana  Wednesday\n",
      "2 2010-12-01 08:26:00     8    Mañana  Wednesday\n",
      "3 2010-12-01 08:26:00     8    Mañana  Wednesday\n",
      "4 2010-12-01 08:26:00     8    Mañana  Wednesday\n"
     ]
    }
   ],
   "execution_count": 58
  },
  {
   "metadata": {},
   "cell_type": "markdown",
   "source": "**Paso 2: Crear segmentos de clientes por valor de compra**",
   "id": "a0355f7726bb6cb0"
  },
  {
   "metadata": {
    "ExecuteTime": {
     "end_time": "2025-10-08T15:28:06.843104Z",
     "start_time": "2025-10-08T15:28:06.650817Z"
    }
   },
   "cell_type": "code",
   "source": [
    "def segment_customer(total_price):\n",
    "    \"\"\"Segmenta clientes por valor de transacción.\"\"\"\n",
    "    if total_price >= 100:\n",
    "        return 'Premium'\n",
    "    elif total_price >= 50:\n",
    "        return 'Medio'\n",
    "    else:\n",
    "        return 'Básico'\n",
    "\n",
    "ventas_ecommerce['Customer_Segment'] = ventas_ecommerce['Total_Price'].apply(segment_customer)\n",
    "\n",
    "print(\"💎 Segmentación de clientes:\")\n",
    "print(ventas_ecommerce[['Total_Price', 'Customer_Segment']].head(10))"
   ],
   "id": "baa4a7fee64e8319",
   "outputs": [
    {
     "name": "stdout",
     "output_type": "stream",
     "text": [
      "💎 Segmentación de clientes:\n",
      "   Total_Price Customer_Segment\n",
      "0        15.30           Básico\n",
      "1        20.34           Básico\n",
      "2        22.00           Básico\n",
      "3        20.34           Básico\n",
      "4        20.34           Básico\n",
      "5        15.30           Básico\n",
      "6        25.50           Básico\n",
      "7        11.10           Básico\n",
      "8        11.10           Básico\n",
      "9        54.08            Medio\n"
     ]
    }
   ],
   "execution_count": 59
  },
  {
   "metadata": {},
   "cell_type": "markdown",
   "source": "**Paso 3: Análisis de patrones**",
   "id": "8bfc8df14632bb3b"
  },
  {
   "metadata": {
    "ExecuteTime": {
     "end_time": "2025-10-08T15:28:21.943791Z",
     "start_time": "2025-10-08T15:28:21.894713Z"
    }
   },
   "cell_type": "code",
   "source": [
    "# Análisis 1: Ventas por hora del día\n",
    "ventas_por_hora = ventas_ecommerce.groupby('TimeOfDay')['Total_Price'].agg([\n",
    "    ('Total_Sales', 'sum'),\n",
    "    ('Avg_Ticket', 'mean'),\n",
    "    ('Transactions', 'count')\n",
    "]).round(2)\n",
    "\n",
    "print(\"📊 Ventas por momento del día:\")\n",
    "print(ventas_por_hora)"
   ],
   "id": "c7d9bca980e6c06e",
   "outputs": [
    {
     "name": "stdout",
     "output_type": "stream",
     "text": [
      "📊 Ventas por momento del día:\n",
      "           Total_Sales  Avg_Ticket  Transactions\n",
      "TimeOfDay                                       \n",
      "Mañana      3555581.32       23.64        150376\n",
      "Noche        202919.84       16.17         12550\n",
      "Tarde       5989246.77       15.80        378983\n"
     ]
    }
   ],
   "execution_count": 60
  },
  {
   "metadata": {},
   "cell_type": "code",
   "outputs": [],
   "execution_count": null,
   "source": [
    "# Análisis 2: Distribución de segmentos por día de la semana\n",
    "segment_by_day = pd.crosstab(\n",
    "    ventas_ecommerce['DayOfWeek'],\n",
    "    ventas_ecommerce['Customer_Segment'],\n",
    "    normalize='index'\n",
    ") * 100\n",
    "\n",
    "print(\"\\n📈 Distribución de segmentos por día de la semana (%):\")\n",
    "print(segment_by_day.round(2))"
   ],
   "id": "c0ab928240e777eb"
  },
  {
   "metadata": {
    "ExecuteTime": {
     "end_time": "2025-10-08T15:30:10.405586Z",
     "start_time": "2025-10-08T15:30:10.348689Z"
    }
   },
   "cell_type": "code",
   "source": [
    "# Análisis 3: Top 5 países por ingresos\n",
    "top_countries = ventas_ecommerce.groupby('Country')['Total_Price'].sum().sort_values(ascending=False).head()\n",
    "\n",
    "print(\"\\n🌍 Top 5 países por ingresos:\")\n",
    "top_countries"
   ],
   "id": "732d5cdda8f24c43",
   "outputs": [
    {
     "name": "stdout",
     "output_type": "stream",
     "text": [
      "\n",
      "🌍 Top 5 países por ingresos:\n"
     ]
    },
    {
     "data": {
      "text/plain": [
       "Country\n",
       "United Kingdom    8187806.364\n",
       "Netherlands        284661.540\n",
       "EIRE               263276.820\n",
       "Germany            221698.210\n",
       "France             197403.900\n",
       "Name: Total_Price, dtype: float64"
      ]
     },
     "execution_count": 62,
     "metadata": {},
     "output_type": "execute_result"
    }
   ],
   "execution_count": 62
  },
  {
   "metadata": {},
   "cell_type": "markdown",
   "source": [
    "**🎯 Insights del Caso 1:**\n",
    "\n",
    "✅ **Patrón temporal**: Identificamos que las tardes tienen mayor actividad\n",
    "✅ **Segmentación**: La mayoría de clientes son \"Básicos\", oportunidad de upselling\n",
    "✅ **Geolocalización**: UK domina las ventas, seguido de otros países europeos\n",
    "✅ **Aplicación al proyecto**: Estas transformaciones te preparan para calcular CSAT por segmento temporal y de valor"
   ],
   "id": "a2ad1692e6c139c4"
  },
  {
   "metadata": {},
   "cell_type": "markdown",
   "source": [
    "### Caso de Uso 2: Preparación de Datos para Modelo de Churn\n",
    "\n",
    "**Contexto:** Necesitas preparar un dataset de clientes para predecir si abandonarán el servicio (churn). Esto requiere crear features agregadas por cliente desde transacciones individuales.\n",
    "\n",
    "**Objetivo:** Transformar datos transaccionales en features a nivel de cliente."
   ],
   "id": "db65b640c8820dd4"
  },
  {
   "metadata": {
    "ExecuteTime": {
     "end_time": "2025-10-08T15:41:36.408145Z",
     "start_time": "2025-10-08T15:41:36.153900Z"
    }
   },
   "cell_type": "code",
   "source": [
    "# Filtrar datos con CustomerID válido\n",
    "clientes_data = df[df['CustomerID'].notna()].copy()\n",
    "\n",
    "print(\"📊 Datos de clientes (con ID válido):\")\n",
    "print(f\"Total de transacciones: {len(clientes_data)}\")\n",
    "print(f\"Clientes únicos: {clientes_data['CustomerID'].nunique()}\")"
   ],
   "id": "684997b758b9a5c6",
   "outputs": [
    {
     "name": "stdout",
     "output_type": "stream",
     "text": [
      "📊 Datos de clientes (con ID válido):\n",
      "Total de transacciones: 406829\n",
      "Clientes únicos: 4372\n"
     ]
    }
   ],
   "execution_count": 71
  },
  {
   "metadata": {
    "ExecuteTime": {
     "end_time": "2025-10-08T15:41:38.614894Z",
     "start_time": "2025-10-08T15:41:38.494254Z"
    }
   },
   "cell_type": "code",
   "source": [
    "# Crear features agregadas por cliente\n",
    "customer_features = clientes_data.groupby('CustomerID').agg({\n",
    "    'InvoiceNo': 'nunique',           # Total de compras\n",
    "    'Quantity': 'sum',                 # Total de items comprados\n",
    "    'Total_Price': ['sum', 'mean'],   # Ingresos totales y promedio\n",
    "    'Country': 'first'                 # País del cliente\n",
    "})\n",
    "\n",
    "# IMPORTANTE: Aplanar las columnas multi-nivel y resetear índice\n",
    "customer_features.columns = ['Total_Purchases', 'Total_Items', 'Total_Revenue', 'Avg_Transaction', 'Country']\n",
    "customer_features = customer_features.reset_index()  # ✅ Esto convierte CustomerID de índice a columna\n",
    "\n",
    "print(\"🎯 Features agregadas por cliente:\")\n",
    "print(customer_features.head(10))"
   ],
   "id": "8d554f600fd1bfb4",
   "outputs": [
    {
     "name": "stdout",
     "output_type": "stream",
     "text": [
      "🎯 Features agregadas por cliente:\n",
      "   CustomerID  Total_Purchases  Total_Items  Total_Revenue  Avg_Transaction  \\\n",
      "0     12346.0                2            0           0.00         0.000000   \n",
      "1     12347.0                7         2458        4310.00        23.681319   \n",
      "2     12348.0                4         2341        1797.24        57.975484   \n",
      "3     12349.0                1          631        1757.55        24.076027   \n",
      "4     12350.0                1          197         334.40        19.670588   \n",
      "5     12352.0               11          470        1545.41        16.267474   \n",
      "6     12353.0                1           20          89.00        22.250000   \n",
      "7     12354.0                1          530        1079.40        18.610345   \n",
      "8     12355.0                1          240         459.40        35.338462   \n",
      "9     12356.0                3         1591        2811.43        47.651356   \n",
      "\n",
      "          Country  \n",
      "0  United Kingdom  \n",
      "1         Iceland  \n",
      "2         Finland  \n",
      "3           Italy  \n",
      "4          Norway  \n",
      "5          Norway  \n",
      "6         Bahrain  \n",
      "7           Spain  \n",
      "8         Bahrain  \n",
      "9        Portugal  \n"
     ]
    }
   ],
   "execution_count": 72
  },
  {
   "metadata": {},
   "cell_type": "markdown",
   "source": "**Paso 2: Crear features de comportamiento**",
   "id": "894e2d8679c096a9"
  },
  {
   "metadata": {
    "ExecuteTime": {
     "end_time": "2025-10-08T15:41:48.428006Z",
     "start_time": "2025-10-08T15:41:48.378825Z"
    }
   },
   "cell_type": "code",
   "source": [
    "# Feature 1: Frecuencia de compra\n",
    "clientes_data['InvoiceDate'] = pd.to_datetime(clientes_data['InvoiceDate'])\n",
    "date_range = (clientes_data['InvoiceDate'].max() - clientes_data['InvoiceDate'].min()).days / 30\n",
    "customer_features['Purchase_Frequency'] = (customer_features['Total_Purchases'] / date_range).round(2)\n",
    "\n",
    "# Feature 2: Valor promedio por item\n",
    "customer_features['Avg_Item_Value'] = (\n",
    "    customer_features['Total_Revenue'] / customer_features['Total_Items']\n",
    ").round(2)\n",
    "\n",
    "# Feature 3: Categorizar por valor\n",
    "def categorize_customer_value(revenue):\n",
    "    if revenue >= 5000:\n",
    "        return 'VIP'\n",
    "    elif revenue >= 2000:\n",
    "        return 'Alto Valor'\n",
    "    elif revenue >= 500:\n",
    "        return 'Valor Medio'\n",
    "    else:\n",
    "        return 'Bajo Valor'\n",
    "\n",
    "customer_features['Value_Segment'] = customer_features['Total_Revenue'].apply(categorize_customer_value)\n",
    "\n",
    "print(\"📊 Features de comportamiento:\")\n",
    "print(customer_features[['CustomerID', 'Purchase_Frequency', 'Avg_Item_Value', 'Value_Segment']].head())"
   ],
   "id": "9a9785e312523233",
   "outputs": [
    {
     "name": "stdout",
     "output_type": "stream",
     "text": [
      "📊 Features de comportamiento:\n",
      "   CustomerID  Purchase_Frequency  Avg_Item_Value Value_Segment\n",
      "0     12346.0                0.16             NaN    Bajo Valor\n",
      "1     12347.0                0.56            1.75    Alto Valor\n",
      "2     12348.0                0.32            0.77   Valor Medio\n",
      "3     12349.0                0.08            2.79   Valor Medio\n",
      "4     12350.0                0.08            1.70    Bajo Valor\n"
     ]
    }
   ],
   "execution_count": 73
  },
  {
   "metadata": {},
   "cell_type": "markdown",
   "source": "**Paso 3: Crear features de engagement**",
   "id": "bca061ae82d1c511"
  },
  {
   "metadata": {
    "ExecuteTime": {
     "end_time": "2025-10-08T15:41:57.771029Z",
     "start_time": "2025-10-08T15:41:57.659625Z"
    }
   },
   "cell_type": "code",
   "source": [
    "# Feature 4: Días desde última compra\n",
    "last_purchase_dates = clientes_data.groupby('CustomerID')['InvoiceDate'].max().reset_index()\n",
    "last_purchase_dates.columns = ['CustomerID', 'Last_Purchase_Date']\n",
    "\n",
    "# Calcular días desde última compra\n",
    "max_date = clientes_data['InvoiceDate'].max()\n",
    "last_purchase_dates['Days_Since_Last_Purchase'] = (max_date - last_purchase_dates['Last_Purchase_Date']).dt.days\n",
    "\n",
    "# Hacer merge\n",
    "customer_features = customer_features.merge(\n",
    "    last_purchase_dates[['CustomerID', 'Days_Since_Last_Purchase']],\n",
    "    on='CustomerID',\n",
    "    how='left'\n",
    ")\n",
    "\n",
    "# Feature 5: Engagement Score\n",
    "def calculate_engagement_score(row):\n",
    "    \"\"\"Calcula score de engagement (0-100).\"\"\"\n",
    "    frequency_score = min(row['Purchase_Frequency'] * 10, 40)\n",
    "    recency_score = max(40 - (row['Days_Since_Last_Purchase'] / 10), 0)\n",
    "    value_score = min(row['Total_Revenue'] / 100, 20)\n",
    "    return round(frequency_score + recency_score + value_score, 2)\n",
    "\n",
    "customer_features['Engagement_Score'] = customer_features.apply(calculate_engagement_score, axis=1)\n",
    "\n",
    "print(\"🎯 Features de engagement:\")\n",
    "print(customer_features[['CustomerID', 'Days_Since_Last_Purchase', 'Engagement_Score', 'Value_Segment']].head(10))"
   ],
   "id": "68bfa8e18639c10b",
   "outputs": [
    {
     "name": "stdout",
     "output_type": "stream",
     "text": [
      "🎯 Features de engagement:\n",
      "   CustomerID  Days_Since_Last_Purchase  Engagement_Score Value_Segment\n",
      "0     12346.0                       325              9.10    Bajo Valor\n",
      "1     12347.0                         1             65.50    Alto Valor\n",
      "2     12348.0                        74             53.77   Valor Medio\n",
      "3     12349.0                        18             56.58   Valor Medio\n",
      "4     12350.0                       309             13.24    Bajo Valor\n",
      "5     12352.0                        35             60.75   Valor Medio\n",
      "6     12353.0                       203             21.39    Bajo Valor\n",
      "7     12354.0                       231             28.49   Valor Medio\n",
      "8     12355.0                       213             24.09    Bajo Valor\n",
      "9     12356.0                        22             60.20    Alto Valor\n"
     ]
    }
   ],
   "execution_count": 74
  },
  {
   "metadata": {
    "ExecuteTime": {
     "end_time": "2025-10-08T15:42:19.815657Z",
     "start_time": "2025-10-08T15:42:19.802753Z"
    }
   },
   "cell_type": "code",
   "source": [
    "# Resumen estadístico del engagement\n",
    "print(\"\\n📈 Distribución del Engagement Score:\")\n",
    "print(customer_features['Engagement_Score'].describe())\n",
    "\n",
    "print(\"\\n📊 Clientes por segmento de valor:\")\n",
    "print(customer_features['Value_Segment'].value_counts())"
   ],
   "id": "dcb6fd5e494fc1ef",
   "outputs": [
    {
     "name": "stdout",
     "output_type": "stream",
     "text": [
      "\n",
      "📈 Distribución del Engagement Score:\n",
      "count    4372.000000\n",
      "mean       43.756157\n",
      "std        18.071417\n",
      "min       -16.480000\n",
      "25%        32.927500\n",
      "50%        43.495000\n",
      "75%        55.967500\n",
      "max       100.000000\n",
      "Name: Engagement_Score, dtype: float64\n",
      "\n",
      "📊 Clientes por segmento de valor:\n",
      "Value_Segment\n",
      "Bajo Valor     1832\n",
      "Valor Medio    1664\n",
      "Alto Valor      613\n",
      "VIP             263\n",
      "Name: count, dtype: int64\n"
     ]
    }
   ],
   "execution_count": 75
  },
  {
   "metadata": {},
   "cell_type": "markdown",
   "source": [
    "**🎯 Resultado del Caso 2:**\n",
    "\n",
    "✅ **De transacciones a cliente**: Transformamos 541K transacciones en ~4K perfiles de cliente\n",
    "✅ **Features predictivas**: Creamos métricas que indican probabilidad de churn\n",
    "✅ **Engagement Score**: Métrica compuesta para priorizar retención\n",
    "✅ **Aplicación práctica**: Estas transformaciones son fundamentales para modelos de ML\n",
    "\n",
    "**Conexión con tu proyecto CSAT:**\n",
    "- Podrías agregar puntajes CSAT por cliente\n",
    "- Calcular el CSAT promedio por segmento de valor\n",
    "- Identificar clientes VIP con baja satisfacción (riesgo de churn)"
   ],
   "id": "357a6118cda9d9c3"
  },
  {
   "metadata": {},
   "cell_type": "markdown",
   "source": [
    "---\n",
    "\n",
    "## Recursos Adicionales\n",
    "\n",
    "### Documentación oficial\n",
    "- [pandas.DataFrame.apply](https://pandas.pydata.org/docs/reference/api/pandas.DataFrame.apply.html)\n",
    "- [pandas.to_datetime](https://pandas.pydata.org/docs/reference/api/pandas.to_datetime.html)\n",
    "- [Working with datetime](https://pandas.pydata.org/docs/user_guide/timeseries.html)\n",
    "- [Lambda functions in Python](https://docs.python.org/3/tutorial/controlflow.html#lambda-expressions)\n",
    "\n",
    "### Archivos relacionados en el proyecto\n",
    "- `12_pd_seleccion_datos_loc_iloc.ipynb`: Selección de datos\n",
    "- `13_manejo_valores_faltantes.md`: Limpieza de datos\n",
    "- `data_loader.py`: Módulo de carga de datos\n",
    "\n",
    "### Próximos temas\n",
    "- Agrupación y agregación con `groupby()`\n",
    "- Combinación de DataFrames con `merge()` y `join()`\n",
    "- Operaciones con strings `.str`\n",
    "\n",
    "### Funciones útiles para transformaciones\n",
    "\n",
    "| Función | Uso | Ejemplo |\n",
    "|---------|-----|---------|\n",
    "| `apply()` | Aplicar función a columna/fila | `df['col'].apply(func)` |\n",
    "| `map()` | Mapear valores (dict o función) | `df['col'].map({'A': 1})` |\n",
    "| `astype()` | Convertir tipo de dato | `df['col'].astype(int)` |\n",
    "| `pd.to_datetime()` | Convertir a datetime | `pd.to_datetime(df['fecha'])` |\n",
    "| `np.where()` | Condicional vectorizado | `np.where(cond, val1, val2)` |\n",
    "| `np.select()` | Múltiples condiciones | `np.select([cond1, cond2], [val1, val2])` |\n",
    "\n",
    "---"
   ],
   "id": "79eb1c43d3dfb68a"
  }
 ],
 "metadata": {
  "kernelspec": {
   "display_name": "Python 3",
   "language": "python",
   "name": "python3"
  },
  "language_info": {
   "codemirror_mode": {
    "name": "ipython",
    "version": 2
   },
   "file_extension": ".py",
   "mimetype": "text/x-python",
   "name": "python",
   "nbconvert_exporter": "python",
   "pygments_lexer": "ipython2",
   "version": "2.7.6"
  }
 },
 "nbformat": 4,
 "nbformat_minor": 5
}
