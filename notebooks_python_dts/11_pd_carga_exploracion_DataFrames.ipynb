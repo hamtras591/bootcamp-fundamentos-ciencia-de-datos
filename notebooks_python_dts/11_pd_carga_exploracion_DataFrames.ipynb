{
 "cells": [
  {
   "metadata": {},
   "cell_type": "markdown",
   "source": [
    "# Creación DataFrames con Pandas\n",
    "\n",
    "**Curso:** Python para Ciencia de Datos\n",
    "**Tema:** Creación DataFrames desde diferentes objetivos: Listas, Diccionarios, Archivos CSV, JSON, Excel, etc.\n",
    "**Fecha:** 07 de Octubre, 2025\n",
    "\n",
    "---"
   ],
   "id": "6e1ccf7b32a5b148"
  },
  {
   "metadata": {
    "collapsed": true,
    "ExecuteTime": {
     "end_time": "2025-10-07T23:23:28.118196Z",
     "start_time": "2025-10-07T23:23:27.209666Z"
    }
   },
   "cell_type": "code",
   "source": [
    "# Invocación de clases para cargar datos sin preocuparse por encoding\n",
    "from data_loader import load_data, load_and_clean\n",
    "import pandas as pd\n",
    "\n",
    "# Cargar cualquier archivo sin preocuparte por encoding\n",
    "df = load_data('online_retail.csv')\n",
    "\n",
    "print(df.head())"
   ],
   "id": "6336825aa2adbd6f",
   "outputs": [
    {
     "name": "stdout",
     "output_type": "stream",
     "text": [
      "📊 Separador detectado: ','\n",
      "🔤 Encoding detectado: ascii (100.0% confianza)\n",
      "⚠️ Error de encoding, intentando con latin-1\n",
      "  InvoiceNo StockCode                          Description  Quantity  \\\n",
      "0    536365    85123A   WHITE HANGING HEART T-LIGHT HOLDER         6   \n",
      "1    536365     71053                  WHITE METAL LANTERN         6   \n",
      "2    536365    84406B       CREAM CUPID HEARTS COAT HANGER         8   \n",
      "3    536365    84029G  KNITTED UNION FLAG HOT WATER BOTTLE         6   \n",
      "4    536365    84029E       RED WOOLLY HOTTIE WHITE HEART.         6   \n",
      "\n",
      "    InvoiceDate  UnitPrice  CustomerID         Country  \n",
      "0  12/1/10 8:26       2.55     17850.0  United Kingdom  \n",
      "1  12/1/10 8:26       3.39     17850.0  United Kingdom  \n",
      "2  12/1/10 8:26       2.75     17850.0  United Kingdom  \n",
      "3  12/1/10 8:26       3.39     17850.0  United Kingdom  \n",
      "4  12/1/10 8:26       3.39     17850.0  United Kingdom  \n"
     ]
    }
   ],
   "execution_count": 44
  },
  {
   "metadata": {},
   "cell_type": "markdown",
   "source": [
    "# Limpieza y Preparación de Datos con Pandas\n",
    "\n",
    "La calidad de un análisis de datos o de un modelo de machine learning depende directamente de la calidad de los datos de entrada. El proceso de **limpieza de datos** (o *data cleaning*) consiste en identificar y corregir errores, inconsistencias y valores faltantes en un dataset para asegurar que sea preciso y fiable.\n",
    "\n",
    "**Pandas** es la librería por excelencia en Python para esta tarea, ofreciéndonos un arsenal de herramientas para transformar datos \"sucios\" en un formato limpio y estructurado."
   ],
   "id": "cb8bdd75ada8a610"
  },
  {
   "metadata": {},
   "cell_type": "markdown",
   "source": [
    "## 1. Preparación: Creando un Dataset \"Sucio\"\n",
    "\n",
    "Para nuestro ejercicio, vamos a crear un pequeño DataFrame de Pandas que simula los problemas más comunes que encontrarás en el mundo real: valores faltantes, tipos de datos incorrectos, duplicados y texto inconsistente."
   ],
   "id": "9b8d272d419c440b"
  },
  {
   "metadata": {
    "ExecuteTime": {
     "end_time": "2025-10-07T23:23:31.395892Z",
     "start_time": "2025-10-07T23:23:31.365011Z"
    }
   },
   "cell_type": "code",
   "source": [
    "import pandas as pd\n",
    "import numpy as np\n",
    "\n",
    "# Creamos un diccionario con datos \"sucios\"\n",
    "data = {\n",
    "    'fecha_venta': ['2025-10-01', '2025-10-02', '2025-10-03', '2025-10-03', '2025-10-05', '2025-10-06'],\n",
    "    'producto': [' Laptop ', 'Mouse', 'Teclado', 'Teclado', 'Monitor', ' laptop '],\n",
    "    'precio': [1200, 45, '70.0', '70.0', 320, 1250],\n",
    "    'cantidad': [1, 2, 1, 1, np.nan, 1] # np.nan representa un valor faltante\n",
    "}\n",
    "\n",
    "# Creamos el DataFrame\n",
    "df = pd.DataFrame(data)\n",
    "\n",
    "print(\"--- DataFrame Original (Sucio) ---\")\n",
    "df"
   ],
   "id": "8ae70ab4bb1b4eb6",
   "outputs": [
    {
     "name": "stdout",
     "output_type": "stream",
     "text": [
      "--- DataFrame Original (Sucio) ---\n"
     ]
    },
    {
     "data": {
      "text/plain": [
       "  fecha_venta  producto precio  cantidad\n",
       "0  2025-10-01   Laptop    1200       1.0\n",
       "1  2025-10-02     Mouse     45       2.0\n",
       "2  2025-10-03   Teclado   70.0       1.0\n",
       "3  2025-10-03   Teclado   70.0       1.0\n",
       "4  2025-10-05   Monitor    320       NaN\n",
       "5  2025-10-06   laptop    1250       1.0"
      ],
      "text/html": [
       "<div>\n",
       "<style scoped>\n",
       "    .dataframe tbody tr th:only-of-type {\n",
       "        vertical-align: middle;\n",
       "    }\n",
       "\n",
       "    .dataframe tbody tr th {\n",
       "        vertical-align: top;\n",
       "    }\n",
       "\n",
       "    .dataframe thead th {\n",
       "        text-align: right;\n",
       "    }\n",
       "</style>\n",
       "<table border=\"1\" class=\"dataframe\">\n",
       "  <thead>\n",
       "    <tr style=\"text-align: right;\">\n",
       "      <th></th>\n",
       "      <th>fecha_venta</th>\n",
       "      <th>producto</th>\n",
       "      <th>precio</th>\n",
       "      <th>cantidad</th>\n",
       "    </tr>\n",
       "  </thead>\n",
       "  <tbody>\n",
       "    <tr>\n",
       "      <th>0</th>\n",
       "      <td>2025-10-01</td>\n",
       "      <td>Laptop</td>\n",
       "      <td>1200</td>\n",
       "      <td>1.0</td>\n",
       "    </tr>\n",
       "    <tr>\n",
       "      <th>1</th>\n",
       "      <td>2025-10-02</td>\n",
       "      <td>Mouse</td>\n",
       "      <td>45</td>\n",
       "      <td>2.0</td>\n",
       "    </tr>\n",
       "    <tr>\n",
       "      <th>2</th>\n",
       "      <td>2025-10-03</td>\n",
       "      <td>Teclado</td>\n",
       "      <td>70.0</td>\n",
       "      <td>1.0</td>\n",
       "    </tr>\n",
       "    <tr>\n",
       "      <th>3</th>\n",
       "      <td>2025-10-03</td>\n",
       "      <td>Teclado</td>\n",
       "      <td>70.0</td>\n",
       "      <td>1.0</td>\n",
       "    </tr>\n",
       "    <tr>\n",
       "      <th>4</th>\n",
       "      <td>2025-10-05</td>\n",
       "      <td>Monitor</td>\n",
       "      <td>320</td>\n",
       "      <td>NaN</td>\n",
       "    </tr>\n",
       "    <tr>\n",
       "      <th>5</th>\n",
       "      <td>2025-10-06</td>\n",
       "      <td>laptop</td>\n",
       "      <td>1250</td>\n",
       "      <td>1.0</td>\n",
       "    </tr>\n",
       "  </tbody>\n",
       "</table>\n",
       "</div>"
      ]
     },
     "execution_count": 45,
     "metadata": {},
     "output_type": "execute_result"
    }
   ],
   "execution_count": 45
  },
  {
   "metadata": {},
   "cell_type": "markdown",
   "source": [
    "## 2. Primer Vistazo y Conversión de Tipos\n",
    "\n",
    "El primer paso siempre es entender nuestros datos. Usamos `.info()` para ver un resumen, incluyendo los tipos de datos de cada columna.\n",
    "\n",
    "**Observaciones:**\n",
    "* `fecha_venta` es un `object` (texto), cuando debería ser una fecha.\n",
    "* `precio` es un `object` porque contiene valores de texto.\n",
    "* `cantidad` tiene un valor faltante (5 non-null de 6)."
   ],
   "id": "5bfa23989393479f"
  },
  {
   "metadata": {
    "ExecuteTime": {
     "end_time": "2025-10-07T23:23:49.648031Z",
     "start_time": "2025-10-07T23:23:49.628930Z"
    }
   },
   "cell_type": "code",
   "source": [
    "# .info() nos da un diagnóstico rápido del DataFrame\n",
    "df.info()\n",
    "\n",
    "\n",
    "# Convertimos la columna de fecha a un tipo de dato de fecha real\n",
    "df['fecha_venta'] = pd.to_datetime(df['fecha_venta'])\n",
    "\n",
    "# Convertimos el precio a un tipo numérico, 'coerce' convierte errores en NaT\n",
    "df['precio'] = pd.to_numeric(df['precio'], errors='coerce')\n",
    "\n",
    "print(\"\\n--- DataFrame con Tipos Corregidos ---\")\n",
    "df.info()\n",
    "\n"
   ],
   "id": "53f1cacd6cc8a179",
   "outputs": [
    {
     "name": "stdout",
     "output_type": "stream",
     "text": [
      "<class 'pandas.core.frame.DataFrame'>\n",
      "RangeIndex: 6 entries, 0 to 5\n",
      "Data columns (total 4 columns):\n",
      " #   Column       Non-Null Count  Dtype  \n",
      "---  ------       --------------  -----  \n",
      " 0   fecha_venta  6 non-null      object \n",
      " 1   producto     6 non-null      object \n",
      " 2   precio       6 non-null      object \n",
      " 3   cantidad     5 non-null      float64\n",
      "dtypes: float64(1), object(3)\n",
      "memory usage: 324.0+ bytes\n",
      "\n",
      "--- DataFrame con Tipos Corregidos ---\n",
      "<class 'pandas.core.frame.DataFrame'>\n",
      "RangeIndex: 6 entries, 0 to 5\n",
      "Data columns (total 4 columns):\n",
      " #   Column       Non-Null Count  Dtype         \n",
      "---  ------       --------------  -----         \n",
      " 0   fecha_venta  6 non-null      datetime64[ns]\n",
      " 1   producto     6 non-null      object        \n",
      " 2   precio       6 non-null      float64       \n",
      " 3   cantidad     5 non-null      float64       \n",
      "dtypes: datetime64[ns](1), float64(2), object(1)\n",
      "memory usage: 324.0+ bytes\n"
     ]
    }
   ],
   "execution_count": 47
  },
  {
   "metadata": {},
   "cell_type": "markdown",
   "source": [
    "## 3. Manejo de Valores Faltantes (NaN)\n",
    "\n",
    "Los valores faltantes son el enemigo de muchos análisis y modelos. Tenemos dos estrategias principales:\n",
    "\n",
    "1.  **Eliminarlos (`.dropna()`):** Rápido y fácil, pero puedes perder información valiosa si eliminas muchas filas.\n",
    "2.  **Imputarlos (`.fillna()`):** Reemplazarlos con un valor estimado (como la media, la mediana o un valor constante)."
   ],
   "id": "bae74097ac17147c"
  },
  {
   "metadata": {
    "ExecuteTime": {
     "end_time": "2025-10-07T23:23:52.539731Z",
     "start_time": "2025-10-07T23:23:52.527231Z"
    }
   },
   "cell_type": "code",
   "source": [
    "# Primero, vemos cuántos valores faltantes hay por columna\n",
    "print(\"--- Valores Faltantes por Columna ---\")\n",
    "print(df.isnull().sum())\n",
    "\n",
    "# Decidimos imputar la cantidad faltante con la mediana de esa columna\n",
    "mediana_cantidad = df['cantidad'].median()\n",
    "df['cantidad'].fillna(mediana_cantidad, inplace=True)\n",
    "\n",
    "print(\"\\n--- DataFrame sin Valores Faltantes ---\")\n",
    "print(df.isnull().sum())"
   ],
   "id": "8e4579d639cdf7ee",
   "outputs": [
    {
     "name": "stdout",
     "output_type": "stream",
     "text": [
      "--- Valores Faltantes por Columna ---\n",
      "fecha_venta    0\n",
      "producto       0\n",
      "precio         0\n",
      "cantidad       1\n",
      "dtype: int64\n",
      "\n",
      "--- DataFrame sin Valores Faltantes ---\n",
      "fecha_venta    0\n",
      "producto       0\n",
      "precio         0\n",
      "cantidad       0\n",
      "dtype: int64\n"
     ]
    },
    {
     "name": "stderr",
     "output_type": "stream",
     "text": [
      "C:\\Users\\hamtr\\AppData\\Local\\Temp\\ipykernel_11028\\2163871593.py:7: FutureWarning: A value is trying to be set on a copy of a DataFrame or Series through chained assignment using an inplace method.\n",
      "The behavior will change in pandas 3.0. This inplace method will never work because the intermediate object on which we are setting values always behaves as a copy.\n",
      "\n",
      "For example, when doing 'df[col].method(value, inplace=True)', try using 'df.method({col: value}, inplace=True)' or df[col] = df[col].method(value) instead, to perform the operation inplace on the original object.\n",
      "\n",
      "\n",
      "  df['cantidad'].fillna(mediana_cantidad, inplace=True)\n"
     ]
    }
   ],
   "execution_count": 48
  },
  {
   "metadata": {},
   "cell_type": "markdown",
   "source": [
    "## 4. Eliminación de Duplicados\n",
    "\n",
    "Los datos duplicados pueden sesgar nuestros resultados (ej. contar una venta dos veces).\n",
    "\n",
    "* **`.duplicated()`**: Identifica las filas que son duplicados exactos.\n",
    "* **`.drop_duplicates()`**: Elimina esas filas duplicadas."
   ],
   "id": "b50702239c300adb"
  },
  {
   "metadata": {
    "ExecuteTime": {
     "end_time": "2025-10-07T23:23:55.711346Z",
     "start_time": "2025-10-07T23:23:55.701292Z"
    }
   },
   "cell_type": "code",
   "source": [
    "# Verificamos si hay filas duplicadas\n",
    "print(f\"Número de filas duplicadas: {df.duplicated().sum()}\")\n",
    "\n",
    "# Eliminamos las filas duplicadas, 'inplace=True' modifica el DataFrame directamente\n",
    "df.drop_duplicates(inplace=True)\n",
    "\n",
    "print(f\"DataFrame después de eliminar duplicados. Filas restantes: {len(df)}\")"
   ],
   "id": "81353d61bf7ea459",
   "outputs": [
    {
     "name": "stdout",
     "output_type": "stream",
     "text": [
      "Número de filas duplicadas: 1\n",
      "DataFrame después de eliminar duplicados. Filas restantes: 5\n"
     ]
    }
   ],
   "execution_count": 49
  },
  {
   "metadata": {},
   "cell_type": "markdown",
   "source": [
    "## 5. Limpieza de Texto y Creación de Nuevas Columnas\n",
    "\n",
    "A menudo, los datos de texto son inconsistentes. Es una buena práctica estandarizarlos (ej. a minúsculas, sin espacios extra). También podemos crear nuevas columnas a partir de las existentes."
   ],
   "id": "35840eb92e499f7"
  },
  {
   "metadata": {
    "ExecuteTime": {
     "end_time": "2025-10-07T23:25:53.755774Z",
     "start_time": "2025-10-07T23:25:53.737961Z"
    }
   },
   "cell_type": "code",
   "source": [
    "# Limpiamos la columna 'producto' usando métodos de string (.str)\n",
    "df['producto'] = df['producto'].str.strip().str.lower()\n",
    "\n",
    "# Creamos una nueva columna 'ingreso_total'\n",
    "df['ingreso_total'] = df['precio'] * df['cantidad']\n",
    "\n",
    "print(\"--- DataFrame Final y Limpio ---\")\n",
    "df"
   ],
   "id": "678ef3af3454e85f",
   "outputs": [
    {
     "name": "stdout",
     "output_type": "stream",
     "text": [
      "--- DataFrame Final y Limpio ---\n"
     ]
    },
    {
     "data": {
      "text/plain": [
       "  fecha_venta producto  precio  cantidad  ingreso_total\n",
       "0  2025-10-01   laptop  1200.0       1.0         1200.0\n",
       "1  2025-10-02    mouse    45.0       2.0           90.0\n",
       "2  2025-10-03  teclado    70.0       1.0           70.0\n",
       "4  2025-10-05  monitor   320.0       1.0          320.0\n",
       "5  2025-10-06   laptop  1250.0       1.0         1250.0"
      ],
      "text/html": [
       "<div>\n",
       "<style scoped>\n",
       "    .dataframe tbody tr th:only-of-type {\n",
       "        vertical-align: middle;\n",
       "    }\n",
       "\n",
       "    .dataframe tbody tr th {\n",
       "        vertical-align: top;\n",
       "    }\n",
       "\n",
       "    .dataframe thead th {\n",
       "        text-align: right;\n",
       "    }\n",
       "</style>\n",
       "<table border=\"1\" class=\"dataframe\">\n",
       "  <thead>\n",
       "    <tr style=\"text-align: right;\">\n",
       "      <th></th>\n",
       "      <th>fecha_venta</th>\n",
       "      <th>producto</th>\n",
       "      <th>precio</th>\n",
       "      <th>cantidad</th>\n",
       "      <th>ingreso_total</th>\n",
       "    </tr>\n",
       "  </thead>\n",
       "  <tbody>\n",
       "    <tr>\n",
       "      <th>0</th>\n",
       "      <td>2025-10-01</td>\n",
       "      <td>laptop</td>\n",
       "      <td>1200.0</td>\n",
       "      <td>1.0</td>\n",
       "      <td>1200.0</td>\n",
       "    </tr>\n",
       "    <tr>\n",
       "      <th>1</th>\n",
       "      <td>2025-10-02</td>\n",
       "      <td>mouse</td>\n",
       "      <td>45.0</td>\n",
       "      <td>2.0</td>\n",
       "      <td>90.0</td>\n",
       "    </tr>\n",
       "    <tr>\n",
       "      <th>2</th>\n",
       "      <td>2025-10-03</td>\n",
       "      <td>teclado</td>\n",
       "      <td>70.0</td>\n",
       "      <td>1.0</td>\n",
       "      <td>70.0</td>\n",
       "    </tr>\n",
       "    <tr>\n",
       "      <th>4</th>\n",
       "      <td>2025-10-05</td>\n",
       "      <td>monitor</td>\n",
       "      <td>320.0</td>\n",
       "      <td>1.0</td>\n",
       "      <td>320.0</td>\n",
       "    </tr>\n",
       "    <tr>\n",
       "      <th>5</th>\n",
       "      <td>2025-10-06</td>\n",
       "      <td>laptop</td>\n",
       "      <td>1250.0</td>\n",
       "      <td>1.0</td>\n",
       "      <td>1250.0</td>\n",
       "    </tr>\n",
       "  </tbody>\n",
       "</table>\n",
       "</div>"
      ]
     },
     "execution_count": 55,
     "metadata": {},
     "output_type": "execute_result"
    }
   ],
   "execution_count": 55
  }
 ],
 "metadata": {
  "kernelspec": {
   "display_name": "Python 3",
   "language": "python",
   "name": "python3"
  },
  "language_info": {
   "codemirror_mode": {
    "name": "ipython",
    "version": 2
   },
   "file_extension": ".py",
   "mimetype": "text/x-python",
   "name": "python",
   "nbconvert_exporter": "python",
   "pygments_lexer": "ipython2",
   "version": "2.7.6"
  }
 },
 "nbformat": 4,
 "nbformat_minor": 5
}
