{
 "cells": [
  {
   "metadata": {},
   "cell_type": "markdown",
   "source": [
    "# Desafío Práctico: Procesador de Comentarios de Clientes\n",
    "\n",
    "## 1. El Escenario y el Objetivo\n",
    "El objetivo de este desafío es tomar una lista de comentarios de clientes en formato \"crudo\" y transformarla en una estructura de datos limpia y útil (una lista de diccionarios). Cada diccionario contendrá el texto original, el texto procesado y métricas clave extraídas del comentario.\n",
    "\n",
    "## 2. Los Datos de Entrada\n",
    "Comenzamos con la lista de datos sin procesar proporcionada para el ejercicio."
   ],
   "id": "5c2b112b0bde995c"
  },
  {
   "metadata": {
    "ExecuteTime": {
     "end_time": "2025-09-19T14:36:40.441946Z",
     "start_time": "2025-09-19T14:36:40.434751Z"
    }
   },
   "cell_type": "code",
   "outputs": [],
   "execution_count": 7,
   "source": [
    "comentarios_clientes = [\n",
    "    \"  Excelente producto! Muy bueno. Lo recomiendo. \",\n",
    "    \"El servicio de entrega fue TERRIBLE. Muy malo. \",\n",
    "    \"         me gusto mucho, es de buena calidad. \",\n",
    "    \"No fue lo que esperaba, el material es de mala calidad.\",\n",
    "    \"bueno bonito y barato! Excelente! \"\n",
    "]"
   ],
   "id": "2f885e2b68ea49e"
  },
  {
   "metadata": {},
   "cell_type": "markdown",
   "source": [
    "## 3. El Proceso: Construyendo la Solución Paso a Paso\n",
    "\n",
    "Para resolver el problema, seguimos una secuencia lógica de pasos dentro de un único bucle `for` para procesar cada comentario de forma individual y eficiente.\n",
    "\n",
    "### Paso 3.1: Estructura Principal y Normalización\n",
    "Iniciamos con una lista vacía para guardar los resultados. Usamos `enumerate()` en nuestro bucle `for` para obtener un ID único (`índice`) y el `comentario` en cada iteración. La primera acción dentro del bucle es la **normalización del texto**: convertir a minúsculas y eliminar espacios extra.\n",
    "\n",
    "### Paso 3.2: Cálculo de Métricas\n",
    "Con el texto ya limpio, calculamos dos métricas simples:\n",
    "* **Cantidad de Palabras:** Usando `.split()` para dividir el string en una lista de palabras y `len()` para contar los elementos de esa lista.\n",
    "* **Cantidad de Caracteres:** Usando `len()` sobre el string normalizado.\n",
    "\n",
    "### Paso 3.3: Análisis de Sentimiento con RegEx\n",
    "Usamos un bloque `if/elif/else` para determinar el sentimiento. En lugar de buscar palabras exactas, aplicamos **expresiones regulares (`re.search`)** para encontrar patrones (ej. `buen[oa]`) y hacer nuestro análisis más robusto.\n",
    "\n",
    "### Paso 3.4: Ensamblaje y Almacenamiento\n",
    "Finalmente, creamos un diccionario temporal para guardar todos los datos procesados de la iteración actual y lo añadimos a nuestra lista de resultados con `.append()`."
   ],
   "id": "4942df5ade3fea3"
  },
  {
   "metadata": {},
   "cell_type": "markdown",
   "source": [
    "## 4. El Código Final: Solución Integrada\n",
    "Integrando todos los pasos anteriores, llegamos a una solución final, limpia y eficiente que resuelve el desafío en un solo bloque de código."
   ],
   "id": "585f265c1228de67"
  },
  {
   "metadata": {
    "ExecuteTime": {
     "end_time": "2025-09-19T15:25:19.777873Z",
     "start_time": "2025-09-19T15:25:19.770720Z"
    }
   },
   "cell_type": "code",
   "source": [
    "import re\n",
    "\n",
    "# Lista vacía para almacenar los resultados finales\n",
    "resultados_analisis = []\n",
    "\n",
    "# Iteramos sobre la lista original con enumerate para obtener un ID automático\n",
    "for indice, comentario_original in enumerate(comentarios_clientes):\n",
    "\n",
    "    # Paso 1: Normalizar el texto\n",
    "    # Encadenamos métodos para limpiar y estandarizar el comentario en una línea.\n",
    "    texto_normalizado = comentario_original.strip().lower()\n",
    "\n",
    "    # Paso 2: Calcular métricas\n",
    "    num_palabras = len(texto_normalizado.split())\n",
    "    num_caracteres = len(texto_normalizado)\n",
    "\n",
    "    # Paso 3: Determinar el sentimiento\n",
    "    sentimiento = \"Neutral\" # Valor por defecto\n",
    "    if re.search(\"buen[oa]|excelente\", texto_normalizado):\n",
    "        sentimiento = 'Positivo'\n",
    "    elif re.search(\"mal[oa]|terrible\", texto_normalizado):\n",
    "        sentimiento = 'Negativo'\n",
    "\n",
    "    # Paso 4: Ensamblar el diccionario para este comentario\n",
    "    analisis_dict = {\n",
    "        'id_comentario': indice + 1,\n",
    "        'texto_original': comentario_original,\n",
    "        'texto_normalizado': texto_normalizado,\n",
    "        'num_palabras': num_palabras,\n",
    "        'num_caracteres': num_caracteres,\n",
    "        'sentimiento': sentimiento\n",
    "    }\n",
    "\n",
    "    # ... y añadirlo a nuestra lista de resultados\n",
    "    resultados_analisis.append(analisis_dict)"
   ],
   "id": "bbf2cb50763efed2",
   "outputs": [
    {
     "name": "stdout",
     "output_type": "stream",
     "text": [
      "Se realizo la limpieza de los datos, cantidad de comentarios procesados: 5\n",
      "['Excelente producto! muy bueno. lo recomiendo.', 'El servicio de entrega fue terrible. muy malo.', 'Me gusto mucho, es de buena calidad.', 'No fue lo que esperaba, el material es de mala calidad.', 'Bueno bonito y barato! excelente!']\n"
     ]
    }
   ],
   "execution_count": 61
  },
  {
   "metadata": {},
   "cell_type": "markdown",
   "source": [
    "## 5. El Resultado: Datos Estructurados y Listos para Analizar\n",
    "El resultado final es una lista de diccionarios, un formato de datos estructurado ideal para ser cargado en una base de datos, un DataFrame de Pandas, o para cualquier análisis posterior."
   ],
   "id": "eed203b3c43669d9"
  },
  {
   "metadata": {
    "ExecuteTime": {
     "end_time": "2025-09-19T19:37:09.447489Z",
     "start_time": "2025-09-19T19:37:09.440123Z"
    }
   },
   "cell_type": "code",
   "source": [
    "# Para una mejor visualización, imprimimos cada diccionario de la lista\n",
    "for resultado in resultados_analisis:\n",
    "    print(resultado)"
   ],
   "id": "b3962271241c2259",
   "outputs": [
    {
     "name": "stdout",
     "output_type": "stream",
     "text": [
      "{'Id': 1, 'Comentario': 'Excelente producto! muy bueno. lo recomiendo.', 'Cantidad Palabras': 6, 'Cantidad Caracteres': 45, 'Sentimiento': 'Positivo'}\n",
      "{'Id': 2, 'Comentario': 'El servicio de entrega fue terrible. muy malo.', 'Cantidad Palabras': 8, 'Cantidad Caracteres': 46, 'Sentimiento': 'Negativo'}\n",
      "{'Id': 3, 'Comentario': 'Me gusto mucho, es de buena calidad.', 'Cantidad Palabras': 7, 'Cantidad Caracteres': 36, 'Sentimiento': 'Positivo'}\n",
      "{'Id': 4, 'Comentario': 'No fue lo que esperaba, el material es de mala calidad.', 'Cantidad Palabras': 11, 'Cantidad Caracteres': 55, 'Sentimiento': 'Negativo'}\n",
      "{'Id': 5, 'Comentario': 'Bueno bonito y barato! excelente!', 'Cantidad Palabras': 5, 'Cantidad Caracteres': 33, 'Sentimiento': 'Positivo'}\n"
     ]
    }
   ],
   "execution_count": 130
  }
 ],
 "metadata": {
  "kernelspec": {
   "name": "python3",
   "language": "python",
   "display_name": "Python 3 (ipykernel)"
  }
 },
 "nbformat": 4,
 "nbformat_minor": 5
}
