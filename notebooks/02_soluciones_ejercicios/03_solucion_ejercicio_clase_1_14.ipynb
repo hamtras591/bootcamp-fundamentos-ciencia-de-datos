{
 "cells": [
  {
   "metadata": {},
   "cell_type": "markdown",
   "source": [
    "## Desafío #2: Calculadora de Calificaciones\n",
    "\n",
    "**El Objetivo:** Tomar un diccionario de estudiantes y sus listas de notas, para calcular su promedio y determinar si aprobaron o reprobaron, generando una lista de reportes."
   ],
   "id": "6169aa65895eb329"
  },
  {
   "metadata": {
    "ExecuteTime": {
     "end_time": "2025-09-19T23:30:54.369186Z",
     "start_time": "2025-09-19T23:30:54.361489Z"
    }
   },
   "cell_type": "code",
   "source": [
    "# Datos de entrada\n",
    "calificaciones_estudiantes = {\n",
    "    \"Ana\": [90, 85, 92, 88],\n",
    "    \"Luis\": [65, 70, 68, 72],\n",
    "    \"Sofia\": [95, 98, 100, 97],\n",
    "    \"Carlos\": [50, 60, 55, 62]\n",
    "}"
   ],
   "id": "63e46c8a1af9ee4f",
   "outputs": [],
   "execution_count": 1
  },
  {
   "metadata": {},
   "cell_type": "markdown",
   "source": [
    "### La Lógica Manual: El Proceso \"Arcaico\"\n",
    "\n",
    "Antes de automatizar, es fundamental entender el proceso para un solo caso. Este bloque de código manual muestra paso a paso la lógica que luego replicaremos en el bucle: obtener las notas, sumarlas, dividirlas por la cantidad, tomar una decisión con `if/else`, crear un diccionario y guardarlo en la lista final."
   ],
   "id": "5333c54b6594c3eb"
  },
  {
   "metadata": {
    "ExecuteTime": {
     "end_time": "2025-09-20T00:05:20.646024Z",
     "start_time": "2025-09-20T00:05:20.635595Z"
    }
   },
   "cell_type": "code",
   "source": [
    "# Lista para guardar los resultados\n",
    "reporte_final_manual = []\n",
    "\n",
    "# --- Proceso para un solo estudiante: \"Luis\" ---\n",
    "\n",
    "# 1. Obtener la lista de notas\n",
    "calificaciones_luis = calificaciones_estudiantes['Luis']\n",
    "\n",
    "# 2. Calcular el promedio\n",
    "suma_notas_luis = sum(calificaciones_luis)\n",
    "cantidad_calificaciones_luis = len(calificaciones_luis)\n",
    "promedio_luis = suma_notas_luis / cantidad_calificaciones_luis\n",
    "\n",
    "# 3. Determinar el estado\n",
    "if promedio_luis >= 70:\n",
    "    estado_luis = \"Aprobado\"\n",
    "else:\n",
    "    estado_luis = \"Reprobado\"\n",
    "\n",
    "# 4. Crear el diccionario del reporte\n",
    "reporte_luis = {\n",
    "    \"nombre\": \"Luis\",\n",
    "    \"promedio\": promedio_luis,\n",
    "    \"estado\": estado_luis\n",
    "}\n",
    "\n",
    "# 5. Añadir el reporte a la lista final\n",
    "reporte_final_manual.append(reporte_luis)\n",
    "\n",
    "print(reporte_final_manual)"
   ],
   "id": "875b8c08ac98cbd1",
   "outputs": [
    {
     "name": "stdout",
     "output_type": "stream",
     "text": [
      "[{'nombre': 'Luis', 'promedio': 68.75, 'estado': 'Reprobado'}]\n"
     ]
    }
   ],
   "execution_count": 59
  },
  {
   "metadata": {},
   "cell_type": "markdown",
   "source": [
    "### La Solución Automatizada (con Bucle `for`)\n",
    "\n",
    "Ahora, tomamos la lógica manual del paso anterior y la metemos dentro de un bucle `for` que itera sobre todos los estudiantes. Usamos `.items()` para obtener tanto el nombre del `estudiante` como su lista de `notas` en cada vuelta, automatizando el proceso por completo."
   ],
   "id": "b5dbfb11d19fadbf"
  },
  {
   "metadata": {
    "ExecuteTime": {
     "end_time": "2025-09-20T00:05:56.056127Z",
     "start_time": "2025-09-20T00:05:56.047258Z"
    }
   },
   "cell_type": "code",
   "source": [
    "# Lista vacía para guardar los reportes\n",
    "reporte_final = []\n",
    "\n",
    "# Iteramos sobre el diccionario para obtener la clave (estudiante) y el valor (notas)\n",
    "for estudiante, notas in calificaciones_estudiantes.items():\n",
    "\n",
    "    # Calculamos el promedio para el estudiante actual\n",
    "    promedio = sum(notas) / len(notas)\n",
    "\n",
    "    # Determinamos el estado con un if/else\n",
    "    if promedio >= 70:\n",
    "        estado = \"Aprobado\"\n",
    "    else:\n",
    "        estado = \"Reprobado\"\n",
    "\n",
    "    # Creamos el diccionario para el estudiante actual\n",
    "    reporte_estudiante = {\n",
    "        \"nombre\": estudiante,\n",
    "        \"promedio\": promedio,\n",
    "        \"estado\": estado\n",
    "    }\n",
    "\n",
    "    # Añadimos el diccionario del estudiante a nuestra lista final\n",
    "    reporte_final.append(reporte_estudiante)\n",
    "\n",
    "# Para una mejor visualización, imprimimos cada reporte en una línea\n",
    "for reporte in reporte_final:\n",
    "    print(reporte)"
   ],
   "id": "491ee7cfb6de1d42",
   "outputs": [
    {
     "name": "stdout",
     "output_type": "stream",
     "text": [
      "{'nombre': 'Ana', 'promedio': 88.75, 'estado': 'Aprobado'}\n",
      "{'nombre': 'Luis', 'promedio': 68.75, 'estado': 'Reprobado'}\n",
      "{'nombre': 'Sofia', 'promedio': 97.5, 'estado': 'Aprobado'}\n",
      "{'nombre': 'Carlos', 'promedio': 56.75, 'estado': 'Reprobado'}\n"
     ]
    }
   ],
   "execution_count": 60
  }
 ],
 "metadata": {
  "kernelspec": {
   "name": "python3",
   "language": "python",
   "display_name": "Python 3 (ipykernel)"
  }
 },
 "nbformat": 4,
 "nbformat_minor": 5
}
