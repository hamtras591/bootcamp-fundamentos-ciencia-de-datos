{
 "cells": [
  {
   "metadata": {},
   "cell_type": "markdown",
   "source": [
    "### Solución al ejercicio solicitado\n",
    "\n",
    "---"
   ],
   "id": "8571bfb749226226"
  },
  {
   "metadata": {
    "collapsed": true
   },
   "cell_type": "code",
   "source": [
    "# Conjunto de datos de ingreso\n",
    "\n",
    "ventas = [\n",
    "    {'producto_id': 'P001', 'cantidad': 2, 'precio_unitario': 50},\n",
    "    {'producto_id': 'P002', 'cantidad': 1, 'precio_unitario': 120},\n",
    "    {'producto_id': 'P001', 'cantidad': 3, 'precio_unitario': 50},\n",
    "    {'producto_id': 'P003', 'cantidad': 5, 'precio_unitario': 15},\n",
    "    {'producto_id': 'P002', 'cantidad': 2, 'precio_unitario': 120},\n",
    "    {'producto_id': 'P001', 'cantidad': 1, 'precio_unitario': 50},\n",
    "]\n",
    "\n",
    "# Creación de diccionario vacío llamado reporte_productos\n",
    "\n",
    "reporte_productos = {}\n",
    "\n",
    "# De forma arcaica generamos el reporte de productos\n",
    "extraccion_P001 = ventas[0]['producto_id']\n",
    "cantidad_P001 = ventas[0]['cantidad']\n",
    "precio_P001 = ventas[0]['precio_unitario']\n",
    "\n",
    "print(extraccion_P001)\n",
    "print(cantidad_P001)\n",
    "print(precio_P001)"
   ],
   "id": "3a7bbab8e29ae061",
   "outputs": [],
   "execution_count": null
  },
  {
   "metadata": {
    "ExecuteTime": {
     "end_time": "2025-09-20T01:51:18.495144Z",
     "start_time": "2025-09-20T01:51:18.482732Z"
    }
   },
   "cell_type": "code",
   "source": [
    "# Conjunto de datos de ingreso, vamos a iterar sobre el conjunto de datos, con un ciclo for\n",
    "\n",
    "reporte_productos = {}\n",
    "\n",
    "ventas = [\n",
    "    {'producto_id': 'P001', 'cantidad': 2, 'precio_unitario': 50},\n",
    "    {'producto_id': 'P002', 'cantidad': 1, 'precio_unitario': 120},\n",
    "    {'producto_id': 'P001', 'cantidad': 3, 'precio_unitario': 50},\n",
    "    {'producto_id': 'P003', 'cantidad': 5, 'precio_unitario': 15},\n",
    "    {'producto_id': 'P002', 'cantidad': 2, 'precio_unitario': 120},\n",
    "    {'producto_id': 'P001', 'cantidad': 1, 'precio_unitario': 50},\n",
    "]\n",
    "\n",
    "for id_producto in ventas:\n",
    "    # ciclo para iterar\n",
    "    producto_id = id_producto['producto_id']\n",
    "    cantidad = id_producto['cantidad']\n",
    "    precio = id_producto['precio_unitario']\n",
    "    # si ya existe actualizamos valores\n",
    "    if producto_id in reporte_productos:\n",
    "        reporte_productos[producto_id]['cantidad_total'] += cantidad\n",
    "        reporte_productos[producto_id]['ingresos_totales'] += cantidad * precio\n",
    "    else:\n",
    "        reporte_productos[producto_id] = {\n",
    "            'cantidad_total': cantidad,\n",
    "            'ingresos_totales': cantidad * precio,\n",
    "        }\n",
    "\n",
    "for producto_id, datos in reporte_productos.items():\n",
    "    print(f\"Producto: {producto_id}\")\n",
    "    print(f\"Cantidad total: {datos['cantidad_total']}\")\n",
    "    print(f\"Ingresos totales: {datos['ingresos_totales']}\")\n",
    "    print(\"---\")\n",
    "\n",
    "\n"
   ],
   "id": "13fcd5bd0e9d7d5",
   "outputs": [
    {
     "name": "stdout",
     "output_type": "stream",
     "text": [
      "Producto: P001\n",
      "Cantidad total: 6\n",
      "Ingresos totales: 300\n",
      "---\n",
      "Producto: P002\n",
      "Cantidad total: 3\n",
      "Ingresos totales: 360\n",
      "---\n",
      "Producto: P003\n",
      "Cantidad total: 5\n",
      "Ingresos totales: 75\n",
      "---\n"
     ]
    }
   ],
   "execution_count": 72
  }
 ],
 "metadata": {
  "kernelspec": {
   "display_name": "Python 3",
   "language": "python",
   "name": "python3"
  },
  "language_info": {
   "codemirror_mode": {
    "name": "ipython",
    "version": 2
   },
   "file_extension": ".py",
   "mimetype": "text/x-python",
   "name": "python",
   "nbconvert_exporter": "python",
   "pygments_lexer": "ipython2",
   "version": "2.7.6"
  }
 },
 "nbformat": 4,
 "nbformat_minor": 5
}
