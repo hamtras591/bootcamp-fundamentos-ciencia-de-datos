{
 "cells": [
  {
   "metadata": {},
   "cell_type": "markdown",
   "source": [
    "# Desafío #4: Validador de Matrículas - La Solución\n",
    "\n",
    "**El Objetivo:** Procesar una lista de solicitudes de matrícula de estudiantes contra un diccionario de cursos con cupos limitados. El resultado debe ser un reporte que indique qué cursos fueron aprobados y cuáles rechazados para cada estudiante, actualizando los cupos disponibles en tiempo real."
   ],
   "id": "aa103121aadd71cd"
  },
  {
   "metadata": {},
   "cell_type": "markdown",
   "source": [
    "## 1. Datos de Entrada\n",
    "\n",
    "Comenzamos con dos estructuras de datos:\n",
    "1.  `cursos_disponibles`: Un diccionario que mapea un ID de curso a sus detalles (nombre y cupos).\n",
    "2.  `solicitudes_estudiantes`: Una lista de diccionarios, donde cada uno representa la solicitud de un estudiante."
   ],
   "id": "5131ae6428500e50"
  },
  {
   "metadata": {
    "ExecuteTime": {
     "end_time": "2025-09-22T14:32:36.410679Z",
     "start_time": "2025-09-22T14:32:36.400206Z"
    }
   },
   "cell_type": "code",
   "source": [
    "import copy\n",
    "\n",
    "# Diccionario con los cursos disponibles y sus cupos\n",
    "cursos_disponibles = {\n",
    "    'C101': {'nombre': 'Cálculo Diferencial', 'cupos': 3},\n",
    "    'P205': {'nombre': 'Fundamentos de Python', 'cupos': 2},\n",
    "    'D310': {'nombre': 'Bases de Datos', 'cupos': 4}\n",
    "}\n",
    "\n",
    "# Lista con las solicitudes de los estudiantes\n",
    "solicitudes_estudiantes = [\n",
    "    {'id_estudiante': 'E01', 'cursos_solicitados': ['C101', 'P205']},\n",
    "    {'id_estudiante': 'E02', 'cursos_solicitados': ['P205', 'D310']},\n",
    "    {'id_estudiante': 'E03', 'cursos_solicitados': ['C101', 'P205', 'E500']}, # E500 no existe\n",
    "    {'id_estudiante': 'E04', 'cursos_solicitados': ['C101', 'D310']},\n",
    "    {'id_estudiante': 'E05', 'cursos_solicitados': ['C101', 'D310']},\n",
    "]"
   ],
   "id": "196ade457b7a06bc",
   "outputs": [],
   "execution_count": 47
  },
  {
   "metadata": {},
   "cell_type": "markdown",
   "source": [
    "## 2. La Lógica de la Solución\n",
    "\n",
    "El núcleo del problema es procesar las solicitudes en orden y actualizar el \"estado\" (los cupos) a medida que avanzamos.\n",
    "\n",
    "1.  **Copia Segura:** Primero, creamos una copia profunda de `cursos_disponibles`. Esto es crucial para no modificar nuestros datos originales.\n",
    "2.  **Bucle Principal:** Iteramos sobre cada `solicitud` de la lista de estudiantes.\n",
    "3.  **Reporte Individual:** Dentro del bucle, creamos un diccionario vacío para el reporte del estudiante actual.\n",
    "4.  **Bucle Anidado:** Iteramos sobre los `cursos_solicitados` por ese estudiante.\n",
    "5.  **Validación en Cascada:** Para cada curso, aplicamos una lógica condicional:\n",
    "    * ¿Existe el `curso_id` en nuestro diccionario de cursos?\n",
    "    * Si existe, ¿son los `cupos` mayores a 0?\n",
    "6.  **Actualización de Estado:** Si un curso es aprobado, **restamos 1** al cupo disponible. Este es el paso que maneja el \"estado\" del sistema.\n",
    "7.  **Guardar Resultado:** Una vez procesados todos los cursos de un estudiante, añadimos su reporte individual a la lista de resultados finales."
   ],
   "id": "25da5d3777f92ae7"
  },
  {
   "metadata": {},
   "cell_type": "markdown",
   "source": "## 3. El Código Final Integrado",
   "id": "b681f11924041c6b"
  },
  {
   "metadata": {
    "ExecuteTime": {
     "end_time": "2025-09-22T14:33:05.932571Z",
     "start_time": "2025-09-22T14:33:05.915857Z"
    }
   },
   "cell_type": "code",
   "source": [
    "# 1. Creamos una copia de los cursos para modificar los cupos de forma segura.\n",
    "cursos_con_cupos = copy.deepcopy(cursos_disponibles)\n",
    "\n",
    "# 2. Inicializamos la lista donde guardaremos los resultados.\n",
    "reporte_matriculas = []\n",
    "\n",
    "# 3. Iteramos sobre cada solicitud de estudiante.\n",
    "for solicitud in solicitudes_estudiantes:\n",
    "    # Creamos un diccionario para el reporte de este estudiante.\n",
    "    reporte_estudiante = {\n",
    "        'id_estudiante': solicitud['id_estudiante'],\n",
    "        'cursos_aprobados': [],\n",
    "        'cursos_rechazados': []\n",
    "    }\n",
    "\n",
    "    # 4. Iteramos sobre los cursos que el estudiante pidió.\n",
    "    for curso_id in solicitud['cursos_solicitados']:\n",
    "\n",
    "        # 5. Lógica de validación.\n",
    "        if curso_id in cursos_con_cupos:\n",
    "            if cursos_con_cupos[curso_id]['cupos'] > 0:\n",
    "                # APROBADO: El curso existe y hay cupos.\n",
    "                reporte_estudiante['cursos_aprobados'].append(cursos_con_cupos[curso_id]['nombre'])\n",
    "                # 6. Actualizamos el estado restando un cupo.\n",
    "                cursos_con_cupos[curso_id]['cupos'] -= 1\n",
    "            else:\n",
    "                # RECHAZADO: No quedan cupos.\n",
    "                reporte_estudiante['cursos_rechazados'].append(curso_id)\n",
    "        else:\n",
    "            # RECHAZADO: El curso no existe.\n",
    "            reporte_estudiante['cursos_rechazados'].append(curso_id)\n",
    "\n",
    "    # 7. Añadimos el reporte del estudiante a la lista final.\n",
    "    reporte_matriculas.append(reporte_estudiante)"
   ],
   "id": "1ff6f3b5c99cf7f1",
   "outputs": [
    {
     "name": "stdout",
     "output_type": "stream",
     "text": [
      "{'id_estudiante': 'E01', 'cursos_aprobados': [], 'cursos_rechazados': []}\n",
      "{'id_estudiante': 'E02', 'cursos_aprobados': [], 'cursos_rechazados': []}\n",
      "{'id_estudiante': 'E03', 'cursos_aprobados': [], 'cursos_rechazados': []}\n",
      "{'id_estudiante': 'E04', 'cursos_aprobados': [], 'cursos_rechazados': []}\n",
      "{'id_estudiante': 'E05', 'cursos_aprobados': [], 'cursos_rechazados': []}\n"
     ]
    }
   ],
   "execution_count": 49
  },
  {
   "metadata": {},
   "cell_type": "markdown",
   "source": "## 4. El Resultado Final",
   "id": "6f6cb320e9b4a12a"
  },
  {
   "metadata": {
    "ExecuteTime": {
     "end_time": "2025-09-22T14:31:24.591262Z",
     "start_time": "2025-09-22T14:31:24.581861Z"
    }
   },
   "cell_type": "code",
   "source": [
    "# Para una mejor visualización, imprimimos cada reporte en una línea\n",
    "for reporte in reporte_matriculas:\n",
    "    print(reporte)"
   ],
   "id": "cd2e70a546a913b5",
   "outputs": [
    {
     "name": "stdout",
     "output_type": "stream",
     "text": [
      "{'id_estudiante': 'E01', 'cursos_aprobados': ['Cálculo Diferencial', 'Fundamentos de Python'], 'cursos_rechazados': []}\n",
      "{'id_estudiante': 'E02', 'cursos_aprobados': ['Fundamentos de Python', 'Bases de Datos'], 'cursos_rechazados': []}\n",
      "{'id_estudiante': 'E03', 'cursos_aprobados': ['Cálculo Diferencial'], 'cursos_rechazados': ['P205', 'E500']}\n",
      "{'id_estudiante': 'E04', 'cursos_aprobados': ['Cálculo Diferencial', 'Bases de Datos'], 'cursos_rechazados': []}\n",
      "{'id_estudiante': 'E05', 'cursos_aprobados': ['Bases de Datos'], 'cursos_rechazados': ['C101']}\n"
     ]
    }
   ],
   "execution_count": 46
  }
 ],
 "metadata": {
  "kernelspec": {
   "display_name": "Python 3",
   "language": "python",
   "name": "python3"
  },
  "language_info": {
   "codemirror_mode": {
    "name": "ipython",
    "version": 2
   },
   "file_extension": ".py",
   "mimetype": "text/x-python",
   "name": "python",
   "nbconvert_exporter": "python",
   "pygments_lexer": "ipython2",
   "version": "2.7.6"
  }
 },
 "nbformat": 4,
 "nbformat_minor": 5
}
