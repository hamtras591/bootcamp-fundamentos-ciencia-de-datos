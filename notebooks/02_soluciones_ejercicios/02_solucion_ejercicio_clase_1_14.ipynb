{
 "cells": [
  {
   "metadata": {},
   "cell_type": "markdown",
   "source": [
    "# Desafío #2: Analizador de Logs del Servidor - La Solución\n",
    "\n",
    "**El Objetivo:** Contar la frecuencia de cada tipo de log (`INFO`, `WARNING`, `ERROR`) en una lista de strings para obtener un resumen rápido."
   ],
   "id": "e13ac7bb7579a6be"
  },
  {
   "metadata": {},
   "cell_type": "markdown",
   "source": [
    "## El Plan de Ataque: La Lógica del Contador\n",
    "\n",
    "Imagina que tienes una bolsa de canicas de tres colores (INFO, WARNING, ERROR) y tres frascos vacíos, cada uno con su etiqueta. Tu trabajo es contar cuántas canicas de cada color hay.\n",
    "\n",
    "La lógica es simple:\n",
    "1.  **Preparas los frascos vacíos** (nuestro diccionario contador).\n",
    "2.  **Sacas una canica de la bolsa** (tomas un `log` de la lista).\n",
    "3.  **Miras el color de la canica** (extraes el tipo de log con `.split()`).\n",
    "4.  **Buscas el frasco con la etiqueta de ese color y metes la canica** (incrementas el contador para ese tipo de log).\n",
    "5.  Repites hasta que la bolsa esté vacía.\n",
    "\n",
    "A continuación, vemos dos formas de traducir esta lógica a código Python."
   ],
   "id": "47f0a09cfa45895d"
  },
  {
   "metadata": {},
   "cell_type": "markdown",
   "source": [
    "## Solución #1: El Método Intuitivo (con `if/else`)\n",
    "\n",
    "Esta solución es la traducción literal de nuestra lógica. Es muy clara y fácil de leer.\n",
    "* **La Lógica:** Para cada log, separamos el tipo. Luego, **preguntamos**: \"¿Ya existe esta clave (`tipo_log`) en nuestro diccionario?\".\n",
    "    * Si la respuesta es **SÍ**, le sumamos 1 al valor que ya tiene.\n",
    "    * Si la respuesta es **NO**, creamos esa clave por primera vez con el valor 1."
   ],
   "id": "2f6a3fed6ddff438"
  },
  {
   "metadata": {
    "ExecuteTime": {
     "end_time": "2025-09-19T22:45:09.832303Z",
     "start_time": "2025-09-19T22:45:09.825330Z"
    }
   },
   "cell_type": "code",
   "source": [
    "# Los datos de entrada\n",
    "logs = [\n",
    "    \"INFO: Conexión exitosa\",\n",
    "    \"WARNING: Uso de CPU al 85%\",\n",
    "    \"INFO: Archivo de datos cargado\",\n",
    "    \"ERROR: No se pudo conectar a la base de datos\",\n",
    "    \"INFO: Usuario 'anderson' inició sesión\",\n",
    "    \"WARNING: Disco casi lleno\",\n",
    "    \"INFO: Proceso finalizado correctamente\",\n",
    "]\n",
    "\n",
    "# Creamos nuestro diccionario contador vacío\n",
    "conteo_log = {}\n",
    "\n",
    "# Iniciamos el bucle para recorrer cada log\n",
    "for log in logs:\n",
    "    # Separamos el string por los dos puntos y tomamos la primera parte (el tipo)\n",
    "    tipo_log = log.split(\":\")[0]\n",
    "\n",
    "    # Verificamos si la clave ya existe en el diccionario\n",
    "    if tipo_log in conteo_log:\n",
    "        # Si existe, le sumamos 1 a su valor actual\n",
    "        conteo_log[tipo_log] += 1\n",
    "    else:\n",
    "        # Si no existe, la creamos y le asignamos el valor 1\n",
    "        conteo_log[tipo_log] = 1\n",
    "\n",
    "print(conteo_log)"
   ],
   "id": "85da10dbb3854331",
   "outputs": [],
   "execution_count": 1
  },
  {
   "metadata": {},
   "cell_type": "markdown",
   "source": [
    "## Solución #2: El Método Pythonico (con `.get()`)\n",
    "\n",
    "Esta es una forma más avanzada y concisa que aprovecha un \"superpoder\" del método `.get()` de los diccionarios.\n",
    "\n",
    "* **La Lógica:** La línea `conteo_log.get(tipo_log, 0)` se traduce como: \"Intenta obtener el valor de la clave `tipo_log`. Si **no la encuentras**, no me des un error, simplemente devuélveme un `0`\".\n",
    "Esto nos permite sumar `1` al resultado (ya sea el valor existente o el `0` por defecto) en una sola línea, eliminando la necesidad del `if/else`."
   ],
   "id": "138862aa6fb74715"
  },
  {
   "metadata": {
    "ExecuteTime": {
     "end_time": "2025-09-19T23:26:58.606205Z",
     "start_time": "2025-09-19T23:26:58.598214Z"
    }
   },
   "cell_type": "code",
   "source": [
    "# Creamos nuestro diccionario contador vacío\n",
    "conteo_log = {}\n",
    "\n",
    "# Iniciamos el bucle\n",
    "for log in logs:\n",
    "    # Separamos el tipo de log\n",
    "    tipo_log = log.split(\":\")[0]\n",
    "\n",
    "    # En una sola línea: obtenemos el valor actual (o 0 si no existe) y le sumamos 1\n",
    "    conteo_log[tipo_log] = conteo_log.get(tipo_log, 0) + 1\n",
    "\n",
    "print(conteo_log)"
   ],
   "id": "dcf23a88f025462e",
   "outputs": [
    {
     "name": "stdout",
     "output_type": "stream",
     "text": [
      "{'INFO': 4, 'WARNING': 2, 'ERROR': 1}\n"
     ]
    }
   ],
   "execution_count": 101
  },
  {
   "metadata": {},
   "cell_type": "markdown",
   "source": [
    "## ¿Cuál es Mejor?\n",
    "\n",
    "Ambas soluciones son **correctas**.\n",
    "* La **Solución #1** es perfecta para aprender porque su lógica es muy explícita y fácil de seguir.\n",
    "* La **Solución #2** es más eficiente y es el tipo de código que verías en un entorno profesional porque es más conciso.\n",
    "\n",
    "¡Entender ambas te da más herramientas como programador!"
   ],
   "id": "3a3ee4020bb0fc1e"
  }
 ],
 "metadata": {
  "kernelspec": {
   "name": "python3",
   "language": "python",
   "display_name": "Python 3 (ipykernel)"
  }
 },
 "nbformat": 4,
 "nbformat_minor": 5
}
