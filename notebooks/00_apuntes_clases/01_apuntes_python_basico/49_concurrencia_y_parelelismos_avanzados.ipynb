{
 "cells": [
  {
   "metadata": {},
   "cell_type": "markdown",
   "source": [
    "# Concurrencia y Paralelismo Avanzado\n",
    "\n",
    "Cuando múltiples hilos o procesos necesitan acceder a los mismos datos, surgen nuevos desafíos: ¿cómo nos aseguramos de que no se \"pisen\" el trabajo y corrompan la información? ¿Cómo pueden comunicarse entre sí?\n",
    "\n",
    "En este notebook, exploraremos las herramientas que Python nos ofrece para gestionar la **sincronización** y el **intercambio de datos** de forma segura."
   ],
   "id": "ef6154fde7209b22"
  },
  {
   "metadata": {},
   "cell_type": "markdown",
   "source": [
    "## 1. Sincronización de Hilos con `Lock`\n",
    "\n",
    "**El Problema (Condiciones de Carrera):** Imagina dos cajeros (hilos) intentando depositar dinero en la misma cuenta (una variable compartida) al mismo tiempo. Ambos leen el saldo, le suman el depósito y lo guardan. Si sus acciones se entrelazan, uno de los depósitos se puede perder.\n",
    "\n",
    "**La Solución (`threading.Lock`):** Un `Lock` (o \"cerrojo\") es como la **llave de un baño público**. Solo una persona (un hilo) puede tener la llave y entrar a la vez. El resto debe esperar afuera hasta que la llave esté libre. En código, usamos el bloque `with lock:` para asegurarnos de que solo un hilo acceda a la variable `saldo` a la vez."
   ],
   "id": "2df962aefd67e15b"
  },
  {
   "metadata": {
    "collapsed": true,
    "ExecuteTime": {
     "end_time": "2025-10-02T15:03:40.405535Z",
     "start_time": "2025-10-02T15:03:40.327071Z"
    }
   },
   "cell_type": "code",
   "source": [
    "import threading\n",
    "\n",
    "# Variable compartida que ambos hilos intentarán modificar\n",
    "saldo = 0\n",
    "# Creamos el \"cerrojo\" para proteger el acceso a la variable 'saldo'\n",
    "lock = threading.Lock()\n",
    "\n",
    "def depositar(dinero):\n",
    "    global saldo\n",
    "    # Simulamos 100,000 pequeños depósitos\n",
    "    for _ in range(100000):\n",
    "        # 'with lock:' adquiere el cerrojo antes de entrar al bloque\n",
    "        # y lo libera automáticamente al salir.\n",
    "        with lock:\n",
    "            # Esta operación (lectura-modificación-escritura) ahora es \"atómica\".\n",
    "            # Ningún otro hilo puede interrumpirla.\n",
    "            saldo += dinero\n",
    "\n",
    "# Creamos dos hilos que ejecutarán la misma función de depositar\n",
    "hilos = []\n",
    "for _ in range(2):\n",
    "    hilo = threading.Thread(target=depositar, args=(1,))\n",
    "    hilos.append(hilo)\n",
    "    hilo.start() # Iniciamos la ejecución de los hilos\n",
    "\n",
    "# Esperamos a que ambos hilos terminen su trabajo\n",
    "for hilo in hilos:\n",
    "    hilo.join()\n",
    "\n",
    "# Gracias al Lock, el resultado es el esperado (200,000)\n",
    "print(f\"Saldo final: {saldo}\")"
   ],
   "id": "44168c662ac9cc8c",
   "outputs": [
    {
     "name": "stdout",
     "output_type": "stream",
     "text": [
      "Saldo final: 200000\n"
     ]
    }
   ],
   "execution_count": 1
  },
  {
   "metadata": {},
   "cell_type": "markdown",
   "source": [
    "## 2. Compartir Datos entre Procesos\n",
    "\n",
    "A diferencia de los hilos, los procesos no comparten memoria. Son como dos programas completamente aislados. Para que puedan comunicarse, necesitamos canales explícitos.\n",
    "\n",
    "### `multiprocessing.Queue`\n",
    "**La Analogía:** Es como un **tubo neumático** entre dos oficinas (procesos). Una oficina puede meter un mensaje (`.put()`) en el tubo, y la otra oficina puede sacarlo (`.get()`) al otro lado. Es una forma segura de pasar datos en una dirección."
   ],
   "id": "44eee83b225d9ad1"
  },
  {
   "metadata": {
    "ExecuteTime": {
     "end_time": "2025-10-02T15:04:59.568188Z",
     "start_time": "2025-10-02T15:04:59.377529Z"
    }
   },
   "cell_type": "code",
   "source": [
    "import multiprocessing\n",
    "\n",
    "# Esta función se ejecutará en un proceso separado\n",
    "def calcular_cuadrado(numeros, cola):\n",
    "    \"\"\"Calcula el cuadrado de cada número y pone el resultado en la cola.\"\"\"\n",
    "    for n in numeros:\n",
    "        cola.put(n * n)\n",
    "\n",
    "if __name__ == \"__main__\":\n",
    "    numeros = [1, 2, 3, 4, 5]\n",
    "    # Creamos la 'cola' o canal de comunicación\n",
    "    cola = multiprocessing.Queue()\n",
    "\n",
    "    # Creamos el nuevo proceso, pasándole la cola como argumento\n",
    "    proceso = multiprocessing.Process(target=calcular_cuadrado, args=(numeros, cola))\n",
    "\n",
    "    proceso.start() # Iniciamos el proceso\n",
    "    proceso.join()  # Esperamos a que termine\n",
    "\n",
    "    # En el proceso principal, vaciamos la cola para obtener los resultados\n",
    "    print(\"Resultados recibidos desde el otro proceso:\")\n",
    "    while not cola.empty():\n",
    "        print(cola.get())"
   ],
   "id": "e6d8e8f125adee73",
   "outputs": [
    {
     "name": "stdout",
     "output_type": "stream",
     "text": [
      "Resultados recibidos desde el otro proceso:\n"
     ]
    }
   ],
   "execution_count": 2
  },
  {
   "metadata": {},
   "cell_type": "markdown",
   "source": [
    "### `multiprocessing.Manager`\n",
    "**La Analogía:** Es como crear una **pizarra compartida** en la nube. Varios procesos pueden ver y escribir en la misma lista o diccionario (`manager.list()`, `manager.dict()`) al mismo tiempo, y el `Manager` se encarga de que los cambios se sincronicen correctamente."
   ],
   "id": "1302b8353dbf98fe"
  },
  {
   "metadata": {
    "ExecuteTime": {
     "end_time": "2025-10-02T15:05:21.456959Z",
     "start_time": "2025-10-02T15:05:20.971143Z"
    }
   },
   "cell_type": "code",
   "source": [
    "import multiprocessing\n",
    "\n",
    "# Función que cada proceso ejecutará\n",
    "def agregar_valores(lista_compartida, id_proceso):\n",
    "    \"\"\"Añade números a la lista compartida.\"\"\"\n",
    "    for i in range(5):\n",
    "        valor = id_proceso * 10 + i\n",
    "        lista_compartida.append(valor)\n",
    "        print(f\"Proceso {id_proceso} añadió: {valor}\")\n",
    "\n",
    "if __name__ == \"__main__\":\n",
    "    # Creamos un Manager que gestionará los objetos compartidos\n",
    "    with multiprocessing.Manager() as manager:\n",
    "        # Pedimos al manager que nos cree una lista compartida\n",
    "        lista_compartida = manager.list()\n",
    "\n",
    "        # Creamos dos procesos que trabajarán sobre la MISMA lista\n",
    "        proceso1 = multiprocessing.Process(target=agregar_valores, args=(lista_compartida, 1))\n",
    "        proceso2 = multiprocessing.Process(target=agregar_valores, args=(lista_compartida, 2))\n",
    "\n",
    "        proceso1.start()\n",
    "        proceso2.start()\n",
    "\n",
    "        proceso1.join()\n",
    "        proceso2.join()\n",
    "\n",
    "        # El resultado final contiene los valores de ambos procesos\n",
    "        print(f\"\\nLista compartida final: {sorted(list(lista_compartida))}\")"
   ],
   "id": "627f6439e6c54976",
   "outputs": [
    {
     "name": "stdout",
     "output_type": "stream",
     "text": [
      "\n",
      "Lista compartida final: []\n"
     ]
    }
   ],
   "execution_count": 3
  }
 ],
 "metadata": {
  "kernelspec": {
   "display_name": "Python 3",
   "language": "python",
   "name": "python3"
  },
  "language_info": {
   "codemirror_mode": {
    "name": "ipython",
    "version": 2
   },
   "file_extension": ".py",
   "mimetype": "text/x-python",
   "name": "python",
   "nbconvert_exporter": "python",
   "pygments_lexer": "ipython2",
   "version": "2.7.6"
  }
 },
 "nbformat": 4,
 "nbformat_minor": 5
}
