{
 "cells": [
  {
   "metadata": {},
   "cell_type": "markdown",
   "source": [
    "# Código Pythonico y Buenas Prácticas\n",
    "\n",
    "En este notebook, exploraremos los principios para escribir código que no solo \"funciona\", sino que es **Pythonico**: claro, simple, eficiente y fácil de mantener. Estas son las prácticas que te diferenciarán como un desarrollador profesional."
   ],
   "id": "eb19a1e0ed757910"
  },
  {
   "metadata": {},
   "cell_type": "markdown",
   "source": [
    "## 1. El Zen de Python: Simplicidad y Legibilidad\n",
    "\n",
    "Escribir código Pythonico significa seguir la filosofía del lenguaje. El objetivo es que cualquier otro desarrollador (o tu \"yo del futuro\") pueda entender tu código con el mínimo esfuerzo.\n",
    "\n",
    "Un ejemplo clásico es preferir una **List Comprehension** sobre un bucle `for` para crear listas, ya que es más directo y a menudo más eficiente."
   ],
   "id": "af251848e1dab3f2"
  },
  {
   "metadata": {
    "ExecuteTime": {
     "end_time": "2025-09-26T13:31:34.299621Z",
     "start_time": "2025-09-26T13:31:34.290050Z"
    }
   },
   "cell_type": "code",
   "source": [
    "numeros = [1, 2, 3, 4, 5]\n",
    "\n",
    "# Forma tradicional con bucle for\n",
    "cuadrados_loop = []\n",
    "for numero in numeros:\n",
    "    cuadrados_loop.append(numero ** 2)\n",
    "\n",
    "# Forma Pythonica con List Comprehension\n",
    "cuadrados_comprehension = [numero ** 2 for numero in numeros]\n",
    "\n",
    "print(f\"Resultado con bucle: {cuadrados_loop}\")\n",
    "print(f\"Resultado Pythonico: {cuadrados_comprehension}\")"
   ],
   "id": "7374a5736f40401a",
   "outputs": [
    {
     "name": "stdout",
     "output_type": "stream",
     "text": [
      "Resultado con bucle: [1, 4, 9, 16, 25]\n",
      "Resultado Pythonico: [1, 4, 9, 16, 25]\n"
     ]
    }
   ],
   "execution_count": 1
  },
  {
   "metadata": {},
   "cell_type": "markdown",
   "source": [
    "## 2. Docstrings y Comentarios: Documentando con Calidad\n",
    "\n",
    "La claridad es fundamental en proyectos grandes. La documentación nos ayuda a entender la **intención** detrás del código.\n",
    "\n",
    "* **Docstrings (`\"\"\"...\"\"\"`):** Se usan para documentar **qué** hace una función o clase, qué **parámetros** recibe y qué **retorna**.\n",
    "* **Comentarios (`#`):** Se usan para explicar el **porqué** de una línea de código específica y compleja, no para describir lo obvio."
   ],
   "id": "bb6afbd8c2d49cf8"
  },
  {
   "metadata": {
    "ExecuteTime": {
     "end_time": "2025-09-26T18:06:57.409512Z",
     "start_time": "2025-09-26T18:06:57.390986Z"
    }
   },
   "cell_type": "code",
   "source": [
    "def calcular_promedio(numeros: list) -> float:\n",
    "    \"\"\"\n",
    "    Calcula el promedio de una lista de números.\n",
    "\n",
    "    Args:\n",
    "        numeros (list): Una lista de enteros o flotantes.\n",
    "\n",
    "    Returns:\n",
    "        float: El promedio de los números. Si la lista está vacía, devuelve 0.\n",
    "    \"\"\"\n",
    "    # Evitamos un error de división por cero si la lista está vacía.\n",
    "    if not numeros:\n",
    "        return 0\n",
    "    return sum(numeros) / len(numeros)\n",
    "\n",
    "# Un buen comentario explica por qué, no qué.\n",
    "# Mal comentario: # Divide la suma por la longitud. (Obvio)\n",
    "# Buen comentario: # Evitamos un error de división por cero... (Explica la intención)\n",
    "\n",
    "print(calcular_promedio([10, 20, 30]))"
   ],
   "id": "f577cad45c2c703d",
   "outputs": [
    {
     "name": "stdout",
     "output_type": "stream",
     "text": [
      "20.0\n"
     ]
    }
   ],
   "execution_count": 7
  },
  {
   "metadata": {},
   "cell_type": "markdown",
   "source": [
    "## 3. Scope: El Alcance de las Variables (Global vs. Local)\n",
    "\n",
    "Entender dónde \"vive\" una variable es crucial para evitar errores.\n",
    "\n",
    "* **Variable Global:** Vive en todo el archivo. Se puede acceder desde cualquier lugar.\n",
    "* **Variable Local:** Vive solo dentro de la función donde se creó.\n",
    "* **`nonlocal`**: Permite a una función anidada modificar una variable de la función que la contiene."
   ],
   "id": "2c13708009e21f0b"
  },
  {
   "metadata": {
    "ExecuteTime": {
     "end_time": "2025-09-26T13:33:15.314293Z",
     "start_time": "2025-09-26T13:33:15.306246Z"
    }
   },
   "cell_type": "code",
   "source": [
    "# Variable Global\n",
    "saludo_global = \"Hola desde el scope global\"\n",
    "\n",
    "def funcion_externa():\n",
    "    # Variable Local de funcion_externa\n",
    "    saludo_externo = \"Hola desde el scope externo\"\n",
    "\n",
    "    def funcion_interna():\n",
    "        # Variable Local de funcion_interna\n",
    "        saludo_interno = \"Hola desde el scope interno\"\n",
    "        print(saludo_interno) # Puede ver su propia variable\n",
    "        print(saludo_externo) # Puede ver la variable de su \"padre\"\n",
    "        print(saludo_global)  # Puede ver la variable global\n",
    "\n",
    "    funcion_interna()\n",
    "\n",
    "funcion_externa()"
   ],
   "id": "2be6d4247a9e63aa",
   "outputs": [
    {
     "name": "stdout",
     "output_type": "stream",
     "text": [
      "Hola desde el scope interno\n",
      "Hola desde el scope externo\n",
      "Hola desde el scope global\n"
     ]
    }
   ],
   "execution_count": 3
  },
  {
   "metadata": {},
   "cell_type": "markdown",
   "source": [
    "## 4. Anotaciones de Tipos (Type Hinting)\n",
    "\n",
    "Las anotaciones son \"pistas\" que le damos al código (y a otros desarrolladores) sobre el tipo de dato que esperamos para una variable o el que retorna una función. **No son obligatorias y Python no las fuerza**, pero son una práctica moderna excelente para mejorar la claridad.\n",
    "\n",
    "Para verificarlas de forma estricta, se usan herramientas externas como **MyPy**."
   ],
   "id": "e1e130ce60c7bba2"
  },
  {
   "metadata": {
    "ExecuteTime": {
     "end_time": "2025-09-26T13:34:43.616103Z",
     "start_time": "2025-09-26T13:34:43.607526Z"
    }
   },
   "cell_type": "code",
   "source": [
    "from typing import List, Union\n",
    "\n",
    "# 'nombre' espera un string (str), 'edad' un entero (int).\n",
    "# La función espera devolver un string (-> str).\n",
    "def crear_mensaje(nombre: str, edad: int) -> str:\n",
    "    return f\"El usuario {nombre} tiene {edad} años.\"\n",
    "\n",
    "# 'Union[int, float]' significa que el parámetro acepta un entero O un flotante.\n",
    "def procesar_numero(numero: Union[int, float]) -> None:\n",
    "    print(f\"Procesando el número: {numero}\")\n",
    "\n",
    "# 'List[int]' significa que esperamos una lista de enteros.\n",
    "def sumar_lista(numeros: List[int]) -> int:\n",
    "    return sum(numeros)\n",
    "\n",
    "print(crear_mensaje(\"Ana\", 30))"
   ],
   "id": "b675bfd8ae002de9",
   "outputs": [
    {
     "name": "stdout",
     "output_type": "stream",
     "text": [
      "El usuario Ana tiene 30 años.\n"
     ]
    }
   ],
   "execution_count": 4
  },
  {
   "metadata": {},
   "cell_type": "markdown",
   "source": [
    "## 5. Manejo de Excepciones: `try`, `except` y `raise`\n",
    "\n",
    "Un código robusto no es el que nunca falla, sino el que sabe cómo **manejar los fallos** de forma elegante.\n",
    "\n",
    "* **`try...except`**: Nos permite \"intentar\" ejecutar un bloque de código que podría fallar. Si falla, en lugar de detener el programa, se ejecuta el bloque `except`.\n",
    "* **`raise`**: Nos permite lanzar nuestros propios errores de forma intencional cuando una condición no se cumple (ej. validación de datos)."
   ],
   "id": "5cc8b80032692102"
  },
  {
   "metadata": {
    "ExecuteTime": {
     "end_time": "2025-09-26T13:38:34.655937Z",
     "start_time": "2025-09-26T13:38:34.646443Z"
    }
   },
   "cell_type": "code",
   "source": [
    "def dividir(a: int, b: int) -> float:\n",
    "    # Validamos la entrada y lanzamos un error si no es correcta\n",
    "    if not isinstance(a, int) or not isinstance(b, int):\n",
    "        raise TypeError(\"Ambos parámetros deben ser enteros\")\n",
    "    if b == 0:\n",
    "        raise ValueError(\"El divisor no puede ser cero\")\n",
    "\n",
    "    return a / b\n",
    "\n",
    "# Usamos try...except para \"atrapar\" los errores que nuestra función puede lanzar\n",
    "try:\n",
    "    # Caso 1: Error de tipo de dato\n",
    "    resultado = dividir(10, \"2\")\n",
    "    print(resultado)\n",
    "except (TypeError, ValueError) as e:\n",
    "    print(f\"Ocurrió un error: {e}\")\n",
    "\n",
    "try:\n",
    "    # Caso 2: Error de valor (división por cero)\n",
    "    resultado = dividir(10, 0)\n",
    "    print(resultado)\n",
    "except (TypeError, ValueError) as e:\n",
    "    print(f\"Ocurrió un error: {e}\")\n",
    "\n",
    "try:\n",
    "    # Caso 3: Operación exitosa\n",
    "    resultado = dividir(10, 2)\n",
    "    print(f\"El resultado es: {resultado}\")\n",
    "except (TypeError, ValueError) as e:\n",
    "    print(f\"Ocurrió un error: {e}\")"
   ],
   "id": "31a500e631b86612",
   "outputs": [
    {
     "name": "stdout",
     "output_type": "stream",
     "text": [
      "Ocurrió un error: Ambos parámetros deben ser enteros\n",
      "Ocurrió un error: El divisor no puede ser cero\n",
      "El resultado es: 5.0\n"
     ]
    }
   ],
   "execution_count": 6
  }
 ],
 "metadata": {
  "kernelspec": {
   "display_name": "Python 3",
   "language": "python",
   "name": "python3"
  },
  "language_info": {
   "codemirror_mode": {
    "name": "ipython",
    "version": 2
   },
   "file_extension": ".py",
   "mimetype": "text/x-python",
   "name": "python",
   "nbconvert_exporter": "python",
   "pygments_lexer": "ipython2",
   "version": "2.7.6"
  }
 },
 "nbformat": 4,
 "nbformat_minor": 5
}
