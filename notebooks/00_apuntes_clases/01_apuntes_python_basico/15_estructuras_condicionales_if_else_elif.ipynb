{
 "cells": [
  {
   "metadata": {},
   "cell_type": "markdown",
   "source": [
    "# Estructuras Condicionales: Tomando Decisiones en Python\n",
    "\n",
    "Las estructuras condicionales (`if`, `elif`, `else`) son la base de la lógica en programación. Permiten que nuestro código ejecute diferentes acciones dependiendo de si una condición se evalúa como verdadera (`True`) o falsa (`False`). Son el cerebro de nuestros programas.# Hablaremos de condicionales en esta clase"
   ],
   "id": "109213c1c7331f61"
  },
  {
   "metadata": {},
   "cell_type": "markdown",
   "source": [
    "## 1. La Estructura `if`: El Camino Principal\n",
    "\n",
    "La sentencia `if` es la más básica. Evalúa una condición, y si es verdadera, ejecuta el bloque de código que está indentado debajo de ella.\n",
    "\n",
    "**Sintaxis:** `if condicion:`(valor raro que no conocemos, pero elif se tiene que acompañar de una sentencia que también es condicional)"
   ],
   "id": "8a021e9ec13acbbe"
  },
  {
   "metadata": {
    "collapsed": true,
    "ExecuteTime": {
     "end_time": "2025-09-22T14:43:43.908658Z",
     "start_time": "2025-09-22T14:43:43.894928Z"
    }
   },
   "cell_type": "code",
   "source": [
    "stock_producto = 10\n",
    "\n",
    "if stock_producto > 0:\n",
    "    print(\"El producto está disponible.\")"
   ],
   "id": "4e4a42600f2a4db3",
   "outputs": [
    {
     "name": "stdout",
     "output_type": "stream",
     "text": [
      "4 no es mayor a 5\n"
     ]
    }
   ],
   "execution_count": 4
  },
  {
   "metadata": {},
   "cell_type": "markdown",
   "source": [
    "## 2. Añadiendo un Plan B: La Estructura `else`\n",
    "\n",
    "La sentencia `else` nos da un camino alternativo. Se ejecuta únicamente si la condición del `if` inicial es falsa. No lleva condición propia."
   ],
   "id": "400fec496d01dd4d"
  },
  {
   "metadata": {
    "ExecuteTime": {
     "end_time": "2025-09-22T14:47:54.105683Z",
     "start_time": "2025-09-22T14:47:54.078785Z"
    }
   },
   "cell_type": "code",
   "source": [
    "stock_producto = 0\n",
    "\n",
    "if stock_producto > 0:\n",
    "    print(\"El producto está disponible.\")\n",
    "else:\n",
    "    print(\"El producto está agotado.\")"
   ],
   "id": "2fde0a805b1c5d9c",
   "outputs": [
    {
     "name": "stdout",
     "output_type": "stream",
     "text": [
      "15 es mayor a 10 o 20 es mayor a 25\n"
     ]
    }
   ],
   "execution_count": 6
  },
  {
   "metadata": {},
   "cell_type": "markdown",
   "source": [
    "## 3. Múltiples Caminos Posibles: La Estructura `elif`\n",
    "\n",
    "`elif` (una contracción de \"else if\") nos permite encadenar múltiples condiciones. Python las revisa en orden, y en cuanto encuentra una que es verdadera, ejecuta su bloque de código y salta el resto de la cadena."
   ],
   "id": "37cc6b0f6beee745"
  },
  {
   "metadata": {
    "ExecuteTime": {
     "end_time": "2025-09-22T14:51:23.453685Z",
     "start_time": "2025-09-22T14:51:23.444255Z"
    }
   },
   "cell_type": "code",
   "source": [
    "nota = 85\n",
    "\n",
    "if nota >= 90:\n",
    "    print(\"Calificación: A\")\n",
    "elif nota >= 80:\n",
    "    print(\"Calificación: B\")\n",
    "elif nota >= 70:\n",
    "    print(\"Calificación: C\")\n",
    "else:\n",
    "    print(\"Calificación: Reprobado\")"
   ],
   "id": "138d49d735d05579",
   "outputs": [
    {
     "name": "stdout",
     "output_type": "stream",
     "text": [
      "15 es mayor a 10\n"
     ]
    }
   ],
   "execution_count": 8
  },
  {
   "metadata": {},
   "cell_type": "markdown",
   "source": [
    "## 4. Combinando Condiciones: Operadores Lógicos (`and`, `or`, `not`)\n",
    "\n",
    "A menudo necesitamos verificar más de una condición a la vez. Para esto usamos los operadores lógicos.\n",
    "\n",
    "### El Operador `and`\n",
    "Requiere que **TODAS** las condiciones sean `True` para que el bloque de código se ejecute.\n",
    "\n",
    "### El Operador `or`\n",
    "Requiere que **AL MENOS UNA** de las condiciones sea `True`.\n",
    "\n",
    "### El Operador `not`\n",
    "**Invierte** el resultado de una condición. Convierte `True` en `False` y `False` en `True`."
   ],
   "id": "36514629f7ecac89"
  },
  {
   "metadata": {
    "ExecuteTime": {
     "end_time": "2025-09-22T14:54:06.852566Z",
     "start_time": "2025-09-22T14:54:06.839503Z"
    }
   },
   "cell_type": "code",
   "source": [
    "edad = 25\n",
    "tiene_licencia = True\n",
    "\n",
    "# Ejemplo con 'and'\n",
    "if edad >= 18 and tiene_licencia:\n",
    "    print(\"Puede conducir legalmente.\")\n",
    "else:\n",
    "    print(\"No cumple los requisitos para conducir.\")\n",
    "\n",
    "# Ejemplo con 'or'\n",
    "es_fin_de_semana = True\n",
    "hay_evento_especial = False\n",
    "\n",
    "if es_fin_de_semana or hay_evento_especial:\n",
    "    print(\"Hoy es un día libre.\")\n",
    "\n",
    "# Ejemplo con 'not'\n",
    "if not tiene_licencia:\n",
    "    print(\"¡Alerta! La persona no tiene licencia.\")"
   ],
   "id": "b17836815c0a2e89",
   "outputs": [
    {
     "name": "stdout",
     "output_type": "stream",
     "text": [
      "No tienes acceso ya que eres miembro, pero menor a 15 años\n"
     ]
    }
   ],
   "execution_count": 12
  },
  {
   "metadata": {},
   "cell_type": "markdown",
   "source": [
    "## 5. Condicionales Anidados: Verificaciones Multinivel\n",
    "\n",
    "Podemos colocar una estructura `if` dentro de otra. Esto es útil para crear lógicas más complejas donde una condición depende de otra anterior."
   ],
   "id": "382afca8214e6aa5"
  },
  {
   "metadata": {},
   "cell_type": "code",
   "outputs": [],
   "execution_count": null,
   "source": [
    "es_miembro_premium = True\n",
    "edad = 17\n",
    "\n",
    "if es_miembro_premium:\n",
    "    print(\"Bienvenido, miembro Premium.\")\n",
    "    # Este 'if' está anidado. Solo se evalúa si el primero fue True.\n",
    "    if edad >= 18:\n",
    "        print(\"Tienes acceso a contenido exclusivo para mayores de edad.\")\n",
    "    else:\n",
    "        print(\"Aún no tienes acceso al contenido para mayores de edad.\")\n",
    "else:\n",
    "    print(\"Considera unirte a nuestra membresía Premium para más beneficios.\")"
   ],
   "id": "4766b3f5acc85a1d"
  },
  {
   "metadata": {
    "ExecuteTime": {
     "end_time": "2025-09-22T15:34:02.424318Z",
     "start_time": "2025-09-22T15:33:55.199238Z"
    }
   },
   "cell_type": "code",
   "source": [
    "# Programando el juego de piedra papel o tijera\n",
    "\n",
    "opcion_piedra = 'Piedra'\n",
    "opcion_papel = 'Papel'\n",
    "opcion_tijera = 'Tijera'\n",
    "\n",
    "jugador_1 = input(f\"Por favor escoja entre {opcion_piedra}, {opcion_papel} y {opcion_tijera}: \")\n",
    "jugador_2 = input(f\"Por favor escoja entre {opcion_piedra}, {opcion_papel} y {opcion_tijera}: \")\n",
    "\n",
    "if jugador_1 not in [opcion_piedra, opcion_papel, opcion_tijera] or jugador_2 not in [opcion_piedra, opcion_papel, opcion_tijera]:\n",
    "    print(\"Por favor escoja entre las opciones indicadas\")\n",
    "elif jugador_1 == jugador_2:\n",
    "    print(f\"Empate! el jugador 1 escogio {jugador_1} al igual que el jugador 2 que escogio {jugador_2}\")\n",
    "elif jugador_1 == opcion_piedra and jugador_2 == opcion_tijera:\n",
    "    print(f\"El jugador 1 gana! el jugador 1 escogio {jugador_1} y el jugador 2 {jugador_2}\")\n",
    "elif jugador_1 == opcion_papel and jugador_2 == opcion_piedra:\n",
    "    print(f\"El jugador 2 gana! el jugador 1 escogio {jugador_1} y el jugador 2 {jugador_2}\")\n",
    "elif jugador_1 == opcion_tijera and jugador_2 == opcion_papel:\n",
    "    print(f\"El jugador 1 gana! el jugador 1 escogio {jugador_1} y el jugador 2 {jugador_2}\")\n",
    "else:\n",
    "    print(f\"El jugador 2 gana! el jugador 1 escogio {jugador_1} y el jugador 2 {jugador_2}\")\n",
    "\n"
   ],
   "id": "66f2965cd3e4c8f5",
   "outputs": [
    {
     "name": "stdout",
     "output_type": "stream",
     "text": [
      "Por favor escoja entre las opciones indicadas\n"
     ]
    }
   ],
   "execution_count": 14
  }
 ],
 "metadata": {
  "kernelspec": {
   "display_name": "Python 3",
   "language": "python",
   "name": "python3"
  },
  "language_info": {
   "codemirror_mode": {
    "name": "ipython",
    "version": 2
   },
   "file_extension": ".py",
   "mimetype": "text/x-python",
   "name": "python",
   "nbconvert_exporter": "python",
   "pygments_lexer": "ipython2",
   "version": "2.7.6"
  }
 },
 "nbformat": 4,
 "nbformat_minor": 5
}
