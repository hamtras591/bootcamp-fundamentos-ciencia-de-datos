{
 "cells": [
  {
   "cell_type": "code",
   "id": "initial_id",
   "metadata": {
    "collapsed": true,
    "ExecuteTime": {
     "end_time": "2025-09-26T17:39:08.353706Z",
     "start_time": "2025-09-26T17:39:08.347275Z"
    }
   },
   "source": [
    "def log_transaction(func):\n",
    "    def anywey():\n",
    "        print('1 Log de la transacción...')\n",
    "        func()\n",
    "        print('3 Log terminado...')\n",
    "    return anywey\n",
    "\n",
    "\n",
    "@log_transaction\n",
    "def process_payment():\n",
    "    print('2 Procesando pago....')\n",
    "\n",
    "process_payment()"
   ],
   "outputs": [
    {
     "name": "stdout",
     "output_type": "stream",
     "text": [
      "1 Log de la transacción...\n",
      "2 Procesando pago....\n",
      "3 Log terminado...\n"
     ]
    }
   ],
   "execution_count": 6
  },
  {
   "metadata": {},
   "cell_type": "code",
   "outputs": [],
   "execution_count": null,
   "source": [
    "def check_access(func):\n",
    "    def wrapper(employee):\n",
    "        # Comprobar si el empleado tiene rol 'admin'\n",
    "        if employee.get('role') == 'admin':\n",
    "            return func(employee)\n",
    "        else:\n",
    "            print('ACCESO DENEGADO. Solo los administradores pueden acceder.')\n",
    "    return wrapper\n",
    "\n",
    "@check_access\n",
    "def delete_employee(employee):\n",
    "    print(f'Elempleado {employee['name']} ha sido eliminado.')\n",
    "\n",
    "admin = {'name': 'Carlos', 'role': 'admin'}\n",
    "employee = {'name': 'Ana', 'role': 'employee'}\n",
    "\n",
    "\n",
    "#delete_employee(admin)\n",
    "delete_employee(employee)"
   ],
   "id": "a8ce908df58ddff9"
  },
  {
   "metadata": {
    "ExecuteTime": {
     "end_time": "2025-09-26T17:56:32.790335Z",
     "start_time": "2025-09-26T17:56:32.780632Z"
    }
   },
   "cell_type": "code",
   "source": [
    "# Decorador que comprueba si un empleado tiene un rol especifico\n",
    "\n",
    "def check_accesos(requerid_role):\n",
    "    def decorator(func):\n",
    "        def wrapper(employee):\n",
    "            # Comprobar si el rol del empleado coincide con el rol requerido\n",
    "            if employee.get('role') == requerid_role:\n",
    "                return func(employee)\n",
    "            else:\n",
    "                print(f\"ACCESO DENEGADO. Solo {requerid_role} pueden realizar esta acción\")\n",
    "        return wrapper\n",
    "    return decorator\n",
    "\n",
    "def log_action(func):\n",
    "    def wrapper(employee):\n",
    "        print(f\"Registrando acción para el empleado {employee['name']}\")\n",
    "        return func(employee)\n",
    "    return wrapper\n",
    "\n",
    "\n",
    "@check_accesos('user')\n",
    "@log_action\n",
    "def delete_employee(employee):\n",
    "    print(f\"El empleado {employee['name']} ha sido eliminado.\")\n",
    "\n",
    "admin = {'name': 'Carlos', 'role': 'admin'}\n",
    "user = {'name': 'Paco', 'role': 'user'}\n",
    "\n",
    "#delete_employee(admin)\n",
    "delete_employee(user)"
   ],
   "id": "a603ae22a779b0d4",
   "outputs": [
    {
     "name": "stdout",
     "output_type": "stream",
     "text": [
      "Registrando acción para el empleado Paco\n",
      "El empleado Paco ha sido eliminado.\n"
     ]
    }
   ],
   "execution_count": 17
  },
  {
   "metadata": {
    "ExecuteTime": {
     "end_time": "2025-09-26T18:08:31.785253Z",
     "start_time": "2025-09-26T18:08:26.483992Z"
    }
   },
   "cell_type": "code",
   "source": [
    "import pandas as pd\n",
    "import time\n",
    "\n",
    "# Decorador 1: Valida que el DataFrame no esté vacío\n",
    "def validar_dataframe(func):\n",
    "    # 'func' es la función que vamos a decorar (ej. preprocesar_datos).\n",
    "    def wrapper(df, *args, **kwargs):\n",
    "        # 'wrapper' es la nueva función que reemplaza a la original.\n",
    "        # Recibe un DataFrame 'df' y cualquier otro argumento.\n",
    "        print(\"-> [Validación]: Comprobando si el DataFrame tiene datos...\")\n",
    "        if df.empty:\n",
    "            # Si el DataFrame está vacío, no ejecutes la función original.\n",
    "            print(\"   ADVERTENCIA: El DataFrame está vacío. Se detiene la ejecución.\")\n",
    "            return None # Detenemos todo y devolvemos None.\n",
    "\n",
    "        # Si no está vacío, permite que la función original se ejecute.\n",
    "        print(\"   [Validación]: OK. El DataFrame tiene datos.\")\n",
    "        return func(df, *args, **kwargs)\n",
    "    return wrapper # El decorador devuelve la función 'wrapper'.\n",
    "\n",
    "# Decorador 2: Mide el tiempo de ejecución de una función\n",
    "def medir_tiempo(func):\n",
    "    # 'func' es la función que vamos a decorar.\n",
    "    def wrapper(*args, **kwargs):\n",
    "        # 'wrapper' recibe cualquier tipo de argumento.\n",
    "        print(\"-> [Medición]: Iniciando cronómetro...\")\n",
    "        start_time = time.time() # Guarda el tiempo de inicio.\n",
    "\n",
    "        result = func(*args, **kwargs) # Ejecuta la función original y guarda su resultado.\n",
    "\n",
    "        end_time = time.time() # Guarda el tiempo de finalización.\n",
    "        print(f\"   [Medición]: OK. La función tardó {end_time - start_time:.4f} segundos.\")\n",
    "        return result # Devuelve el resultado original de la función.\n",
    "    return wrapper # El decorador devuelve la función 'wrapper'.\n",
    "\n",
    "@validar_dataframe\n",
    "@medir_tiempo\n",
    "def preprocesar_datos(df: pd.DataFrame) -> pd.DataFrame:\n",
    "    \"\"\"\n",
    "    Función que simula una limpieza de datos en un DataFrame.\n",
    "    \"\"\"\n",
    "    print(\"--> [Procesamiento]: Realizando limpieza de datos...\")\n",
    "    # Simula un trabajo que toma tiempo\n",
    "    time.sleep(1)\n",
    "    df_procesado = df.dropna()\n",
    "    print(\"--> [Procesamiento]: ¡Limpieza completada!\")\n",
    "    return df_procesado\n",
    "\n",
    "# --- Caso 1: DataFrame con datos ---\n",
    "print(\"--- INICIANDO PRUEBA CON DATOS VÁLIDOS ---\")\n",
    "datos_validos = pd.DataFrame({'col1': [1, 2, 3], 'col2': [4, 5, None]})\n",
    "preprocesar_datos(datos_validos)\n",
    "\n",
    "print(\"\\n\" + \"=\"*50 + \"\\n\")\n",
    "\n",
    "# --- Caso 2: DataFrame vacío ---\n",
    "print(\"--- INICIANDO PRUEBA CON DATOS VACÍOS ---\")\n",
    "datos_vacios = pd.DataFrame()\n",
    "preprocesar_datos(datos_vacios)"
   ],
   "id": "fc932e6664751141",
   "outputs": [
    {
     "name": "stdout",
     "output_type": "stream",
     "text": [
      "--- INICIANDO PRUEBA CON DATOS VÁLIDOS ---\n",
      "-> [Validación]: Comprobando si el DataFrame tiene datos...\n",
      "   [Validación]: OK. El DataFrame tiene datos.\n",
      "-> [Medición]: Iniciando cronómetro...\n",
      "--> [Procesamiento]: Realizando limpieza de datos...\n",
      "--> [Procesamiento]: ¡Limpieza completada!\n",
      "   [Medición]: OK. La función tardó 1.0702 segundos.\n",
      "\n",
      "==================================================\n",
      "\n",
      "--- INICIANDO PRUEBA CON DATOS VACÍOS ---\n",
      "-> [Validación]: Comprobando si el DataFrame tiene datos...\n",
      "   ADVERTENCIA: El DataFrame está vacío. Se detiene la ejecución.\n"
     ]
    }
   ],
   "execution_count": 18
  },
  {
   "metadata": {},
   "cell_type": "markdown",
   "source": "",
   "id": "8f16bd242a1a7261"
  },
  {
   "metadata": {},
   "cell_type": "code",
   "outputs": [],
   "execution_count": null,
   "source": "",
   "id": "33f0cfaa52a2a673"
  }
 ],
 "metadata": {
  "kernelspec": {
   "display_name": "Python 3",
   "language": "python",
   "name": "python3"
  },
  "language_info": {
   "codemirror_mode": {
    "name": "ipython",
    "version": 2
   },
   "file_extension": ".py",
   "mimetype": "text/x-python",
   "name": "python",
   "nbconvert_exporter": "python",
   "pygments_lexer": "ipython2",
   "version": "2.7.6"
  }
 },
 "nbformat": 4,
 "nbformat_minor": 5
}
