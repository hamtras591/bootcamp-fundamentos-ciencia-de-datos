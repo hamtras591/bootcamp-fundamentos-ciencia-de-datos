{
 "cells": [
  {
   "cell_type": "code",
   "id": "initial_id",
   "metadata": {
    "collapsed": true,
    "ExecuteTime": {
     "end_time": "2025-09-26T17:39:08.353706Z",
     "start_time": "2025-09-26T17:39:08.347275Z"
    }
   },
   "source": [
    "def log_transaction(func):\n",
    "    def anywey():\n",
    "        print('1 Log de la transacción...')\n",
    "        func()\n",
    "        print('3 Log terminado...')\n",
    "    return anywey\n",
    "\n",
    "\n",
    "@log_transaction\n",
    "def process_payment():\n",
    "    print('2 Procesando pago....')\n",
    "\n",
    "process_payment()"
   ],
   "outputs": [
    {
     "name": "stdout",
     "output_type": "stream",
     "text": [
      "1 Log de la transacción...\n",
      "2 Procesando pago....\n",
      "3 Log terminado...\n"
     ]
    }
   ],
   "execution_count": 6
  },
  {
   "metadata": {},
   "cell_type": "code",
   "outputs": [],
   "execution_count": null,
   "source": [
    "def check_access(func):\n",
    "    def wrapper(employee):\n",
    "        # Comprobar si el empleado tiene rol 'admin'\n",
    "        if employee.get('role') == 'admin':\n",
    "            return func(employee)\n",
    "        else:\n",
    "            print('ACCESO DENEGADO. Solo los administradores pueden acceder.')\n",
    "    return wrapper\n",
    "\n",
    "@check_access\n",
    "def delete_employee(employee):\n",
    "    print(f'Elempleado {employee['name']} ha sido eliminado.')\n",
    "\n",
    "admin = {'name': 'Carlos', 'role': 'admin'}\n",
    "employee = {'name': 'Ana', 'role': 'employee'}\n",
    "\n",
    "\n",
    "#delete_employee(admin)\n",
    "delete_employee(employee)"
   ],
   "id": "a8ce908df58ddff9"
  },
  {
   "metadata": {
    "ExecuteTime": {
     "end_time": "2025-09-26T17:56:32.790335Z",
     "start_time": "2025-09-26T17:56:32.780632Z"
    }
   },
   "cell_type": "code",
   "source": [
    "# Decorador que comprueba si un empleado tiene un rol especifico\n",
    "\n",
    "def check_accesos(requerid_role):\n",
    "    def decorator(func):\n",
    "        def wrapper(employee):\n",
    "            # Comprobar si el rol del empleado coincide con el rol requerido\n",
    "            if employee.get('role') == requerid_role:\n",
    "                return func(employee)\n",
    "            else:\n",
    "                print(f\"ACCESO DENEGADO. Solo {requerid_role} pueden realizar esta acción\")\n",
    "        return wrapper\n",
    "    return decorator\n",
    "\n",
    "def log_action(func):\n",
    "    def wrapper(employee):\n",
    "        print(f\"Registrando acción para el empleado {employee['name']}\")\n",
    "        return func(employee)\n",
    "    return wrapper\n",
    "\n",
    "\n",
    "@check_accesos('user')\n",
    "@log_action\n",
    "def delete_employee(employee):\n",
    "    print(f\"El empleado {employee['name']} ha sido eliminado.\")\n",
    "\n",
    "admin = {'name': 'Carlos', 'role': 'admin'}\n",
    "user = {'name': 'Paco', 'role': 'user'}\n",
    "\n",
    "#delete_employee(admin)\n",
    "delete_employee(user)"
   ],
   "id": "a603ae22a779b0d4",
   "outputs": [
    {
     "name": "stdout",
     "output_type": "stream",
     "text": [
      "Registrando acción para el empleado Paco\n",
      "El empleado Paco ha sido eliminado.\n"
     ]
    }
   ],
   "execution_count": 17
  },
  {
   "metadata": {
    "ExecuteTime": {
     "end_time": "2025-09-26T18:08:31.785253Z",
     "start_time": "2025-09-26T18:08:26.483992Z"
    }
   },
   "cell_type": "code",
   "source": [
    "import pandas as pd\n",
    "import time\n",
    "\n",
    "# Decorador 1: Valida que el DataFrame no esté vacío\n",
    "def validar_dataframe(func):\n",
    "    # 'func' es la función que vamos a decorar (ej. preprocesar_datos).\n",
    "    def wrapper(df, *args, **kwargs):\n",
    "        # 'wrapper' es la nueva función que reemplaza a la original.\n",
    "        # Recibe un DataFrame 'df' y cualquier otro argumento.\n",
    "        print(\"-> [Validación]: Comprobando si el DataFrame tiene datos...\")\n",
    "        if df.empty:\n",
    "            # Si el DataFrame está vacío, no ejecutes la función original.\n",
    "            print(\"   ADVERTENCIA: El DataFrame está vacío. Se detiene la ejecución.\")\n",
    "            return None # Detenemos todo y devolvemos None.\n",
    "\n",
    "        # Si no está vacío, permite que la función original se ejecute.\n",
    "        print(\"   [Validación]: OK. El DataFrame tiene datos.\")\n",
    "        return func(df, *args, **kwargs)\n",
    "    return wrapper # El decorador devuelve la función 'wrapper'.\n",
    "\n",
    "# Decorador 2: Mide el tiempo de ejecución de una función\n",
    "def medir_tiempo(func):\n",
    "    # 'func' es la función que vamos a decorar.\n",
    "    def wrapper(*args, **kwargs):\n",
    "        # 'wrapper' recibe cualquier tipo de argumento.\n",
    "        print(\"-> [Medición]: Iniciando cronómetro...\")\n",
    "        start_time = time.time() # Guarda el tiempo de inicio.\n",
    "\n",
    "        result = func(*args, **kwargs) # Ejecuta la función original y guarda su resultado.\n",
    "\n",
    "        end_time = time.time() # Guarda el tiempo de finalización.\n",
    "        print(f\"   [Medición]: OK. La función tardó {end_time - start_time:.4f} segundos.\")\n",
    "        return result # Devuelve el resultado original de la función.\n",
    "    return wrapper # El decorador devuelve la función 'wrapper'.\n",
    "\n",
    "@validar_dataframe\n",
    "@medir_tiempo\n",
    "def preprocesar_datos(df: pd.DataFrame) -> pd.DataFrame:\n",
    "    \"\"\"\n",
    "    Función que simula una limpieza de datos en un DataFrame.\n",
    "    \"\"\"\n",
    "    print(\"--> [Procesamiento]: Realizando limpieza de datos...\")\n",
    "    # Simula un trabajo que toma tiempo\n",
    "    time.sleep(1)\n",
    "    df_procesado = df.dropna()\n",
    "    print(\"--> [Procesamiento]: ¡Limpieza completada!\")\n",
    "    return df_procesado\n",
    "\n",
    "# --- Caso 1: DataFrame con datos ---\n",
    "print(\"--- INICIANDO PRUEBA CON DATOS VÁLIDOS ---\")\n",
    "datos_validos = pd.DataFrame({'col1': [1, 2, 3], 'col2': [4, 5, None]})\n",
    "preprocesar_datos(datos_validos)\n",
    "\n",
    "print(\"\\n\" + \"=\"*50 + \"\\n\")\n",
    "\n",
    "# --- Caso 2: DataFrame vacío ---\n",
    "print(\"--- INICIANDO PRUEBA CON DATOS VACÍOS ---\")\n",
    "datos_vacios = pd.DataFrame()\n",
    "preprocesar_datos(datos_vacios)"
   ],
   "id": "fc932e6664751141",
   "outputs": [
    {
     "name": "stdout",
     "output_type": "stream",
     "text": [
      "--- INICIANDO PRUEBA CON DATOS VÁLIDOS ---\n",
      "-> [Validación]: Comprobando si el DataFrame tiene datos...\n",
      "   [Validación]: OK. El DataFrame tiene datos.\n",
      "-> [Medición]: Iniciando cronómetro...\n",
      "--> [Procesamiento]: Realizando limpieza de datos...\n",
      "--> [Procesamiento]: ¡Limpieza completada!\n",
      "   [Medición]: OK. La función tardó 1.0702 segundos.\n",
      "\n",
      "==================================================\n",
      "\n",
      "--- INICIANDO PRUEBA CON DATOS VACÍOS ---\n",
      "-> [Validación]: Comprobando si el DataFrame tiene datos...\n",
      "   ADVERTENCIA: El DataFrame está vacío. Se detiene la ejecución.\n"
     ]
    }
   ],
   "execution_count": 18
  },
  {
   "metadata": {},
   "cell_type": "markdown",
   "source": [
    "# Decoradores: \"Superpoderes\" para tus Funciones\n",
    "\n",
    "Los **decoradores** son una forma de \"envolver\" una función para añadirle una nueva funcionalidad antes o después de que se ejecute, **sin modificar su código interno**.\n",
    "\n",
    "**La Analogía:**\n",
    "Piensa en un **regalo**.\n",
    "* La **función original** es el **regalo** en sí (ej. una función que procesa un pago).\n",
    "* Un **decorador** es el **papel de regalo y el moño**. No cambia el regalo, pero añade algo extra por fuera (ej. registrar la hora de la transacción, verificar permisos).\n",
    "\n",
    "Se usan con el símbolo `@` justo encima de la definición de la función."
   ],
   "id": "ba9337bb41298244"
  },
  {
   "metadata": {},
   "cell_type": "markdown",
   "source": [
    "## 1. La Anatomía de un Decorador Simple\n",
    "\n",
    "Un decorador es una función que recibe otra función como argumento, le añade funcionalidades y devuelve una nueva función \"mejorada\"."
   ],
   "id": "50796451887d10c9"
  },
  {
   "metadata": {
    "ExecuteTime": {
     "end_time": "2025-09-26T18:21:49.229743Z",
     "start_time": "2025-09-26T18:21:49.221128Z"
    }
   },
   "cell_type": "code",
   "source": [
    "# Este es nuestro decorador. Recibe una función (func) como parámetro.\n",
    "def log_decorator(func):\n",
    "    # 'wrapper' es la nueva función que \"envuelve\" a la original.\n",
    "    def wrapper():\n",
    "        print(f\"Iniciando log para la función: {func.__name__}...\")\n",
    "        func() # Aquí se ejecuta la función original.\n",
    "        print(f\"Log para la función {func.__name__} terminado.\")\n",
    "    # El decorador devuelve la función 'wrapper'.\n",
    "    return wrapper\n",
    "\n",
    "# Aplicamos el decorador a nuestra función\n",
    "@log_decorator\n",
    "def procesar_pago():\n",
    "    print(\"...Procesando pago...\")\n",
    "\n",
    "# Al llamar a procesar_pago(), en realidad estamos llamando a la versión \"envuelta\" (wrapper).\n",
    "procesar_pago()"
   ],
   "id": "a9b9b33e4145f674",
   "outputs": [
    {
     "name": "stdout",
     "output_type": "stream",
     "text": [
      "Iniciando log para la función: procesar_pago...\n",
      "...Procesando pago...\n",
      "Log para la función procesar_pago terminado.\n"
     ]
    }
   ],
   "execution_count": 19
  },
  {
   "metadata": {},
   "cell_type": "markdown",
   "source": [
    "## 2. Decoradores que Aceptan Argumentos\n",
    "\n",
    "A veces, queremos que nuestro decorador sea configurable. Por ejemplo, un decorador que verifique permisos necesita saber qué permiso verificar. Para esto, añadimos una capa extra de anidación."
   ],
   "id": "836beda81340802"
  },
  {
   "metadata": {
    "ExecuteTime": {
     "end_time": "2025-09-26T18:25:57.645717Z",
     "start_time": "2025-09-26T18:25:57.636007Z"
    }
   },
   "cell_type": "code",
   "source": [
    "# 1. La función más externa recibe el argumento del decorador.\n",
    "def verificar_acceso(rol_requerido):\n",
    "    # 2. Esta función es el decorador real.\n",
    "    def decorator(func):\n",
    "        # 3. El wrapper es el que finalmente se ejecuta.\n",
    "        def wrapper(empleado):\n",
    "            print(f\"Verificando si el empleado tiene el rol '{rol_requerido}'...\")\n",
    "            if empleado.get('rol') == rol_requerido:\n",
    "                return func(empleado) # Si tiene permiso, ejecuta la función original.\n",
    "            else:\n",
    "                print(f\"Acceso denegado: Se requiere el rol de '{rol_requerido}'.\")\n",
    "        return wrapper\n",
    "    return decorator\n",
    "\n",
    "# Aplicamos el decorador pasándole un argumento.\n",
    "@verificar_acceso('admin')\n",
    "def eliminar_empleado(empleado):\n",
    "    print(f\"Éxito: El empleado {empleado['nombre']} ha sido eliminado.\")\n",
    "\n",
    "admin = {'nombre': 'Carlos', 'rol': 'admin'}\n",
    "usuario = {'nombre': 'Ana', 'rol': 'usuario'}\n",
    "\n",
    "eliminar_empleado(admin)\n",
    "print(\"-\" * 20)\n",
    "eliminar_empleado(usuario)"
   ],
   "id": "fb132ae32b8a1f99",
   "outputs": [
    {
     "name": "stdout",
     "output_type": "stream",
     "text": [
      "Verificando si el empleado tiene el rol 'admin'...\n",
      "Éxito: El empleado Carlos ha sido eliminado.\n",
      "--------------------\n",
      "Verificando si el empleado tiene el rol 'admin'...\n",
      "Acceso denegado: Se requiere el rol de 'admin'.\n"
     ]
    }
   ],
   "execution_count": 20
  },
  {
   "metadata": {},
   "cell_type": "markdown",
   "source": [
    "## 3. Decoradores Anidados: Apilando Comportamientos\n",
    "\n",
    "Puedes aplicar múltiples decoradores a una misma función. Se ejecutan en orden desde el que está más abajo (más cerca de la función) hacia arriba."
   ],
   "id": "70c7f60fc3386fb2"
  },
  {
   "metadata": {},
   "cell_type": "code",
   "outputs": [],
   "execution_count": null,
   "source": [
    "# Aplicamos ambos decoradores que ya creamos.\n",
    "@verificar_acceso('admin') # 2º en ejecutarse\n",
    "@log_decorator           # 1º en ejecutarse (el más cercano a la función)\n",
    "def tarea_sensible():\n",
    "    print(\"...Realizando tarea sensible...\")\n",
    "\n",
    "# En este caso, primero se ejecutará el log y luego la verificación de acceso.\n",
    "tarea_sensible() # Esto fallará porque no le pasamos el diccionario de empleado"
   ],
   "id": "2777bfa68075f39a"
  },
  {
   "metadata": {},
   "cell_type": "markdown",
   "source": [
    "## Ejercicio Práctico para Ciencia de Datos: Medidor de Tiempo y Validador de Datos\n",
    "\n",
    "Vamos a crear dos decoradores muy útiles en el día a día de un científico de datos:\n",
    "1.  **`@timer`**: Medirá y mostrará cuánto tiempo tarda en ejecutarse una función.\n",
    "2.  **`@validate_input`**: Se asegurará de que la entrada a nuestra función de procesamiento sea del tipo correcto."
   ],
   "id": "c6d5dcbe298b1a20"
  },
  {
   "metadata": {},
   "cell_type": "code",
   "outputs": [],
   "execution_count": null,
   "source": [
    "import time\n",
    "import pandas as pd\n",
    "\n",
    "# --- DECORADOR 1: Medidor de Tiempo ---\n",
    "def timer(func):\n",
    "    def wrapper(*args, **kwargs):\n",
    "        start_time = time.time() # 1. Guarda la hora de inicio\n",
    "        result = func(*args, **kwargs) # 2. Ejecuta la función\n",
    "        end_time = time.time() # 3. Guarda la hora de fin\n",
    "        print(f\"La función '{func.__name__}' tardó {end_time - start_time:.4f} segundos en ejecutarse.\")\n",
    "        return result\n",
    "    return wrapper\n",
    "\n",
    "# --- DECORADOR 2: Validador de Entrada ---\n",
    "def validate_input(func):\n",
    "    def wrapper(data):\n",
    "        # Verifica si la entrada es un DataFrame de Pandas\n",
    "        if not isinstance(data, pd.DataFrame):\n",
    "            # Lanza un error si el tipo no es correcto\n",
    "            raise TypeError(\"La entrada debe ser un DataFrame de Pandas.\")\n",
    "\n",
    "        # Verifica si el DataFrame está vacío\n",
    "        if data.empty:\n",
    "            print(\"Advertencia: El DataFrame de entrada está vacío. No se procesará nada.\")\n",
    "            return None # Termina la ejecución si está vacío\n",
    "\n",
    "        # Si todo está bien, ejecuta la función original\n",
    "        return func(data)\n",
    "    return wrapper\n",
    "\n",
    "\n",
    "# --- APLICANDO LOS DECORADORES A UNA FUNCIÓN DE PROCESAMIENTO ---\n",
    "@timer\n",
    "@validate_input\n",
    "def procesar_datos(df):\n",
    "    \"\"\"Simula un proceso de datos pesado.\"\"\"\n",
    "    print(f\"Procesando un DataFrame con {len(df)} filas...\")\n",
    "    # Simulamos un trabajo largo\n",
    "    time.sleep(2)\n",
    "    print(\"Proceso terminado.\")\n",
    "    return \"Resultados del procesamiento\"\n",
    "\n",
    "# --- PROBANDO NUESTRA FUNCIÓN DECORADA ---\n",
    "# 1. Prueba con datos correctos\n",
    "df_bueno = pd.DataFrame({'col1': [1, 2, 3]})\n",
    "procesar_datos(df_bueno)\n",
    "\n",
    "print(\"\\n\" + \"=\"*30 + \"\\n\")\n",
    "\n",
    "# 2. Prueba con un DataFrame vacío\n",
    "df_vacio = pd.DataFrame()\n",
    "procesar_datos(df_vacio)\n",
    "\n",
    "print(\"\\n\" + \"=\"*30 + \"\\n\")\n",
    "\n",
    "# 3. Prueba con un tipo de dato incorrecto\n",
    "lista_mala = [1, 2, 3]\n",
    "try:\n",
    "    procesar_datos(lista_mala)\n",
    "except TypeError as e:\n",
    "    print(f\"Error capturado: {e}\")"
   ],
   "id": "bc017f05d5e5c1dd"
  }
 ],
 "metadata": {
  "kernelspec": {
   "display_name": "Python 3",
   "language": "python",
   "name": "python3"
  },
  "language_info": {
   "codemirror_mode": {
    "name": "ipython",
    "version": 2
   },
   "file_extension": ".py",
   "mimetype": "text/x-python",
   "name": "python",
   "nbconvert_exporter": "python",
   "pygments_lexer": "ipython2",
   "version": "2.7.6"
  }
 },
 "nbformat": 4,
 "nbformat_minor": 5
}
