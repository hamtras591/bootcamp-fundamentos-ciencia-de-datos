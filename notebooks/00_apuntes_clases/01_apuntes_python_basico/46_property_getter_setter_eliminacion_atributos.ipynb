{
 "cells": [
  {
   "metadata": {},
   "cell_type": "markdown",
   "source": [
    "# Propiedades (`@property`): Getters y Setters al Estilo Python\n",
    "\n",
    "El decorador `@property` nos permite transformar un método de una clase en un \"atributo inteligente\". Esto nos da lo mejor de dos mundos: la sintaxis simple de acceder a un atributo y el poder de ejecutar lógica (como validaciones) cada vez que se lee, escribe o elimina ese atributo.\n",
    "\n",
    "**La Analogía: El Termostato de una Casa**\n",
    "Piensa en el atributo `_salary` como el **sistema de calefacción y aire acondicionado** de una casa. Es complejo y no quieres que nadie lo manipule directamente.\n",
    "* La **propiedad `salary`** es el **termostato** en la pared.\n",
    "* **Leer `employee.salary`** (el Getter) es como mirar la temperatura actual en la pantalla del termostato.\n",
    "* **Asignar `employee.salary = 6000`** (el Setter) es como girar la perilla. Internamente, el sistema realiza validaciones complejas (¿es una temperatura válida?, ¿debo encender la calefacción o el aire?), pero para ti, la interacción es simple y directa.\n",
    "* **`del employee.salary`** (el Deleter) es como un botón de reseteo en el termostato."
   ],
   "id": "fc4caf2e8a02fa7e"
  },
  {
   "metadata": {},
   "cell_type": "markdown",
   "source": [
    "## 1. El Atributo Protegido\n",
    "\n",
    "Por convención, el atributo que contiene el dato real se nombra con un guion bajo (ej. `_salary`). Esto le indica a otros programadores que no deben modificarlo directamente, sino a través de la propiedad."
   ],
   "id": "988809e0e6bf8c49"
  },
  {
   "metadata": {},
   "cell_type": "markdown",
   "source": [
    "## 2. El Getter (`@property`)\n",
    "\n",
    "Este es el primer paso. Se decora un método con `@property`. Este método debe tener el mismo nombre que el atributo público que queremos crear (ej. `salary`) y su única función es devolver el valor del atributo protegido (`_salary`). Esto crea una propiedad de \"solo lectura\"."
   ],
   "id": "d09f6e622a141d0a"
  },
  {
   "metadata": {},
   "cell_type": "markdown",
   "source": [
    "## 3. El Setter (`@salary.setter`)\n",
    "\n",
    "Este decorador se crea a partir de la propiedad que ya existe. El método se llama igual que la propiedad y recibe el nuevo valor que se está intentando asignar. Aquí es donde se coloca toda la lógica de validación."
   ],
   "id": "fc9810f909821836"
  },
  {
   "metadata": {},
   "cell_type": "markdown",
   "source": [
    "## 4. El Deleter (`@salary.deleter`)\n",
    "\n",
    "Este es menos común, pero útil. Se decora con `@nombre_propiedad.deleter` y define qué acción se debe ejecutar cuando se usa la sentencia `del` sobre el atributo."
   ],
   "id": "4876db0d81a470d7"
  },
  {
   "metadata": {},
   "cell_type": "markdown",
   "source": "## 5. Ejemplo Completo: La Clase `Employee`",
   "id": "14901728f2892889"
  },
  {
   "cell_type": "code",
   "id": "initial_id",
   "metadata": {
    "collapsed": true,
    "ExecuteTime": {
     "end_time": "2025-10-02T13:32:34.314521Z",
     "start_time": "2025-10-02T13:32:34.307493Z"
    }
   },
   "source": [
    "class Employee:\n",
    "    # El constructor. Recibe los datos iniciales.\n",
    "    def __init__(self, name, salary):\n",
    "        # Asigna el nombre directamente.\n",
    "        self.name = name\n",
    "        # Asigna el salario a través de la propiedad, lo que ejecuta el setter automáticamente.\n",
    "        self.salary = salary\n",
    "\n",
    "    # 1. GETTER: Se ejecuta al leer 'employee.salary'\n",
    "    @property\n",
    "    def salary(self):\n",
    "        # Imprime un mensaje para demostrar que se está ejecutando.\n",
    "        print(\"Obteniendo el valor del salario...\")\n",
    "        # Devuelve el valor del atributo interno y protegido.\n",
    "        return self._salary\n",
    "\n",
    "    # 2. SETTER: Se ejecuta al asignar 'employee.salary = valor'\n",
    "    @salary.setter\n",
    "    def salary(self, new_salary):\n",
    "        # Imprime un mensaje para demostrar que se está ejecutando.\n",
    "        print(f\"Validando y asignando el nuevo salario: {new_salary}...\")\n",
    "        # Lógica de validación: el salario no puede ser negativo.\n",
    "        if new_salary < 0:\n",
    "            # Si la validación falla, lanza un error claro.\n",
    "            raise ValueError(\"El salario no puede ser negativo\")\n",
    "        # Si la validación es exitosa, guarda el valor en el atributo interno.\n",
    "        self._salary = new_salary\n",
    "\n",
    "    # 3. DELETER: Se ejecuta al llamar 'del employee.salary'\n",
    "    @salary.deleter\n",
    "    def salary(self):\n",
    "        # Imprime un mensaje para confirmar la acción.\n",
    "        print(f\"Se ha eliminado el atributo de salario para {self.name}\")\n",
    "        # Elimina el atributo interno.\n",
    "        del self._salary"
   ],
   "outputs": [],
   "execution_count": 6
  },
  {
   "metadata": {},
   "cell_type": "markdown",
   "source": "## 6. Simulación",
   "id": "d3cc996ded31d51b"
  },
  {
   "metadata": {
    "ExecuteTime": {
     "end_time": "2025-10-02T13:33:47.957612Z",
     "start_time": "2025-10-02T13:33:47.947948Z"
    }
   },
   "cell_type": "code",
   "source": [
    "# Crear una instancia de Employee. Esto llama al __init__, que a su vez llama al SETTER.\n",
    "employee = Employee(\"Ana\", 5000)\n",
    "\n",
    "# Leer el salario. Esto llama al GETTER.\n",
    "print(f\"Salario actual: {employee.salary}\")\n",
    "\n",
    "print(\"\\n--- Modificando el salario ---\")\n",
    "# Modificar el salario. Esto llama al SETTER.\n",
    "employee.salary = 6000\n",
    "print(f\"Salario modificado: {employee.salary}\")\n",
    "\n",
    "print(\"\\n--- Intentando asignar un valor inválido ---\")\n",
    "# Intentar establecer un salario negativo. Esto llamará al SETTER y lanzará un ValueError.\n",
    "try:\n",
    "    employee.salary = -1000\n",
    "except ValueError as e:\n",
    "    print(f\"Error capturado: {e}\")\n",
    "\n",
    "print(\"\\n--- Eliminando el salario ---\")\n",
    "# Eliminar el salario. Esto llama al DELETER.\n",
    "del employee.salary\n",
    "\n",
    "# Si intentamos acceder de nuevo, dará un AttributeError porque el atributo ya no existe.\n",
    "try:\n",
    "    print(employee.salary)\n",
    "except AttributeError as e:\n",
    "    print(f\"Error capturado: {e}\")"
   ],
   "id": "663d1f93243da378",
   "outputs": [
    {
     "name": "stdout",
     "output_type": "stream",
     "text": [
      "Validando y asignando el nuevo salario: 5000...\n",
      "Obteniendo el valor del salario...\n",
      "Salario actual: 5000\n",
      "\n",
      "--- Modificando el salario ---\n",
      "Validando y asignando el nuevo salario: 6000...\n",
      "Obteniendo el valor del salario...\n",
      "Salario modificado: 6000\n",
      "\n",
      "--- Intentando asignar un valor inválido ---\n",
      "Validando y asignando el nuevo salario: -1000...\n",
      "Error capturado: El salario no puede ser negativo\n",
      "\n",
      "--- Eliminando el salario ---\n",
      "Se ha eliminado el atributo de salario para Ana\n",
      "Obteniendo el valor del salario...\n",
      "Error capturado: 'Employee' object has no attribute '_salary'\n"
     ]
    }
   ],
   "execution_count": 7
  }
 ],
 "metadata": {
  "kernelspec": {
   "display_name": "Python 3",
   "language": "python",
   "name": "python3"
  },
  "language_info": {
   "codemirror_mode": {
    "name": "ipython",
    "version": 2
   },
   "file_extension": ".py",
   "mimetype": "text/x-python",
   "name": "python",
   "nbconvert_exporter": "python",
   "pygments_lexer": "ipython2",
   "version": "2.7.6"
  }
 },
 "nbformat": 4,
 "nbformat_minor": 5
}
