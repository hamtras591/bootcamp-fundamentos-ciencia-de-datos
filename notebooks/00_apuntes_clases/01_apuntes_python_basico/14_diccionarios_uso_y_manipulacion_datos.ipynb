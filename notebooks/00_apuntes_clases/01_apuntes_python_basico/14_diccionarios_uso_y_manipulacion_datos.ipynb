{
 "cells": [
  {
   "metadata": {},
   "cell_type": "markdown",
   "source": [
    "# Diccionarios: Almacenando Datos con Clave-Valor\n",
    "\n",
    "Los **diccionarios** son una de las estructuras de datos más potentes y utilizadas en Python. A diferencia de las listas que se ordenan por un índice numérico, los diccionarios almacenan la información en pares **`clave: valor`**.\n",
    "\n",
    "Pensemos en un diccionario real: la **clave** es la palabra que buscas y el **valor** es su definición.\n",
    "\n",
    "**Características Clave:**\n",
    "* **Clave-Valor:** Cada elemento tiene una clave única que se usa para acceder a su valor.\n",
    "* **Mutables:** Puedes añadir, modificar y eliminar pares clave-valor.\n",
    "* **Ordenados (a partir de Python 3.7):** Mantienen el orden en que se insertan los elementos.\n",
    "* **Claves Únicas:** No puede haber dos claves iguales en un mismo diccionario."
   ],
   "id": "ecde2c6ee336c6e9"
  },
  {
   "metadata": {},
   "cell_type": "markdown",
   "source": [
    "## 1. Creación y Acceso a Elementos\n",
    "\n",
    "Se crean usando llaves `{}`. Para acceder a un valor, se usan corchetes `[]` con el nombre de la clave.\n",
    "\n",
    "**Pro Tip:** Es más seguro acceder a los datos con el método `.get(clave)`, ya que si la clave no existe, no arrojará un error (devuelve `None`), a diferencia de `[clave]` que detendría el programa con un `KeyError`."
   ],
   "id": "6d50c78ca3d83d1b"
  },
  {
   "metadata": {
    "ExecuteTime": {
     "end_time": "2025-09-19T15:02:58.046259Z",
     "start_time": "2025-09-19T15:02:58.038010Z"
    }
   },
   "cell_type": "code",
   "source": [
    "informacion_personal = {\n",
    "    \"nombre\": \"Anderson\",\n",
    "    \"apellido\": \"Rubio\",\n",
    "    \"edad\": 27,\n",
    "    \"ciudad\": \"Bogotá\"\n",
    "}\n",
    "\n",
    "# Acceso directo con corchetes\n",
    "print(f\"Nombre: {informacion_personal['nombre']}\")\n",
    "\n",
    "# Acceso seguro con .get()\n",
    "print(f\"País: {informacion_personal.get('pais')}\") # No existe, devuelve None\n",
    "print(f\"País (con valor por defecto): {informacion_personal.get('pais', 'No especificado')}\")\n",
    "\n",
    "# Acceder con [] a una clave que no existe da error (descomenta para probar)\n",
    "# print(informacion_personal['pais'])"
   ],
   "id": "36e00a8f122ef87c",
   "outputs": [
    {
     "name": "stdout",
     "output_type": "stream",
     "text": [
      "Nombre: Anderson\n",
      "País: None\n",
      "País (con valor por defecto): No especificado\n"
     ]
    }
   ],
   "execution_count": 1
  },
  {
   "metadata": {},
   "cell_type": "markdown",
   "source": [
    "## 2. Modificación de Diccionarios\n",
    "\n",
    "Al ser mutables, podemos manipularlos fácilmente.\n",
    "\n",
    "* **Añadir/Modificar:** Si la clave no existe, la crea. Si ya existe, actualiza su valor.\n",
    "* **Eliminar:** Se usa la sentencia `del` con la clave a eliminar."
   ],
   "id": "80f24293c7792565"
  },
  {
   "metadata": {},
   "cell_type": "code",
   "source": [
    "# Partimos del diccionario anterior\n",
    "print(f\"Original: {informacion_personal}\")\n",
    "\n",
    "# Añadimos un nuevo par clave-valor\n",
    "informacion_personal['profesion'] = 'Científico de Datos'\n",
    "print(f\"Añadido: {informacion_personal}\")\n",
    "\n",
    "# Modificamos un valor existente\n",
    "informacion_personal['edad'] = 27.2\n",
    "print(f\"Modificado: {informacion_personal}\")\n",
    "\n",
    "# Eliminamos un elemento\n",
    "del informacion_personal['ciudad']\n",
    "print(f\"Eliminado: {informacion_personal}\")"
   ],
   "id": "a9a4634d84c4c504",
   "outputs": [],
   "execution_count": null
  },
  {
   "metadata": {},
   "cell_type": "markdown",
   "source": [
    "## 3. Iteración: Recorriendo el Diccionario\n",
    "\n",
    "Existen tres métodos principales para iterar sobre un diccionario:\n",
    "\n",
    "* `.keys()`: Para obtener solo las claves.\n",
    "* `.values()`: Para obtener solo los valores.\n",
    "* `.items()`: Para obtener tuplas de `(clave, valor)`. **Es el método más común y útil.**"
   ],
   "id": "8098ca392a65fe25"
  },
  {
   "metadata": {},
   "cell_type": "code",
   "source": [
    "# Iterar sobre las claves\n",
    "print(\"\\n--- Claves ---\")\n",
    "for clave in informacion_personal.keys():\n",
    "    print(clave)\n",
    "\n",
    "# Iterar sobre los valores\n",
    "print(\"\\n--- Valores ---\")\n",
    "for valor in informacion_personal.values():\n",
    "    print(valor)\n",
    "\n",
    "# Iterar sobre los pares clave-valor (la forma más usada)\n",
    "print(\"\\n--- Items (Clave y Valor) ---\")\n",
    "for clave, valor in informacion_personal.items():\n",
    "    print(f\"{clave.title()}: {valor}\")"
   ],
   "id": "8d09cff171028078",
   "outputs": [],
   "execution_count": null
  },
  {
   "metadata": {},
   "cell_type": "markdown",
   "source": [
    "## 4. Aplicaciones y Casos de Uso Reales\n",
    "\n",
    "Ejemplos excelentes y muestran perfectamente por qué los diccionarios son tan importantes en el día a día.\n",
    "\n",
    "### Contador de Frecuencia\n",
    "* **Descripción:** Contar la frecuencia de cada elemento en una lista es un problema clásico en análisis de datos.\n",
    "* **Uso en DS:** Fundamental para el análisis exploratorio de datos (EDA), para entender la distribución de variables categóricas."
   ],
   "id": "fb54d29e4b09f0be"
  },
  {
   "metadata": {
    "ExecuteTime": {
     "end_time": "2025-09-19T15:06:08.947813Z",
     "start_time": "2025-09-19T15:06:08.939705Z"
    }
   },
   "cell_type": "code",
   "source": [
    "palabras = [\"manzana\", \"banana\", \"naranja\", \"manzana\", \"banana\", \"manzana\"]\n",
    "contador = {}\n",
    "\n",
    "for palabra in palabras:\n",
    "    # .get(palabra, 0) devuelve el conteo actual o 0 si la palabra es nueva\n",
    "    contador[palabra] = contador.get(palabra, 0) + 1\n",
    "\n",
    "print(\"Contador de palabras:\", contador)"
   ],
   "id": "ccc5839e9d257b64",
   "outputs": [
    {
     "name": "stdout",
     "output_type": "stream",
     "text": [
      "Contador de palabras: {'manzana': 3, 'banana': 2, 'naranja': 1}\n"
     ]
    }
   ],
   "execution_count": 2
  },
  {
   "metadata": {},
   "cell_type": "markdown",
   "source": [
    "### Mapeo de IDs a Datos (Registros)\n",
    "* **Descripción:** Usar un ID único como clave para almacenar un registro completo (otro diccionario) como valor.\n",
    "* **Uso en DS:** Es la forma natural de estructurar datos de usuarios, productos, o cualquier entidad que tenga un identificador único."
   ],
   "id": "f11fcbfbc48eefc2"
  },
  {
   "metadata": {},
   "cell_type": "code",
   "source": [
    "usuarios = {\n",
    "    \"user123\": {\"nombre\": \"Juan\", \"edad\": 30, \"intereses\": [\"ML\", \"Python\"]},\n",
    "    \"user456\": {\"nombre\": \"Ana\", \"edad\": 25, \"intereses\": [\"Visualización\", \"SQL\"]}\n",
    "}\n",
    "\n",
    "print(\"Datos de usuario user456:\", usuarios[\"user456\"])\n",
    "print(\"Intereses de user123:\", usuarios[\"user123\"][\"intereses\"])"
   ],
   "id": "127a63eacf5c8695",
   "outputs": [],
   "execution_count": null
  },
  {
   "metadata": {},
   "cell_type": "markdown",
   "source": [
    "### Representación de Datos Estructurados (JSON)\n",
    "* **Descripción:** El formato JSON (JavaScript Object Notation), el estándar para el intercambio de datos en la web (APIs), tiene una estructura prácticamente idéntica a los diccionarios de Python.\n",
    "* **Uso en DS:** Es la estructura de datos principal cuando trabajas con APIs para obtener datos de redes sociales, finanzas, mapas, etc."
   ],
   "id": "b3c542ee084960f2"
  },
  {
   "metadata": {},
   "cell_type": "code",
   "source": [
    "import json\n",
    "\n",
    "# Un diccionario que representa un libro\n",
    "libro = {\n",
    "    \"título\": \"Cien años de soledad\",\n",
    "    \"autor\": \"Gabriel García Márquez\",\n",
    "    \"año\": 1967,\n",
    "    \"disponible\": True\n",
    "}\n",
    "\n",
    "# Convertimos el diccionario de Python a un string en formato JSON\n",
    "json_data = json.dumps(libro, ensure_ascii=False, indent=4)\n",
    "\n",
    "print(\"Datos en formato JSON:\")\n",
    "print(json_data)"
   ],
   "id": "2e0a322f70c70dbc",
   "outputs": [],
   "execution_count": null
  }
 ],
 "metadata": {
  "kernelspec": {
   "name": "python3",
   "language": "python",
   "display_name": "Python 3 (ipykernel)"
  }
 },
 "nbformat": 5,
 "nbformat_minor": 9
}
