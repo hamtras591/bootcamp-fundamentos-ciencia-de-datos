{
 "cells": [
  {
   "metadata": {},
   "cell_type": "markdown",
   "source": [
    "# Módulos: Organizando tu Código como un Profesional\n",
    "\n",
    "A medida que tus proyectos crecen, tener todo el código en un solo archivo se vuelve caótico. Los **módulos** son la solución de Python a este problema, aplicando el principio de \"divide y vencerás\".\n",
    "\n",
    "Un módulo no es más que un archivo `.py` que contiene funciones, clases y variables que puedes reutilizar en otros archivos.\n",
    "\n",
    "**La Analogía: La Caja de Herramientas**\n",
    "* **Módulo (`reportes.py`):** Es una **caja de herramientas especializada**, por ejemplo, una \"Caja de Finanzas\".\n",
    "* **Funciones (`generar_informe_ventas`):** Son las **herramientas individuales** dentro de la caja (un martillo, un destornillador).\n",
    "* **`import reportes`**: Es el acto de **traer la caja de herramientas completa** a tu zona de trabajo.\n",
    "* **`from reportes import ...`**: Es el acto de tomar **solo una herramienta específica** de la caja."
   ],
   "id": "88f274a8519bee23"
  },
  {
   "metadata": {},
   "cell_type": "markdown",
   "source": [
    "## 1. Creando Nuestro Módulo\n",
    "\n",
    "Vamos a crear un módulo llamado `reportes.py`. Usaremos un \"comando mágico\" de Jupyter (`%%writefile`) para guardar el contenido de la siguiente celda como un archivo `.py` en nuestra carpeta."
   ],
   "id": "2049c559a9fb46ca"
  },
  {
   "metadata": {
    "collapsed": true
   },
   "cell_type": "code",
   "outputs": [],
   "execution_count": null,
   "source": [
    "%%writefile reportes.py\n",
    "\n",
    "# Este es el contenido de nuestro módulo 'reportes.py'\n",
    "\n",
    "def generar_informe_ventas(mes, ventas):\n",
    "    \"\"\"Genera un reporte simple de ventas para un mes dado.\"\"\"\n",
    "    print(\"Generando reporte de ventas...\")\n",
    "    return f\"Reporte del mes de {mes}: Total de ventas = ${ventas}\"\n",
    "\n",
    "def generar_informe_gastos(mes, gastos):\n",
    "    \"\"\"Genera un reporte simple de gastos para un mes dado.\"\"\"\n",
    "    print(\"Generando reporte de gastos...\")\n",
    "    return f\"Reporte del mes de {mes}: Total de gastos = ${gastos}\"\n",
    "\n",
    "print(\"El módulo 'reportes.py' ha sido creado y está listo para ser usado.\")"
   ],
   "id": "d8a6a341381b07f5"
  },
  {
   "metadata": {},
   "cell_type": "markdown",
   "source": [
    "## 2. Usando el Módulo: `import`\n",
    "\n",
    "La forma más común de usar un módulo es importarlo por completo. Esto trae todas sus funciones, pero para usarlas, debes especificar de qué \"caja de herramientas\" vienen, usando la sintaxis `nombre_del_modulo.nombre_de_la_funcion()`."
   ],
   "id": "688dd8f0c73f0a67"
  },
  {
   "metadata": {},
   "cell_type": "code",
   "outputs": [],
   "execution_count": null,
   "source": [
    "# Importamos el módulo completo que acabamos de crear\n",
    "import reportes\n",
    "\n",
    "# Para usar las funciones, usamos el nombre del módulo como prefijo\n",
    "reporte_ventas = reportes.generar_informe_ventas(\"Octubre\", 10000)\n",
    "reporte_gastos = reportes.generar_informe_gastos(\"Octubre\", 5000)\n",
    "\n",
    "print(reporte_ventas)\n",
    "print(reporte_gastos)"
   ],
   "id": "280865b9ccc798ce"
  },
  {
   "metadata": {},
   "cell_type": "markdown",
   "source": [
    "## 3. Importando Funciones Específicas: `from ... import ...`\n",
    "\n",
    "Si solo necesitas una o dos herramientas de la caja, puedes importarlas directamente con `from`. La ventaja es que no necesitas usar el prefijo del módulo para llamarlas, haciendo el código un poco más corto."
   ],
   "id": "ece81dc41f755086"
  },
  {
   "metadata": {},
   "cell_type": "code",
   "outputs": [],
   "execution_count": null,
   "source": [
    "# Importamos solo la función 'generar_informe_ventas' del módulo 'reportes'\n",
    "from reportes import generar_informe_ventas\n",
    "\n",
    "# Ahora podemos llamar a la función directamente, sin el prefijo 'reportes.'\n",
    "reporte_ventas_nov = generar_informe_ventas(\"Noviembre\", 12000)\n",
    "print(reporte_ventas_nov)\n",
    "\n",
    "# También puedes importar varias funciones a la vez\n",
    "from reportes import generar_informe_gastos, generar_informe_ventas\n",
    "\n",
    "# ... y usarlas de la misma forma ..."
   ],
   "id": "b79e138c3e492142"
  },
  {
   "metadata": {},
   "cell_type": "markdown",
   "source": [
    "## ¿Por Qué es Vital Usar Módulos?\n",
    "\n",
    "* **Reutilización:** Escribes una función una vez y la usas en docenas de proyectos.\n",
    "* **Organización:** Separas tu código por funcionalidades (lógica de datos, lógica de visualización, etc.), haciendo tu proyecto mucho más fácil de entender.\n",
    "* **Mantenibilidad:** Si necesitas arreglar un bug en `generar_informe_ventas`, solo lo arreglas en un lugar (`reportes.py`) y todos los proyectos que lo usan se benefician automáticamente."
   ],
   "id": "25c05d3650aecc21"
  },
  {
   "metadata": {},
   "cell_type": "markdown",
   "source": [
    "# Paquetes y Subpaquetes: Construyendo Proyectos Escalables\n",
    "\n",
    "Hemos aprendido a organizar nuestro código en archivos (`módulos`). El siguiente nivel de organización es agrupar módulos relacionados en **paquetes**.\n",
    "\n",
    "Un paquete es simplemente una carpeta que contiene un archivo especial `__init__.py` y otros módulos o subpaquetes.\n",
    "\n",
    "**La Analogía: El Armario de Herramientas**\n",
    "* **Módulo (`martillo.py`):** Una herramienta individual.\n",
    "* **Paquete (`caja_de_carpinteria/`):** Una caja de herramientas que agrupa varias herramientas (módulos) relacionadas.\n",
    "* **Subpaquete (`caja_de_carpinteria/herramientas_electricas/`):** Una sección o compartimento dentro de la caja para una subcategoría de herramientas.\n",
    "* **`__init__.py`**: Es la **etiqueta** en la caja que dice \"Esto es una caja de herramientas de Python\". Puede estar vacío, pero su presencia es lo que le dice a Python que trate la carpeta como un paquete."
   ],
   "id": "e224e4c89426667"
  },
  {
   "metadata": {},
   "cell_type": "markdown",
   "source": [
    "## 1. Creando Nuestro Paquete `ecommerce`\n",
    "\n",
    "Vamos a simular la creación de la estructura de un paquete directamente desde Jupyter. Usaremos \"comandos mágicos\" (`%%writefile` y `mkdir`) para crear las carpetas y archivos."
   ],
   "id": "2510c9956cd95b89"
  },
  {
   "metadata": {},
   "cell_type": "code",
   "outputs": [],
   "execution_count": null,
   "source": [
    "# Creamos la carpeta principal del paquete\n",
    "%mkdir -p ecommerce\n",
    "\n",
    "# Creamos el archivo __init__.py para que sea un paquete\n",
    "# El comando 'touch' crea un archivo vacío\n",
    "!touch ecommerce/__init__.py\n",
    "\n",
    "# Creamos el módulo de inventario\n",
    "%%writefile ecommerce/inventario.py\n",
    "\n",
    "def agregar_producto(nombre, stock):\n",
    "    print(f\"Agregando {stock} unidades de '{nombre}' al inventario.\")\n",
    "\n",
    "def quitar_producto(nombre):\n",
    "    print(f\"Quitando '{nombre}' del inventario.\")\n",
    "\n",
    "# Creamos el módulo de ventas\n",
    "%%writefile ecommerce/ventas.py\n",
    "\n",
    "def procesar_venta(producto, cantidad):\n",
    "    print(f\"Procesando venta de {cantidad} unidades de '{producto}'.\")\n",
    "\n",
    "print(\"Paquete 'ecommerce' con sus módulos 'inventario' y 'ventas' creado con éxito.\")"
   ],
   "id": "a6489feccb99b1c2"
  },
  {
   "metadata": {},
   "cell_type": "markdown",
   "source": [
    "## 2. Usando el Paquete desde un Archivo Principal (`main.py`)\n",
    "\n",
    "Ahora, desde un archivo fuera del paquete, podemos importar y usar las funciones que creamos, usando la notación de punto para navegar por la estructura del paquete."
   ],
   "id": "734f3082aa62041b"
  },
  {
   "metadata": {},
   "cell_type": "code",
   "outputs": [],
   "execution_count": null,
   "source": [
    "# Importamos funciones específicas desde los módulos de nuestro paquete\n",
    "from ecommerce.inventario import agregar_producto, quitar_producto\n",
    "from ecommerce.ventas import procesar_venta\n",
    "\n",
    "print(\"--- Iniciando simulación de e-commerce ---\")\n",
    "# Ahora podemos usar las funciones importadas\n",
    "agregar_producto('Laptop Pro', 10)\n",
    "procesar_venta('Laptop Pro', 2)\n",
    "quitar_producto('Laptop Pro')"
   ],
   "id": "52785a837da1666"
  },
  {
   "metadata": {},
   "cell_type": "markdown",
   "source": [
    "## 3. Subpaquetes: Aún Más Organización\n",
    "\n",
    "Si nuestro paquete crece, podemos crear subcarpetas (con su propio `__init__.py`) para una mayor granularidad. Por ejemplo, podríamos tener un subpaquete `reportes` dentro de `ecommerce`.\n",
    "\n",
    "**Estructura:**\n",
    "\n",
    "ecommerce/\n",
    "├── init.py\n",
    "├── inventario.py\n",
    "├── ventas.py\n",
    "└── reportes/\n",
    "├── init.py\n",
    "└── finanzas.py\n",
    "\n",
    "Para importar desde un subpaquete, simplemente se extiende la ruta con más puntos: `from ecommerce.reportes.finanzas import ...`\n"
   ],
   "id": "f95a39f8941da990"
  },
  {
   "metadata": {},
   "cell_type": "markdown",
   "source": [
    "## ¿Por Qué es Vital Usar Paquetes?\n",
    "\n",
    "* **Evitar Conflictos de Nombres:** Puedes tener una función `calcular()` en el módulo `ventas` y otra en `inventario` sin que choquen.\n",
    "* **Organización Lógica:** Agrupas tu código por funcionalidad, haciendo que proyectos grandes sean manejables.\n",
    "* **Reutilización y Distribución:** Los paquetes son la base para crear librerías que puedes instalar con `pip` y compartir con la comunidad a través de PyPI (Python Package Index)."
   ],
   "id": "3a7e635db8de5d5a"
  }
 ],
 "metadata": {
  "kernelspec": {
   "display_name": "Python 3",
   "language": "python",
   "name": "python3"
  },
  "language_info": {
   "codemirror_mode": {
    "name": "ipython",
    "version": 2
   },
   "file_extension": ".py",
   "mimetype": "text/x-python",
   "name": "python",
   "nbconvert_exporter": "python",
   "pygments_lexer": "ipython2",
   "version": "2.7.6"
  }
 },
 "nbformat": 4,
 "nbformat_minor": 5
}
