{
 "cells": [
  {
   "metadata": {},
   "cell_type": "markdown",
   "source": [
    "# Decoradores en Clases: @property, @staticmethod y @classmethod\n",
    "\n",
    "Los decoradores en el contexto de la Programación Orientada a Objetos (POO) son herramientas que nos permiten modificar o extender el comportamiento de los métodos de una clase de una forma muy limpia y legible."
   ],
   "id": "7547a7172274eef9"
  },
  {
   "metadata": {},
   "cell_type": "markdown",
   "source": [
    "## 1. Getters y Setters: El Problema del Acceso Directo\n",
    "\n",
    "Imagina que tenemos una clase `Circulo` y queremos asegurarnos de que su radio nunca sea un número negativo. La forma tradicional de hacerlo es con métodos `get_` y `set_`.\n",
    "\n",
    "**El Problema:** Aunque funciona, obliga al usuario de nuestra clase a llamar a los métodos (`circulo.set_radio(-5)`) en lugar de interactuar de forma natural con el atributo (`circulo.radio = -5`)."
   ],
   "id": "4cb3ffb8d33f6495"
  },
  {
   "metadata": {},
   "cell_type": "markdown",
   "source": [
    "## 2. El Decorador `@property`: La Solución \"Pythonica\"\n",
    "\n",
    "El decorador `@property` nos permite crear métodos que se comportan y se acceden **como si fueran atributos** (sin paréntesis). Esto nos da lo mejor de ambos mundos: una interfaz limpia para el usuario y la capacidad de ejecutar lógica de validación internamente.\n",
    "\n",
    "* **`@property` (Getter):** Se pone encima del método que *obtiene* el valor.\n",
    "* **`@nombre_propiedad.setter` (Setter):** Se pone encima del método que *establece* el valor y donde aplicamos la lógica de validación."
   ],
   "id": "a783d20c3035820f"
  },
  {
   "metadata": {
    "ExecuteTime": {
     "end_time": "2025-09-27T18:30:01.372391Z",
     "start_time": "2025-09-27T18:30:01.358818Z"
    }
   },
   "cell_type": "code",
   "source": [
    "class Circulo:\n",
    "    def __init__(self, radio: float):\n",
    "        # Al asignar aquí, se llama automáticamente al setter\n",
    "        self.radio = radio\n",
    "\n",
    "    # 1. Definimos el GETTER con @property\n",
    "    # Este método se ejecuta cuando alguien lee `mi_circulo.radio`\n",
    "    @property\n",
    "    def radio(self) -> float:\n",
    "        print(\"Ejecutando el getter para obtener el radio...\")\n",
    "        # El nombre del atributo interno suele llevar un guion bajo\n",
    "        return self._radio\n",
    "\n",
    "    # 2. Definimos el SETTER correspondiente\n",
    "    # Este método se ejecuta cuando alguien asigna un valor: `mi_circulo.radio = valor`\n",
    "    @radio.setter\n",
    "    def radio(self, valor: float):\n",
    "        print(f\"Ejecutando el setter para asignar el valor {valor}...\")\n",
    "        if valor < 0:\n",
    "            # Lanzamos un error si la validación falla\n",
    "            raise ValueError(\"El radio no puede ser negativo.\")\n",
    "        # Asignamos el valor al atributo \"privado\"\n",
    "        self._radio = valor\n",
    "\n",
    "    # También podemos tener propiedades de \"solo lectura\" que se calculan al vuelo\n",
    "    @property\n",
    "    def area(self) -> float:\n",
    "        # Esta área siempre estará actualizada, pero no se puede modificar directamente\n",
    "        return 3.1416 * self._radio ** 2\n",
    "\n",
    "# --- Probando la clase ---\n",
    "circulo = Circulo(10)\n",
    "print(f\"El radio inicial es: {circulo.radio}\")\n",
    "print(f\"El área calculada es: {circulo.area}\")\n",
    "\n",
    "print(\"\\n--- Cambiando el radio ---\")\n",
    "circulo.radio = 12\n",
    "print(f\"El nuevo radio es: {circulo.radio}\")\n",
    "print(f\"La nueva área es: {circulo.area}\")"
   ],
   "id": "7b0446137adcad06",
   "outputs": [
    {
     "name": "stdout",
     "output_type": "stream",
     "text": [
      "Ejecutando el setter para asignar el valor 10...\n",
      "Ejecutando el getter para obtener el radio...\n",
      "El radio inicial es: 10\n",
      "El área calculada es: 314.15999999999997\n",
      "\n",
      "--- Cambiando el radio ---\n",
      "Ejecutando el setter para asignar el valor 12...\n",
      "Ejecutando el getter para obtener el radio...\n",
      "El nuevo radio es: 12\n",
      "La nueva área es: 452.3904\n"
     ]
    }
   ],
   "execution_count": 1
  },
  {
   "metadata": {},
   "cell_type": "markdown",
   "source": [
    "## 3. Métodos Estáticos y Métodos de Clase\n",
    "\n",
    "A veces, una función está lógicamente relacionada con una clase, pero no necesita acceder a la información de una **instancia específica** (no necesita `self`).\n",
    "\n",
    "### Métodos Estáticos (`@staticmethod`)\n",
    "* **La Analogía:** Es una **herramienta guardada en la caja de la clase**. No depende de ningún objeto en particular. Por ejemplo, una función de utilidad que convierte unidades.\n",
    "* **Uso:** Se definen con `@staticmethod` y **no reciben `self`**.\n",
    "\n",
    "### Métodos de Clase (`@classmethod`)\n",
    "* **La Analogía:** Es un método que trabaja con el **plano (la clase)** en lugar de con la construcción (el objeto). Su poder principal es crear \"constructores alternativos\".\n",
    "* **Uso:** Se definen con `@classmethod` y reciben la **clase misma (`cls`)** como primer argumento."
   ],
   "id": "f622b6ac2bded662"
  },
  {
   "metadata": {},
   "cell_type": "code",
   "outputs": [],
   "execution_count": null,
   "source": [
    "class CalculadoraGeometrica:\n",
    "    PI = 3.1416 # Un atributo de clase\n",
    "\n",
    "    def __init__(self, figura):\n",
    "        self.figura = figura\n",
    "\n",
    "    # Un método estático. No usa 'self' ni 'cls'. Es una función de utilidad.\n",
    "    @staticmethod\n",
    "    def es_numero_valido(valor):\n",
    "        return isinstance(valor, (int, float)) and valor > 0\n",
    "\n",
    "    # Un método de clase. Usa 'cls'. Sirve para crear objetos de formas específicas.\n",
    "    @classmethod\n",
    "    def crear_circulo(cls, radio):\n",
    "        if not cls.es_numero_valido(radio):\n",
    "            raise ValueError(\"El radio debe ser un número positivo.\")\n",
    "        # cls() aquí es lo mismo que llamar a CalculadoraGeometrica()\n",
    "        print(f\"Creando un círculo con radio {radio} usando un método de clase...\")\n",
    "        return cls(\"círculo\")\n",
    "\n",
    "# --- Usando los métodos ---\n",
    "\n",
    "# Llamamos al método estático directamente desde la clase, sin crear un objeto\n",
    "print(f\"¿Es 5 un número válido? {CalculadoraGeometrica.es_numero_valido(5)}\")\n",
    "\n",
    "# Usamos el método de clase como un \"constructor alternativo\"\n",
    "calculadora_circulo = CalculadoraGeometrica.crear_circulo(10)\n",
    "print(f\"Objeto creado: {calculadora_circulo.figura}\")"
   ],
   "id": "dd531486d275ff04"
  }
 ],
 "metadata": {
  "kernelspec": {
   "display_name": "Python 3",
   "language": "python",
   "name": "python3"
  },
  "language_info": {
   "codemirror_mode": {
    "name": "ipython",
    "version": 2
   },
   "file_extension": ".py",
   "mimetype": "text/x-python",
   "name": "python",
   "nbconvert_exporter": "python",
   "pygments_lexer": "ipython2",
   "version": "2.7.6"
  }
 },
 "nbformat": 4,
 "nbformat_minor": 5
}
