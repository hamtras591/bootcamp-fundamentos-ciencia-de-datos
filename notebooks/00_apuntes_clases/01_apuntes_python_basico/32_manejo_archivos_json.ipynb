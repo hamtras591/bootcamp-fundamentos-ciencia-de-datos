{
 "cells": [
  {
   "metadata": {},
   "cell_type": "markdown",
   "source": [
    "# Manejo de Archivos JSON en Python\n",
    "\n",
    "**JSON** (JavaScript Object Notation) es el formato estándar para el intercambio de datos en la web. A pesar de su nombre, es un formato de texto ligero y fácil de leer tanto para humanos como para máquinas, y es el \"idioma\" que hablan la mayoría de las APIs.\n",
    "\n",
    "La gran ventaja para nosotros es que la estructura de un archivo JSON es prácticamente idéntica a la de los **diccionarios y listas** de Python, lo que hace que trabajar con ellos sea increíblemente intuitivo."
   ],
   "id": "ca17d1390c8dd7c6"
  },
  {
   "metadata": {},
   "cell_type": "markdown",
   "source": [
    "## 1. Preparando nuestro Archivo JSON de Ejemplo\n",
    "\n",
    "Antes de leer, vamos a crear un archivo `products.json` para tener datos con los que trabajar."
   ],
   "id": "cd8344201496265b"
  },
  {
   "metadata": {},
   "cell_type": "code",
   "source": [
    "import json\n",
    "\n",
    "# Creamos una lista de diccionarios (la estructura típica de un JSON)\n",
    "datos_para_json = [\n",
    "    {\n",
    "        \"name\": \"Laptop Pro\",\n",
    "        \"price\": 1200,\n",
    "        \"quantity\": 15,\n",
    "        \"brand\": \"TechMaster\"\n",
    "    },\n",
    "    {\n",
    "        \"name\": \"Mouse Gamer\",\n",
    "        \"price\": 75,\n",
    "        \"quantity\": 100,\n",
    "        \"brand\": \"GameOn\"\n",
    "    }\n",
    "]\n",
    "\n",
    "# Usamos json.dump() para escribir la estructura de Python en un archivo .json\n",
    "with open('products.json', 'w') as file:\n",
    "    # indent=4 formatea el archivo para que sea legible\n",
    "    json.dump(datos_para_json, file, indent=4)\n",
    "\n",
    "print(\"Archivo 'products.json' creado con éxito.\")"
   ],
   "id": "2d4a4d887f0f884f",
   "outputs": [],
   "execution_count": null
  },
  {
   "metadata": {},
   "cell_type": "markdown",
   "source": [
    "## 2. Leyendo un Archivo JSON\n",
    "\n",
    "Para leer un archivo JSON y convertirlo en una estructura de datos de Python (una lista de diccionarios en este caso), usamos la función `json.load()`.\n",
    "\n",
    "**El Proceso:**\n",
    "1.  Importar la librería `json`.\n",
    "2.  Abrir el archivo en modo lectura (`'r'`) usando `with open()`.\n",
    "3.  Usar `json.load(file)` para \"cargar\" el contenido del archivo en una variable."
   ],
   "id": "d166b148ebc0dfeb"
  },
  {
   "cell_type": "code",
   "id": "initial_id",
   "metadata": {
    "collapsed": true
   },
   "source": [
    "# Importamos la librería\n",
    "import json\n",
    "\n",
    "# Abrimos el archivo y cargamos su contenido\n",
    "with open('products.json', 'r') as file:\n",
    "    products = json.load(file)\n",
    "\n",
    "# Ahora 'products' es una lista de diccionarios de Python\n",
    "print(\"--- Contenido del JSON cargado como una lista de Python ---\")\n",
    "print(products)\n",
    "\n",
    "print(f\"\\nEl tipo de dato de la variable 'products' es: {type(products)}\")\n",
    "print(f\"El tipo de dato del primer elemento es: {type(products[0])}\")"
   ],
   "outputs": [],
   "execution_count": null
  },
  {
   "metadata": {},
   "cell_type": "markdown",
   "source": [
    "## 3. Extrayendo Información Específica\n",
    "\n",
    "Una vez que los datos están cargados en una lista de diccionarios, puedes usar todo lo que ya sabes sobre bucles y acceso a diccionarios para extraer la información que necesitas."
   ],
   "id": "d1baf7e9210a9955"
  },
  {
   "metadata": {},
   "cell_type": "code",
   "source": [
    "print(\"--- Reporte de Nombres y Precios ---\")\n",
    "for product in products:\n",
    "    # Accedemos a los valores usando las claves del diccionario\n",
    "    print(f\"Producto: {product['name']}, Precio: ${product['price']}\")"
   ],
   "id": "6e71a0e07797c02f",
   "outputs": [],
   "execution_count": null
  },
  {
   "metadata": {},
   "cell_type": "markdown",
   "source": [
    "## 4. Añadiendo Información a un Archivo JSON\n",
    "\n",
    "Modificar un archivo JSON es un proceso de **tres pasos**:\n",
    "1.  **Leer** el contenido del archivo y cargarlo en una lista de Python (`json.load`).\n",
    "2.  **Modificar** esa lista de Python (por ejemplo, usando `.append()` para añadir un nuevo diccionario).\n",
    "3.  **Sobrescribir** el archivo original con la lista ya modificada (`json.dump`)."
   ],
   "id": "ff912758a289fb5f"
  },
  {
   "metadata": {},
   "cell_type": "code",
   "outputs": [],
   "execution_count": null,
   "source": [
    "# --- PASO 1: Leer el contenido existente ---\n",
    "with open('products.json', 'r') as file:\n",
    "    products = json.load(file)\n",
    "\n",
    "# --- PASO 2: Modificar la lista de Python ---\n",
    "# Creamos el nuevo producto que queremos agregar\n",
    "new_product = {\n",
    "    \"name\": \"Wireless Charger\",\n",
    "    \"price\": 75,\n",
    "    \"quantity\": 100,\n",
    "    \"brand\": \"ChargeMaster\"\n",
    "}\n",
    "products.append(new_product)\n",
    "\n",
    "# --- PASO 3: Sobrescribir el archivo con la lista actualizada ---\n",
    "with open('products.json', 'w') as file:\n",
    "    # Usamos indent=4 para mantener el formato legible\n",
    "    json.dump(products, file, indent=4)\n",
    "\n",
    "print(\"Archivo JSON actualizado con el nuevo producto.\")\n",
    "\n",
    "# Verificamos que se haya añadido correctamente\n",
    "with open('products.json', 'r') as file:\n",
    "    print(\"\\n--- Contenido Final del Archivo ---\")\n",
    "    print(file.read())"
   ],
   "id": "7aca5081ea9dae26"
  }
 ],
 "metadata": {
  "kernelspec": {
   "display_name": "Python 3",
   "language": "python",
   "name": "python3"
  },
  "language_info": {
   "codemirror_mode": {
    "name": "ipython",
    "version": 2
   },
   "file_extension": ".py",
   "mimetype": "text/x-python",
   "name": "python",
   "nbconvert_exporter": "python",
   "pygments_lexer": "ipython2",
   "version": "2.7.6"
  }
 },
 "nbformat": 4,
 "nbformat_minor": 5
}
