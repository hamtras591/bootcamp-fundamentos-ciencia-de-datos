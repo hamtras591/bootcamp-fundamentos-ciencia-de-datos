{
 "cells": [
  {
   "metadata": {},
   "cell_type": "markdown",
   "source": [
    "# Herencia Avanzada: La Función `super()`\n",
    "\n",
    "La función `super()` es la herramienta que conecta una clase \"hija\" con su clase \"padre\". Nos permite llamar a los métodos de la clase padre directamente desde la clase hija, lo cual es fundamental para extender funcionalidades sin repetir código.\n",
    "\n",
    "**La Analogía:**\n",
    "Imagina que eres un chef (`Clase Hija`) que aprendió una receta de sopa base de tu maestro (`Clase Padre`). Quieres crear tu propia \"Sopa de Tomate Especial\", que es básicamente la sopa base pero con algunos ingredientes extra.\n",
    "\n",
    "En lugar de empezar a cocinar la sopa base desde cero, simplemente le dices: \"Maestro, por favor, prepara tu sopa base para mí\". Una vez que él termina, tú simplemente añades tus ingredientes especiales (tomate y albahaca).\n",
    "\n",
    "`super()` es esa llamada al \"maestro\". Le pides que haga su parte del trabajo para que tú solo te concentres en lo que hace a tu versión especial."
   ],
   "id": "c24f552af3e9964c"
  },
  {
   "metadata": {},
   "cell_type": "markdown",
   "source": [
    "## 1. Extendiendo el Constructor: `super().__init__()`\n",
    "\n",
    "El uso más común de `super()` es en el constructor `__init__`. Permite que la clase hija llame al constructor de la clase padre para que inicialice los atributos que tienen en común, y luego la clase hija solo se preocupa de inicializar sus propios atributos específicos."
   ],
   "id": "aaf70c6902fd9b8b"
  },
  {
   "cell_type": "code",
   "id": "initial_id",
   "metadata": {
    "collapsed": true,
    "ExecuteTime": {
     "end_time": "2025-09-24T14:48:53.271131Z",
     "start_time": "2025-09-24T14:48:53.261886Z"
    }
   },
   "source": [
    "# La Clase Padre (El Maestro)\n",
    "class Persona:\n",
    "    def __init__(self, nombre, edad):\n",
    "        print(\"El constructor de Persona está asignando nombre y edad.\")\n",
    "        self.nombre = nombre\n",
    "        self.edad = edad\n",
    "\n",
    "    def saludar(self):\n",
    "        print(f\"Hola, soy {self.nombre}.\")\n",
    "\n",
    "# La Clase Hija (El Chef Aprendiz)\n",
    "class Estudiante(Persona):\n",
    "    def __init__(self, nombre, edad, id_estudiante):\n",
    "        # \"Maestro, por favor, haz tu parte del __init__ con el nombre y la edad.\"\n",
    "        super().__init__(nombre, edad)\n",
    "\n",
    "        # Ahora el hijo solo se preocupa de sus atributos específicos.\n",
    "        print(\"El constructor de Estudiante está asignando el ID.\")\n",
    "        self.id_estudiante = id_estudiante\n",
    "\n",
    "# --- Creando un objeto de la clase hija ---\n",
    "estudiante1 = Estudiante(\"Ana\", 20, \"E123\")\n",
    "print(f\"\\nNombre: {estudiante1.nombre}, Edad: {estudiante1.edad}, ID: {estudiante1.id_estudiante}\")"
   ],
   "outputs": [
    {
     "name": "stdout",
     "output_type": "stream",
     "text": [
      "El constructor de Persona está asignando nombre y edad.\n",
      "El constructor de Estudiante está asignando el ID.\n",
      "\n",
      "Nombre: Ana, Edad: 20, ID: E123\n"
     ]
    }
   ],
   "execution_count": 4
  },
  {
   "metadata": {},
   "cell_type": "markdown",
   "source": [
    "## 2. Extendiendo Otros Métodos\n",
    "\n",
    "`super()` no solo sirve para `__init__`. Puedes usarlo para llamar a cualquier método de la clase padre y luego añadirle funcionalidad extra."
   ],
   "id": "4bc5afbdb520bedc"
  },
  {
   "metadata": {
    "ExecuteTime": {
     "end_time": "2025-09-24T14:50:21.662952Z",
     "start_time": "2025-09-24T14:50:21.655371Z"
    }
   },
   "cell_type": "code",
   "source": [
    "class Estudiante(Persona): # (Suponiendo que la clase Persona ya existe)\n",
    "    def __init__(self, nombre, edad, id_estudiante):\n",
    "        super().__init__(nombre, edad)\n",
    "        self.id_estudiante = id_estudiante\n",
    "\n",
    "    # Sobreescribimos el método saludar\n",
    "    def saludar(self):\n",
    "        # Primero, llamamos a la versión original del método del padre.\n",
    "        print(\"El estudiante se prepara para saludar...\")\n",
    "        super().saludar()\n",
    "        # Luego, añadimos el comportamiento extra de la clase hija.\n",
    "        print(f\"Mi ID de estudiante es {self.id_estudiante}.\")\n",
    "\n",
    "# --- Probando el método extendido ---\n",
    "estudiante_nuevo = Estudiante(\"Carlos\", 22, \"E456\")\n",
    "estudiante_nuevo.saludar()"
   ],
   "id": "f5835779534d84e4",
   "outputs": [
    {
     "name": "stdout",
     "output_type": "stream",
     "text": [
      "El constructor de Persona está asignando nombre y edad.\n",
      "El estudiante se prepara para saludar...\n",
      "Hola, soy Carlos.\n",
      "Mi ID de estudiante es E456.\n"
     ]
    }
   ],
   "execution_count": 5
  },
  {
   "metadata": {},
   "cell_type": "markdown",
   "source": [
    "## 3. Herencia Múltiple: La Cadena de Llamadas\n",
    "\n",
    "`super()` es especialmente poderoso en la herencia de múltiples niveles. Asegura que cada \"abuelo\" y \"padre\" en la jerarquía sea inicializado correctamente, manteniendo una cadena de construcción limpia."
   ],
   "id": "a2127bfc7e86a5cc"
  },
  {
   "metadata": {
    "ExecuteTime": {
     "end_time": "2025-09-24T14:52:40.351380Z",
     "start_time": "2025-09-24T14:52:40.342731Z"
    }
   },
   "cell_type": "code",
   "source": [
    "class SerVivo:\n",
    "    def __init__(self, nombre):\n",
    "        print(\"SerVivo __init__\")\n",
    "        self.nombre = nombre\n",
    "\n",
    "class Persona(SerVivo):\n",
    "    def __init__(self, nombre, edad):\n",
    "        print(\"Persona __init__\")\n",
    "        # Llama al __init__ de SerVivo\n",
    "        super().__init__(nombre)\n",
    "        self.edad = edad\n",
    "\n",
    "class Estudiante(Persona):\n",
    "    def __init__(self, nombre, edad, id_estudiante):\n",
    "        print(\"Estudiante __init__\")\n",
    "        # Llama al __init__ de Persona (que a su vez llamará al de SerVivo)\n",
    "        super().__init__(nombre, edad)\n",
    "        self.id_estudiante = id_estudiante\n",
    "\n",
    "# Al crear un Estudiante, se ejecuta toda la cadena de constructores\n",
    "estudiante_final = Estudiante(\"Laura\", 21, \"E789\")\n",
    "print(f\"\\nObjeto final: {estudiante_final.nombre}, {estudiante_final.edad}, {estudiante_final.id_estudiante}\")"
   ],
   "id": "ee386cbb9d8248ee",
   "outputs": [
    {
     "name": "stdout",
     "output_type": "stream",
     "text": [
      "Estudiante __init__\n",
      "Persona __init__\n",
      "SerVivo __init__\n",
      "\n",
      "Objeto final: Laura, 21, E789\n"
     ]
    }
   ],
   "execution_count": 6
  }
 ],
 "metadata": {
  "kernelspec": {
   "display_name": "Python 3",
   "language": "python",
   "name": "python3"
  },
  "language_info": {
   "codemirror_mode": {
    "name": "ipython",
    "version": 2
   },
   "file_extension": ".py",
   "mimetype": "text/x-python",
   "name": "python",
   "nbconvert_exporter": "python",
   "pygments_lexer": "ipython2",
   "version": "2.7.6"
  }
 },
 "nbformat": 4,
 "nbformat_minor": 5
}
