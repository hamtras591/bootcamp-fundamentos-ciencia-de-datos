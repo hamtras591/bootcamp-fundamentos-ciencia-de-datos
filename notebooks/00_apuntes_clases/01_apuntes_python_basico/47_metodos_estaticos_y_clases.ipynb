{
 "cells": [
  {
   "metadata": {},
   "cell_type": "markdown",
   "source": [
    "# Métodos Avanzados: Estáticos y de Clase\n",
    "\n",
    "En Python, además de los métodos de instancia que reciben `self`, existen dos tipos de métodos que no operan sobre un objeto particular, sino que están ligados a la clase.\n",
    "\n",
    "**La Analogía:**\n",
    "* Un **método de instancia** (con `self`) es una acción que una **persona específica** puede hacer (ej. `ana.saludar()`).\n",
    "* Un **método estático** o **de clase** es una acción relacionada con el **concepto** de \"Persona\" en general, pero que no necesita de una persona en particular para realizarse (ej. `Persona.definicion()`)."
   ],
   "id": "f291483b1da061aa"
  },
  {
   "metadata": {},
   "cell_type": "markdown",
   "source": [
    "## 1. Métodos Estáticos (`@staticmethod`)\n",
    "\n",
    "Un método estático es básicamente una función normal que vive dentro de una clase porque está lógicamente relacionada con ella. **No recibe `self` ni `cls`** y, por lo tanto, no puede acceder al estado de la instancia ni de la clase.\n",
    "\n",
    "* **Cuándo usarlo:** Para funciones de utilidad que tienen sentido dentro del contexto de la clase, pero que no dependen de ningún dato de la misma."
   ],
   "id": "2e383cd3baeb18ea"
  },
  {
   "metadata": {},
   "cell_type": "code",
   "outputs": [],
   "execution_count": null,
   "source": [
    "class Calculadora:\n",
    "    # Esta función está relacionada con la Calculadora, pero no necesita\n",
    "    # ningún dato de una instancia para funcionar.\n",
    "    @staticmethod\n",
    "    def sumar(a, b):\n",
    "        return a + b\n",
    "\n",
    "# Se puede llamar directamente desde la clase, sin crear un objeto.\n",
    "resultado = Calculadora.sumar(5, 10)\n",
    "print(f\"El resultado de la suma es: {resultado}\")"
   ],
   "id": "e565536ae3d3493f"
  },
  {
   "metadata": {},
   "cell_type": "markdown",
   "source": [
    "## 2. Métodos de Clase (`@classmethod`)\n",
    "\n",
    "Un método de clase está vinculado a la clase misma. Siempre recibe la clase (por convención, `cls`) como su primer argumento.\n",
    "\n",
    "* **Cuándo usarlo:**\n",
    "    1.  Para modificar atributos que pertenecen a la **clase** (y son compartidos por todas sus instancias).\n",
    "    2.  Como **\"constructores alternativos\"**: funciones que crean una instancia de la clase de una forma diferente a `__init__`."
   ],
   "id": "c22944eb3ca78018"
  },
  {
   "metadata": {},
   "cell_type": "code",
   "outputs": [],
   "execution_count": null,
   "source": [
    "class Pedido:\n",
    "    # Este es un atributo de clase, compartido por todos los pedidos.\n",
    "    descuento_global = 10\n",
    "\n",
    "    def __init__(self, monto):\n",
    "        self.monto = monto\n",
    "\n",
    "    # Este método de clase puede LEER y MODIFICAR atributos de la clase.\n",
    "    @classmethod\n",
    "    def actualizar_descuento(cls, nuevo_descuento):\n",
    "        print(f\"Actualizando descuento global de {cls.descuento_global}% a {nuevo_descuento}%...\")\n",
    "        cls.descuento_global = nuevo_descuento\n",
    "\n",
    "# Llamamos al método directamente desde la clase para cambiar el atributo global.\n",
    "print(f\"Descuento inicial: {Pedido.descuento_global}%\")\n",
    "Pedido.actualizar_descuento(15)\n",
    "print(f\"Descuento final: {Pedido.descuento_global}%\")"
   ],
   "id": "f51745e31804cc9f"
  },
  {
   "metadata": {},
   "cell_type": "markdown",
   "source": [
    "## 3. Aplicación Práctica: La Clase `Order`\n",
    "\n",
    "Tu ejercicio resuelto es un ejemplo perfecto que combina ambos métodos.\n",
    "* `@staticmethod` se usa para una función de validación que no depende de ningún estado.\n",
    "* `@classmethod` se usa como un constructor alternativo que crea una nueva orden solo si pasa la validación."
   ],
   "id": "365c539be827be05"
  },
  {
   "metadata": {
    "ExecuteTime": {
     "end_time": "2025-10-02T13:51:12.105720Z",
     "start_time": "2025-10-02T13:51:12.096027Z"
    }
   },
   "cell_type": "code",
   "source": [
    "class Order:\n",
    "    # Atributo de clase que contiene el descuento para todas las órdenes.\n",
    "    global_discount = 15\n",
    "\n",
    "    # Método estático: una función de utilidad que no necesita 'self' ni 'cls'.\n",
    "    # Su única tarea es validar un monto, no depende de ninguna orden específica.\n",
    "    @staticmethod\n",
    "    def min_amount(amount):\n",
    "        # Si el monto es menor a 50, lanza un error.\n",
    "        if amount < 50:\n",
    "            raise ValueError(f'Tu orden debe ser minimo de $50')\n",
    "        # Si la validación pasa, devuelve el monto.\n",
    "        return amount\n",
    "\n",
    "    # Método de clase: recibe la clase (cls) como primer argumento.\n",
    "    # Actúa como un \"constructor inteligente\".\n",
    "    @classmethod\n",
    "    def new_order(cls, amount):\n",
    "        # Llama al método estático para validar el monto.\n",
    "        # cls.min_amount es lo mismo que Order.min_amount.\n",
    "        if cls.min_amount(amount):\n",
    "            # Si la validación es exitosa, calcula el total con el descuento de la clase.\n",
    "            total = amount - (amount * (cls.global_discount / 100))\n",
    "            # Imprime el resultado. No crea una instancia, solo realiza una acción.\n",
    "            print(f\"Orden creada, usted tiene un descuento de {cls.global_discount}%. Total de su orden es: ${total}\")\n",
    "\n",
    "# --- Simulación ---\n",
    "# Caso exitoso\n",
    "print(\"--- Probando con un monto válido ---\")\n",
    "Order.new_order(100)\n",
    "\n",
    "# Caso con error\n",
    "print(\"\\n--- Probando con un monto inválido ---\")\n",
    "try:\n",
    "    Order.new_order(49)\n",
    "except ValueError as e:\n",
    "    print(f\"Error capturado: {e}\")"
   ],
   "id": "cf3584282ff6799c",
   "outputs": [
    {
     "name": "stdout",
     "output_type": "stream",
     "text": [
      "--- Probando con un monto válido ---\n",
      "Orden creada, usted tiene un descuento de 15%. Total de su orden es: $85.0\n",
      "\n",
      "--- Probando con un monto inválido ---\n",
      "Error capturado: Tu orden debe ser minimo de $50\n"
     ]
    }
   ],
   "execution_count": 13
  }
 ],
 "metadata": {
  "kernelspec": {
   "display_name": "Python 3",
   "language": "python",
   "name": "python3"
  },
  "language_info": {
   "codemirror_mode": {
    "name": "ipython",
    "version": 2
   },
   "file_extension": ".py",
   "mimetype": "text/x-python",
   "name": "python",
   "nbconvert_exporter": "python",
   "pygments_lexer": "ipython2",
   "version": "2.7.6"
  }
 },
 "nbformat": 4,
 "nbformat_minor": 5
}
