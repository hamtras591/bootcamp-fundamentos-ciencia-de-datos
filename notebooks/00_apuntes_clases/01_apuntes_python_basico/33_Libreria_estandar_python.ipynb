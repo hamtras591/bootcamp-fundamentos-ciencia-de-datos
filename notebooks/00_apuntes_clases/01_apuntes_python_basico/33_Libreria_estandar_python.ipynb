{
 "cells": [
  {
   "metadata": {},
   "cell_type": "markdown",
   "source": [
    "# La Biblioteca Estándar de Python: Tus Herramientas Integradas\n",
    "\n",
    "La **Biblioteca Estándar de Python** es una vasta colección de \"herramientas\" (módulos) que vienen incluidas por defecto con el lenguaje. Su propósito es darte soluciones listas para usar para tareas comunes, permitiéndote concentrarte en la lógica de tu aplicación en lugar de reinventar la rueda.\n",
    "\n",
    "* **Librería:** Una colección de módulos.\n",
    "* **Módulo:** Un archivo de Python (`.py`) que contiene funciones, clases y variables reutilizables. Lo \"llamas\" a tu código con la palabra clave `import`."
   ],
   "id": "b19a012bbd55a2b9"
  },
  {
   "metadata": {},
   "cell_type": "markdown",
   "source": [
    "## 1. Módulo `os`: Interactuando con el Sistema Operativo\n",
    "\n",
    "El módulo `os` es tu puente entre tu script de Python y el sistema de archivos de tu computadora. Te permite realizar tareas como navegar por carpetas, listar archivos o cambiar nombres, todo desde tu código."
   ],
   "id": "7bc6f2866744e5b8"
  },
  {
   "metadata": {},
   "cell_type": "code",
   "outputs": [],
   "execution_count": null,
   "source": [
    "import os\n",
    "\n",
    "# Obtener el directorio de trabajo actual\n",
    "directorio_actual = os.getcwd()\n",
    "print(f\"Estoy trabajando en: {directorio_actual}\")\n",
    "\n",
    "# Listar todos los archivos y carpetas en el directorio actual\n",
    "print(f\"\\nContenido del directorio: {os.listdir('.')}\")\n",
    "\n",
    "# Renombrar un archivo (primero lo creamos para el ejemplo)\n",
    "with open(\"archivo_viejo.txt\", \"w\") as f:\n",
    "    f.write(\"hola\")\n",
    "\n",
    "os.rename('archivo_viejo.txt', 'archivo_nuevo.txt')\n",
    "print(\"\\n'archivo_viejo.txt' ha sido renombrado a 'archivo_nuevo.txt'\")"
   ],
   "id": "e4433eec4f69403"
  },
  {
   "metadata": {},
   "cell_type": "markdown",
   "source": [
    "## 2. Módulo `math`: Potencia Matemática\n",
    "\n",
    "Cuando necesitas más que sumas y restas, el módulo `math` te da acceso a constantes y funciones matemáticas más complejas y precisas."
   ],
   "id": "9faf43722dbcb3e1"
  },
  {
   "metadata": {},
   "cell_type": "code",
   "outputs": [],
   "execution_count": null,
   "source": [
    "import math\n",
    "\n",
    "# Acceder a la constante Pi con alta precisión\n",
    "print(f\"Valor de Pi: {math.pi}\")\n",
    "\n",
    "# Calcular el área de un círculo\n",
    "radio = 5\n",
    "area = math.pi * (radio ** 2)\n",
    "print(f\"El área de un círculo con radio {radio} es: {area:.2f}\")\n",
    "\n",
    "# Otras funciones útiles\n",
    "print(f\"Raíz cuadrada de 81: {math.sqrt(81)}\")\n",
    "print(f\"Redondear 3.8 hacia arriba (techo): {math.ceil(3.8)}\")\n",
    "print(f\"Redondear 3.8 hacia abajo (piso): {math.floor(3.8)}\")"
   ],
   "id": "794e934d26b5e45"
  },
  {
   "metadata": {},
   "cell_type": "markdown",
   "source": [
    "## 3. Módulo `random`: Aleatoriedad y Simulaciones\n",
    "\n",
    "El módulo `random` es fundamental para cualquier tarea que requiera aleatoriedad, desde la creación de datos de prueba hasta la simulación de fenómenos complejos en ciencia de datos."
   ],
   "id": "ba2e72d2ef39c73b"
  },
  {
   "metadata": {},
   "cell_type": "code",
   "outputs": [],
   "execution_count": null,
   "source": [
    "import random\n",
    "\n",
    "# Generar un número entero aleatorio en un rango\n",
    "numero_ganador = random.randint(1, 100)\n",
    "print(f\"El número ganador entre 1 y 100 es: {numero_ganador}\")\n",
    "\n",
    "# Elegir un elemento al azar de una lista\n",
    "participantes = [\"Ana\", \"Luis\", \"Sofía\", \"Carlos\"]\n",
    "elegido = random.choice(participantes)\n",
    "print(f\"El participante elegido al azar es: {elegido}\")\n",
    "\n",
    "# Barajar una lista (la modifica en el sitio)\n",
    "cartas = [\"As\", \"Rey\", \"Reina\", \"Jota\"]\n",
    "print(f\"\\nCartas antes de barajar: {cartas}\")\n",
    "random.shuffle(cartas)\n",
    "print(f\"Cartas después de barajar: {cartas}\")"
   ],
   "id": "8567fb6ba1bfd928"
  }
 ],
 "metadata": {
  "kernelspec": {
   "display_name": "Python 3",
   "language": "python",
   "name": "python3"
  },
  "language_info": {
   "codemirror_mode": {
    "name": "ipython",
    "version": 2
   },
   "file_extension": ".py",
   "mimetype": "text/x-python",
   "name": "python",
   "nbconvert_exporter": "python",
   "pygments_lexer": "ipython2",
   "version": "2.7.6"
  }
 },
 "nbformat": 4,
 "nbformat_minor": 5
}
