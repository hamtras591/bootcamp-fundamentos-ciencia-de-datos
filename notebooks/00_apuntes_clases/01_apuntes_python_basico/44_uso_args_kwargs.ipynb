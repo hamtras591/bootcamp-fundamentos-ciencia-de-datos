{
 "cells": [
  {
   "metadata": {},
   "cell_type": "markdown",
   "source": [
    "# Funciones Flexibles: `*args` y `**kwargs`\n",
    "\n",
    "A veces, no sabemos de antemano cuántos argumentos va a recibir una función. `*args` y `**kwargs` son la sintaxis especial de Python para manejar un número variable de argumentos, haciendo nuestras funciones mucho más dinámicas.\n",
    "\n",
    "**Las Analogías:**\n",
    "* **`*args` (Argumentos Posicionales):** Es como una **bolsa mágica** donde puedes meter cuantos elementos quieras (1, 2, 10...). La función los recibe todos juntos en una **tupla**.\n",
    "* **`**kwargs` (Argumentos Nombrados):** Es como una **lista de invitados con etiquetas**. Cada invitado viene con su nombre y su rol (`nombre=\"Carlos\"`, `edad=30`). La función los recibe todos juntos en un **diccionario**."
   ],
   "id": "8403a99c11502658"
  },
  {
   "metadata": {},
   "cell_type": "markdown",
   "source": [
    "## 1. `*args`: Recibiendo Múltiples Argumentos Posicionales\n",
    "\n",
    "Cuando usas `*` delante de un nombre de parámetro (por convención, `args`), le dices a la función que empaquete todos los argumentos posicionales que reciba en una **tupla**."
   ],
   "id": "600198d227617101"
  },
  {
   "metadata": {
    "ExecuteTime": {
     "end_time": "2025-10-02T12:42:38.593712Z",
     "start_time": "2025-10-02T12:42:38.585680Z"
    }
   },
   "cell_type": "code",
   "source": [
    "# Esta función puede sumar cualquier cantidad de números.\n",
    "def sumar_todo(*args):\n",
    "    print(f\"Los argumentos recibidos son: {args} (es una tupla)\")\n",
    "    total = 0\n",
    "    for numero in args:\n",
    "        total += numero\n",
    "    return total\n",
    "\n",
    "# Llamamos a la función con diferentes números de argumentos\n",
    "print(f\"Resultado 1: {sumar_todo(1, 2, 3, 4, 5)}\")\n",
    "print(f\"Resultado 2: {sumar_todo(10, 20)}\")"
   ],
   "id": "dc0be56fc8472265",
   "outputs": [
    {
     "name": "stdout",
     "output_type": "stream",
     "text": [
      "Los argumentos recibidos son: (1, 2, 3, 4, 5) (es una tupla)\n",
      "Resultado 1: 15\n",
      "Los argumentos recibidos son: (10, 20) (es una tupla)\n",
      "Resultado 2: 30\n"
     ]
    }
   ],
   "execution_count": 9
  },
  {
   "metadata": {},
   "cell_type": "markdown",
   "source": [
    "## 2. `**kwargs`: Recibiendo Múltiples Argumentos Nombrados\n",
    "\n",
    "Cuando usas `**` delante de un nombre de parámetro (por convención, `kwargs`), le dices a la función que empaquete todos los argumentos nombrados (`clave=valor`) que reciba en un **diccionario**."
   ],
   "id": "c59c87a3c5cd48d1"
  },
  {
   "metadata": {
    "ExecuteTime": {
     "end_time": "2025-10-02T12:44:11.849848Z",
     "start_time": "2025-10-02T12:44:11.843526Z"
    }
   },
   "cell_type": "code",
   "source": [
    "# Esta función puede imprimir cualquier cantidad de datos con sus etiquetas.\n",
    "def mostrar_info(**kwargs):\n",
    "    print(f\"Los argumentos recibidos son: {kwargs} (es un diccionario)\")\n",
    "    for clave, valor in kwargs.items():\n",
    "        print(f\"- {clave.title()}: {valor}\")\n",
    "\n",
    "mostrar_info(nombre=\"Anderson\", edad=27, ciudad=\"Bogotá\", profesion=\"Científico de Datos\")"
   ],
   "id": "ad24f2b851e8eef5",
   "outputs": [
    {
     "name": "stdout",
     "output_type": "stream",
     "text": [
      "Los argumentos recibidos son: {'nombre': 'Anderson', 'edad': 27, 'ciudad': 'Bogotá', 'profesion': 'Científico de Datos'} (es un diccionario)\n",
      "- Nombre: Anderson\n",
      "- Edad: 27\n",
      "- Ciudad: Bogotá\n",
      "- Profesion: Científico de Datos\n"
     ]
    }
   ],
   "execution_count": 10
  },
  {
   "metadata": {},
   "cell_type": "markdown",
   "source": [
    "## 3. Combinando Todo en Clases\n",
    "\n",
    "Puedes usar `*args` y `**kwargs` para crear constructores de clases muy flexibles, capaces de aceptar un número variable de \"habilidades\" o \"detalles\"."
   ],
   "id": "30041ecf051f5fe1"
  },
  {
   "metadata": {
    "ExecuteTime": {
     "end_time": "2025-10-02T12:46:19.441792Z",
     "start_time": "2025-10-02T12:46:19.434124Z"
    }
   },
   "cell_type": "code",
   "source": [
    "class Empleado:\n",
    "    def __init__(self, nombre, *skills, **detalles):\n",
    "        self.nombre = nombre\n",
    "        self.skills = skills # *args se guarda como una tupla\n",
    "        self.detalles = detalles # **kwargs se guarda como un diccionario\n",
    "\n",
    "    def mostrar_info(self):\n",
    "        print(f\"Nombre: {self.nombre}\")\n",
    "        print(f\"Habilidades: {', '.join(self.skills)}\")\n",
    "        print(\"Detalles Adicionales:\")\n",
    "        for clave, valor in self.detalles.items():\n",
    "            print(f\"  - {clave.title()}: {valor}\")\n",
    "\n",
    "# Creamos un objeto pasándole múltiples argumentos posicionales y nombrados\n",
    "empleado1 = Empleado(\"Carlos\", \"Python\", \"SQL\", \"Machine Learning\", edad=30, ciudad=\"Bogotá\")\n",
    "empleado1.mostrar_info()"
   ],
   "id": "f4ec2d0fb5ef2980",
   "outputs": [
    {
     "name": "stdout",
     "output_type": "stream",
     "text": [
      "Nombre: Carlos\n",
      "Habilidades: Python, SQL, Machine Learning\n",
      "Detalles Adicionales:\n",
      "  - Edad: 30\n",
      "  - Ciudad: Bogotá\n"
     ]
    }
   ],
   "execution_count": 11
  },
  {
   "metadata": {},
   "cell_type": "markdown",
   "source": [
    "## 4. El Proceso Inverso: Desempaquetado (`*` y `**`)\n",
    "\n",
    "También puedes usar `*` y `**` para **desempaquetar** una lista o un diccionario y pasar sus elementos como argumentos a una función que espera valores individuales."
   ],
   "id": "8ecdaf19f39a69ed"
  },
  {
   "metadata": {
    "ExecuteTime": {
     "end_time": "2025-10-02T12:47:07.272924Z",
     "start_time": "2025-10-02T12:47:07.265243Z"
    }
   },
   "cell_type": "code",
   "source": [
    "def suma(a, b, c):\n",
    "    return a + b + c\n",
    "\n",
    "# Tenemos los valores en una lista\n",
    "lista_valores = [10, 20, 30]\n",
    "\n",
    "# El asterisco * desempaqueta la lista en argumentos individuales: suma(10, 20, 30)\n",
    "resultado_suma = suma(*lista_valores)\n",
    "print(f\"El resultado de la suma es: {resultado_suma}\")\n",
    "\n",
    "\n",
    "def mostrar_datos_persona(nombre, edad):\n",
    "    print(f\"Nombre: {nombre}, Edad: {edad}\")\n",
    "\n",
    "# Tenemos los datos en un diccionario\n",
    "dict_datos = {'nombre': 'Carlos', 'edad': 30}\n",
    "\n",
    "# El doble asterisco ** desempaqueta el diccionario en argumentos nombrados: mostrar_datos_persona(nombre='Carlos', edad=30)\n",
    "mostrar_datos_persona(**dict_datos)"
   ],
   "id": "dd1355c16881883d",
   "outputs": [
    {
     "name": "stdout",
     "output_type": "stream",
     "text": [
      "El resultado de la suma es: 60\n",
      "Nombre: Carlos, Edad: 30\n"
     ]
    }
   ],
   "execution_count": 12
  },
  {
   "metadata": {},
   "cell_type": "code",
   "outputs": [],
   "execution_count": null,
   "source": [
    "## Solución ejercicio:\n",
    "\n",
    "class Sell:\n",
    "    def __init__(self, *args, **kwargs):\n",
    "        self.prices = args\n",
    "        self.discounts = kwargs\n",
    "\n",
    "    def calculate_total(self) -> int:\n",
    "        print(\"Calculating Totals\")\n",
    "        if self.discounts: # Se comprueba si un descuento fue pasado como kwargs\n",
    "            for key, value in self.discounts.items():\n",
    "                discount = value\n",
    "            return print(f'La suma total aplicando un descuentos de {discount}% es de: {sum(self.prices) * ((100 - discount) / 100)}')\n",
    "        else:\n",
    "            return print(f'La suma total es de: {sum(self.prices)}')\n",
    "\n",
    "venta1 = Sell(200, 300, 400, discount=10)\n",
    "venta2 = Sell(800, 200)\n",
    "\n",
    "venta1.calculate_total()\n",
    "venta2.calculate_total()"
   ],
   "id": "e86407662a6508f7"
  }
 ],
 "metadata": {
  "kernelspec": {
   "display_name": "Python 3",
   "language": "python",
   "name": "python3"
  },
  "language_info": {
   "codemirror_mode": {
    "name": "ipython",
    "version": 2
   },
   "file_extension": ".py",
   "mimetype": "text/x-python",
   "name": "python",
   "nbconvert_exporter": "python",
   "pygments_lexer": "ipython2",
   "version": "2.7.6"
  }
 },
 "nbformat": 4,
 "nbformat_minor": 5
}
