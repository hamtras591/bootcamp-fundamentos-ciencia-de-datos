{
 "cells": [
  {
   "metadata": {},
   "cell_type": "markdown",
   "source": [
    "# Concurrencia y Paralelismo\n",
    "\n",
    "A medida que una aplicación crece, manejar muchas tareas a la vez se vuelve un desafío. El procesamiento **secuencial** (hacer una cosa a la vez) no es eficiente. Para solucionar esto, usamos dos técnicas: Concurrencia y Paralelismo.\n",
    "\n",
    "**La Analogía: Un Chef en una Cocina**\n",
    "* **Secuencial:** El chef prepara un plato de principio a fin (corta, cocina, sirve) y solo entonces empieza con el siguiente plato.\n",
    "* **Concurrencia:** El chef pone a hervir el agua para la pasta (una tarea de espera). Mientras espera, empieza a cortar los vegetales para la ensalada. **Es un solo chef que gestiona inteligentemente su tiempo de espera**.\n",
    "* **Paralelismo:** El chef contrata a dos ayudantes. Ahora, **tres chefs (tres núcleos de CPU)** trabajan en tres platos diferentes al mismo tiempo."
   ],
   "id": "2aa9f1aaf0bd5e92"
  },
  {
   "metadata": {},
   "cell_type": "markdown",
   "source": [
    "## 1. Concurrencia con `threading`\n",
    "\n",
    "La concurrencia permite que múltiples tareas progresen en periodos de tiempo superpuestos. Es ideal para tareas **\"I/O-bound\"** (limitadas por Entrada/Salida), donde el programa pasa mucho tiempo **esperando** por una respuesta de la red, un disco duro o una API.\n",
    "\n",
    "Usamos la librería `threading` para crear \"hilos\" que gestionan estas tareas en espera."
   ],
   "id": "89a76fa0f7383837"
  },
  {
   "metadata": {
    "ExecuteTime": {
     "end_time": "2025-10-02T14:47:28.469928Z",
     "start_time": "2025-10-02T14:47:22.453869Z"
    }
   },
   "cell_type": "code",
   "source": [
    "import threading\n",
    "import time\n",
    "\n",
    "def procesar_solicitud(id_solicitud):\n",
    "    \"\"\"Simula una tarea que tarda tiempo, como una llamada a una API.\"\"\"\n",
    "    print(f\"Iniciando procesamiento de la solicitud {id_solicitud}...\")\n",
    "    # time.sleep() simula una operación de espera (I/O)\n",
    "    time.sleep(2)\n",
    "    print(f\"--> Solicitud {id_solicitud} completada.\")\n",
    "\n",
    "# --- Ejecución Secuencial (para comparar) ---\n",
    "start_time = time.time()\n",
    "procesar_solicitud(1)\n",
    "procesar_solicitud(2)\n",
    "print(f\"Tiempo total secuencial: {time.time() - start_time:.2f} segundos.\")\n",
    "\n",
    "# --- Ejecución Concurrente ---\n",
    "print(\"\\nIniciando ejecución concurrente...\")\n",
    "hilos = []\n",
    "start_time = time.time()\n",
    "for i in range(1, 3):\n",
    "    # Creamos un hilo para cada solicitud\n",
    "    hilo = threading.Thread(target=procesar_solicitud, args=(i,))\n",
    "    hilos.append(hilo)\n",
    "    # Iniciamos el hilo, que empezará a ejecutarse en segundo plano\n",
    "    hilo.start()\n",
    "\n",
    "# Esperamos a que todos los hilos terminen\n",
    "for hilo in hilos:\n",
    "    hilo.join()\n",
    "\n",
    "print(f\"Tiempo total concurrente: {time.time() - start_time:.2f} segundos.\")"
   ],
   "id": "e664e4faf860982",
   "outputs": [
    {
     "name": "stdout",
     "output_type": "stream",
     "text": [
      "Iniciando procesamiento de la solicitud 1...\n",
      "--> Solicitud 1 completada.\n",
      "Iniciando procesamiento de la solicitud 2...\n",
      "--> Solicitud 2 completada.\n",
      "Tiempo total secuencial: 4.00 segundos.\n",
      "\n",
      "Iniciando ejecución concurrente...\n",
      "Iniciando procesamiento de la solicitud 1...\n",
      "Iniciando procesamiento de la solicitud 2...\n",
      "--> Solicitud 1 completada.--> Solicitud 2 completada.\n",
      "\n",
      "Tiempo total concurrente: 2.00 segundos.\n"
     ]
    }
   ],
   "execution_count": 1
  },
  {
   "metadata": {},
   "cell_type": "markdown",
   "source": [
    "## 2. Paralelismo con `multiprocessing`\n",
    "\n",
    "El paralelismo ejecuta múltiples tareas **verdaderamente al mismo tiempo**, cada una en un núcleo de CPU diferente. Es ideal para tareas **\"CPU-bound\"** (limitadas por el procesador), como cálculos matemáticos pesados, simulaciones o procesamiento de grandes volúmenes de datos."
   ],
   "id": "5a4033baf4791c4"
  },
  {
   "metadata": {
    "jupyter": {
     "is_executing": true
    },
    "ExecuteTime": {
     "end_time": "2025-10-02T14:47:52.757088200Z",
     "start_time": "2025-10-02T14:47:42.119445Z"
    }
   },
   "cell_type": "code",
   "source": [
    "# Este código debe guardarse en un archivo .py y ejecutarse desde la terminal\n",
    "\n",
    "import multiprocessing\n",
    "import time\n",
    "\n",
    "# Función que realiza un cálculo intensivo\n",
    "def calcular_cuadrado(n):\n",
    "    return n * n\n",
    "\n",
    "if __name__ == \"__main__\":\n",
    "    numeros = [1, 2, 3, 4, 5, 6, 7, 8]\n",
    "\n",
    "    start_time = time.time()\n",
    "\n",
    "    # Creamos un \"pool\" de procesos (usará tantos como núcleos de CPU tengas)\n",
    "    with multiprocessing.Pool() as pool:\n",
    "        # pool.map() distribuye la lista 'numeros' entre los procesos disponibles\n",
    "        # y aplica la función 'calcular_cuadrado' a cada elemento en paralelo.\n",
    "        resultados = pool.map(calcular_cuadrado, numeros)\n",
    "\n",
    "    print(f\"Resultados: {resultados}\")\n",
    "    print(f\"Tiempo de ejecución en paralelo: {time.time() - start_time:.4f} segundos.\")"
   ],
   "id": "2baed3471d30e162",
   "outputs": [],
   "execution_count": null
  },
  {
   "metadata": {},
   "cell_type": "markdown",
   "source": [
    "## ¿Cuándo Usar Cada Uno?\n",
    "\n",
    "| Paradigma | Analogía | Tipo de Tarea Ideal | Librería |\n",
    "| :--- | :--- | :--- | :--- |\n",
    "| **Concurrencia** | Un solo chef haciendo malabares con varias ollas | Esperas de red, lecturas de archivos (I/O-bound) | `threading`, `asyncio` |\n",
    "| **Paralelismo** | Varios chefs, cada uno en su propio plato | Cálculos matemáticos, procesamiento de imágenes (CPU-bound) | `multiprocessing` |"
   ],
   "id": "994ec6cbcf358068"
  },
  {
   "metadata": {},
   "cell_type": "code",
   "outputs": [],
   "execution_count": null,
   "source": "",
   "id": "7e57a412ef412fb"
  },
  {
   "metadata": {
    "ExecuteTime": {
     "end_time": "2025-10-02T14:57:23.867035Z",
     "start_time": "2025-10-02T14:57:23.855616Z"
    }
   },
   "cell_type": "code",
   "source": [
    "import threading\n",
    "\n",
    "class CuentaBancaria:\n",
    "    def __init__(self, saldo):\n",
    "        self.saldo = saldo\n",
    "        self.lock = threading.RLock()\n",
    "\n",
    "    def transferir(self, otra_cuenta, cantidad):\n",
    "        with self.lock:\n",
    "            self.saldo -= cantidad\n",
    "            otra_cuenta.depositar(cantidad)\n",
    "\n",
    "    def depositar(self, cantidad):\n",
    "        with self.lock:\n",
    "            self.saldo += cantidad\n",
    "\n",
    "cuenta1 = CuentaBancaria(500)\n",
    "cuenta2 = CuentaBancaria(300)\n",
    "\n",
    "hilo1 = threading.Thread(target=cuenta1.transferir, args=(cuenta2, 200))\n",
    "hilo2 = threading.Thread(target=cuenta2.transferir, args=(cuenta1, 100))\n",
    "\n",
    "hilo1.start()\n",
    "hilo2.start()\n",
    "\n",
    "hilo1.join()\n",
    "hilo2.join()\n",
    "\n",
    "print(f\"Saldo cuenta1: {cuenta1.saldo}\")\n",
    "print(f\"Saldo cuenta2: {cuenta2.saldo}\")"
   ],
   "id": "eeb92a2c72f622e7",
   "outputs": [
    {
     "name": "stdout",
     "output_type": "stream",
     "text": [
      "Saldo cuenta1: 400\n",
      "Saldo cuenta2: 400\n"
     ]
    }
   ],
   "execution_count": 1
  }
 ],
 "metadata": {
  "kernelspec": {
   "display_name": "Python 3",
   "language": "python",
   "name": "python3"
  },
  "language_info": {
   "codemirror_mode": {
    "name": "ipython",
    "version": 2
   },
   "file_extension": ".py",
   "mimetype": "text/x-python",
   "name": "python",
   "nbconvert_exporter": "python",
   "pygments_lexer": "ipython2",
   "version": "2.7.6"
  }
 },
 "nbformat": 4,
 "nbformat_minor": 5
}
