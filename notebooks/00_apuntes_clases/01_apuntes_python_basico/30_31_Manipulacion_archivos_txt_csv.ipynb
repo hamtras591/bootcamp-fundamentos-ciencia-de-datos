{
 "cells": [
  {
   "metadata": {},
   "cell_type": "markdown",
   "source": [
    "# Manejo de Archivos: Leyendo y Escribiendo Datos\n",
    "\n",
    "Hasta ahora, hemos trabajado con datos que viven dentro de nuestro código. El siguiente paso es aprender a interactuar con el mundo exterior: los archivos. Esta es una habilidad fundamental para cualquier científico de datos, ya que los datasets casi siempre provienen de archivos externos.\n",
    "\n",
    "Exploraremos dos de los formatos más comunes:\n",
    "1.  **Archivos de Texto Plano (`.txt`)**: Para datos no estructurados.\n",
    "2.  **Archivos CSV (`.csv`)**: El estándar para datos tabulares."
   ],
   "id": "6c9771832af795"
  },
  {
   "metadata": {},
   "cell_type": "markdown",
   "source": [
    "## 1. Archivos de Texto Plano (.txt)\n",
    "\n",
    "Los archivos de texto son la forma más simple de almacenar información.\n",
    "\n",
    "### El Contexto: `with open()`\n",
    "La forma correcta y segura de abrir archivos en Python es usando la sentencia `with open()`.\n",
    "\n",
    "**¿Por qué es la mejor práctica?** Porque se encarga de **cerrar el archivo automáticamente** por ti, incluso si ocurren errores en el proceso. Esto previene fugas de memoria y corrupción de datos.\n",
    "\n",
    "La sintaxis es: `with open(\"nombre_del_archivo.txt\", \"modo\") as variable_de_archivo:`\n",
    "\n",
    "Los **modos** más importantes son:\n",
    "* **`'r'`**: **Read** (Leer). El modo por defecto. Da un error si el archivo no existe.\n",
    "* **`'w'`**: **Write** (Escribir). **¡Cuidado!** Si el archivo existe, **borra todo su contenido**. Si no existe, lo crea.\n",
    "* **`'a'`**: **Append** (Añadir). Añade nuevo contenido al **final** del archivo. Si no existe, lo crea."
   ],
   "id": "98fb0d98c30d3a7a"
  },
  {
   "metadata": {
    "ExecuteTime": {
     "end_time": "2025-09-25T13:51:20.169512Z",
     "start_time": "2025-09-25T13:51:20.160755Z"
    }
   },
   "cell_type": "code",
   "source": [
    "# Para que este notebook funcione, primero vamos a crear un archivo de ejemplo.\n",
    "cuento = \"\"\"Caperucita Roja visitaba a su abuela.\n",
    "El lobo feroz la esperaba en el camino.\n",
    "El cazador salvó a ambas al final.\"\"\"\n",
    "\n",
    "with open(\"caperucita.txt\", \"w\") as file:\n",
    "    file.write(cuento)\n",
    "\n",
    "print(\"Archivo 'caperucita.txt' creado con éxito.\")"
   ],
   "id": "655acf63907dd64b",
   "outputs": [
    {
     "name": "stdout",
     "output_type": "stream",
     "text": [
      "Archivo 'caperucita.txt' creado con éxito.\n"
     ]
    }
   ],
   "execution_count": 16
  },
  {
   "metadata": {},
   "cell_type": "markdown",
   "source": [
    "### Lectura de Archivos de Texto\n",
    "\n",
    "Podemos leer el contenido de un archivo de dos maneras principales."
   ],
   "id": "6470a51ac0b9cb16"
  },
  {
   "metadata": {
    "ExecuteTime": {
     "end_time": "2025-09-25T13:51:36.874838Z",
     "start_time": "2025-09-25T13:51:36.843117Z"
    }
   },
   "cell_type": "code",
   "source": [
    "# MÉTODO 1: Iterar línea por línea (eficiente con la memoria)\n",
    "print(\"--- Leyendo línea por línea ---\")\n",
    "with open(\"caperucita.txt\", \"r\") as file:\n",
    "    for line in file:\n",
    "        # Usamos .strip() para quitar los saltos de línea invisibles (\\n)\n",
    "        print(line.strip())\n",
    "\n",
    "# MÉTODO 2: Cargar todas las líneas en una lista\n",
    "print(\"\\n--- Cargando todo en una lista ---\")\n",
    "with open(\"caperucita.txt\", \"r\") as file:\n",
    "    lines = file.readlines()\n",
    "    print(lines)"
   ],
   "id": "5b7530949851ea7e",
   "outputs": [
    {
     "name": "stdout",
     "output_type": "stream",
     "text": [
      "--- Leyendo línea por línea ---\n",
      "Caperucita Roja visitaba a su abuela.\n",
      "El lobo feroz la esperaba en el camino.\n",
      "El cazador salvó a ambas al final.\n",
      "\n",
      "--- Cargando todo en una lista ---\n",
      "['Caperucita Roja visitaba a su abuela.\\n', 'El lobo feroz la esperaba en el camino.\\n', 'El cazador salvó a ambas al final.']\n"
     ]
    }
   ],
   "execution_count": 17
  },
  {
   "metadata": {},
   "cell_type": "markdown",
   "source": "### Escritura y Modificación de Archivos de Texto",
   "id": "7c814a4a4a3c46f"
  },
  {
   "metadata": {},
   "cell_type": "code",
   "outputs": [],
   "execution_count": null,
   "source": [
    "# Usando el modo 'a' (Append) para AÑADIR al final\n",
    "with open(\"caperucita.txt\", \"a\") as file:\n",
    "    # \\n asegura que la nueva línea empiece abajo\n",
    "    file.write(\"\\n\\nFIN.\")\n",
    "\n",
    "# Leemos el archivo de nuevo para ver el cambio\n",
    "print(\"--- Archivo con texto añadido ---\")\n",
    "with open(\"caperucita.txt\", \"r\") as file:\n",
    "    print(file.read())"
   ],
   "id": "61b5e280f7377388"
  },
  {
   "metadata": {},
   "cell_type": "markdown",
   "source": [
    "## 2. Archivos CSV: El Estándar para Datos Tabulares\n",
    "\n",
    "Un archivo CSV (Comma-Separated Values) es un archivo de texto donde las comas separan los valores, creando una estructura de tabla. Para manejarlos correctamente, usamos el módulo `csv` de Python."
   ],
   "id": "aebdbec07e2347c6"
  },
  {
   "metadata": {
    "ExecuteTime": {
     "end_time": "2025-09-25T13:54:16.836399Z",
     "start_time": "2025-09-25T13:54:16.827055Z"
    }
   },
   "cell_type": "code",
   "source": [
    "# Primero, importamos el módulo y creamos un archivo CSV de ejemplo\n",
    "import csv\n",
    "\n",
    "datos_productos = [\n",
    "    {'nombre': 'Laptop', 'precio': '1200', 'cantidad': '20'},\n",
    "    {'nombre': 'Mouse', 'precio': '25', 'cantidad': '150'},\n",
    "    {'nombre': 'Teclado', 'precio': '80', 'cantidad': '75'}\n",
    "]\n",
    "fieldnames = ['nombre', 'precio', 'cantidad']\n",
    "\n",
    "with open('products_v2.csv', 'w', newline='') as csvfile:\n",
    "    writer = csv.DictWriter(csvfile, fieldnames=fieldnames)\n",
    "    writer.writeheader()\n",
    "    writer.writerows(datos_productos)\n",
    "\n",
    "print(\"Archivo 'products_v2.csv' creado con éxito.\")"
   ],
   "id": "6fb966897d7e84d3",
   "outputs": [
    {
     "name": "stdout",
     "output_type": "stream",
     "text": [
      "Archivo 'products_v2.csv' creado con éxito.\n"
     ]
    }
   ],
   "execution_count": 18
  },
  {
   "metadata": {},
   "cell_type": "markdown",
   "source": [
    "### Lectura de CSV con `csv.DictReader`\n",
    "\n",
    "Esta es la forma recomendada. Convierte cada fila en un **diccionario**, usando la primera fila (el encabezado) como las claves. Esto hace que tu código sea mucho más legible."
   ],
   "id": "e28ac9412ff38720"
  },
  {
   "metadata": {
    "ExecuteTime": {
     "end_time": "2025-09-25T13:55:30.923376Z",
     "start_time": "2025-09-25T13:55:30.915745Z"
    }
   },
   "cell_type": "code",
   "source": [
    "with open('products_v2.csv', mode='r') as file:\n",
    "    csv_reader = csv.DictReader(file)\n",
    "    for row in csv_reader:\n",
    "        # Ahora podemos acceder a los datos por el nombre de la columna\n",
    "        print(f\"Producto: {row['nombre']}, Precio: ${row['precio']}\")"
   ],
   "id": "aa6a55b635c651ef",
   "outputs": [
    {
     "name": "stdout",
     "output_type": "stream",
     "text": [
      "Producto: Laptop, Precio: $1200\n",
      "Producto: Mouse, Precio: $25\n",
      "Producto: Teclado, Precio: $80\n"
     ]
    }
   ],
   "execution_count": 20
  },
  {
   "metadata": {},
   "cell_type": "markdown",
   "source": [
    "### Caso Práctico: Añadir una Columna Calculada\n",
    "\n",
    "Una tarea muy común es leer un archivo, realizar algún cálculo y guardar el resultado en un archivo nuevo. Aquí, calcularemos el valor total del inventario para cada producto."
   ],
   "id": "6ba51b93e75b24b4"
  },
  {
   "metadata": {
    "ExecuteTime": {
     "end_time": "2025-09-25T13:57:43.025882Z",
     "start_time": "2025-09-25T13:57:43.015696Z"
    }
   },
   "cell_type": "code",
   "source": [
    "# Abrimos el archivo original para leer y el nuevo para escribir\n",
    "with open('products.csv', mode='r', newline='') as read_file, \\\n",
    "     open('products_updated.csv', mode='w', newline='') as write_file:\n",
    "\n",
    "    # Creamos el lector para el archivo original\n",
    "    csv_reader = csv.DictReader(read_file)\n",
    "\n",
    "    # Definimos las columnas para el nuevo archivo, añadiendo la nuestra\n",
    "    fieldnames = csv_reader.fieldnames + ['valor_total']\n",
    "\n",
    "    # Creamos el escritor para el nuevo archivo\n",
    "    csv_writer = csv.DictWriter(write_file, fieldnames=fieldnames)\n",
    "\n",
    "    # Escribimos el encabezado en el nuevo archivo\n",
    "    csv_writer.writeheader()\n",
    "\n",
    "    # Iteramos sobre el archivo original\n",
    "    for row in csv_reader:\n",
    "        # Calculamos el nuevo valor (¡recordar convertir a números!)\n",
    "        row['valor_total'] = float(row['price']) * int(row['quantity'])\n",
    "        # Escribimos la fila modificada en el nuevo archivo\n",
    "        csv_writer.writerow(row)\n",
    "\n",
    "print(\"Archivo 'products_updated.csv' creado con la nueva columna.\")"
   ],
   "id": "f4a96dba3937a7b7",
   "outputs": [
    {
     "name": "stdout",
     "output_type": "stream",
     "text": [
      "Archivo 'products_updated.csv' creado con la nueva columna.\n"
     ]
    }
   ],
   "execution_count": 23
  }
 ],
 "metadata": {
  "kernelspec": {
   "display_name": "Python 3",
   "language": "python",
   "name": "python3"
  },
  "language_info": {
   "codemirror_mode": {
    "name": "ipython",
    "version": 2
   },
   "file_extension": ".py",
   "mimetype": "text/x-python",
   "name": "python",
   "nbconvert_exporter": "python",
   "pygments_lexer": "ipython2",
   "version": "2.7.6"
  }
 },
 "nbformat": 4,
 "nbformat_minor": 5
}
