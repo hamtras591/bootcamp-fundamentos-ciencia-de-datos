{
 "cells": [
  {
   "metadata": {},
   "cell_type": "markdown",
   "source": [
    "# Sobrecarga de Operadores: Dando \"Superpoderes\" a tus Clases\n",
    "\n",
    "La **sobrecarga de operadores** es una técnica que nos permite definir cómo deben comportarse los operadores estándar de Python (`+`, `-`, `*`, `==`, `<`, etc.) cuando se aplican a objetos de nuestras propias clases.\n",
    "\n",
    "**La Analogía:**\n",
    "Piensa en el operador `+`. Por defecto, Python sabe cómo \"sumar\" números (`3 + 5`) y cómo \"concatenar\" strings (`\"hola\" + \"mundo\"`). Con la sobrecarga de operadores, nosotros le **enseñamos** a Python cómo \"sumar\" nuestros propios objetos, como dos `Vectores` o dos `Fracciones`."
   ],
   "id": "367eab6f42c5e432"
  },
  {
   "metadata": {},
   "cell_type": "markdown",
   "source": [
    "## 1. Sobrecarga de Operadores Aritméticos\n",
    "\n",
    "Para sobrecargar un operador, implementamos un \"método mágico\" específico en nuestra clase. Para el operador de suma `+`, el método es `__add__`."
   ],
   "id": "f70a8f8505c8b853"
  },
  {
   "metadata": {
    "collapsed": true,
    "ExecuteTime": {
     "end_time": "2025-10-01T18:30:23.736209Z",
     "start_time": "2025-10-01T18:30:23.726603Z"
    }
   },
   "cell_type": "code",
   "source": [
    "class Vector:\n",
    "    # El constructor de la clase.\n",
    "    def __init__(self, x, y):\n",
    "        self.x = x\n",
    "        self.y = y\n",
    "\n",
    "    # Este es el método mágico que sobrecarga el operador '+'.\n",
    "    # Define qué pasa cuando hacemos 'vector1 + vector2'.\n",
    "    def __add__(self, otro_vector):\n",
    "        # La 'suma' de dos vectores es un nuevo vector con la suma de sus componentes.\n",
    "        nuevo_x = self.x + otro_vector.x\n",
    "        nuevo_y = self.y + otro_vector.y\n",
    "        return Vector(nuevo_x, nuevo_y)\n",
    "\n",
    "    # El método __repr__ para imprimir el objeto de forma clara.\n",
    "    def __repr__(self):\n",
    "        return f\"Vector({self.x}, {self.y})\"\n",
    "\n",
    "# Creamos dos instancias de Vector.\n",
    "v1 = Vector(2, 3)\n",
    "v2 = Vector(4, 1)\n",
    "\n",
    "# Gracias a __add__, podemos usar el operador '+' directamente con nuestros objetos.\n",
    "v3 = v1 + v2\n",
    "\n",
    "print(v3)"
   ],
   "id": "37a0042a6c60579d",
   "outputs": [
    {
     "name": "stdout",
     "output_type": "stream",
     "text": [
      "Vector(6, 4)\n"
     ]
    }
   ],
   "execution_count": 1
  },
  {
   "metadata": {},
   "cell_type": "markdown",
   "source": [
    "## 2. Sobrecarga de Operadores de Comparación\n",
    "\n",
    "También podemos enseñarle a Python cómo comparar nuestros objetos. Esto es muy útil para poder ordenarlos o buscar duplicados.\n",
    "\n",
    "* **`__eq__(self, otro)`**: Sobrecarga el operador de igualdad `==`.\n",
    "* **`__lt__(self, otro)`**: Sobrecarga el operador \"menor que\" `<`.\n",
    "* **`__gt__(self, otro)`**: Sobrecarga el operador \"mayor que\" `>`."
   ],
   "id": "cd0f26028650af47"
  },
  {
   "metadata": {
    "ExecuteTime": {
     "end_time": "2025-10-01T18:32:42.464257Z",
     "start_time": "2025-10-01T18:32:42.455568Z"
    }
   },
   "cell_type": "code",
   "source": [
    "class Persona:\n",
    "    def __init__(self, nombre, edad):\n",
    "        self.nombre = nombre\n",
    "        self.edad = edad\n",
    "\n",
    "    # Le decimos a Python que dos objetos Persona son 'iguales'\n",
    "    # si su nombre y edad son idénticos.\n",
    "    def __eq__(self, otra_persona):\n",
    "        return self.nombre == otra_persona.nombre and self.edad == otra_persona.edad\n",
    "\n",
    "    # Le decimos que una Persona es 'menor que' otra si su edad es menor.\n",
    "    def __lt__(self, otra_persona):\n",
    "        return self.edad < otra_persona.edad\n",
    "\n",
    "p1 = Persona(\"Ana\", 30)\n",
    "p2 = Persona(\"Luis\", 35)\n",
    "p3 = Persona(\"Ana\", 30)\n",
    "\n",
    "# Gracias a __eq__, Python sabe cómo comparar nuestras Personas.\n",
    "print(f\"¿p1 es igual a p2? {p1 == p2}\")\n",
    "print(f\"¿p1 es igual a p3? {p1 == p3}\")\n",
    "\n",
    "# Gracias a __lt__, Python puede determinar cuál es \"menor\".\n",
    "print(f\"¿p1 es menor que p2? {p1 < p2}\")"
   ],
   "id": "eb1cbefb78db56d",
   "outputs": [
    {
     "name": "stdout",
     "output_type": "stream",
     "text": [
      "¿p1 es igual a p2? False\n",
      "¿p1 es igual a p3? True\n",
      "¿p1 es menor que p2? True\n"
     ]
    }
   ],
   "execution_count": 2
  },
  {
   "metadata": {},
   "cell_type": "markdown",
   "source": [
    "## 3. Ejercicio Práctico: Sumando Fracciones\n",
    "\n",
    "Vamos a implementar una clase `Fraccion` que nos permita sumar fracciones de forma intuitiva usando el operador `+`."
   ],
   "id": "b0c11ffc83913fc"
  },
  {
   "metadata": {
    "ExecuteTime": {
     "end_time": "2025-10-01T18:35:08.327751Z",
     "start_time": "2025-10-01T18:35:08.318755Z"
    }
   },
   "cell_type": "code",
   "source": [
    "from math import gcd # gcd (greatest common divisor) para simplificar fracciones\n",
    "\n",
    "class Fraccion:\n",
    "    def __init__(self, numerador, denominador):\n",
    "        self.numerador = numerador\n",
    "        self.denominador = denominador\n",
    "\n",
    "    def __add__(self, otra_fraccion):\n",
    "        # Calculamos el nuevo numerador (a*d + b*c)\n",
    "        nuevo_num = self.numerador * otra_fraccion.denominador + otra_fraccion.numerador * self.denominador\n",
    "        # Calculamos el nuevo denominador (b*d)\n",
    "        nuevo_den = self.denominador * otra_fraccion.denominador\n",
    "\n",
    "        # Simplificamos la fracción encontrando el máximo común divisor\n",
    "        comun_divisor = gcd(nuevo_num, nuevo_den)\n",
    "\n",
    "        return Fraccion(nuevo_num // comun_divisor, nuevo_den // comun_divisor)\n",
    "\n",
    "    def __repr__(self):\n",
    "        return f\"{self.numerador}/{self.denominador}\"\n",
    "\n",
    "# Creamos nuestras fracciones\n",
    "f1 = Fraccion(1, 4)\n",
    "f2 = Fraccion(1, 2)\n",
    "\n",
    "# Las sumamos como si fueran números normales\n",
    "f3 = f1 + f2\n",
    "\n",
    "print(f\"La suma de {f1} + {f2} es: {f3}\")"
   ],
   "id": "1e74fd62366ad516",
   "outputs": [
    {
     "name": "stdout",
     "output_type": "stream",
     "text": [
      "La suma de 1/4 + 1/2 es: 3/4\n"
     ]
    }
   ],
   "execution_count": 3
  }
 ],
 "metadata": {
  "kernelspec": {
   "display_name": "Python 3",
   "language": "python",
   "name": "python3"
  },
  "language_info": {
   "codemirror_mode": {
    "name": "ipython",
    "version": 2
   },
   "file_extension": ".py",
   "mimetype": "text/x-python",
   "name": "python",
   "nbconvert_exporter": "python",
   "pygments_lexer": "ipython2",
   "version": "2.7.6"
  }
 },
 "nbformat": 4,
 "nbformat_minor": 5
}
