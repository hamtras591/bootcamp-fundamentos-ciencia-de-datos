{
 "cells": [
  {
   "metadata": {},
   "cell_type": "markdown",
   "source": [
    "# Estructuras de Datos Avanzadas: `collections` y `Enum`\n",
    "\n",
    "En este notebook, exploraremos herramientas de la biblioteca estándar que nos permiten manejar datos de forma más eficiente y escribir código más claro y robusto.\n",
    "\n",
    "* **`collections`**: Proporciona estructuras de datos especializadas que son versiones \"con superpoderes\" de los diccionarios y listas.\n",
    "* **`Enum`**: Permite crear enumeraciones, que es la forma profesional de manejar un conjunto de constantes con nombre."
   ],
   "id": "245edb176ce5ecb9"
  },
  {
   "metadata": {},
   "cell_type": "markdown",
   "source": [
    "## 1. El Módulo `collections`\n",
    "\n",
    "### `defaultdict`: El Diccionario que Nunca da Error\n",
    "`defaultdict` se comporta como un diccionario normal, pero si intentas acceder a una clave que no existe, en lugar de dar un `KeyError`, crea la clave automáticamente con un valor por defecto que tú definas.\n",
    "* **Uso en DS:** Perfecto para **agrupar datos** sin necesidad de verificar si la clave ya existe en cada iteración."
   ],
   "id": "7f9239fbf6a502e9"
  },
  {
   "metadata": {
    "ExecuteTime": {
     "end_time": "2025-09-26T15:20:49.001387Z",
     "start_time": "2025-09-26T15:20:48.993364Z"
    }
   },
   "cell_type": "code",
   "source": [
    "from collections import defaultdict\n",
    "\n",
    "# Queremos agrupar los scores por departamento.\n",
    "# Le decimos que el valor por defecto para una clave nueva será una lista vacía (list).\n",
    "datos_agrupados = defaultdict(list)\n",
    "\n",
    "scores = [(\"Ventas\", 85), (\"Marketing\", 92), (\"Ventas\", 78)]\n",
    "\n",
    "for depto, score in scores:\n",
    "    # La primera vez que vea \"Ventas\", crea la lista. La segunda, solo hace el append.\n",
    "    datos_agrupados[depto].append(score)\n",
    "\n",
    "print(datos_agrupados)"
   ],
   "id": "7ad24984b0d05efd",
   "outputs": [
    {
     "name": "stdout",
     "output_type": "stream",
     "text": [
      "defaultdict(<class 'list'>, {'Ventas': [85, 78], 'Marketing': [92]})\n"
     ]
    }
   ],
   "execution_count": 16
  },
  {
   "metadata": {},
   "cell_type": "markdown",
   "source": [
    "### `Counter`: El Contador Automático\n",
    "`Counter` es una subclase de diccionario diseñada específicamente para contar frecuencias. Es la forma más rápida y eficiente de hacer lo que hicimos manualmente en el \"Analizador de Logs\".\n",
    "* **Uso en DS:** Es la herramienta #1 para el **Análisis Exploratorio de Datos (EDA)**. Perfecta para obtener la distribución de frecuencia de una variable categórica o para contar palabras en NLP."
   ],
   "id": "d0a3b718a73fa4ae"
  },
  {
   "metadata": {
    "ExecuteTime": {
     "end_time": "2025-09-26T13:58:56.044266Z",
     "start_time": "2025-09-26T13:58:56.036168Z"
    }
   },
   "cell_type": "code",
   "source": [
    "from collections import Counter\n",
    "\n",
    "# Tenemos una lista de categorías de productos vendidos\n",
    "ventas_categorias = ['electronica', 'hogar', 'ropa', 'electronica', 'juguetes', 'hogar', 'electronica']\n",
    "\n",
    "# Counter hace todo el trabajo de contar en una sola línea\n",
    "conteo_categorias = Counter(ventas_categorias)\n",
    "print(f\"Conteo de ventas: {conteo_categorias}\")\n",
    "\n",
    "# Su método más útil: .most_common()\n",
    "print(f\"La categoría más vendida es: {conteo_categorias.most_common(1)}\")"
   ],
   "id": "d5dffce42e7f90c8",
   "outputs": [
    {
     "name": "stdout",
     "output_type": "stream",
     "text": [
      "<class 'list'>\n",
      "Conteo de ventas: Counter({'electronica': 3, 'hogar': 2, 'ropa': 1, 'juguetes': 1})\n",
      "La categoría más vendida es: [('electronica', 3)]\n"
     ]
    }
   ],
   "execution_count": 8
  },
  {
   "metadata": {},
   "cell_type": "markdown",
   "source": [
    "### `deque`: La Fila de Doble Extremo\n",
    "`deque` (se pronuncia \"deck\") es una estructura similar a una lista, pero súper optimizada para añadir y quitar elementos de sus **extremos** (el principio y el final).\n",
    "* **Uso en DS:** Ideal para trabajar con **datos en streaming** o **series de tiempo**. Se usa para calcular \"ventanas móviles\" (ej. el promedio de los últimos 7 días) o para guardar un historial de los últimos N eventos."
   ],
   "id": "214da7e3f9e0b157"
  },
  {
   "metadata": {
    "ExecuteTime": {
     "end_time": "2025-09-26T15:13:51.951837Z",
     "start_time": "2025-09-26T15:13:51.941356Z"
    }
   },
   "cell_type": "code",
   "source": [
    "from collections import deque\n",
    "\n",
    "# Guardaremos un historial de los últimos 3 sensores activados\n",
    "historial_sensores = deque(maxlen=3)\n",
    "print(f\"Historial inicial: {historial_sensores}\")\n",
    "\n",
    "historial_sensores.append(\"Sensor Puerta\")\n",
    "print(f\"Se activa sensor puerta: {historial_sensores}\")\n",
    "\n",
    "historial_sensores.append(\"Sensor Ventana\")\n",
    "print(f\"Se activa sensor ventana: {historial_sensores}\")\n",
    "\n",
    "# Al añadir un elemento, si el deque está lleno, el más antiguo se elimina automáticamente\n",
    "historial_sensores.append(\"Sensor Movimiento\")\n",
    "print(f\"Se activa sensor movimiento: {historial_sensores}\")\n",
    "\n",
    "historial_sensores.append(\"Sensor Garaje\")\n",
    "print(f\"Se activa sensor garaje (el de la puerta se eliminó): {historial_sensores}\")"
   ],
   "id": "2f094b28e77795ae",
   "outputs": [
    {
     "name": "stdout",
     "output_type": "stream",
     "text": [
      "Historial inicial: deque([], maxlen=3)\n",
      "Se activa sensor puerta: deque(['Sensor Puerta'], maxlen=3)\n",
      "Se activa sensor ventana: deque(['Sensor Puerta', 'Sensor Ventana'], maxlen=3)\n",
      "Se activa sensor movimiento: deque(['Sensor Puerta', 'Sensor Ventana', 'Sensor Movimiento'], maxlen=3)\n",
      "Se activa sensor garaje (el de la puerta se eliminó): deque(['Sensor Ventana', 'Sensor Movimiento', 'Sensor Garaje'], maxlen=3)\n"
     ]
    }
   ],
   "execution_count": 15
  },
  {
   "metadata": {},
   "cell_type": "markdown",
   "source": [
    "## 2. Enumeraciones (`Enum`): Creando Constantes Claras\n",
    "\n",
    "Una enumeración es un conjunto de nombres simbólicos (miembros) vinculados a valores únicos y constantes. Son la forma profesional de manejar un conjunto fijo de estados o categorías.\n",
    "\n",
    "* **Uso en DS:** Mejoran la legibilidad del código al evitar \"números mágicos\" o strings hardcodeados. Por ejemplo, para definir los estados de un pipeline de datos (`RAW`, `PROCESSED`, `VALIDATED`) o las categorías de un modelo (`SPAM`, `NOT_SPAM`)."
   ],
   "id": "89d39afd2d3daa4f"
  },
  {
   "metadata": {},
   "cell_type": "code",
   "outputs": [],
   "execution_count": null,
   "source": [
    "from enum import Enum\n",
    "\n",
    "# Creamos una enumeración para los estados de una orden\n",
    "class EstadoOrden(Enum):\n",
    "    PENDIENTE = 1\n",
    "    ENVIADO = 2\n",
    "    ENTREGADO = 3\n",
    "    CANCELADO = 4\n",
    "\n",
    "# Ahora podemos usar los nombres en lugar de números, lo que es mucho más claro\n",
    "estado_actual = EstadoOrden.ENVIADO\n",
    "\n",
    "def verificar_estado_orden(status: EstadoOrden):\n",
    "    if status == EstadoOrden.PENDIENTE:\n",
    "        return \"La orden está pendiente.\"\n",
    "    elif status == EstadoO\"orden ha sido enviada.\"\n",
    "    elif status == EstadoOrden.ENTREGADO:\n",
    "        return \"La orden ha sido entregada.\"\n",
    "    else:\n",
    "        return \"La orden ha sido cancelada.\"\n",
    "\n",
    "print(verificar_estado_orden(estado_actual))\n",
    "\n",
    "# También puedes acceder a su nombre y valor\n",
    "print(f\"Nombre del estado: {estado_actual.name}, Valor: {estado_actual.value}\")"
   ],
   "id": "92dc177685b31df3"
  },
  {
   "metadata": {},
   "cell_type": "markdown",
   "source": [
    "# Collections: La Caja de Herramientas para Estructuras de Datos\n",
    "\n",
    "El módulo `collections` nos proporciona estructuras de datos especializadas que son versiones \"con superpoderes\" de los diccionarios, listas y tuplas estándar. Son increíblemente eficientes y nos permiten escribir código más limpio y legible para tareas comunes."
   ],
   "id": "850ce4e33e06f01f"
  },
  {
   "metadata": {},
   "cell_type": "markdown",
   "source": [
    "## 1. `collections.Counter`\n",
    "\n",
    "Un diccionario optimizado para contar la frecuencia de elementos. Es tu herramienta #1 para el Análisis Exploratorio de Datos (EDA).\n",
    "\n",
    "| Método | Descripción y Uso en DS |\n",
    "| :--- | :--- |\n",
    "| `Counter(iterable)` | **Constructor.** Crea un diccionario con elementos como claves y sus frecuencias como valores. **Uso:** Obtener la distribución de una variable categórica en una línea. |\n",
    "| `.most_common(n)` | **El más importante.** Devuelve una lista de tuplas `(elemento, conteo)` de los `n` elementos más comunes. **Uso:** Encontrar las palabras más frecuentes en NLP, los productos más vendidos, etc. |\n",
    "| `.elements()` | Devuelve un iterador que repite cada elemento según su conteo. **Uso:** Reconstruir una lista a partir de un resumen de frecuencias para muestreo. |"
   ],
   "id": "1ed78918a521fb81"
  },
  {
   "metadata": {
    "ExecuteTime": {
     "end_time": "2025-09-26T14:29:54.162342Z",
     "start_time": "2025-09-26T14:29:54.153958Z"
    }
   },
   "cell_type": "code",
   "source": [
    "from collections import Counter\n",
    "\n",
    "# Lista de categorías de productos vendidos\n",
    "ventas_categorias = ['electronica', 'hogar', 'ropa', 'electronica', 'juguetes', 'hogar', 'electronica']\n",
    "\n",
    "# Creamos el contador y obtenemos las 2 categorías más vendidas\n",
    "conteo_categorias = Counter(ventas_categorias)\n",
    "print(f\"Conteo de ventas: {conteo_categorias}\")\n",
    "print(f\"Las 2 categorías más vendidas: {conteo_categorias.most_common(2)}\")"
   ],
   "id": "6d75b984371b5612",
   "outputs": [
    {
     "name": "stdout",
     "output_type": "stream",
     "text": [
      "Conteo de ventas: Counter({'electronica': 3, 'hogar': 2, 'ropa': 1, 'juguetes': 1})\n",
      "Las 2 categorías más vendidas: [('electronica', 3), ('hogar', 2)]\n"
     ]
    }
   ],
   "execution_count": 9
  },
  {
   "metadata": {},
   "cell_type": "markdown",
   "source": [
    "## 2. `collections.defaultdict`\n",
    "\n",
    "Un diccionario que asigna un valor por defecto a las claves que no existen, evitando errores (`KeyError`) y simplificando la lógica de agrupación.\n",
    "\n",
    "| Método | Descripción y Uso en DS |\n",
    "| :--- | :--- |\n",
    "| `defaultdict(factory)` | **Constructor.** El `factory` (ej. `list`, `int`) define qué valor por defecto se creará para una clave nueva. **Uso:** `defaultdict(list)` para agrupar valores, `defaultdict(int)` para construir contadores. |\n",
    "| `__missing__(key)` | El método \"mágico\" que se llama internamente cuando una clave no existe para crear el valor por defecto. |"
   ],
   "id": "d5932cd317cb88ee"
  },
  {
   "metadata": {},
   "cell_type": "code",
   "outputs": [],
   "execution_count": null,
   "source": [
    "from collections import defaultdict\n",
    "\n",
    "transacciones = [('Bogota', 150), ('Medellin', 80), ('Bogota', 200)]\n",
    "\n",
    "# Le decimos que el valor por defecto para una clave nueva será una lista vacía (list)\n",
    "ventas_por_ciudad = defaultdict(list)\n",
    "\n",
    "# El bucle se simplifica enormemente, sin necesidad de un if/else\n",
    "for ciudad, venta in transacciones:\n",
    "    ventas_por_ciudad[ciudad].append(venta)\n",
    "\n",
    "print(ventas_por_ciudad)"
   ],
   "id": "c7c10ffba3029cc"
  },
  {
   "metadata": {},
   "cell_type": "markdown",
   "source": [
    "## 3. `collections.deque`\n",
    "\n",
    "Una lista optimizada para añadir y quitar elementos de forma muy rápida por ambos extremos (se pronuncia \"deck\").\n",
    "\n",
    "| Método | Descripción y Uso en DS |\n",
    "| :--- | :--- |\n",
    "| `deque(iterable, maxlen)` | **Constructor.** `maxlen` limita el tamaño. Si se llena, al añadir un elemento, el del otro extremo se elimina. |\n",
    "| `.append(x)` / `.appendleft(x)` | Añade un elemento al final o al principio. **Uso:** Ideal para procesar datos en streaming o series de tiempo. |\n",
    "| `.pop()` / `.popleft()` | Elimina y devuelve un elemento del final o del principio. **Uso:** Procesar colas de tareas o eventos en orden. |\n",
    "| `.rotate(n)` | Rota todos los elementos `n` pasos. **Uso:** Crear \"features\" basadas en valores pasados (*lagged features*) en series de tiempo. |"
   ],
   "id": "4c21fa9b7186196c"
  },
  {
   "metadata": {},
   "cell_type": "code",
   "outputs": [],
   "execution_count": null,
   "source": [
    "from collections import deque\n",
    "\n",
    "# Guardaremos un historial de los últimos 3 sensores activados\n",
    "historial_sensores = deque(maxlen=3)\n",
    "\n",
    "historial_sensores.append(\"Sensor Puerta\")\n",
    "historial_sensores.append(\"Sensor Ventana\")\n",
    "historial_sensores.append(\"Sensor Movimiento\")\n",
    "print(f\"Historial: {historial_sensores}\")\n",
    "\n",
    "# Al añadir un 4º elemento, el más antiguo (\"Sensor Puerta\") se elimina\n",
    "historial_sensores.append(\"Sensor Garaje\")\n",
    "print(f\"Historial actualizado: {historial_sensores}\")"
   ],
   "id": "591da1f97c46a554"
  },
  {
   "metadata": {},
   "cell_type": "markdown",
   "source": [
    "## 4. `collections.namedtuple`\n",
    "\n",
    "Una función que crea \"plantillas\" para tuplas, permitiendo acceder a los elementos por nombre en lugar de por índice.\n",
    "\n",
    "| Atributo / Método | Descripción y Uso en DS |\n",
    "| :--- | :--- |\n",
    "| `tupla.campo` | **Acceso por nombre.** Su principal ventaja (`punto.x` en vez de `punto[0]`). **Uso:** Almacenar registros de datos simples e inmutables. |\n",
    "| `._asdict()` | Convierte la tupla nombrada en un diccionario. **Uso:** Muy útil para exportar los datos a formato JSON. |\n",
    "| `._make(iterable)` | Crea una nueva instancia a partir de una lista o tupla. **Uso:** Crear una tupla nombrada desde una fila leída de un archivo. |"
   ],
   "id": "e9caa26780da4865"
  },
  {
   "metadata": {},
   "cell_type": "code",
   "outputs": [],
   "execution_count": null,
   "source": [
    "from collections import namedtuple\n",
    "\n",
    "# 1. Creamos la \"plantilla\" para nuestra tupla con nombre\n",
    "Coordenadas = namedtuple('Coordenadas', ['latitud', 'longitud', 'ciudad'])\n",
    "\n",
    "# 2. Creamos una instancia\n",
    "punto_a = Coordenadas(4.71, -74.07, \"Bogotá\")\n",
    "\n",
    "# 3. Accedemos a los datos por nombre\n",
    "print(f\"La latitud de {punto_a.ciudad} es: {punto_a.latitud}\")"
   ],
   "id": "c53c6200f4942649"
  }
 ],
 "metadata": {
  "kernelspec": {
   "display_name": "Python 3",
   "language": "python",
   "name": "python3"
  },
  "language_info": {
   "codemirror_mode": {
    "name": "ipython",
    "version": 2
   },
   "file_extension": ".py",
   "mimetype": "text/x-python",
   "name": "python",
   "nbconvert_exporter": "python",
   "pygments_lexer": "ipython2",
   "version": "2.7.6"
  }
 },
 "nbformat": 4,
 "nbformat_minor": 5
}
