{
 "cells": [
  {
   "metadata": {},
   "cell_type": "markdown",
   "source": [
    "# Matrices en Python: Organizando Datos en Filas y Columnas\n",
    "\n",
    "Una **matriz** en Python no es un tipo de dato propio, sino una forma de usar las listas para representar datos bidimensionales (en filas y columnas). Se implementa como una **lista de listas**, donde cada lista anida representa una fila.\n",
    "\n",
    "Son la base para trabajar con datos tabulares, imágenes y son el precursor conceptual de las estructuras de datos que usarás en librerías como NumPy y Pandas."
   ],
   "id": "ad4c82fed872bd43"
  },
  {
   "metadata": {},
   "cell_type": "markdown",
   "source": [
    "## 1. Creación y Acceso a Elementos\n",
    "\n",
    "Para crear una matriz, simplemente defines una lista y cada uno de sus elementos es, a su vez, otra lista.\n",
    "\n",
    "Para acceder a un elemento, usas una doble indexación: `matriz[fila][columna]`. Recuerda que, como siempre en Python, los índices empiezan en `0`."
   ],
   "id": "a08699ad81bd7f2c"
  },
  {
   "metadata": {},
   "cell_type": "code",
   "source": [
    "# Creamos una matriz de 3x3\n",
    "matriz = [\n",
    "    [1, 2, 3],  # Fila 0\n",
    "    [4, 5, 6],  # Fila 1\n",
    "    [7, 8, 9]   # Fila 2\n",
    "]\n",
    "\n",
    "print(\"Matriz completa:\")\n",
    "print(matriz)\n",
    "\n",
    "# Accedemos al elemento en la Fila 1, Columna 2 (el número 6)\n",
    "elemento = matriz[1][2]\n",
    "print(f\"\\nEl elemento en la posición [1][2] es: {elemento}\")\n",
    "\n",
    "# Accedemos al primer elemento (Fila 0, Columna 0)\n",
    "primer_elemento = matriz[0][0]\n",
    "print(f\"El elemento en la posición [0][0] es: {primer_elemento}\")"
   ],
   "id": "520aa645586a00d4",
   "outputs": [],
   "execution_count": null
  },
  {
   "metadata": {},
   "cell_type": "markdown",
   "source": [
    "## 2. Iteración sobre una Matriz\n",
    "\n",
    "Para recorrer todos los elementos de una matriz, la forma más común es usar un bucle `for` anidado. El primer bucle itera sobre las filas y el segundo sobre los elementos de cada fila."
   ],
   "id": "f4aa6edb1db5e65d"
  },
  {
   "metadata": {},
   "cell_type": "code",
   "source": [
    "print(\"Recorriendo la matriz:\")\n",
    "for fila in matriz:\n",
    "    print(f\"Procesando Fila: {fila}\")\n",
    "    for elemento in fila:\n",
    "        print(f\"  Elemento: {elemento}\")"
   ],
   "id": "e47a0ffbee4167af",
   "outputs": [],
   "execution_count": null
  },
  {
   "metadata": {},
   "cell_type": "markdown",
   "source": [
    "## 3. Mutabilidad: Las Matrices se Pueden Cambiar\n",
    "\n",
    "Al estar construidas sobre listas, las matrices son **mutables**. Puedes modificar, añadir o eliminar elementos después de su creación."
   ],
   "id": "a434db32de664279"
  },
  {
   "metadata": {},
   "cell_type": "code",
   "source": [
    "print(f\"Matriz original: {matriz}\")\n",
    "\n",
    "# Modificamos un elemento existente\n",
    "matriz[0][0] = 99\n",
    "print(f\"Matriz con elemento [0][0] modificado: {matriz}\")\n",
    "\n",
    "# Modificamos una fila entera\n",
    "matriz[2] = [10, 20, 30]\n",
    "print(f\"Matriz con fila 2 modificada: {matriz}\")"
   ],
   "id": "da9d84a740e45c99",
   "outputs": [],
   "execution_count": null
  },
  {
   "metadata": {},
   "cell_type": "markdown",
   "source": [
    "## 4. Combinando Estructuras: Una Tupla que Contiene una Matriz\n",
    "\n",
    "Como vimos, puedes tener una tupla donde uno de sus elementos sea una matriz (una lista de listas).\n",
    "\n",
    "* **Descripción:** Esta estructura es útil cuando quieres que la **asignación** general sea inmutable (no puedes cambiar la matriz por otra cosa), pero el contenido de la matriz en sí **siga siendo mutable**.\n",
    "* **Ejemplo:**"
   ],
   "id": "b919ccffd37496e7"
  },
  {
   "metadata": {},
   "cell_type": "code",
   "source": [
    "# Creamos una tupla que contiene un string y una matriz\n",
    "configuracion_modelo = (\n",
    "    \"Modelo de Clasificación V1\",\n",
    "    [\n",
    "        [100, 10],  # Matriz de Confusión: Verdaderos Positivos, Falsos Negativos\n",
    "        [5, 85]     # Falsos Positivos, Verdaderos Negativos\n",
    "    ]\n",
    ")\n",
    "\n",
    "print(f\"Configuración: {configuracion_modelo}\")\n",
    "\n",
    "# Y como la matriz (que es una lista) es mutable, puedes modificarla\n",
    "matriz_confusion = configuracion_modelo[1]\n",
    "matriz_confusion[0][0] = 105\n",
    "print(f\"\\nConfiguración con matriz modificada: {configuracion_modelo}\")"
   ],
   "id": "5d2f12c2b6fba92",
   "outputs": [],
   "execution_count": null
  },
  {
   "metadata": {},
   "cell_type": "markdown",
   "source": "## 5. Aplicaciones Prácticas de las Matrices",
   "id": "4ecdce7f53f46d8c"
  },
  {
   "metadata": {},
   "cell_type": "markdown",
   "source": [
    "### Representación de Tableros de Juego\n",
    "\n",
    "Las matrices son ideales para representar cualquier tipo de tablero o grilla, como en el ajedrez."
   ],
   "id": "3ffe588e54dca529"
  },
  {
   "metadata": {},
   "cell_type": "code",
   "source": [
    "# 'r' = torre, 'n' = caballo, 'b' = alfil, 'q' = reina, 'k' = rey, 'p' = peón\n",
    "# Mayúsculas para blancas, minúsculas para negras, 0 para vacío.\n",
    "chess_board = [\n",
    "    ['r', 'n', 'b', 'q', 'k', 'b', 'n', 'r'],\n",
    "    ['p', 'p', 'p', 'p', 'p', 'p', 'p', 'p'],\n",
    "    [0, 0, 0, 0, 0, 0, 0, 0],\n",
    "    [0, 0, 0, 0, 0, 0, 0, 0],\n",
    "    [0, 0, 0, 0, 0, 0, 0, 0],\n",
    "    [0, 0, 0, 0, 0, 0, 0, 0],\n",
    "    ['P', 'P', 'P', 'P', 'P', 'P', 'P', 'P'],\n",
    "    ['R', 'N', 'B', 'Q', 'K', 'B', 'N', 'R']\n",
    "]\n",
    "\n",
    "# Simular un movimiento del caballo blanco\n",
    "print(\"Tablero inicial:\")\n",
    "# (Imprimimos de una forma más legible)\n",
    "for row in chess_board:\n",
    "    print(row)\n",
    "\n",
    "# Mover el caballo de (7, 1) a (5, 2)\n",
    "chess_board[7][1] = 0\n",
    "chess_board[5][2] = 'N'\n",
    "\n",
    "print(\"\\nTablero con caballo movido:\")\n",
    "for row in chess_board:\n",
    "    print(row)"
   ],
   "id": "4e6030947e1f8556",
   "outputs": [],
   "execution_count": null
  },
  {
   "metadata": {},
   "cell_type": "markdown",
   "source": [
    "### Representación de Imágenes\n",
    "\n",
    "En computación, las imágenes son matrices de píxeles. En una imagen en escala de grises, cada elemento de la matriz es un número (típicamente de 0 a 255) que representa la intensidad de la luz."
   ],
   "id": "e67365823060715d"
  },
  {
   "metadata": {},
   "cell_type": "code",
   "source": [
    "# Una matriz que representa una imagen de 5x5 pixeles en escala de grises\n",
    "# 255 = blanco, 0 = negro\n",
    "imagen_X = [\n",
    "    [255, 0, 0, 0, 255],\n",
    "    [0, 255, 0, 255, 0],\n",
    "    [0, 0, 255, 0, 0],\n",
    "    [0, 255, 0, 255, 0],\n",
    "    [255, 0, 0, 0, 255]\n",
    "]\n",
    "\n",
    "# Podríamos \"visualizarla\" imprimiendo caracteres\n",
    "print(\"Visualización de la imagen:\")\n",
    "for row in imagen_X:\n",
    "    linea = \"\"\n",
    "    for pixel in row:\n",
    "        if pixel == 255:\n",
    "            linea += \"X \"\n",
    "        else:\n",
    "            linea += \". \"\n",
    "    print(linea)"
   ],
   "id": "a016c3fbee0e1476",
   "outputs": [],
   "execution_count": null
  },
  {
   "metadata": {},
   "cell_type": "markdown",
   "source": [
    "### Casos de Uso Reales en Ciencia de Datos\n",
    "\n",
    "Más allá de estos ejemplos, las matrices (y sus versiones avanzadas en librerías como NumPy) son el **corazón de la ciencia de datos**.\n",
    "\n",
    "* **Descripción:** La mayoría de los datasets que usarás se pueden representar como una **matriz de características**, donde las filas son las observaciones (ej. clientes, pacientes) y las columnas son las variables (ej. edad, ingresos, presión arterial).\n",
    "* **Uso en DS:** Es la estructura de entrada para casi todos los algoritmos de Machine Learning en librerías como Scikit-learn.\n",
    "* **Ejemplo Conceptual:**"
   ],
   "id": "fd6fa529993fc903"
  },
  {
   "metadata": {},
   "cell_type": "code",
   "source": [
    "# Un dataset sobre el riesgo de crédito\n",
    "# Fila: [edad, ingreso_anual, tiene_casa (1=si, 0=no), riesgo (1=alto, 0=bajo)]\n",
    "dataset_credito = [\n",
    "    [25, 50000, 0, 1], # Cliente 1\n",
    "    [45, 120000, 1, 0],# Cliente 2\n",
    "    [31, 65000, 0, 0], # Cliente 3\n",
    "    [22, 30000, 0, 1]  # Cliente 4\n",
    "]\n",
    "\n",
    "# En DS, separaríamos las características (X) del objetivo (y)\n",
    "X_features = [row[0:3] for row in dataset_credito]\n",
    "y_target = [row[3] for row in dataset_credito]\n",
    "\n",
    "print(\"Matriz de Características (X):\")\n",
    "for x in X_features:\n",
    "    print(x)\n",
    "\n",
    "print(\"\\nVector Objetivo (y):\")\n",
    "print(y_target)"
   ],
   "id": "6443366fc6b1e1",
   "outputs": [],
   "execution_count": null
  }
 ],
 "metadata": {
  "kernelspec": {
   "name": "python3",
   "language": "python",
   "display_name": "Python 3 (ipykernel)"
  }
 },
 "nbformat": 5,
 "nbformat_minor": 9
}
