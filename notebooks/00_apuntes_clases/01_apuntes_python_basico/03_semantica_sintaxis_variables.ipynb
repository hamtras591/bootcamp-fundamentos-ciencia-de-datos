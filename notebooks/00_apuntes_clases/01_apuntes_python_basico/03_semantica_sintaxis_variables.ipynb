{
 "cells": [
  {
   "metadata": {},
   "cell_type": "markdown",
   "source": [
    "## Fundamentos de Programación: Semántica y Sintaxis\n",
    "\n",
    "En programación, es crucial distinguir entre la *lógica* de tu código y su *gramática*. Estos dos conceptos se conocen como semántica y sintaxis.\n",
    "\n",
    "### Semántica: El *Significado* del Código\n",
    "La semántica se refiere al **significado lógico** y la intención de tus instrucciones. Un código con una semántica correcta hace lo que tú esperas que haga. Si la semántica es incorrecta, el programa puede ejecutarse sin errores, pero el resultado será erróneo.\n",
    "\n",
    "* **Ejemplo:** Imagina que quieres sumar dos números, `a = 5` y `b = 10`. Una semántica correcta sería `a + b`, resultando en `15`. Una semántica incorrecta sería `a * b`, que aunque se ejecuta, da un resultado (`50`) que no corresponde a la intención original de sumar.\n",
    "\n",
    "### Sintaxis: La *Gramática* del Código\n",
    "La sintaxis es el conjunto de **reglas gramaticales** que un lenguaje de programación exige para que una instrucción sea considerada válida. Si rompes estas reglas, el intérprete (en el caso de Python) no podrá entender tu código y arrojará un error antes de ejecutarlo.\n",
    "\n",
    "* **Sintaxis en Python: La Indentación es Clave**\n",
    "    A diferencia de otros lenguajes que usan llaves `{}` para definir bloques de código, Python usa la **indentación** (el espacio al principio de una línea). No es una simple sangría para que se vea bonito; es una regla sintáctica obligatoria que define la estructura y el alcance de tu código."
   ],
   "id": "cb869c9f0dcf007"
  },
  {
   "metadata": {},
   "cell_type": "markdown",
   "source": "### Ejemplos de Indentación Correcta en Python",
   "id": "72ebe21f23064d1a"
  },
  {
   "metadata": {},
   "cell_type": "code",
   "outputs": [],
   "execution_count": null,
   "source": [
    "# ✅ Bloque if/elif/else\n",
    "def verificar_edad(edad):\n",
    "    if edad < 18:\n",
    "        print(\"Es menor de edad.\")\n",
    "    elif edad >= 65:\n",
    "        print(\"Es un adulto mayor.\")\n",
    "    else:\n",
    "        print(\"Es mayor de edad.\")\n",
    "\n",
    "# ✅ Bucle for\n",
    "frameworks = [\"Django\", \"Flask\", \"FastAPI\"]\n",
    "for framework in frameworks:\n",
    "    print(f\"{framework} es un framework de Python.\")"
   ],
   "id": "d7fa3c3ec0c0958b"
  },
  {
   "metadata": {},
   "cell_type": "markdown",
   "source": "### Ejemplos de Indentación Incorrecta (y por qué)",
   "id": "d9091c89fff8a9"
  },
  {
   "metadata": {},
   "cell_type": "code",
   "outputs": [],
   "execution_count": null,
   "source": [
    "# ❌ Error: Falta de indentación después de if\n",
    "# edad = 20\n",
    "# if edad > 18:\n",
    "# print(\"Es mayor de edad.\")  # Esto generaría un IndentationError\n",
    "\n",
    "# ❌ Error: Indentación innecesaria\n",
    "# print(\"Iniciando el programa...\")\n",
    "#     print(\"Este es un error.\") # Esto generaría un IndentationError"
   ],
   "id": "56984eba404dab4c"
  }
 ],
 "metadata": {},
 "nbformat": 4,
 "nbformat_minor": 5
}
