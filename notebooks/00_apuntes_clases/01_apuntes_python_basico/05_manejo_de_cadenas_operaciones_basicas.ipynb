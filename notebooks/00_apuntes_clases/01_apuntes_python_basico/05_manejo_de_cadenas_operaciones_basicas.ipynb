{
 "cells": [
  {
   "metadata": {},
   "cell_type": "markdown",
   "source": [
    "# Manejo de Cadenas (Strings) en Python\n",
    "\n",
    "Los **strings** (cadenas de texto) son uno de los tipos de datos más importantes en Python. Entender cómo manipularlos es una habilidad fundamental para cualquier científico de datos, ya que gran parte de los datos del mundo real vienen en formato de texto.\n",
    "\n",
    "Su uso es clave en áreas como la **limpieza de datos**, **ingeniería de características (feature engineering)** y, por supuesto, el **Procesamiento del Lenguaje Natural (NLP)**."
   ],
   "id": "269ae0e31760d75f"
  },
  {
   "metadata": {},
   "cell_type": "markdown",
   "source": [
    "## 1. Creación y Representación de Strings\n",
    "\n",
    "Para crear un string, puedes usar comillas simples (`'...'`), dobles (`\"...\"`) o triples (`'''...'''` o `\"\"\"...\"\"\"`).\n",
    "\n",
    "* **Simples y dobles:** Son las más comunes para texto en una sola línea.\n",
    "* **Triples:** Permiten escribir texto que abarca múltiples líneas, respetando los saltos de línea."
   ],
   "id": "2391fd34361611be"
  },
  {
   "metadata": {},
   "cell_type": "code",
   "source": [
    "# Comillas simples\n",
    "name_simple = 'Anderson'\n",
    "print(f\"Simple: {name_simple}\")\n",
    "\n",
    "# Comillas dobles\n",
    "name_doble = \"Anderson Rubio\"\n",
    "print(f\"Doble: {name_doble}\")\n",
    "\n",
    "# Comillas triples para múltiples líneas\n",
    "bio = \"\"\"Científico de Datos en formación.\n",
    "Apasionado por el Machine Learning y la IA.\n",
    "\"\"\"\n",
    "print(f\"Triple:\\n{bio}\")\n",
    "\n",
    "# Puedes verificar el tipo de dato con la función type()\n",
    "print(f\"El tipo de dato es: {type(name_simple)}\")"
   ],
   "id": "c72bad5122e87ac9",
   "outputs": [],
   "execution_count": null
  },
  {
   "metadata": {},
   "cell_type": "markdown",
   "source": [
    "## 2. Operaciones Fundamentales\n",
    "\n",
    "Las operaciones más básicas que puedes realizar son unir (concatenar) y repetir strings.\n",
    "\n",
    "* **Concatenación (`+`):** Une dos o más strings en uno solo.\n",
    "* **Repetición (`*`):** Crea una nueva cadena repitiendo la original un número específico de veces.\n"
   ],
   "id": "119d39c4eb03f125"
  },
  {
   "metadata": {},
   "cell_type": "code",
   "source": [
    "nombre = \"Anderson\"\n",
    "apellido = \"Rubio\"\n",
    "\n",
    "# Concatenación (¡Ojo con los espacios!)\n",
    "nombre_completo = nombre + \" \" + apellido\n",
    "print(f\"Nombre completo: {nombre_completo}\")\n",
    "\n",
    "# Repetición\n",
    "linea_divisoria = \"-\" * 30\n",
    "print(linea_divisoria)"
   ],
   "id": "cd7f5e78dd14263c",
   "outputs": [],
   "execution_count": null
  },
  {
   "metadata": {},
   "cell_type": "markdown",
   "source": [
    "## 3. Acceso a Caracteres: Indexación y Slicing\n",
    "\n",
    "Los strings son secuencias ordenadas, lo que significa que puedes acceder a sus partes usando índices.\n",
    "\n",
    "### Indexación\n",
    "Permite obtener un solo carácter.\n",
    "* **Índices positivos:** Empiezan en `0` desde la izquierda.\n",
    "* **Índices negativos:** Empiezan en `-1` desde la derecha.\n",
    "\n",
    "Si intentas acceder a un índice que no existe, Python arrojará un error `IndexError`.\n",
    "\n",
    "### Slicing (Rebanado)\n",
    "Permite obtener una sub-cadena (un trozo del string). La sintaxis es `[inicio:fin:paso]`.\n",
    "* `inicio`: El índice donde empieza el trozo (incluido). Si se omite, es desde el principio.\n",
    "* `fin`: El índice donde termina el trozo (NO incluido). Si se omite, es hasta el final.\n",
    "* `paso`: El intervalo para tomar caracteres. Si se omite, es 1."
   ],
   "id": "9ee4724982275c04"
  },
  {
   "metadata": {},
   "cell_type": "code",
   "source": [
    "frase = \"Python para Data Science\"\n",
    "\n",
    "# Indexación\n",
    "print(f\"Primer carácter (índice 0): {frase[0]}\")\n",
    "print(f\"Último carácter (índice -1): {frase[-1]}\")\n",
    "\n",
    "# Slicing\n",
    "print(f\"Del índice 0 al 5: {frase[0:6]}\") # Llega hasta el índice 5\n",
    "print(f\"Desde el índice 7 hasta el final: {frase[7:]}\")\n",
    "print(f\"Toda la frase, de 2 en 2 caracteres: {frase[::2]}\")\n",
    "print(f\"Frase invertida: {frase[::-1]}\")"
   ],
   "id": "28e650e750baa970",
   "outputs": [],
   "execution_count": null
  },
  {
   "metadata": {},
   "cell_type": "markdown",
   "source": [
    "## 4. Métodos de Strings Esenciales para Ciencia de Datos\n",
    "\n",
    "Los strings tienen \"métodos\", que son funciones especiales que pertenecen al objeto string. La sintaxis siempre es `variable.metodo()`. Son tu principal herramienta para la limpieza de datos.\n",
    "\n",
    "A continuación, los más usados:"
   ],
   "id": "66d2efc2ee5b2136"
  },
  {
   "metadata": {},
   "cell_type": "markdown",
   "source": [
    "### .lower() y .upper()\n",
    "* **Descripción:** `lower()` convierte todo el texto a minúsculas y `upper()` a mayúsculas.\n",
    "* **Uso en DS:** **Normalización de texto**. Es el primer paso en casi cualquier tarea de NLP o limpieza de datos categóricos para asegurar que \"Python\", \"python\" y \"PYTHON\" se traten como la misma palabra.\n",
    "* **Ejemplo:**"
   ],
   "id": "6d6c2fff166bd18e"
  },
  {
   "metadata": {},
   "cell_type": "code",
   "source": [
    "texto_original = \"Machine Learning es FASCINANTE.\"\n",
    "print(texto_original.lower())\n",
    "print(texto_original.upper())\n"
   ],
   "id": "1c87ef91e5d2dac",
   "outputs": [],
   "execution_count": null
  },
  {
   "metadata": {},
   "cell_type": "markdown",
   "source": [
    "### .strip()\n",
    "* **Descripción:** Elimina los espacios en blanco (o caracteres especificados) al principio y al final del string.\n",
    "* **Uso en DS:** Limpieza de datos que provienen de formularios, web scraping o archivos CSV, donde es común tener espacios extra que pueden corromper los datos.\n",
    "* **Ejemplo:**\n"
   ],
   "id": "7fec63e2dbac8e86"
  },
  {
   "metadata": {},
   "cell_type": "code",
   "source": [
    "entrada_usuario = \"  Ciencia de Datos  \"\n",
    "print(f\"Original: '{entrada_usuario}'\")\n",
    "print(f\"Limpio: '{entrada_usuario.strip()}'\")"
   ],
   "id": "8adfabf3daf2bc5d",
   "outputs": [],
   "execution_count": null
  },
  {
   "metadata": {},
   "cell_type": "markdown",
   "source": [
    "### .replace(valor_viejo, valor_nuevo)\n",
    "* **Descripción:** Reemplaza todas las ocurrencias de una sub-cadena (`valor_viejo`) por otra (`valor_nuevo`).\n",
    "* **Uso en DS:** Corregir errores, estandarizar términos o eliminar caracteres no deseados. Por ejemplo, reemplazar \"N/A\" por un valor nulo, o eliminar el símbolo \"$\" de los precios.\n",
    "* **Ejemplo:**"
   ],
   "id": "1e271d6bff6ce351"
  },
  {
   "metadata": {},
   "cell_type": "code",
   "source": [
    "precio = \"$1,500.00\"\n",
    "precio_numerico = precio.replace(\"$\", \"\").replace(\",\", \"\")\n",
    "print(f\"Precio numérico: {precio_numerico}\")"
   ],
   "id": "8a8a82d3ba920c64",
   "outputs": [],
   "execution_count": null
  },
  {
   "metadata": {},
   "cell_type": "markdown",
   "source": [
    "### .split(separador)\n",
    "* **Descripción:** Divide el string en una **lista** de sub-cadenas, usando el `separador` como punto de corte. Si no se especifica un separador, divide por los espacios en blanco.\n",
    "* **Uso en DS:** **Tokenización**. Es uno de los métodos más importantes. Permite separar frases en palabras, dividir datos de un CSV (ej. separar por comas), o procesar logs.\n",
    "* **Ejemplo:**"
   ],
   "id": "636c21f43bcb8a44"
  },
  {
   "metadata": {},
   "cell_type": "code",
   "source": [
    "tags = \"python,data-science,machine-learning\"\n",
    "lista_tags = tags.split(',')\n",
    "print(f\"La lista de tags es: {lista_tags}\")\n",
    "\n",
    "frase = \"El análisis de datos es clave\"\n",
    "palabras = frase.split()\n",
    "print(f\"Las palabras son: {palabras}\")"
   ],
   "id": "5fbe5fea00867d9d",
   "outputs": [],
   "execution_count": null
  },
  {
   "metadata": {},
   "cell_type": "markdown",
   "source": [
    "### .join(iterable)\n",
    "* **Descripción:** Es la operación inversa a `.split()`. Une los elementos de un iterable (como una lista) en un solo string, usando el string original como pegamento.\n",
    "* **Uso en DS:** Reconstruir texto después de haberlo procesado (por ejemplo, después de eliminar ciertas palabras de una lista).\n",
    "* **Ejemplo:**"
   ],
   "id": "edb1ccd3ebe17abd"
  },
  {
   "metadata": {},
   "cell_type": "code",
   "source": [
    "lista_palabras = ['El', 'modelo', 'fue', 'entrenado']\n",
    "frase_reconstruida = \" \".join(lista_palabras)\n",
    "print(frase_reconstruida)"
   ],
   "id": "210baa6310ec9119",
   "outputs": [],
   "execution_count": null
  },
  {
   "metadata": {},
   "cell_type": "markdown",
   "source": [
    "### .count(subcadena)\n",
    "* **Descripción:** Cuenta cuántas veces aparece una `subcadena` dentro del string. Es sensible a mayúsculas y minúsculas.\n",
    "* **Uso en DS:** **Ingeniería de características básica**. Puede ayudar a crear una nueva variable, como \"número de veces que se menciona la palabra 'oferta' en un email\" para un modelo de detección de spam. Para un conteo robusto, primero se normaliza el texto.\n",
    "* **Ejemplos:**"
   ],
   "id": "abced178c0283e8c"
  },
  {
   "metadata": {
    "ExecuteTime": {
     "end_time": "2025-09-17T22:03:16.837992Z",
     "start_time": "2025-09-17T22:03:16.831300Z"
    }
   },
   "cell_type": "code",
   "source": [
    "# Ejemplo 1\n",
    "texto = \"El modelo del modelo es un modelo predictivo.\"\n",
    "# Normalizamos a minúsculas para contar todas las ocurrencias\n",
    "conteo = texto.lower().count(\"modelo\")\n",
    "print(f\"La palabra 'modelo' aparece {conteo} veces.\")"
   ],
   "id": "a2495259d98fb697",
   "outputs": [
    {
     "name": "stdout",
     "output_type": "stream",
     "text": [
      "La palabra 'modelo' aparece 3 veces.\n"
     ]
    }
   ],
   "execution_count": 51
  },
  {
   "metadata": {
    "ExecuteTime": {
     "end_time": "2025-09-17T22:12:27.288480Z",
     "start_time": "2025-09-17T22:12:27.280894Z"
    }
   },
   "cell_type": "code",
   "source": [
    "# Ejemplo 2\n",
    "numero_buscado = 9\n",
    "mi_lista = [1, 5, 3, 5, 7, 5, 9]\n",
    "cantidad_numero_buscado = mi_lista.count(numero_buscado)\n",
    "print(f\"el número {numero_buscado} aparece: {cantidad_numero_buscado} veces en la lista\")"
   ],
   "id": "5de2cb73b941def1",
   "outputs": [
    {
     "name": "stdout",
     "output_type": "stream",
     "text": [
      "el número 9 aparece: 1 veces en la lista\n"
     ]
    }
   ],
   "execution_count": 57
  }
 ],
 "metadata": {
  "kernelspec": {
   "name": "python3",
   "language": "python",
   "display_name": "Python 3 (ipykernel)"
  }
 },
 "nbformat": 5,
 "nbformat_minor": 9
}
