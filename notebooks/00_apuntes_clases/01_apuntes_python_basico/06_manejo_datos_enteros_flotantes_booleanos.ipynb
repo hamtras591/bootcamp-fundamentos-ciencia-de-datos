{
 "cells": [
  {
   "metadata": {},
   "cell_type": "markdown",
   "source": [
    "# Tipos de Datos Numéricos y Booleanos en Python\n",
    "\n",
    "En Python, toda variable que creas pertenece a una **clase** (`class`) que define el tipo de dato que contiene. Esto determina qué operaciones puedes realizar con ella.\n",
    "\n",
    "En este notebook, exploraremos tres de los tipos más fundamentales:\n",
    "* **Enteros (`int`):** Números completos, sin decimales.\n",
    "* **Flotantes (`float`):** Números con parte decimal.\n",
    "* **Booleanos (`bool`):** Representan valores de verdad, `True` o `False`.\n",
    "\n",
    "Usaremos la función `type()` para verificar la clase de nuestras variables."
   ],
   "id": "4bc4fd82be0fee71"
  },
  {
   "metadata": {},
   "cell_type": "markdown",
   "source": [
    "## 1. Enteros (`int`)\n",
    "\n",
    "La clase `int` (del inglés *integer*) se usa para representar números sin decimales, tanto positivos como negativos. Son la base para la mayoría de operaciones de conteo y cálculo."
   ],
   "id": "a6aee0fd29980e45"
  },
  {
   "metadata": {},
   "cell_type": "code",
   "source": [
    "# Asignamos un número entero a la variable 'edad'\n",
    "edad = 30\n",
    "\n",
    "print(f\"Valor: {edad}\")\n",
    "print(f\"La clase de la variable 'edad' es: {type(edad)}\")"
   ],
   "id": "90d076aa217fc06e",
   "outputs": [],
   "execution_count": null
  },
  {
   "metadata": {},
   "cell_type": "markdown",
   "source": [
    "## 2. Flotantes (`float`)\n",
    "\n",
    "La clase `float` se usa para representar números con decimales. Su nombre viene de \"punto flotante\", que es la manera en que el computador maneja internamente la posición del punto decimal.\n",
    "\n",
    "### Notación Científica\n",
    "Para números muy grandes o muy pequeños, puedes usar la notación científica con la letra `e`, que significa \"por diez elevado a la\". Por ejemplo, `1.5e6` es $1.5 \\times 10^6$."
   ],
   "id": "4c160df753b99fb1"
  },
  {
   "metadata": {},
   "cell_type": "code",
   "source": [
    "# Asignamos un número con decimales\n",
    "precio = 199.99\n",
    "print(f\"Valor de 'precio': {precio}\")\n",
    "print(f\"La clase de 'precio' es: {type(precio)}\")\n",
    "\n",
    "# Usando notación científica para un número grande\n",
    "presupuesto_marketing = 1.5e6 # 1,500,000\n",
    "print(f\"Valor de 'presupuesto_marketing': {presupuesto_marketing}\")\n",
    "print(f\"La clase de 'presupuesto_marketing' es: {type(presupuesto_marketing)}\")\n",
    "\n",
    "# Usando notación científica para un número pequeño\n",
    "error_minimo = 2.5e-4 # 0.00025\n",
    "print(f\"Valor de 'error_minimo': {error_minimo}\")\n",
    "print(f\"La clase de 'error_minimo' es: {type(error_minimo)}\")"
   ],
   "id": "630815dcc1197be6",
   "outputs": [],
   "execution_count": null
  },
  {
   "metadata": {},
   "cell_type": "markdown",
   "source": [
    "## 3. Operaciones Aritméticas\n",
    "\n",
    "Puedes usar los operadores aritméticos (`+`, `-`, `*`, `/`, etc.) con los tipos `int` y `float`.\n",
    "\n",
    "**Promoción de Tipos:** Si realizas una operación entre un `int` y un `float`, Python automáticamente \"promociona\" el resultado a `float` para no perder la precisión de los decimales."
   ],
   "id": "1def8fd77733fd25"
  },
  {
   "metadata": {
    "ExecuteTime": {
     "end_time": "2025-09-18T14:47:37.208869Z",
     "start_time": "2025-09-18T14:47:37.201879Z"
    }
   },
   "cell_type": "code",
   "source": [
    "x = 10      # int\n",
    "y = 5.5     # float\n",
    "\n",
    "# int + int -> int\n",
    "suma_enteros = x + x\n",
    "print(f\"Suma de enteros (10 + 10): {suma_enteros} (Tipo: {type(suma_enteros)})\")\n",
    "\n",
    "# int + float -> float (¡Promoción de tipos!)\n",
    "suma_mixta = x + y\n",
    "print(f\"Suma de entero y flotante (10 + 5.5): {suma_mixta} (Tipo: {type(suma_mixta)})\")"
   ],
   "id": "d03f7d8c9021851b",
   "outputs": [
    {
     "name": "stdout",
     "output_type": "stream",
     "text": [
      "Suma de enteros (10 + 10): 20 (Tipo: <class 'int'>)\n",
      "Suma de entero y flotante (10 + 5.5): 15.5 (Tipo: <class 'float'>)\n"
     ]
    }
   ],
   "execution_count": 11
  },
  {
   "metadata": {},
   "cell_type": "markdown",
   "source": [
    "## 4. Booleanos (`bool`)\n",
    "\n",
    "La clase `bool` solo puede tener dos valores: **`True`** (Verdadero) o **`False`** (Falso). Por sintaxis, la primera letra siempre debe ir en mayúscula.\n",
    "\n",
    "Los booleanos son el pilar de la lógica y las estructuras de control (condicionales), permitiendo que tu programa tome decisiones."
   ],
   "id": "c53b1cb61d0aef49"
  },
  {
   "metadata": {
    "ExecuteTime": {
     "end_time": "2025-09-18T14:48:42.152216Z",
     "start_time": "2025-09-18T14:48:42.145608Z"
    }
   },
   "cell_type": "code",
   "source": [
    "# Asignación de variables booleanas\n",
    "modelo_entrenado = True\n",
    "requiere_limpieza = False\n",
    "\n",
    "print(f\"¿El modelo está entrenado?: {modelo_entrenado} (Tipo: {type(modelo_entrenado)})\")\n",
    "print(f\"¿Requiere limpieza?: {requiere_limpieza} (Tipo: {type(requiere_limpieza)})\")"
   ],
   "id": "cab0f89c397cf473",
   "outputs": [
    {
     "name": "stdout",
     "output_type": "stream",
     "text": [
      "¿El modelo está entrenado?: True (Tipo: <class 'bool'>)\n",
      "¿Requiere limpieza?: False (Tipo: <class 'bool'>)\n"
     ]
    }
   ],
   "execution_count": 13
  },
  {
   "metadata": {},
   "cell_type": "markdown",
   "source": [
    "### Aplicación: El Poder de los Booleanos en Condicionales\n",
    "\n",
    "Aquí vemos cómo una variable booleana puede decidir qué bloque de código se ejecuta."
   ],
   "id": "3b4132531fe8e0b5"
  },
  {
   "metadata": {
    "ExecuteTime": {
     "end_time": "2025-09-18T14:49:22.220473Z",
     "start_time": "2025-09-18T14:49:22.214338Z"
    }
   },
   "cell_type": "code",
   "source": [
    "# Usamos la variable booleana que declaramos antes\n",
    "if modelo_entrenado:\n",
    "    print(\"El modelo está listo para hacer predicciones.\")\n",
    "else:\n",
    "    print(\"Aún es necesario entrenar el modelo.\")"
   ],
   "id": "431595bfe8444de",
   "outputs": [
    {
     "name": "stdout",
     "output_type": "stream",
     "text": [
      "El modelo está listo para hacer predicciones.\n"
     ]
    }
   ],
   "execution_count": 14
  },
  {
   "metadata": {},
   "cell_type": "code",
   "outputs": [],
   "execution_count": null,
   "source": "",
   "id": "e7977edeb60dd14f"
  }
 ],
 "metadata": {
  "kernelspec": {
   "name": "python3",
   "language": "python",
   "display_name": "Python 3 (ipykernel)"
  }
 },
 "nbformat": 5,
 "nbformat_minor": 9
}
