{
 "cells": [
  {
   "metadata": {},
   "cell_type": "markdown",
   "source": [
    "# Asincronismo en Python: `async` y `await`\n",
    "\n",
    "El asincronismo es una forma de escribir código concurrente. Nos permite ejecutar múltiples tareas que implican esperas (como llamadas a una API o consultas a una base de datos) de una manera mucho más eficiente que el código secuencial.\n",
    "\n",
    "**La Analogía: Un Mesero Eficiente vs. un Chef Lento**\n",
    "* **Código Síncrono (Secuencial):** Imagina un chef que toma tu orden, va a la cocina, prepara tu plato, te lo sirve, y **espera a que termines de comer** antes de tomarle la orden a la siguiente mesa. Es muy ineficiente.\n",
    "* **Código Asíncrono:** Imagina un **mesero** (el *event loop* de `asyncio`). Toma tu orden y se la da al chef. Mientras el chef cocina (la \"espera\"), el mesero no se queda parado; va a otra mesa, toma otra orden, sirve bebidas, etc. Cuando el chef termina un plato, le \"avisa\" al mesero, y este lo recoge y lo entrega. **Es un solo mesero que gestiona múltiples tareas aprovechando los tiempos de espera.**\n",
    "\n",
    "El asincronismo es ideal para tareas **\"I/O-bound\"** (limitadas por Entrada/Salida), donde el programa pasa mucho tiempo **esperando** por una respuesta."
   ],
   "id": "17fde8dc8a2c855"
  },
  {
   "metadata": {},
   "cell_type": "markdown",
   "source": [
    "## 1. La Sintaxis: `async`, `await` y el Event Loop\n",
    "\n",
    "El asincronismo en Python se basa en tres componentes clave:\n",
    "\n",
    "* **`async def` (Corrutina):** La palabra clave `async` antes de `def` convierte una función normal en una **corrutina**. Una corrutina es una función \"pausable\".\n",
    "* **`await`**: Esta palabra clave se usa **dentro** de una corrutina para \"pausar\" su ejecución en un punto de espera (ej. `await asyncio.sleep(1)`) y devolver el control al *event loop* para que pueda ejecutar otras tareas.\n",
    "* **`asyncio.run()`**: La función que inicia el *event loop* y ejecuta la corrutina principal."
   ],
   "id": "1e0b2d22399da15d"
  },
  {
   "metadata": {},
   "cell_type": "markdown",
   "source": [
    "## 2. La Magia en Acción: Ejecutando Tareas Concurrentemente\n",
    "\n",
    "El verdadero poder del asincronismo se ve cuando ejecutamos múltiples tareas a la vez usando `asyncio.gather()`. Vamos a comparar el tiempo de ejecución."
   ],
   "id": "2b28cb54a763fa37"
  },
  {
   "metadata": {},
   "cell_type": "code",
   "source": [
    "# Se debe ejecutar en un archivo .py\n",
    "import asyncio\n",
    "import time\n",
    "\n",
    "# Esta es nuestra corrutina. Simula una tarea de I/O que tarda un tiempo.\n",
    "async def procesar_data(id_tarea, delay):\n",
    "    print(f\"Iniciando tarea {id_tarea}, tardará {delay} segundos...\")\n",
    "    # await pausa esta función, pero permite que otras se ejecuten.\n",
    "    await asyncio.sleep(delay)\n",
    "    print(f\"--> Tarea {id_tarea} terminada.\")\n",
    "    return id_tarea * 10\n",
    "\n",
    "# --- Comparación de Tiempos ---\n",
    "\n",
    "# 1. Forma Síncrona (Secuencial)\n",
    "async def main_sincrono():\n",
    "    start_time = time.time()\n",
    "    # Esperamos a que cada tarea termine antes de empezar la siguiente\n",
    "    await procesar_data(\"A\", 2)\n",
    "    await procesar_data(\"B\", 3)\n",
    "    print(f\"Tiempo total síncrono: {time.time() - start_time:.2f} segundos.\")\n",
    "\n",
    "# 2. Forma Asíncrona (Concurrente)\n",
    "async def main_asincrono():\n",
    "    start_time = time.time()\n",
    "    # Creamos las tareas para que se puedan ejecutar a la vez\n",
    "    tareas = [\n",
    "        procesar_data(\"A\", 2),\n",
    "        procesar_data(\"B\", 3)\n",
    "    ]\n",
    "    # asyncio.gather() ejecuta las tareas concurrentemente\n",
    "    resultados = await asyncio.gather(*tareas)\n",
    "    print(f\"Tiempo total asíncrono: {time.time() - start_time:.2f} segundos.\")\n",
    "    print(f\"Resultados de las tareas: {resultados}\")\n",
    "\n",
    "# Ejecutamos ambas versiones para comparar\n",
    "print(\"--- EJECUCIÓN SÍNCRONA ---\")\n",
    "asyncio.run(main_sincrono())\n",
    "\n",
    "print(\"\\n--- EJECUCIÓN ASÍNCRONA ---\")\n",
    "asyncio.run(main_asincrono())"
   ],
   "id": "e1687d3c6ef95d12",
   "outputs": [],
   "execution_count": null
  },
  {
   "metadata": {},
   "cell_type": "markdown",
   "source": [
    "## 3. Aplicaciones en Ciencia de Datos\n",
    "\n",
    "Aunque el asincronismo no es para cálculos pesados (para eso usamos `multiprocessing`), es **esencial** para la recolección de datos y el despliegue de modelos.\n",
    "\n",
    "* **Web Scraping y Recolección de Datos de APIs:**\n",
    "    Este es el caso de uso #1. En lugar de hacer una petición a una URL y esperar la respuesta, puedes lanzar **cientos de peticiones a la vez**. Mientras esperas que un servidor responda, tu programa ya está enviando peticiones a otros. Esto puede reducir el tiempo de recolección de datos de horas a minutos.\n",
    "\n",
    "* **Consultas a Bases de Datos:**\n",
    "    Si necesitas ejecutar 10 consultas diferentes a una base de datos, puedes enviarlas todas de forma asíncrona. Tu programa no se quedará bloqueado esperando la primera consulta, sino que procesará los resultados a medida que la base de datos los vaya devolviendo.\n",
    "\n",
    "* **Despliegue de Modelos de Machine Learning (APIs):**\n",
    "    Cuando un modelo se despliega como una API (usando frameworks como FastAPI, que es asíncrono), necesita atender a múltiples usuarios a la vez. El asincronismo permite que tu servidor reciba una solicitud de predicción del Usuario A, la envíe al modelo, y mientras el modelo está calculando, el servidor ya está recibiendo y procesando la solicitud del Usuario B. Esto hace que la API sea increíblemente rápida y escalable."
   ],
   "id": "dfa640efbf841f61"
  }
 ],
 "metadata": {
  "kernelspec": {
   "display_name": "Python 3",
   "language": "python",
   "name": "python3"
  },
  "language_info": {
   "codemirror_mode": {
    "name": "ipython",
    "version": 2
   },
   "file_extension": ".py",
   "mimetype": "text/x-python",
   "name": "python",
   "nbconvert_exporter": "python",
   "pygments_lexer": "ipython2",
   "version": "2.7.6"
  }
 },
 "nbformat": 4,
 "nbformat_minor": 5
}
