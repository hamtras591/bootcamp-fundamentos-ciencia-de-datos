{
 "cells": [
  {
   "metadata": {},
   "cell_type": "markdown",
   "source": [
    "# POO Avanzado: Atributos, Métodos, `super()` y Métodos Mágicos\n",
    "\n",
    "En este notebook, profundizaremos en los pilares de la Programación Orientada a Objetos (POO), entendiendo cómo extender clases con `super()` y cómo personalizar su comportamiento con los \"métodos mágicos\".\n"
   ],
   "id": "580a9cc20af8c078"
  },
  {
   "metadata": {},
   "cell_type": "markdown",
   "source": [
    "## 1. Atributos vs. Métodos: Un Repaso\n",
    "\n",
    "* **Atributos:** Son las **características** o datos de un objeto (ej. `persona.nombre`).\n",
    "* **Métodos:** Son las **acciones** que un objeto puede realizar (ej. `persona.saludar()`)."
   ],
   "id": "c583c0b45655a2ff"
  },
  {
   "metadata": {},
   "cell_type": "markdown",
   "source": [
    "## 2. La Función `super()`: Extendiendo la Funcionalidad del Padre\n",
    "\n",
    "La función `super()` permite a una clase \"hija\" llamar a los métodos de su clase \"padre\". Su uso principal es **extender** la funcionalidad sin repetir código, especialmente en el constructor `__init__`.\n",
    "\n",
    "**La Lógica:** \"Padre, haz tu parte de la inicialización, y luego yo, como hijo, añadiré mis propios atributos.\""
   ],
   "id": "7d6b89be6fad4c85"
  },
  {
   "metadata": {
    "collapsed": true,
    "ExecuteTime": {
     "end_time": "2025-09-24T15:30:31.052837Z",
     "start_time": "2025-09-24T15:30:31.043606Z"
    }
   },
   "cell_type": "code",
   "source": [
    "class Persona:\n",
    "    def __init__(self, nombre, edad):\n",
    "        self.nombre = nombre\n",
    "        self.edad = edad\n",
    "\n",
    "    def saludar(self):\n",
    "        print(\"¡Hola!\")\n",
    "\n",
    "class Estudiante(Persona):\n",
    "    def __init__(self, nombre, edad, id_estudiante):\n",
    "        # super() llama al __init__ de Persona para que asigne nombre y edad\n",
    "        super().__init__(nombre, edad)\n",
    "        # La clase hija solo se preocupa de sus atributos específicos\n",
    "        self.id_estudiante = id_estudiante\n",
    "\n",
    "    def saludar(self):\n",
    "        # super() también puede llamar a otros métodos del padre\n",
    "        super().saludar()\n",
    "        print(f\"Soy {self.nombre} y mi ID de estudiante es {self.id_estudiante}\")\n",
    "\n",
    "# Creamos un objeto que usa toda la cadena de herencia\n",
    "estudiante1 = Estudiante(\"Ana\", 20, \"S12345\")\n",
    "estudiante1.saludar()"
   ],
   "id": "85916e9fcef7764a",
   "outputs": [
    {
     "name": "stdout",
     "output_type": "stream",
     "text": [
      "¡Hola!\n",
      "Soy Ana y mi ID de estudiante es S12345\n"
     ]
    }
   ],
   "execution_count": 9
  },
  {
   "metadata": {},
   "cell_type": "markdown",
   "source": [
    "## 3. Métodos Mágicos (Dunder Methods)\n",
    "\n",
    "Python tiene métodos especiales con doble guion bajo al principio y al final (ej. `__init__`). Se les llama \"métodos mágicos\" o \"dunder methods\" (*Double Underscore*).\n",
    "\n",
    "Su magia es que **no los llamas directamente**. Python los llama por ti cuando usas una sintaxis particular. Por ejemplo, cuando haces `print(mi_objeto)`, Python busca y ejecuta el método `__str__` de ese objeto.\n",
    "\n",
    "### `__str__` vs. `__repr__`\n",
    "* **`__str__(self)`:** Devuelve una representación **legible e informal** para el usuario final. Usada por `print()`.\n",
    "* **`__repr__(self)`:** Devuelve una representación **oficial e inequívoca** para el desarrollador, que idealmente podría recrear el objeto."
   ],
   "id": "c0118c29664b137d"
  },
  {
   "metadata": {
    "ExecuteTime": {
     "end_time": "2025-09-24T15:27:49.014973Z",
     "start_time": "2025-09-24T15:27:49.001149Z"
    }
   },
   "cell_type": "code",
   "source": [
    "class Libro:\n",
    "    def __init__(self, titulo, autor):\n",
    "        self.titulo = titulo\n",
    "        self.autor = autor\n",
    "\n",
    "    # Salida para el usuario final\n",
    "    def __str__(self):\n",
    "        return f\"'{self.titulo}' por {self.autor}\"\n",
    "\n",
    "    # Salida para el desarrollador (debugging)\n",
    "    def __repr__(self):\n",
    "        return f\"Libro(titulo='{self.titulo}', autor='{self.autor}')\"\n",
    "\n",
    "libro1 = Libro(\"Cien años de soledad\", \"García Márquez\")\n",
    "\n",
    "print(libro1)       # Llama a __str__\n",
    "print(repr(libro1)) # Llama a __repr__"
   ],
   "id": "141c355996966536",
   "outputs": [
    {
     "name": "stdout",
     "output_type": "stream",
     "text": [
      "'Cien años de soledad' por García Márquez\n",
      "Libro(titulo='Cien años de soledad', autor='García Márquez')\n"
     ]
    }
   ],
   "execution_count": 6
  },
  {
   "metadata": {},
   "cell_type": "markdown",
   "source": "## Tabla de Referencia: 20 Métodos Mágicos Esenciales para Ciencia de Datos",
   "id": "7032f45e0a3e1d0"
  },
  {
   "metadata": {},
   "cell_type": "markdown",
   "source": [
    "| Nombre Método | ¿Qué Hace? | Casos de Uso en Ciencia de Datos | Categoría |\n",
    "| :--- | :--- | :--- | :--- |\n",
    "| **Inicialización y Representación** | | | |\n",
    "| `__init__(self, ...)` | El constructor de la clase. | **Fundamental.** Inicializar objetos que representan modelos, datasets, etc. | Creación |\n",
    "| `__str__(self)` | Devuelve una representación legible (`print()`). | Mostrar un resumen amigable de un modelo o el resultado de un análisis. | Representación |\n",
    "| `__repr__(self)` | Devuelve una representación para depuración. | Ver los parámetros exactos con los que se creó un objeto `Modelo()`. | Representación |\n",
    "| **Comparación Enriquecida** | | | |\n",
    "| `__eq__(self, otro)` | Define el comportamiento del operador `==`. | Comparar si dos objetos (ej. dos experimentos) son idénticos. | Comparación |\n",
    "| `__lt__(self, otro)` | Define el comportamiento del operador `<`. | Permitir ordenar una lista de objetos `Experimento` por su `accuracy`. | Comparación |\n",
    "| `__le__(self, otro)` | Define el comportamiento del operador `<=`. | Complementa a `__lt__` para operaciones de ordenamiento y filtrado. | Comparación |\n",
    "| `__gt__(self, otro)` | Define el comportamiento del operador `>`. | Complementa a `__lt__` para operaciones de ordenamiento y filtrado. | Comparación |\n",
    "| **Emulación de Contenedores** | | | |\n",
    "| `__len__(self)` | Permite que `len(objeto)` funcione. | Obtener el número de muestras en un objeto `Dataset` personalizado. | Contenedores |\n",
    "| `__getitem__(self, clave)`| Permite acceder a elementos con `[]` (ej. `objeto[clave]`).| Crear un objeto `Dataset` donde `dataset[i]` devuelve la i-ésima muestra. | Contenedores |\n",
    "| `__setitem__(self, clave, valor)`| Permite la asignación con `[]` (ej. `objeto[clave] = valor`).| Modificar una muestra específica en tu objeto `Dataset`. | Contenedores |\n",
    "| `__delitem__(self, clave)`| Permite la eliminación con `del` (ej. `del objeto[clave]`).| Eliminar una muestra de tu objeto `Dataset`. | Contenedores |\n",
    "| `__iter__(self)` | Permite iterar sobre el objeto (ej. `for x in objeto`). | Hacer que tu objeto `Dataset` sea iterable para usarlo en un bucle `for`. | Contenedores |\n",
    "| `__contains__(self, item)`| Permite el uso del operador `in` (ej. `item in objeto`). | Comprobar eficientemente si una muestra ya existe en tu `Dataset`. | Contenedores |\n",
    "| **Emulación Numérica** | | | |\n",
    "| `__add__(self, otro)` | Define el comportamiento del operador `+`. | Sumar dos objetos `Vector` o `Matriz` en álgebra lineal. | Numérica |\n",
    "| `__sub__(self, otro)` | Define el comportamiento del operador `-`. | Restar dos objetos `Vector` o `Matriz`. | Numérica |\n",
    "| `__mul__(self, otro)` | Define el comportamiento del operador `*`. | Realizar el producto punto o producto de matrices. | Numérica |\n",
    "| `__call__(self, ...)`| Permite \"llamar\" a una **instancia** como si fuera una función.| **Clave en Deep Learning.** Las capas de un modelo (`Dense`, `Conv2D`) son objetos llamables. | Llamables |\n",
    "| **Gestión de Contexto**| | | |\n",
    "| `__enter__(self)` | Define qué hacer al entrar en un bloque `with`. | Asegurar que una conexión a una base de datos o un archivo se abra correctamente. | Contexto |\n",
    "| `__exit__(self, ...)`| Define qué hacer al salir de un bloque `with`. | Asegurar que la conexión a la base de datos o el archivo se cierre siempre, incluso si hay errores. | Contexto |"
   ],
   "id": "ea3dc67a179fcc2b"
  }
 ],
 "metadata": {
  "kernelspec": {
   "display_name": "Python 3",
   "language": "python",
   "name": "python3"
  },
  "language_info": {
   "codemirror_mode": {
    "name": "ipython",
    "version": 2
   },
   "file_extension": ".py",
   "mimetype": "text/x-python",
   "name": "python",
   "nbconvert_exporter": "python",
   "pygments_lexer": "ipython2",
   "version": "2.7.6"
  }
 },
 "nbformat": 4,
 "nbformat_minor": 5
}
