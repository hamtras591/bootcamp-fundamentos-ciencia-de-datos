{
 "cells": [
  {
   "metadata": {},
   "cell_type": "markdown",
   "source": [
    "# Copiando Listas: La Diferencia Crucial entre Asignación y Copia\n",
    "\n",
    "Cuando trabajamos con listas (y otros objetos mutables en Python), es fundamental entender cómo funciona la memoria. A diferencia de los tipos de datos simples como los números, una variable de lista no contiene la lista en sí, sino una **referencia** o \"puntero\" a la ubicación en la memoria donde se almacenan los datos.\n",
    "\n",
    "Esto tiene una consecuencia muy importante: una simple asignación (`lista_b = lista_a`) **no crea una nueva lista**. Solo crea una nueva etiqueta que apunta al mismo lugar en la memoria."
   ],
   "id": "11492b3e0adb56b3"
  },
  {
   "metadata": {},
   "cell_type": "markdown",
   "source": [
    "## 1. El Problema: Asignación por Referencia\n",
    "\n",
    "Veamos qué sucede cuando asignamos una lista a una nueva variable. Usaremos la función `id()` para obtener la dirección de memoria única de un objeto y demostrar que ambas variables apuntan al mismo lugar."
   ],
   "id": "e7ae52e452df6ea"
  },
  {
   "metadata": {},
   "cell_type": "code",
   "source": [
    "# Creamos nuestra lista original\n",
    "lista_a = [1, 2, 3, 4, 5]\n",
    "print(f\"Lista A inicial: {lista_a}\")\n",
    "\n",
    "# Creamos una \"copia\" por asignación directa\n",
    "lista_b = lista_a\n",
    "print(f\"Lista B inicial: {lista_b}\")\n",
    "\n",
    "print(\"\\n--- Verificando las direcciones de memoria ---\")\n",
    "print(f\"ID de Lista A: {id(lista_a)}\")\n",
    "print(f\"ID de Lista B: {id(lista_b)}\")\n",
    "print(f\"¿Apuntan al mismo lugar en memoria? {id(lista_a) == id(lista_b)}\")\n",
    "\n",
    "print(\"\\n--- Modificamos la Lista A ---\")\n",
    "lista_a.append(99)\n",
    "print(f\"Lista A modificada: {lista_a}\")\n",
    "print(f\"¡Sorpresa! La Lista B también cambió: {lista_b}\")"
   ],
   "id": "216aed2850306874",
   "outputs": [],
   "execution_count": null
  },
  {
   "metadata": {},
   "cell_type": "markdown",
   "source": [
    "## 2. La Solución: Copia Superficial con Slicing `[:]`\n",
    "\n",
    "Para crear una copia real e independiente de una lista (conocida como *shallow copy* o copia superficial), el método más simple y común es usar la técnica de **slicing**.\n",
    "\n",
    "* **Descripción:** La sintaxis `[:]` crea una rebanada que abarca toda la lista, desde el principio hasta el final. Python interpreta esto como una solicitud para crear una **nueva lista** con todos los elementos de la original.\n",
    "* **Uso en DS:** Es la práctica estándar que debes usar **siempre** que necesites modificar una lista o un subconjunto de datos sin alterar el conjunto de datos original. Es crucial para la experimentación segura, la validación de modelos y para evitar la contaminación de tus datos fuente.\n",
    "* **Ejemplo:**"
   ],
   "id": "1c0e5969db484a6b"
  },
  {
   "metadata": {
    "ExecuteTime": {
     "end_time": "2025-09-18T22:41:37.072486Z",
     "start_time": "2025-09-18T22:41:37.062741Z"
    }
   },
   "cell_type": "code",
   "source": [
    "lista_original = [10, 20, 30, 40, 50]\n",
    "print(f\"Lista Original: {lista_original}\")\n",
    "\n",
    "# Creamos una copia real usando slicing\n",
    "lista_copia = lista_original[:]\n",
    "print(f\"Lista Copia: {lista_copia}\")\n",
    "\n",
    "print(\"\\n--- Verificando las direcciones de memoria ---\")\n",
    "print(f\"ID de Lista Original: {id(lista_original)}\")\n",
    "print(f\"ID de Lista Copia: {id(lista_copia)}\")\n",
    "print(f\"¿Apuntan al mismo lugar en memoria? {id(lista_original) == id(lista_copia)}\")\n",
    "\n",
    "print(\"\\n--- Modificamos la Lista Original ---\")\n",
    "lista_original.append(999)\n",
    "print(f\"Lista Original modificada: {lista_original}\")\n",
    "print(f\"La Lista Copia permanece intacta: {lista_copia}\")"
   ],
   "id": "50ee54843dd52878",
   "outputs": [
    {
     "name": "stdout",
     "output_type": "stream",
     "text": [
      "Lista Original: [10, 20, 30, 40, 50]\n",
      "Lista Copia: [10, 20, 30, 40, 50]\n",
      "\n",
      "--- Verificando las direcciones de memoria ---\n",
      "ID de Lista Original: 1780038853056\n",
      "ID de Lista Copia: 1780038849472\n",
      "¿Apuntan al mismo lugar en memoria? False\n",
      "\n",
      "--- Modificamos la Lista Original ---\n",
      "Lista Original modificada: [10, 20, 30, 40, 50, 999]\n",
      "La Lista Copia permanece intacta: [10, 20, 30, 40, 50]\n"
     ]
    }
   ],
   "execution_count": 2
  }
 ],
 "metadata": {
  "kernelspec": {
   "name": "python3",
   "language": "python",
   "display_name": "Python 3 (ipykernel)"
  }
 },
 "nbformat": 5,
 "nbformat_minor": 9
}
