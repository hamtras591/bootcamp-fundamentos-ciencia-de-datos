{
 "cells": [
  {
   "metadata": {},
   "cell_type": "markdown",
   "source": [
    "# Métodos Mágicos: Dando \"Superpoderes\" a tus Clases\n",
    "\n",
    "Los **métodos mágicos** (o *dunder methods*, por *Double Underscore*) son funciones especiales que se identifican por tener un doble guion bajo al principio y al final (ej. `__init__`, `__str__`).\n",
    "\n",
    "Su \"magia\" es que **no los llamas directamente**. Python los llama por ti cuando usas una sintaxis u operación nativa del lenguaje sobre tus objetos. Por ejemplo, al hacer `print(mi_objeto)`, Python busca y ejecuta el método `__str__` de ese objeto."
   ],
   "id": "aa5b8f453698ce4d"
  },
  {
   "metadata": {},
   "cell_type": "markdown",
   "source": [
    "## 1. Representación de Objetos: `__str__` y `__repr__`\n",
    "\n",
    "Por defecto, imprimir un objeto muestra un mensaje poco útil. Con estos métodos, podemos definir cómo queremos que nuestros objetos se representen como texto.\n",
    "\n",
    "* **`__str__(self)`:** Define una representación **legible e informal** para el usuario final. Es lo que usa `print()`.\n",
    "* **`__repr__(self)`:** Define una representación **oficial y técnica** para el desarrollador, útil para depuración."
   ],
   "id": "5b7a83b59ea7f7f4"
  },
  {
   "metadata": {},
   "cell_type": "code",
   "outputs": [],
   "execution_count": null,
   "source": [
    "class Persona:\n",
    "    def __init__(self, nombre, edad):\n",
    "        self.nombre = nombre\n",
    "        self.edad = edad\n",
    "\n",
    "    # Salida para el usuario final\n",
    "    def __str__(self):\n",
    "        return f'Persona: {self.nombre}, {self.edad} años'\n",
    "\n",
    "    # Salida para el desarrollador (debugging)\n",
    "    def __repr__(self):\n",
    "        return f'<Persona(nombre={self.nombre}, edad={self.edad})>'\n",
    "\n",
    "# Creamos una instancia\n",
    "p1 = Persona('Ana', 28)\n",
    "\n",
    "# print() usa __str__\n",
    "print(p1)\n",
    "\n",
    "# repr() o simplemente ver el objeto en una celda de notebook usa __repr__\n",
    "repr(p1)"
   ],
   "id": "e6a95ee665491d17"
  },
  {
   "metadata": {},
   "cell_type": "markdown",
   "source": [
    "## 2. Comparación de Objetos\n",
    "\n",
    "Por defecto, Python no sabe cómo comparar dos objetos `Persona`. Necesitamos enseñarle usando los métodos mágicos de comparación.\n",
    "\n",
    "* **`__eq__(self, otro)`:** Define el comportamiento del operador de igualdad `==`.\n",
    "* **`__lt__(self, otro)`:** Define el comportamiento de \"menor que\" `<`.\n",
    "* **`__le__(self, otro)`:** Define el comportamiento de \"menor o igual que\" `<=`."
   ],
   "id": "26983489792224b7"
  },
  {
   "metadata": {},
   "cell_type": "code",
   "outputs": [],
   "execution_count": null,
   "source": [
    "class Persona:\n",
    "    def __init__(self, nombre, edad):\n",
    "        self.nombre = nombre\n",
    "        self.edad = edad\n",
    "\n",
    "    # Le decimos a Python que dos personas son iguales si su nombre y edad coinciden\n",
    "    def __eq__(self, otro):\n",
    "        print(f\"Comparando {self.nombre} == {otro.nombre}\")\n",
    "        return self.nombre == otro.nombre and self.edad == otro.edad\n",
    "\n",
    "    # Le decimos que una persona es \"menor que\" otra si su edad es menor\n",
    "    def __lt__(self, otro):\n",
    "        print(f\"Comparando {self.edad} < {otro.edad}\")\n",
    "        return self.edad < otro.edad\n",
    "\n",
    "# Creamos las instancias\n",
    "p1 = Persona('Ana', 28)\n",
    "p2 = Persona('Luis', 35)\n",
    "p3 = Persona('Ana', 28)\n",
    "\n",
    "# Ahora podemos comparar los objetos\n",
    "print(f\"¿p1 es igual a p2? {p1 == p2}\")\n",
    "print(f\"¿p1 es igual a p3? {p1 == p3}\")\n",
    "print(f\"¿p1 es menor que p2? {p1 < p2}\")"
   ],
   "id": "84ee200d981a3e38"
  },
  {
   "metadata": {},
   "cell_type": "markdown",
   "source": [
    "## 3. Operaciones Aritméticas con Objetos\n",
    "\n",
    "También podemos definir cómo se comportan nuestros objetos con operadores aritméticos como `+`.\n",
    "\n",
    "* **`__add__(self, otro)`:** Define el comportamiento del operador de suma `+`."
   ],
   "id": "ef7a806531acb7c1"
  },
  {
   "metadata": {},
   "cell_type": "code",
   "outputs": [],
   "execution_count": null,
   "source": [
    "class Persona:\n",
    "    def __init__(self, nombre, edad):\n",
    "        self.nombre = nombre\n",
    "        self.edad = edad\n",
    "\n",
    "    # Le decimos a Python que al \"sumar\" dos personas, lo que queremos es sumar sus edades\n",
    "    def __add__(self, otro):\n",
    "        print(\"Sumando las edades...\")\n",
    "        return self.edad + otro.edad\n",
    "\n",
    "# Creamos las instancias\n",
    "p1 = Persona('Ana', 28)\n",
    "p2 = Persona('Luis', 35)\n",
    "\n",
    "# Ahora podemos \"sumar\" los objetos\n",
    "suma_edades = p1 + p2\n",
    "\n",
    "print(f\"La suma de las edades de Ana y Luis es: {suma_edades}\")"
   ],
   "id": "4e90ac82648b8d94"
  },
  {
   "metadata": {},
   "cell_type": "markdown",
   "source": [
    "# Métodos Mágicos Avanzados: `__new__`, `__init__` y `__call__`\n",
    "\n",
    "En este notebook, exploraremos tres de los métodos mágicos más avanzados que nos dan un control total sobre el ciclo de vida y el comportamiento de nuestros objetos.\n",
    "\n",
    "**La Analogía: Una Fábrica de Robots Multiplicadores**\n",
    "\n",
    "Imagina que la clase `MultiplierFactory` es una **fábrica** que construye y programa **robots**. Cada robot tiene una sola misión: tomar un número y multiplicarlo por un \"factor\" secreto que se le asigna durante su construcción."
   ],
   "id": "c2d341c1662a7e90"
  },
  {
   "metadata": {},
   "cell_type": "markdown",
   "source": [
    "## 1. El Proceso de Construcción\n",
    "\n",
    "Cuando ejecutas `multiplier = MultiplierFactory(5)`, ocurren dos pasos en la fábrica, en un orden muy específico.\n",
    "\n",
    "### Paso A: `__new__` (El Ensamblaje del Chasis)\n",
    "* **¿Qué es?** Es el **primer** método que se llama, incluso antes de `__init__`. Su trabajo es **construir el objeto**, la carcasa vacía del robot. Aún no tiene software ni personalidad.\n",
    "* **¿Cómo funciona?** La línea `super().__new__(cls)` es el comando que le dice a Python: \"usa tu maquinaria interna estándar para construir esta carcasa vacía\".\n",
    "\n",
    "### Paso B: `__init__` (La Programación)\n",
    "* **¿Qué es?** Se llama **después** de que `__new__` ha creado el objeto. Su trabajo es **inicializar** o **configurar** ese objeto ya existente.\n",
    "* **¿Cómo funciona?** Este es el ingeniero de software que instala el programa en el chasis. Toma el `factor` (5) y lo guarda en la memoria del robot (`self.factor = 5`)."
   ],
   "id": "563c6a62adf4156b"
  },
  {
   "metadata": {},
   "cell_type": "markdown",
   "source": [
    "## 2. El Proceso de Acción: `__call__`\n",
    "\n",
    "Este método es el que le da al objeto su comportamiento principal después de haber sido creado.\n",
    "\n",
    "### El Método `__call__` (El Botón de Activación)\n",
    "* **¿Qué es?** Este método mágico le da al **objeto ya creado** (`multiplier`) la capacidad de ser **llamado como si fuera una función**.\n",
    "* **¿Cómo funciona?** Es el **gran botón rojo** en el pecho del robot. Cuando \"llamas\" al objeto (`multiplier(10)`), estás presionando ese botón. El robot (el objeto `self`) toma el número que le das (`10`) y realiza la operación para la que fue programado (`10 * self.factor`)."
   ],
   "id": "ef15afd7442de9f0"
  },
  {
   "metadata": {
    "ExecuteTime": {
     "end_time": "2025-10-01T17:57:43.213361Z",
     "start_time": "2025-10-01T17:57:43.205099Z"
    }
   },
   "cell_type": "code",
   "source": [
    "class MultiplierFactory:\n",
    "\n",
    "    # Se llama PRIMERO. Su trabajo es CONSTRUIR el objeto.\n",
    "    def __new__(cls, factor: int):\n",
    "        print(f\"Paso 1 (__new__): Creando la instancia (el chasis del robot).\")\n",
    "        # Llama al constructor de la clase base para crear el objeto vacío.\n",
    "        return super(MultiplierFactory, cls).__new__(cls)\n",
    "\n",
    "    # Se llama SEGUNDO. Su trabajo es INICIALIZAR el objeto ya creado.\n",
    "    def __init__(self, factor: int):\n",
    "        print(f\"Paso 2 (__init__): Inicializando y guardando el factor {factor}.\")\n",
    "        # Guarda el 'factor' como un atributo del objeto.\n",
    "        self.factor = factor\n",
    "\n",
    "    # Se llama cuando el OBJETO es tratado como una FUNCIÓN.\n",
    "    def __call__(self, number: int) -> int:\n",
    "        print(f\"Paso 3 (__call__): 'Ejecutando' el objeto con el número {number}.\")\n",
    "        # Realiza la operación para la que fue programado.\n",
    "        return number * self.factor\n",
    "\n",
    "# --- Simulación ---\n",
    "print(\"--- Creando el objeto 'multiplier' con factor 5 ---\")\n",
    "multiplier = MultiplierFactory(5)\n",
    "\n",
    "print(\"\\n--- 'Llamando' al objeto 'multiplier' con el número 10 ---\")\n",
    "result = multiplier(10)\n",
    "\n",
    "print(f\"\\nEl resultado final es: {result}\")"
   ],
   "id": "a0954e40de00df3e",
   "outputs": [
    {
     "name": "stdout",
     "output_type": "stream",
     "text": [
      "--- Creando el objeto 'multiplier' con factor 5 ---\n",
      "Paso 1 (__new__): Creando la instancia (el chasis del robot).\n",
      "Paso 2 (__init__): Inicializando y guardando el factor 5.\n",
      "\n",
      "--- 'Llamando' al objeto 'multiplier' con el número 10 ---\n",
      "Paso 3 (__call__): 'Ejecutando' el objeto con el número 10.\n",
      "\n",
      "El resultado final es: 50\n"
     ]
    }
   ],
   "execution_count": 12
  }
 ],
 "metadata": {
  "kernelspec": {
   "display_name": "Python 3",
   "language": "python",
   "name": "python3"
  },
  "language_info": {
   "codemirror_mode": {
    "name": "ipython",
    "version": 2
   },
   "file_extension": ".py",
   "mimetype": "text/x-python",
   "name": "python",
   "nbconvert_exporter": "python",
   "pygments_lexer": "ipython2",
   "version": "2.7.6"
  }
 },
 "nbformat": 4,
 "nbformat_minor": 5
}
