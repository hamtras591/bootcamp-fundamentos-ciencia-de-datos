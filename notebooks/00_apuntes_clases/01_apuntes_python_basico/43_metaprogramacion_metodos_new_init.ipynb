{
 "cells": [
  {
   "metadata": {},
   "cell_type": "markdown",
   "source": [
    "# Metaprogramación: Controlando la Creación de Objetos\n",
    "\n",
    "La **metaprogramación** es la idea de escribir código que manipula a otro código. En el contexto de la POO, nos enfocamos en cómo podemos controlar el proceso de **creación e inicialización** de nuestros objetos, y para ello, Python nos da dos métodos mágicos clave: `__new__` y `__init__`.\n",
    "\n",
    "**La Analogía: Una Fábrica de Coches**\n",
    "Imagina una línea de ensamblaje en una fábrica de coches:\n",
    "* **`__new__` (El Constructor):** Es el **primer paso**. Es la maquinaria pesada que toma el metal y construye el chasis, las puertas y el esqueleto básico del coche. Al final de este paso, tienes un coche vacío, sin motor ni pintura.\n",
    "* **`__init__` (El Inicializador):** Es el **segundo paso**. Una vez que el chasis ya existe, este es el equipo que instala el motor, pinta el coche del color elegido, y le pone los asientos. Es decir, **configura** el coche que ya fue creado."
   ],
   "id": "789622e3e9d80150"
  },
  {
   "metadata": {},
   "cell_type": "markdown",
   "source": [
    "## 1. El Método `__new__`: El Verdadero Constructor\n",
    "\n",
    "Es un método de clase (recibe `cls`) que se llama **antes** que `__init__`. Su responsabilidad es **crear y devolver la instancia** del objeto. La mayoría de las veces no necesitas sobreescribirlo, pero es útil si quieres controlar la creación de objetos de formas muy específicas."
   ],
   "id": "e5fb92c173bc7b6"
  },
  {
   "metadata": {},
   "cell_type": "markdown",
   "source": [
    "## 2. El Método `__init__`: El Inicializador\n",
    "\n",
    "Este es el método que ya conoces. Se llama **después** de `__new__` y recibe el objeto ya creado como su primer parámetro (`self`). Su única responsabilidad es **inicializar los atributos** de ese objeto. No devuelve nada."
   ],
   "id": "334be9423c3b5290"
  },
  {
   "metadata": {},
   "cell_type": "markdown",
   "source": [
    "## 3. `__new__` y `__init__` en Acción\n",
    "\n",
    "Veamos el flujo completo. En la clase `Multiplicador`, hemos añadido un `print()` en cada método para ver claramente el orden en que Python los ejecuta."
   ],
   "id": "75fe7d156dd55777"
  },
  {
   "metadata": {
    "collapsed": true,
    "ExecuteTime": {
     "end_time": "2025-10-02T12:12:46.279305Z",
     "start_time": "2025-10-02T12:12:46.268789Z"
    }
   },
   "cell_type": "code",
   "source": [
    "class Multiplicador:\n",
    "    # 1. Se llama PRIMERO. Su trabajo es CONSTRUIR el objeto.\n",
    "    def __new__(cls, factor):\n",
    "        print(f\"Paso 1 (__new__): Creando la instancia (el chasis).\")\n",
    "        # Llama al __new__ de la clase base para que construya el objeto vacío.\n",
    "        instancia = super().__new__(cls)\n",
    "        # Debe devolver la nueva instancia.\n",
    "        return instancia\n",
    "\n",
    "    # 2. Se llama SEGUNDO, con la instancia ya creada. Su trabajo es CONFIGURAR el objeto.\n",
    "    def __init__(self, factor):\n",
    "        print(f\"Paso 2 (__init__): Inicializando el objeto y asignando el factor {factor}.\")\n",
    "        # Asigna los atributos a la instancia que recibió (self).\n",
    "        self.factor = factor\n",
    "\n",
    "# --- Simulación ---\n",
    "print(\"--- Vamos a crear un objeto Multiplicador(5) ---\")\n",
    "multi = Multiplicador(5)\n",
    "\n",
    "print(\"\\n--- Objeto Creado ---\")\n",
    "print(f\"El objeto 'multi' tiene un factor de: {multi.factor}\")"
   ],
   "id": "270088639e4cf790",
   "outputs": [
    {
     "name": "stdout",
     "output_type": "stream",
     "text": [
      "--- Vamos a crear un objeto Multiplicador(5) ---\n",
      "Paso 1 (__new__): Creando la instancia (el chasis).\n",
      "Paso 2 (__init__): Inicializando el objeto y asignando el factor 5.\n",
      "\n",
      "--- Objeto Creado ---\n",
      "El objeto 'multi' tiene un factor de: 5\n"
     ]
    }
   ],
   "execution_count": 1
  },
  {
   "metadata": {},
   "cell_type": "markdown",
   "source": [
    "## Resumen de Diferencias Clave\n",
    "\n",
    "| Característica | `__new__` | `__init__` |\n",
    "| :--- | :--- | :--- |\n",
    "| **Propósito** | Crear la instancia | Inicializar la instancia |\n",
    "| **Cuándo se llama** | Primero | Segundo |\n",
    "| **Primer argumento**| La clase (`cls`) | La instancia (`self`) |\n",
    "| **Qué devuelve** | La nueva instancia | Nada (`None`) |"
   ],
   "id": "b377b184a7ceffb4"
  }
 ],
 "metadata": {
  "kernelspec": {
   "display_name": "Python 3",
   "language": "python",
   "name": "python3"
  },
  "language_info": {
   "codemirror_mode": {
    "name": "ipython",
    "version": 2
   },
   "file_extension": ".py",
   "mimetype": "text/x-python",
   "name": "python",
   "nbconvert_exporter": "python",
   "pygments_lexer": "ipython2",
   "version": "2.7.6"
  }
 },
 "nbformat": 4,
 "nbformat_minor": 5
}
