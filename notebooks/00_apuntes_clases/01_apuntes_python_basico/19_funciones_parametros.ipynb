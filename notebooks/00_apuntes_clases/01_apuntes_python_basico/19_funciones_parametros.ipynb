{
 "cells": [
  {
   "metadata": {},
   "cell_type": "markdown",
   "source": [
    "# Funciones: Empaquetando Lógica Reutilizable\n",
    "\n",
    "En Python, uno de los principios fundamentales es **\"divide y vencerás\"**. Las **funciones** son la principal herramienta para aplicar este principio. Nos permiten encapsular una porción de código que realiza una tarea específica, darle un nombre y reutilizarla tantas veces como queramos.\n",
    "\n",
    "**Beneficios Clave:**\n",
    "* **Reutilización:** Evita copiar y pegar el mismo código una y otra vez.\n",
    "* **Legibilidad:** Da un nombre descriptivo a un bloque de lógica, haciendo el código más fácil de entender.\n",
    "* **Mantenimiento:** Si necesitas cambiar la lógica, solo la cambias en un lugar: dentro de la función."
   ],
   "id": "2a00a0749a1a2511"
  },
  {
   "metadata": {},
   "cell_type": "markdown",
   "source": [
    "## 1. Definiendo y Llamando una Función Simple\n",
    "\n",
    "Se definen con la palabra reservada `def`, seguida del nombre de la función y paréntesis `()`. El código que pertenece a la función debe estar indentado. Para ejecutarla, simplemente \"llamas\" a la función por su nombre."
   ],
   "id": "1078a6cda9386cb4"
  },
  {
   "metadata": {},
   "cell_type": "code",
   "outputs": [],
   "execution_count": null,
   "source": [
    "# Definición de la función\n",
    "def saludar():\n",
    "    print(\"Hola, mundo\")\n",
    "\n",
    "# Llamada a la función para que se ejecute\n",
    "saludar()"
   ],
   "id": "355086f6aff71d6d"
  },
  {
   "metadata": {},
   "cell_type": "markdown",
   "source": [
    "## 2. Parámetros: Haciendo Funciones Dinámicas\n",
    "\n",
    "Los **parámetros** son variables que una función recibe para poder trabajar con datos dinámicos. Son como los ingredientes que le pasas a una receta. Al llamar a la función, los valores que pasas se llaman **argumentos**."
   ],
   "id": "3686d98f29a330c0"
  },
  {
   "metadata": {},
   "cell_type": "code",
   "outputs": [],
   "execution_count": null,
   "source": [
    "# 'name' y 'last_name' son los parámetros\n",
    "def saludar_completo(name, last_name):\n",
    "    print(f\"Hola, {name} {last_name}\")\n",
    "\n",
    "# \"Diego\" y \"Antezano\" son los argumentos\n",
    "saludar_completo(\"Diego\", \"Antezano\")"
   ],
   "id": "19da56e793fa885b"
  },
  {
   "metadata": {},
   "cell_type": "markdown",
   "source": [
    "## 3. Flexibilidad en los Parámetros\n",
    "\n",
    "### Parámetros con Valores por Defecto\n",
    "Puedes asignar un valor por defecto a un parámetro. Este valor se usará solo si no se proporciona un argumento para ese parámetro al llamar a la función.\n",
    "\n",
    "### Parámetros Nombrados (Keyword Arguments)\n",
    "Al llamar a una función, puedes especificar el nombre del parámetro al que le estás pasando el argumento. Esto te permite cambiar el orden."
   ],
   "id": "7e3fca173b6a70cd"
  },
  {
   "metadata": {},
   "cell_type": "code",
   "outputs": [],
   "execution_count": null,
   "source": [
    "# 'last_name' tiene un valor por defecto\n",
    "def saludar_default(name, last_name=\"No tiene apellido\"):\n",
    "    print(f\"Hola, {name} {last_name}\")\n",
    "\n",
    "# Llamamos la función sin el segundo argumento, usará el valor por defecto\n",
    "saludar_default(\"Diego\")\n",
    "\n",
    "# Llamamos la función pasando los argumentos por nombre, en un orden diferente\n",
    "saludar_default(last_name=\"Florida\", name=\"Carla\")"
   ],
   "id": "905ca12310ca0a21"
  },
  {
   "metadata": {},
   "cell_type": "markdown",
   "source": [
    "## 4. Retornando Valores: La Sentencia `return`\n",
    "\n",
    "Mientras que `print()` solo muestra información en la pantalla, `return` **entrega un valor** de vuelta desde la función. Este valor se puede guardar en una variable o usar en otras operaciones."
   ],
   "id": "92b6129eb0f53a45"
  },
  {
   "metadata": {},
   "cell_type": "code",
   "outputs": [],
   "execution_count": null,
   "source": [
    "def suma(a, b):\n",
    "    # Esta función no imprime nada, devuelve el resultado\n",
    "    return a + b\n",
    "\n",
    "# Guardamos el valor que la función retorna en una nueva variable\n",
    "resultado_suma = suma(10, 5)\n",
    "\n",
    "print(f\"El resultado de la suma es: {resultado_suma}\")"
   ],
   "id": "43629af8a72d4e2f"
  },
  {
   "metadata": {},
   "cell_type": "markdown",
   "source": [
    "## 5. Aplicación Práctica: Una Mini Calculadora\n",
    "\n",
    "Combinando todo lo anterior, podemos crear una calculadora simple. Usamos una función para cada operación para mantener la lógica separada y limpia, y una función principal que maneja la interacción con el usuario."
   ],
   "id": "1100fe442255990"
  },
  {
   "metadata": {},
   "cell_type": "code",
   "outputs": [],
   "execution_count": null,
   "source": [
    "def suma(a, b): return a + b\n",
    "def resta(a, b): return a - b\n",
    "def multiplicar(a, b): return a * b\n",
    "def dividir(a, b):\n",
    "    if b == 0:\n",
    "        return \"Error: No se puede dividir por cero\"\n",
    "    return a / b\n",
    "\n",
    "def calculadora():\n",
    "    opcion = input(\"Elige una operación (suma, resta, mult, div): \").lower()\n",
    "    num1 = float(input(\"Ingresa el primer número: \"))\n",
    "    num2 = float(input(\"Ingresa el segundo número: \"))\n",
    "\n",
    "    if opcion == 'suma':\n",
    "        print(\"El resultado es:\", suma(num1, num2))\n",
    "    elif opcion == 'resta':\n",
    "        print(\"El resultado es:\", resta(num1, num2))\n",
    "    elif opcion == 'mult':\n",
    "        print(\"El resultado es:\", multiplicar(num1, num2))\n",
    "    elif opcion == 'div':\n",
    "        print(\"El resultado es:\", dividir(num1, num2))\n",
    "    else:\n",
    "        print(\"Opción no válida.\")\n",
    "\n",
    "calculadora()"
   ],
   "id": "7944a3460e91b6d4"
  },
  {
   "metadata": {},
   "cell_type": "code",
   "outputs": [],
   "execution_count": null,
   "source": [
    "def suma(a, b):\n",
    "    return  a + b\n",
    "\n",
    "def resta(a, b):\n",
    "    return a - b\n",
    "\n",
    "def multiplicacion(a, b):\n",
    "    return a * b\n",
    "\n",
    "def division(a, b):\n",
    "    return a / b\n",
    "\n",
    "def calculadora():\n",
    "    while True:\n",
    "        print(\"Seleccione una operación\")\n",
    "        print(\"1. Suma\")\n",
    "        print(\"2. Resta\")\n",
    "        print(\"3. Multiplicación\")\n",
    "        print(\"4. División\")\n",
    "        print(\"5. Salir\")\n",
    "\n",
    "        opcion = int(input('Ingresa una opción (1,2,3,4,5):'))\n",
    "\n",
    "        if opcion == 5:\n",
    "            print(\"Gracias por usar la calculadora\")\n",
    "            break\n",
    "\n",
    "        if opcion in [1,2,3,4]:\n",
    "            num1 = float(input(\"Ingrese el primer número: \"))\n",
    "            num2 = float(input(\"Ingrese el segundo número: \"))\n",
    "\n",
    "            if opcion == 1:\n",
    "                print(\"La suma es :\", suma(num1, num2))\n",
    "            elif opcion == 2:\n",
    "                print(\"La resta es :\", resta(num1, num2))\n",
    "            elif opcion == 3:\n",
    "                print(\"La multiplicación es :\", multiplicacion(num1, num2))\n",
    "            elif opcion == 4:\n",
    "                print(\"La división es :\", division(num1, num2))\n",
    "        else:\n",
    "            print(\"Opción no valida, por favor intenta de nuevo\")\n",
    "\n",
    "calculadora()\n"
   ],
   "id": "179b1a91b4d85d51"
  }
 ],
 "metadata": {
  "kernelspec": {
   "display_name": "Python 3",
   "language": "python",
   "name": "python3"
  },
  "language_info": {
   "codemirror_mode": {
    "name": "ipython",
    "version": 2
   },
   "file_extension": ".py",
   "mimetype": "text/x-python",
   "name": "python",
   "nbconvert_exporter": "python",
   "pygments_lexer": "ipython2",
   "version": "2.7.6"
  }
 },
 "nbformat": 4,
 "nbformat_minor": 5
}
