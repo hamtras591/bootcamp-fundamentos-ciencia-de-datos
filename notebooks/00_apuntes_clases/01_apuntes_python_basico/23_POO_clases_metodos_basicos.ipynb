{
 "cells": [
  {
   "metadata": {},
   "cell_type": "markdown",
   "source": [
    "# Programación Orientada a Objetos (POO): Creando Tus Propias Herramientas\n",
    "\n",
    "La POO es una forma de programar que se basa en organizar el software en **objetos**. Si hasta ahora has usado \"piezas de Lego\" básicas (listas, diccionarios), la POO te permite **diseñar y crear tus propias piezas a medida**.\n",
    "\n",
    "* **Clase:** Es el **plano** o **molde** genérico. Define las características y comportamientos que tendrán todos los objetos de ese tipo. Ejemplo: el plano de un \"Coche\".\n",
    "* **Objeto (o Instancia):** Es la **construcción real** a partir del plano. Puedes crear muchos objetos a partir de una sola clase. Ejemplo: un Toyota rojo, un Ford azul (ambos son objetos de la clase Coche).\n",
    "* **Atributos:** Son las **características** o datos que tiene un objeto. Son variables que pertenecen al objeto. Ejemplo: `color`, `marca`, `velocidad_actual`.\n",
    "* **Métodos:** Son los **comportamientos** o acciones que un objeto puede realizar. Son funciones que pertenecen a la clase. Ejemplo: `.acelerar()`, `.frenar()`, `.tocar_bocina()`."
   ],
   "id": "3b1e3eb3bba4a689"
  },
  {
   "metadata": {},
   "cell_type": "markdown",
   "source": [
    "## 1. Creando una Clase: El Plano `__init__` y `self`\n",
    "\n",
    "Para crear una clase, usamos la palabra reservada `class`. Dentro de ella, el método `__init__` es el **constructor**. Es un método especial que se ejecuta automáticamente al crear un nuevo objeto y sirve para inicializar sus atributos.\n",
    "\n",
    "* **`self`**: Es una variable especial que representa al **objeto mismo**. Se usa dentro de la clase para acceder a sus propios atributos y métodos."
   ],
   "id": "889d2d9edb1b621"
  },
  {
   "metadata": {
    "collapsed": true,
    "ExecuteTime": {
     "end_time": "2025-09-23T14:24:22.145641Z",
     "start_time": "2025-09-23T14:24:22.135030Z"
    }
   },
   "cell_type": "code",
   "source": [
    "# class es el plano para crear objetos \"Persona\"\n",
    "class Persona:\n",
    "    # El método constructor que inicializa los atributos\n",
    "    def __init__(self, nombre, edad):\n",
    "        print(f\"Creando una nueva persona llamada {nombre}...\")\n",
    "        self.nombre = nombre # Atributo\n",
    "        self.edad = edad     # Atributo\n",
    "\n",
    "    # Un método que define un comportamiento\n",
    "    def saludar(self):\n",
    "        print(f\"Hola, mi nombre es {self.nombre} y tengo {self.edad} años\")\n",
    "\n",
    "# Creamos dos objetos (instancias) de la clase Persona\n",
    "persona1 = Persona(\"Ana\", 30)\n",
    "persona2 = Persona(\"Luis\", 25)\n",
    "\n",
    "# Cada objeto tiene sus propios atributos y puede usar sus métodos\n",
    "persona1.saludar()\n",
    "persona2.saludar()"
   ],
   "id": "53ef9a4ace1a1b0c",
   "outputs": [
    {
     "name": "stdout",
     "output_type": "stream",
     "text": [
      "Creando una nueva persona llamada Ana...\n",
      "Creando una nueva persona llamada Luis...\n",
      "Hola, mi nombre es Ana y tengo 30 años\n",
      "Hola, mi nombre es Luis y tengo 25 años\n"
     ]
    }
   ],
   "execution_count": 1
  },
  {
   "metadata": {},
   "cell_type": "markdown",
   "source": [
    "## 2. Aplicación Práctica: `BankAccount`\n",
    "\n",
    "Este ejemplo es perfecto porque demuestra cómo un objeto puede tener un **estado interno** (`balance`, `is_active`) que es modificado por sus propios métodos (`.deposit()`, `.withdraw()`)."
   ],
   "id": "bc195b4792ad1c49"
  },
  {
   "metadata": {
    "ExecuteTime": {
     "end_time": "2025-09-23T14:40:39.282436Z",
     "start_time": "2025-09-23T14:40:39.274639Z"
    }
   },
   "cell_type": "code",
   "source": [
    "class BankAccount:\n",
    "    # El constructor inicializa la cuenta con sus datos básicos\n",
    "    def __init__(self, account_holder, initial_balance):\n",
    "        self.account_holder = account_holder\n",
    "        self.balance = initial_balance\n",
    "        self.is_active = True\n",
    "\n",
    "    # Método para añadir dinero\n",
    "    def deposit(self, amount):\n",
    "        if self.is_active:\n",
    "            self.balance += amount\n",
    "            print(f\"Depósito exitoso por ${amount}. Nuevo saldo: ${self.balance}\")\n",
    "        else:\n",
    "            print(\"Acción denegada: la cuenta está inactiva.\")\n",
    "\n",
    "    # Método para sacar dinero\n",
    "    def withdraw(self, amount):\n",
    "        if not self.is_active:\n",
    "            print(\"Acción denegada: la cuenta está inactiva.\")\n",
    "            return\n",
    "\n",
    "        if amount <= self.balance:\n",
    "            self.balance -= amount\n",
    "            print(f\"Retiro exitoso por ${amount}. Nuevo saldo: ${self.balance}\")\n",
    "        else:\n",
    "            print(\"Acción denegada: fondos insuficientes.\")\n",
    "\n",
    "    # Métodos para cambiar el estado de la cuenta\n",
    "    def deactivate(self):\n",
    "        self.is_active = False\n",
    "        print(\"La cuenta ha sido desactivada.\")\n",
    "\n",
    "    def activate(self):\n",
    "        self.is_active = True\n",
    "        print(\"La cuenta ha sido activada.\")"
   ],
   "id": "14234b7ee08a30d5",
   "outputs": [],
   "execution_count": 5
  },
  {
   "metadata": {},
   "cell_type": "markdown",
   "source": [
    "### Simulación de Operaciones\n",
    "Ahora que tenemos el \"plano\" (`BankAccount`), podemos crear objetos \"cuenta\" y operar con ellos."
   ],
   "id": "7c18a576ed861c21"
  },
  {
   "metadata": {
    "ExecuteTime": {
     "end_time": "2025-09-23T14:40:41.456958Z",
     "start_time": "2025-09-23T14:40:41.444134Z"
    }
   },
   "cell_type": "code",
   "source": [
    "print(\"--- Creando cuenta para Ana ---\")\n",
    "cuenta_ana = BankAccount(\"Ana\", 500)\n",
    "\n",
    "cuenta_ana.deposit(200)\n",
    "cuenta_ana.withdraw(100)\n",
    "cuenta_ana.deactivate()\n",
    "cuenta_ana.deposit(50) # Esto fallará\n",
    "cuenta_ana.activate()\n",
    "cuenta_ana.deposit(50) # Esto funcionará"
   ],
   "id": "fa92db3e9e80e0a7",
   "outputs": [
    {
     "name": "stdout",
     "output_type": "stream",
     "text": [
      "--- Creando cuenta para Ana ---\n",
      "Depósito exitoso por $200. Nuevo saldo: $700\n",
      "Retiro exitoso por $100. Nuevo saldo: $600\n",
      "La cuenta ha sido desactivada.\n",
      "Acción denegada: la cuenta está inactiva.\n",
      "La cuenta ha sido activada.\n",
      "Depósito exitoso por $50. Nuevo saldo: $650\n"
     ]
    }
   ],
   "execution_count": 6
  },
  {
   "metadata": {
    "ExecuteTime": {
     "end_time": "2025-09-23T14:40:47.625302Z",
     "start_time": "2025-09-23T14:40:47.619537Z"
    }
   },
   "cell_type": "code",
   "source": [
    "print(\"--- Creando cuenta para Luis ---\")\n",
    "\n",
    "cuenta_luis = BankAccount(\"Luis\", 1000)\n",
    "\n",
    "cuenta_luis.deposit(200)\n",
    "cuenta_luis.withdraw(1100)\n"
   ],
   "id": "59c5890740c61a20",
   "outputs": [
    {
     "name": "stdout",
     "output_type": "stream",
     "text": [
      "--- Creando cuenta para Luis ---\n",
      "Depósito exitoso por $200. Nuevo saldo: $1200\n",
      "Retiro exitoso por $1100. Nuevo saldo: $100\n"
     ]
    }
   ],
   "execution_count": 7
  }
 ],
 "metadata": {
  "kernelspec": {
   "display_name": "Python 3",
   "language": "python",
   "name": "python3"
  },
  "language_info": {
   "codemirror_mode": {
    "name": "ipython",
    "version": 2
   },
   "file_extension": ".py",
   "mimetype": "text/x-python",
   "name": "python",
   "nbconvert_exporter": "python",
   "pygments_lexer": "ipython2",
   "version": "2.7.6"
  }
 },
 "nbformat": 4,
 "nbformat_minor": 5
}
