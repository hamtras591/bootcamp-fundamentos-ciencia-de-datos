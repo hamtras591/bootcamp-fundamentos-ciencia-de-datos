{
 "cells": [
  {
   "metadata": {},
   "cell_type": "markdown",
   "source": [
    "# Operaciones Aritméticas y de Comparación\n",
    "\n",
    "Además de las operaciones básicas, Python nos ofrece operadores para cálculos más específicos como obtener el residuo de una división o elevar a una potencia. También cuenta con operadores de comparación que son la base para que nuestros programas tomen decisiones lógicas."
   ],
   "id": "df4964a51fb0cc87"
  },
  {
   "metadata": {},
   "cell_type": "markdown",
   "source": [
    "## 1. Operadores Aritméticos Avanzados\n",
    "\n",
    "Estos tres operadores son fundamentales para muchas tareas de programación y análisis:\n",
    "\n",
    "* **Módulo (`%`):** Devuelve el **residuo** de una división.\n",
    "* **División Entera (`//`):** Devuelve el **cociente** de una división, descartando la parte decimal.\n",
    "* **Potenciación (`**`):** Eleva un número a la potencia de otro."
   ],
   "id": "806bc177448510a5"
  },
  {
   "metadata": {},
   "cell_type": "code",
   "source": [
    "a = 10\n",
    "b = 3\n",
    "\n",
    "# Módulo: 10 dividido 3 es 3 con un residuo de 1.\n",
    "print(f\"Módulo (10 % 3): {a % b}\")\n",
    "\n",
    "# División Entera: 10 dividido 3 es 3.33... la parte entera es 3.\n",
    "print(f\"División Entera (10 // 3): {a // b}\")\n",
    "\n",
    "# Potenciación: 10 elevado a la 3.\n",
    "print(f\"Potenciación (10 ** 3): {a ** b}\")"
   ],
   "id": "9557ab213fbc8053",
   "outputs": [],
   "execution_count": null
  },
  {
   "metadata": {},
   "cell_type": "markdown",
   "source": [
    "## 2. Jerarquía de Operaciones (PEMDAS)\n",
    "\n",
    "Python respeta el orden matemático de las operaciones para resolver expresiones complejas. La regla se conoce como **PEMDAS**:\n",
    "\n",
    "* **P**aréntesis\n",
    "* **E**xponentes\n",
    "* **M**ultiplicación y **D**ivisión (de izquierda a derecha)\n",
    "* **A**dición (Suma) y **S**ustracción (Resta) (de izquierda a derecha)\n",
    "\n",
    "![PEMDAS](Pemdas.png)"
   ],
   "id": "132a37d5f411c001"
  },
  {
   "metadata": {},
   "cell_type": "code",
   "source": [
    "# Sin paréntesis, la multiplicación (3 * 4) se hace primero.\n",
    "operacion_1 = 2 + 3 * 4\n",
    "print(f\"2 + 3 * 4 = {operacion_1}\")\n",
    "\n",
    "# Con paréntesis, la suma (2 + 3) se hace primero.\n",
    "operacion_2 = (2 + 3) * 4\n",
    "print(f\"(2 + 3) * 4 = {operacion_2}\")\n",
    "\n",
    "# Un ejemplo más complejo\n",
    "# 1. Paréntesis: (2 + 3) = 5\n",
    "# 2. Exponente: (4 ** 2) = 16\n",
    "# 3. Multiplicación: 5 * 16 = 80\n",
    "# 4. División: 80 / 8 = 10.0\n",
    "# 5. Resta: 10.0 - 1 = 9.0\n",
    "operacion_3 = (2 + 3) * (4 ** 2) / 8 - 1\n",
    "print(f\"(2 + 3) * (4 ** 2) / 8 - 1 = {operacion_3}\")"
   ],
   "id": "9503edc60ec41d9d",
   "outputs": [],
   "execution_count": null
  },
  {
   "metadata": {},
   "cell_type": "markdown",
   "source": [
    "## 3. Atajos: Operadores de Asignación\n",
    "\n",
    "Son una forma concisa de modificar una variable en el sitio. La expresión `a = a + 2` es equivalente a `a += 2`."
   ],
   "id": "968dd861e404530e"
  },
  {
   "metadata": {},
   "cell_type": "code",
   "outputs": [],
   "execution_count": null,
   "source": [
    "# Inicializamos la variable\n",
    "a = 15\n",
    "print(f\"Valor inicial de a: {a}\")\n",
    "\n",
    "# Suma\n",
    "a += 5  # a = 15 + 5\n",
    "print(f\"Después de a += 5: {a}\")\n",
    "\n",
    "# Resta\n",
    "a -= 10 # a = 20 - 10\n",
    "print(f\"Después de a -= 10: {a}\")\n",
    "\n",
    "# Multiplicación\n",
    "a *= 3  # a = 10 * 3\n",
    "print(f\"Después de a *= 3: {a}\")\n",
    "\n",
    "# División\n",
    "a /= 6  # a = 30 / 6\n",
    "print(f\"Después de a /= 6: {a}\")"
   ],
   "id": "3e1b0f99ed9f25e3"
  },
  {
   "metadata": {},
   "cell_type": "markdown",
   "source": [
    "## 4. Operadores de Comparación (Booleanos)\n",
    "\n",
    "Estos operadores comparan dos valores y el resultado es siempre un booleano: `True` o `False`. Son la base para la toma de decisiones en el código.\n",
    "\n",
    "* **`==`** : ¿Son iguales? (No confundir con `=`, que es para asignar).\n",
    "* **`!=`** : ¿Son diferentes?\n",
    "* **`>`** : ¿Es mayor que?\n",
    "* **`<`** : ¿Es menor que?\n",
    "* **`>=`**: ¿Es mayor o igual que?\n",
    "* **`<=`**: ¿Es menor o igual que?"
   ],
   "id": "9c3edb0769e834c7"
  },
  {
   "metadata": {},
   "cell_type": "code",
   "outputs": [],
   "execution_count": null,
   "source": [
    "a = 10\n",
    "b = 3\n",
    "c = 10.0\n",
    "\n",
    "# ¿Es a mayor que b?\n",
    "print(f\"10 > 3 es {a > b}\")\n",
    "\n",
    "# ¿Es a diferente de b?\n",
    "print(f\"10 != 3 es {a != b}\")\n",
    "\n",
    "# ¿Son a y c iguales? Python considera el valor numérico.\n",
    "print(f\"10 == 10.0 es {a == c}\")\n",
    "\n",
    "# ¿Son a y c diferentes?\n",
    "print(f\"10 != 10.0 es {a != c}\")"
   ],
   "id": "c52aec47c3596c4d"
  }
 ],
 "metadata": {
  "kernelspec": {
   "name": "python3",
   "language": "python",
   "display_name": "Python 3 (ipykernel)"
  }
 },
 "nbformat": 5,
 "nbformat_minor": 9
}
