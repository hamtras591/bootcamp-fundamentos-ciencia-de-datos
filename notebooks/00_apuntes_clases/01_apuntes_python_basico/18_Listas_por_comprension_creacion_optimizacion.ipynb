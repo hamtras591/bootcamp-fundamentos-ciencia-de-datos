{
 "cells": [
  {
   "metadata": {},
   "cell_type": "markdown",
   "source": [
    "# List Comprehensions: Creando Listas de Forma Elegante\n",
    "\n",
    "Las **List Comprehensions** son una de las características más apreciadas de Python. Permiten crear listas de forma concisa y legible, aplicando una expresión a cada elemento de una secuencia. Es como tener un bucle `for` y la creación de una lista, todo en una sola línea.\n",
    "\n",
    "La sintaxis básica es: `[expresion for elemento in iterable if condicion]`"
   ],
   "id": "2d481c453b244648"
  },
  {
   "metadata": {},
   "cell_type": "markdown",
   "source": "### 1. Transformación Simple: El Doble de Cada Número",
   "id": "bcd6946f730125d0"
  },
  {
   "metadata": {
    "collapsed": true,
    "ExecuteTime": {
     "end_time": "2025-09-22T20:52:26.446431Z",
     "start_time": "2025-09-22T20:52:26.434496Z"
    }
   },
   "cell_type": "code",
   "source": [
    "numeros = [1, 2, 3, 4, 5]\n",
    "\n",
    "# Lógica con bucle for tradicional\n",
    "dobles_loop = []\n",
    "for x in numeros:\n",
    "    dobles_loop.append(x * 2)\n",
    "\n",
    "# Lógica con List Comprehension\n",
    "dobles_comprehension = [x * 2 for x in numeros]\n",
    "\n",
    "print(\"Con bucle for:\", dobles_loop)\n",
    "print(\"Con List Comprehension:\", dobles_comprehension)"
   ],
   "id": "da2686d0ef9590a7",
   "outputs": [
    {
     "name": "stdout",
     "output_type": "stream",
     "text": [
      "Con bucle for: [2, 4, 6, 8, 10]\n",
      "Con List Comprehension: [2, 4, 6, 8, 10]\n"
     ]
    }
   ],
   "execution_count": 7
  },
  {
   "metadata": {},
   "cell_type": "markdown",
   "source": [
    "### 2. Condicionales: Filtrar y Transformar\n",
    "\n",
    "Puedes añadir un `if` al final de la *list comprehension* para filtrar elementos de la lista original."
   ],
   "id": "aa14bc000ba4f2f7"
  },
  {
   "metadata": {
    "ExecuteTime": {
     "end_time": "2025-09-22T20:53:47.577870Z",
     "start_time": "2025-09-22T20:53:47.567082Z"
    }
   },
   "cell_type": "code",
   "source": [
    "palabras = [\"sol\", \"mar\", \"montaña\", \"rio\", \"estrella\"]\n",
    "\n",
    "# Queremos una lista con las palabras que tengan más de 3 letras, en mayúsculas.\n",
    "palabras_filtradas = [palabra.upper() for palabra in palabras if len(palabra) > 3]\n",
    "\n",
    "print(\"Palabras filtradas y en mayúsculas:\", palabras_filtradas)"
   ],
   "id": "9f1275268b533df3",
   "outputs": [
    {
     "name": "stdout",
     "output_type": "stream",
     "text": [
      "Palabras filtradas y en mayúsculas: ['MONTAÑA', 'ESTRELLA']\n"
     ]
    }
   ],
   "execution_count": 8
  },
  {
   "metadata": {},
   "cell_type": "markdown",
   "source": [
    "### 3. Condicionales con `else`\n",
    "\n",
    "Si necesitas una lógica de `if/else`, la sintaxis cambia ligeramente. La condición se coloca **antes** del `for`."
   ],
   "id": "9b4781a30499e7ea"
  },
  {
   "metadata": {
    "ExecuteTime": {
     "end_time": "2025-09-22T20:54:15.556745Z",
     "start_time": "2025-09-22T20:54:15.546408Z"
    }
   },
   "cell_type": "code",
   "source": [
    "numeros = [1, 2, 3, 4, 5, 6]\n",
    "\n",
    "# Queremos duplicar los números pares y dejar intactos los impares.\n",
    "transformados = [x * 2 if x % 2 == 0 else x for x in numeros]\n",
    "\n",
    "print(\"Números transformados:\", transformados)"
   ],
   "id": "afa7d9e8765dd80a",
   "outputs": [
    {
     "name": "stdout",
     "output_type": "stream",
     "text": [
      "Números transformados: [1, 4, 3, 8, 5, 12]\n"
     ]
    }
   ],
   "execution_count": 9
  },
  {
   "metadata": {},
   "cell_type": "markdown",
   "source": [
    "### 4. Aplicación a Listas de Diccionarios\n",
    "\n",
    "Son extremadamente útiles para extraer información de estructuras de datos más complejas, una tarea diaria en ciencia de datos."
   ],
   "id": "ffdb05c110e8e97b"
  },
  {
   "metadata": {
    "ExecuteTime": {
     "end_time": "2025-09-22T20:55:45.989566Z",
     "start_time": "2025-09-22T20:55:45.978227Z"
    }
   },
   "cell_type": "code",
   "source": [
    "personas = [\n",
    "    {\"nombre\": \"Ana\", \"edad\": 32, \"ciudad\": \"Madrid\"},\n",
    "    {\"nombre\": \"Pedro\", \"edad\": 35, \"ciudad\": \"Barcelona\"},\n",
    "    {\"nombre\": \"Laura\", \"edad\": 40, \"ciudad\": \"Madrid\"}\n",
    "]\n",
    "\n",
    "# Extraer solo los nombres de las personas de Madrid y mayores de 30\n",
    "nombres_filtrados = [\n",
    "    persona[\"nombre\"]\n",
    "    for persona in personas\n",
    "    if persona[\"ciudad\"] == \"Madrid\" and persona[\"edad\"] > 30\n",
    "]\n",
    "\n",
    "print(\"Nombres de personas en Madrid mayores de 30 años:\", nombres_filtrados)"
   ],
   "id": "1af054c859b15916",
   "outputs": [
    {
     "name": "stdout",
     "output_type": "stream",
     "text": [
      "Nombres de personas en Madrid mayores de 30 años: ['Ana', 'Laura']\n"
     ]
    }
   ],
   "execution_count": 10
  }
 ],
 "metadata": {
  "kernelspec": {
   "display_name": "Python 3",
   "language": "python",
   "name": "python3"
  },
  "language_info": {
   "codemirror_mode": {
    "name": "ipython",
    "version": 2
   },
   "file_extension": ".py",
   "mimetype": "text/x-python",
   "name": "python",
   "nbconvert_exporter": "python",
   "pygments_lexer": "ipython2",
   "version": "2.7.6"
  }
 },
 "nbformat": 4,
 "nbformat_minor": 5
}
