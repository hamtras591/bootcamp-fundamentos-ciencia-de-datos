{
 "cells": [
  {
   "cell_type": "code",
   "id": "initial_id",
   "metadata": {
    "collapsed": true,
    "ExecuteTime": {
     "end_time": "2025-09-25T15:26:16.931888Z",
     "start_time": "2025-09-25T15:26:16.913737Z"
    }
   },
   "source": [
    "import statistics\n",
    "import csv\n",
    "\n",
    "# Leer los datos de las ventas mensuales de un archivo CSV\n",
    "\n",
    "# Diccionario para guarda el dato de las ventas mensuales\n",
    "ventas_mensuales = {}\n",
    "\n",
    "# Variable para guardar el path del archivo a manipular\n",
    "archivo_ventas = 'monthly_sales.csv'\n",
    "\n",
    "# Abrir el archivo CSV\n",
    "with open(archivo_ventas, mode='r') as file_CSV:\n",
    "    lectura_archivo = csv.DictReader(file_CSV)\n",
    "    for row in lectura_archivo:\n",
    "        month = row['month']\n",
    "        sales = int(row['sales'])\n",
    "        ventas_mensuales[month] = sales\n",
    "\n",
    "ventas = list(ventas_mensuales.values())\n",
    "print(ventas)\n",
    "\n",
    "# Hallar la media de los datos\n",
    "media_ventas = statistics.mean(ventas)\n",
    "print(f\"La media de las ventas es {media_ventas}\")\n",
    "\n",
    "# Hallar la mediana de los datos\n",
    "medina_ventas = statistics.median(ventas)\n",
    "print(f\"La mediana de las ventas es {medina_ventas}\")\n",
    "\n",
    "# Hallar la moda de los datos\n",
    "\n",
    "moda_ventas = statistics.mode(ventas)\n",
    "print(f\"La moda de las ventas es {moda_ventas}\")\n",
    "\n",
    "#Desviación estándar\n",
    "stdev_ventas = statistics.stdev(ventas)\n",
    "print(f\"La desviación estándar de las ventas es {stdev_ventas}\")\n",
    "\n",
    "# Hallar la Varianza\n",
    "variance_ventas = statistics.variance(ventas)\n",
    "print(f\"La varianza de las ventas es {variance_ventas}\")"
   ],
   "outputs": [
    {
     "name": "stdout",
     "output_type": "stream",
     "text": [
      "[120, 130, 150, 170, 160, 180, 190, 200, 210, 190, 185, 210]\n",
      "La media de las ventas es 174.58333333333334\n",
      "La mediana de las ventas es 182.5\n",
      "La moda de las ventas es 190\n",
      "La desviación estándar de las ventas es 29.50025680422378\n",
      "La varianza de las ventas es 870.2651515151515\n"
     ]
    }
   ],
   "execution_count": 8
  }
 ],
 "metadata": {
  "kernelspec": {
   "display_name": "Python 3",
   "language": "python",
   "name": "python3"
  },
  "language_info": {
   "codemirror_mode": {
    "name": "ipython",
    "version": 2
   },
   "file_extension": ".py",
   "mimetype": "text/x-python",
   "name": "python",
   "nbconvert_exporter": "python",
   "pygments_lexer": "ipython2",
   "version": "2.7.6"
  }
 },
 "nbformat": 4,
 "nbformat_minor": 5
}
