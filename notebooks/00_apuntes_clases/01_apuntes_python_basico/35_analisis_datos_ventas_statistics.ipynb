{
 "cells": [
  {
   "metadata": {},
   "cell_type": "markdown",
   "source": [
    "# Análisis de Datos: Estadística Descriptiva en Python\n",
    "\n",
    "La **estadística descriptiva** es el primer paso en cualquier análisis de datos. Consiste en un conjunto de medidas que resumen y describen las características principales de un dataset. Nos ayuda a responder preguntas como:\n",
    "\n",
    "* ¿Cuál es el valor \"típico\" o central de mis datos? (Medidas de Tendencia Central)\n",
    "* ¿Qué tan dispersos o variados son mis datos? (Medidas de Dispersión)\n",
    "\n",
    "Para este ejercicio, usaremos la librería nativa `statistics` de Python."
   ],
   "id": "8b3f3c74af7112d8"
  },
  {
   "metadata": {},
   "cell_type": "markdown",
   "source": [
    "## 1. Nuestro Conjunto de Datos\n",
    "\n",
    "Imaginemos que tenemos los datos de ventas mensuales (en miles de USD) de una tienda durante un año."
   ],
   "id": "b30b2e07a8274480"
  },
  {
   "metadata": {
    "ExecuteTime": {
     "end_time": "2025-09-25T15:44:07.983653Z",
     "start_time": "2025-09-25T15:44:07.975131Z"
    }
   },
   "cell_type": "code",
   "source": [
    "import statistics\n",
    "import csv\n",
    "\n",
    "\n",
    "# Diccionario para guarda el dato de las ventas mensuales\n",
    "ventas_mensuales = {}\n",
    "\n",
    "# Variable para guardar el path del archivo a manipular\n",
    "archivo_ventas = 'monthly_sales.csv'\n",
    "\n",
    "# Abrir el archivo CSV\n",
    "with open(archivo_ventas, mode='r') as file_CSV:\n",
    "    lectura_archivo = csv.DictReader(file_CSV)\n",
    "    for row in lectura_archivo:\n",
    "        month = row['month']\n",
    "        sales = int(row['sales'])\n",
    "        ventas_mensuales[month] = sales\n",
    "\n",
    "# Lista con las ventas mensuales\n",
    "ventas_mensuales = list(ventas_mensuales.values())\n",
    "print(ventas_mensuales)"
   ],
   "id": "7c2c5e81ac60334a",
   "outputs": [
    {
     "name": "stdout",
     "output_type": "stream",
     "text": [
      "[120, 130, 150, 170, 160, 180, 190, 200, 210, 190, 185, 210]\n"
     ]
    }
   ],
   "execution_count": 22
  },
  {
   "metadata": {},
   "cell_type": "markdown",
   "source": [
    "## 2. Medidas de Tendencia Central\n",
    "\n",
    "Nos indican dónde se encuentra el \"centro\" de nuestros datos.\n",
    "\n",
    "### Media (Promedio)\n",
    "Es la suma de todos los valores dividida por el número de valores. Es sensible a valores extremos (outliers).\n",
    "\n",
    "**Fórmula:**\n",
    "$$ \\text{Media} (\\mu) = \\frac{\\sum_{i=1}^{n} x_i}{n} $$"
   ],
   "id": "335aeff22a8e8edf"
  },
  {
   "metadata": {
    "ExecuteTime": {
     "end_time": "2025-09-25T15:44:11.300218Z",
     "start_time": "2025-09-25T15:44:11.293688Z"
    }
   },
   "cell_type": "code",
   "source": [
    "# Calcular la media\n",
    "media_ventas = statistics.mean(ventas_mensuales)\n",
    "print(f\"La media de ventas es: ${media_ventas:.2f} mil USD\")"
   ],
   "id": "8800211af02b6b58",
   "outputs": [
    {
     "name": "stdout",
     "output_type": "stream",
     "text": [
      "La media de ventas es: $174.58 mil USD\n"
     ]
    }
   ],
   "execution_count": 23
  },
  {
   "metadata": {},
   "cell_type": "markdown",
   "source": [
    "### Mediana\n",
    "Es el valor que se encuentra justo en el medio del conjunto de datos **cuando está ordenado**. Es mucho más robusta a valores extremos que la media.\n",
    "\n",
    "**Fórmula:** Si n es impar, es el valor central. Si n es par, es el promedio de los dos valores centrales."
   ],
   "id": "5e199df5a10bf7fa"
  },
  {
   "metadata": {
    "ExecuteTime": {
     "end_time": "2025-09-25T15:44:25.076927Z",
     "start_time": "2025-09-25T15:44:25.070350Z"
    }
   },
   "cell_type": "code",
   "source": [
    "# Calcular la mediana\n",
    "mediana_ventas = statistics.median(ventas_mensuales)\n",
    "print(f\"La mediana de ventas es: ${mediana_ventas:.2f} mil USD\")\n",
    "print(\"Nota: Fíjate cómo la mediana (129.0) es muy diferente a la media (158.33).\")"
   ],
   "id": "c5fa05111e121e32",
   "outputs": [
    {
     "name": "stdout",
     "output_type": "stream",
     "text": [
      "La mediana de ventas es: $182.50 mil USD\n",
      "Nota: Fíjate cómo la mediana (129.0) es muy diferente a la media (158.33).\n"
     ]
    }
   ],
   "execution_count": 25
  },
  {
   "metadata": {},
   "cell_type": "markdown",
   "source": [
    "### Moda\n",
    "Es el valor que aparece con mayor frecuencia en el conjunto de datos. Puede haber más de una moda o ninguna."
   ],
   "id": "ca5345c12bafec9c"
  },
  {
   "metadata": {
    "ExecuteTime": {
     "end_time": "2025-09-25T15:44:27.940058Z",
     "start_time": "2025-09-25T15:44:27.932264Z"
    }
   },
   "cell_type": "code",
   "source": [
    "# Calcular la moda\n",
    "try:\n",
    "    moda_ventas = statistics.mode(ventas_mensuales)\n",
    "    print(f\"La moda de ventas es: ${moda_ventas} mil USD\")\n",
    "except statistics.StatisticsError:\n",
    "    print(\"No se encontró una única moda en los datos.\")"
   ],
   "id": "35070ec7a61e4505",
   "outputs": [
    {
     "name": "stdout",
     "output_type": "stream",
     "text": [
      "La moda de ventas es: $190 mil USD\n"
     ]
    }
   ],
   "execution_count": 26
  },
  {
   "metadata": {},
   "cell_type": "markdown",
   "source": [
    "## 3. Medidas de Dispersión\n",
    "\n",
    "Nos indican qué tan \"esparcidos\" están los datos alrededor del centro.\n",
    "\n",
    "### Varianza\n",
    "Es el promedio de las diferencias al cuadrado entre cada valor y la media. Es difícil de interpretar porque sus unidades están al cuadrado.\n",
    "\n",
    "**Fórmula:**\n",
    "$$ \\text{Varianza} (\\sigma^2) = \\frac{\\sum_{i=1}^{n} (x_i - \\mu)^2}{n} $$"
   ],
   "id": "990b2472451dc3ee"
  },
  {
   "metadata": {
    "ExecuteTime": {
     "end_time": "2025-09-25T15:44:30.377019Z",
     "start_time": "2025-09-25T15:44:30.370665Z"
    }
   },
   "cell_type": "code",
   "source": [
    "# Calcular la varianza poblacional\n",
    "varianza_ventas = statistics.pvariance(ventas_mensuales)\n",
    "print(f\"La varianza de las ventas es: {varianza_ventas:.2f}\")"
   ],
   "id": "4f456ee035242909",
   "outputs": [
    {
     "name": "stdout",
     "output_type": "stream",
     "text": [
      "La varianza de las ventas es: 797.74\n"
     ]
    }
   ],
   "execution_count": 27
  },
  {
   "metadata": {},
   "cell_type": "markdown",
   "source": [
    "### Desviación Estándar\n",
    "Es la raíz cuadrada de la varianza. Es la medida de dispersión más común porque está en las **mismas unidades** que los datos originales, lo que la hace mucho más fácil de interpretar.\n",
    "\n",
    "**Fórmula:**\n",
    "$$ \\text{Desviación Estándar} (\\sigma) = \\sqrt{\\frac{\\sum_{i=1}^{n} (x_i - \\mu)^2}{n}} $$"
   ],
   "id": "10a5e114a6198725"
  },
  {
   "metadata": {
    "ExecuteTime": {
     "end_time": "2025-09-25T15:44:32.876616Z",
     "start_time": "2025-09-25T15:44:32.869659Z"
    }
   },
   "cell_type": "code",
   "source": [
    "# Calcular la desviación estándar poblacional\n",
    "desviacion_estandar_ventas = statistics.pstdev(ventas_mensuales)\n",
    "print(f\"La desviación estándar de las ventas es: ${desviacion_estandar_ventas:.2f} mil USD\")"
   ],
   "id": "8d221c503c4741c9",
   "outputs": [
    {
     "name": "stdout",
     "output_type": "stream",
     "text": [
      "La desviación estándar de las ventas es: $28.24 mil USD\n"
     ]
    }
   ],
   "execution_count": 28
  },
  {
   "metadata": {},
   "cell_type": "markdown",
   "source": [
    "## 4. Medidas de Posición y Rango\n",
    "\n",
    "Nos dan una idea de los límites de nuestros datos."
   ],
   "id": "6b0ad13bfdf3970a"
  },
  {
   "metadata": {
    "ExecuteTime": {
     "end_time": "2025-09-25T15:44:35.040455Z",
     "start_time": "2025-09-25T15:44:35.033345Z"
    }
   },
   "cell_type": "code",
   "source": [
    "# Mínimo y Máximo\n",
    "valor_minimo = min(ventas_mensuales)\n",
    "valor_maximo = max(ventas_mensuales)\n",
    "\n",
    "print(f\"La venta mínima fue de: ${valor_minimo} mil USD\")\n",
    "print(f\"La venta máxima fue de: ${valor_maximo} mil USD\")\n",
    "\n",
    "# Rango\n",
    "rango_ventas = valor_maximo - valor_minimo\n",
    "print(f\"El rango de las ventas es de: ${rango_ventas} mil USD\")"
   ],
   "id": "c0b06fd6037685b4",
   "outputs": [
    {
     "name": "stdout",
     "output_type": "stream",
     "text": [
      "La venta mínima fue de: $120 mil USD\n",
      "La venta máxima fue de: $210 mil USD\n",
      "El rango de las ventas es de: $90 mil USD\n"
     ]
    }
   ],
   "execution_count": 29
  }
 ],
 "metadata": {
  "kernelspec": {
   "display_name": "Python 3",
   "language": "python",
   "name": "python3"
  },
  "language_info": {
   "codemirror_mode": {
    "name": "ipython",
    "version": 2
   },
   "file_extension": ".py",
   "mimetype": "text/x-python",
   "name": "python",
   "nbconvert_exporter": "python",
   "pygments_lexer": "ipython2",
   "version": "2.7.6"
  }
 },
 "nbformat": 4,
 "nbformat_minor": 5
}
