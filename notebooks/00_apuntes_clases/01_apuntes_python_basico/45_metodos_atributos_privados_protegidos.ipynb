{
 "cells": [
  {
   "metadata": {},
   "cell_type": "markdown",
   "source": [
    "# Encapsulamiento: Protegiendo los Datos de tus Clases\n",
    "\n",
    "El **encapsulamiento** es uno de los pilares de la Programación Orientada a Objetos. Su objetivo es proteger la integridad de los datos de un objeto, restringiendo el acceso directo a sus atributos y métodos desde fuera de la clase.\n",
    "\n",
    "**La Analogía: El Motor de un Coche**\n",
    "Piensa en el motor de un coche. Como conductor, no interactúas directamente con los pistones o las bujías. En su lugar, usas una interfaz pública y segura: el acelerador, el freno y la palanca de cambios. El capó (la clase) \"encapsula\" la complejidad del motor (los atributos y métodos internos) y solo expone los controles necesarios.\n",
    "\n",
    "En Python, logramos esto a través de una convención de nombres:\n",
    "* **`_protegido` (un guion bajo):** Es una señal para otros desarrolladores que dice: \"Puedes ver esto, pero por favor, no lo toques directamente a menos que sepas lo que haces\".\n",
    "* **`__privado` (doble guion bajo):** Es un mecanismo más fuerte que le dice a Python que \"oculte\" el nombre del atributo, haciendo mucho más difícil acceder a él desde fuera."
   ],
   "id": "910f65123a303756"
  },
  {
   "metadata": {},
   "cell_type": "markdown",
   "source": [
    "## 1. Atributos y Métodos Protegidos (`_`)\n",
    "\n",
    "Un guion bajo es una **convención de caballeros**. No impide técnicamente el acceso, pero sirve como una clara advertencia."
   ],
   "id": "5113ca856aa8840e"
  },
  {
   "metadata": {},
   "cell_type": "code",
   "source": [
    "class MiClase:\n",
    "    def __init__(self):\n",
    "        # Este atributo es para uso interno de la clase o sus hijas.\n",
    "        self._variable_protegida = \"Soy un valor protegido\"\n",
    "\n",
    "    # Este método es para uso interno.\n",
    "    def _metodo_protegido(self):\n",
    "        print(\"Ejecutando un método protegido.\")\n",
    "\n",
    "# Aunque no se recomienda, técnicamente podemos acceder a ellos\n",
    "objeto = MiClase()\n",
    "print(objeto._variable_protegida)\n",
    "objeto._metodo_protegido()"
   ],
   "id": "e6a719231651fd02",
   "outputs": [],
   "execution_count": null
  },
  {
   "metadata": {},
   "cell_type": "markdown",
   "source": [
    "## 2. Atributos y Métodos Privados (`__`)\n",
    "\n",
    "El doble guion bajo activa un mecanismo llamado **\"Name Mangling\"**. Python cambia internamente el nombre del atributo para que no sea fácil de adivinar desde fuera. `__variable` se convierte en `_NombreDeClase__variable`. Esto ofrece un nivel de protección mucho más fuerte."
   ],
   "id": "353a844eec5d239d"
  },
  {
   "metadata": {},
   "cell_type": "code",
   "source": [
    "class MiClase:\n",
    "    def __init__(self):\n",
    "        # Este atributo es para uso exclusivo DENTRO de esta clase.\n",
    "        self.__variable_privada = \"Soy un valor privado\"\n",
    "\n",
    "    # Este método es para uso exclusivo DENTRO de esta clase.\n",
    "    def __metodo_privado(self):\n",
    "        print(\"Ejecutando un método privado.\")\n",
    "\n",
    "    # Creamos un método público que SÍ puede acceder a los miembros privados.\n",
    "    def metodo_publico(self):\n",
    "        print(\"El método público está llamando al método privado...\")\n",
    "        self.__metodo_privado()\n",
    "\n",
    "objeto = MiClase()\n",
    "\n",
    "# El método público funciona y actúa como la interfaz segura.\n",
    "objeto.metodo_publico()\n",
    "\n",
    "# Intentar acceder directamente a los miembros privados dará un AttributeError.\n",
    "try:\n",
    "    print(objeto.__variable_privada)\n",
    "except AttributeError as e:\n",
    "    print(f\"\\nError al intentar acceder a la variable privada: {e}\")"
   ],
   "id": "4e92bb1f8b16d8cb",
   "outputs": [],
   "execution_count": null
  },
  {
   "metadata": {},
   "cell_type": "markdown",
   "source": [
    "## 3. Ejercicio Práctico: `BankAccount`\n",
    "\n",
    "Tu solución al ejercicio es un ejemplo perfecto de encapsulamiento. Usas métodos públicos (que por convención no llevan guion bajo) como la interfaz para el usuario, y métodos internos (con guiones bajos) para manejar la lógica sensible que el usuario no debería tocar directamente."
   ],
   "id": "e3286936346665f0"
  },
  {
   "metadata": {},
   "cell_type": "code",
   "source": [
    "# Definimos la clase para nuestra cuenta bancaria.\n",
    "class BanckAccount():\n",
    "    # El constructor. Se ejecuta al crear una nueva cuenta.\n",
    "    def __init__(self, name, balance, account):\n",
    "        # Atributo público: el nombre del titular.\n",
    "        self.name = name\n",
    "        # Atributo público: el saldo actual.\n",
    "        self.balance = balance\n",
    "        # Atributo público: el número de cuenta.\n",
    "        self.account = account\n",
    "        # Atributo público: una lista para guardar el historial de transacciones.\n",
    "        self.transactions = []\n",
    "\n",
    "    # MÉTODO PRIVADO: Su única responsabilidad es modificar el saldo.\n",
    "    # El doble guion bajo lo protege de ser llamado accidentalmente desde fuera.\n",
    "    def __update_balance(self, amount, operation):\n",
    "        # Si la operación es un ingreso, suma el monto.\n",
    "        if operation == 'increment':\n",
    "            self.balance += amount\n",
    "        # Si la operación es un retiro, resta el monto.\n",
    "        elif operation == 'decrement':\n",
    "            self.balance -= amount\n",
    "        # Imprime el saldo actualizado para confirmación interna.\n",
    "        print(f\"The actual balance is: {self.balance}\")\n",
    "\n",
    "    # MÉTODO PROTEGIDO: Actúa como la interfaz principal para realizar transacciones.\n",
    "    # Un guion bajo es suficiente porque queremos que las clases hijas (ej. CuentaDeAhorros) puedan usarlo.\n",
    "    def _register_transaction(self, amount, account, type_transfer):\n",
    "        # Si la transferencia es un ingreso ('in')...\n",
    "        if type_transfer == 'in':\n",
    "            # ...llama al método privado y seguro para actualizar el saldo.\n",
    "            self.__update_balance(amount, operation='increment')\n",
    "            # ...y añade el registro de la transacción a la lista.\n",
    "            self.transactions.append({'amount': amount, 'account': account, 'type': type_transfer})\n",
    "        # Si la transferencia es un retiro ('out')...\n",
    "        elif type_transfer == 'out':\n",
    "            # ...llama al método privado y seguro para actualizar el saldo.\n",
    "            self.__update_balance(amount, operation='decrement')\n",
    "            # ...y añade el registro de la transacción a la lista.\n",
    "            self.transactions.append({'amount': amount, 'account': account, 'type': type_transfer})\n",
    "\n",
    "    # MÉTODO PROTEGIDO: Un método simple para mostrar el número de cuenta.\n",
    "    def _get_account_number(self):\n",
    "        print(f'The account number is: {self.account}')\n",
    "\n",
    "    # MÉTODO PROTEGIDO: Un método para mostrar el historial de transacciones.\n",
    "    def _show_transactions(self):\n",
    "        print('--- Historial de Transacciones ---')\n",
    "        # Itera sobre la lista de transacciones.\n",
    "        for transaction in self.transactions:\n",
    "            # Imprime cada transacción de forma legible.\n",
    "            print(transaction)\n",
    "\n",
    "# --- Simulación ---\n",
    "thomas_account = BanckAccount('Thomas', 1500000, 433356654245)\n",
    "david_account = BanckAccount('David', 3500000, 433356654257)\n",
    "\n",
    "thomas_account._get_account_number()\n",
    "thomas_account._register_transaction(10000, 433356654245, 'out')\n",
    "thomas_account._register_transaction(100000, 433356654245, 'in')\n",
    "thomas_account._show_transactions()"
   ],
   "id": "e90f3e01e7c04ef1",
   "outputs": [],
   "execution_count": null
  }
 ],
 "metadata": {
  "kernelspec": {
   "display_name": "Python 3",
   "language": "python",
   "name": "python3"
  },
  "language_info": {
   "codemirror_mode": {
    "name": "ipython",
    "version": 2
   },
   "file_extension": ".py",
   "mimetype": "text/x-python",
   "name": "python",
   "nbconvert_exporter": "python",
   "pygments_lexer": "ipython2",
   "version": "2.7.6"
  }
 },
 "nbformat": 4,
 "nbformat_minor": 5
}
