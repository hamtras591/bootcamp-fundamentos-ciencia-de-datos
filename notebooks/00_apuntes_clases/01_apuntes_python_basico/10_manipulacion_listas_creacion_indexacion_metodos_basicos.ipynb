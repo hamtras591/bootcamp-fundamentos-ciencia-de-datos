{
 "cells": [
  {
   "metadata": {},
   "cell_type": "markdown",
   "source": [
    "# Listas: Los Contenedores de Datos Esenciales en Python\n",
    "\n",
    "Las **listas** son la estructura de datos más versátil y fundamental en Python. Piensa en ellas como un contenedor ordenado que puede guardar una colección de diferentes tipos de datos.\n",
    "\n",
    "**Características Clave:**\n",
    "* **Ordenadas:** Los elementos mantienen el orden en que los agregas.\n",
    "* **Mutables:** Puedes cambiar su contenido; añadir, eliminar o modificar elementos después de crear la lista.\n",
    "* **Flexibles:** Pueden contener cualquier tipo de dato: números, strings, booleanos e incluso otras listas."
   ],
   "id": "547bcd498016950f"
  },
  {
   "metadata": {},
   "cell_type": "markdown",
   "source": [
    "## 1. Creación de Listas\n",
    "\n",
    "Se crean usando corchetes `[]` y separando los elementos con comas `,`."
   ],
   "id": "eee1eca62db4b8ce"
  },
  {
   "metadata": {},
   "cell_type": "code",
   "source": [
    "# Una lista de tareas (strings)\n",
    "to_do = [\"Dirigirnos al hotel\", \"Ir a almorzar\", \"Visitar un museo\"]\n",
    "print(f\"Lista de tareas: {to_do}\")\n",
    "print(f\"Tipo de dato: {type(to_do)}\")\n",
    "\n",
    "# Una lista con tipos de datos mixtos\n",
    "mix = [\"Uno\", 2, 3.14, True]\n",
    "print(f\"Lista mixta: {mix}\")\n",
    "\n",
    "# Una lista que contiene otra lista (anidada)\n",
    "nested_list = [1, 2, [\"a\", \"b\", \"c\"], 4]\n",
    "print(f\"Lista anidada: {nested_list}\")"
   ],
   "id": "de6a58aaa247f875",
   "outputs": [],
   "execution_count": null
  },
  {
   "metadata": {},
   "cell_type": "markdown",
   "source": [
    "## 2. Acceso a Datos: Indexación y Slicing\n",
    "\n",
    "Al igual que los strings, puedes acceder a los elementos de una lista usando sus índices.\n",
    "\n",
    "* **Indexación:** Para obtener un solo elemento. `[0]` para el primero, `[-1]` para el último.\n",
    "* **Slicing (Rebanado):** Para obtener una sub-lista. La sintaxis es `[inicio:fin]`, donde el `fin` **no** se incluye en el resultado."
   ],
   "id": "df2e3b1f4f846f94"
  },
  {
   "metadata": {
    "ExecuteTime": {
     "end_time": "2025-09-19T23:41:20.431449Z",
     "start_time": "2025-09-19T23:41:20.420659Z"
    }
   },
   "cell_type": "code",
   "source": [
    "numeros = [10, 20, 30, 40, 50, 60]\n",
    "\n",
    "# Indexación\n",
    "print(f\"Primer elemento: {numeros[0]}\")\n",
    "print(f\"Último elemento: {numeros[-1]}\")\n",
    "\n",
    "# Slicing\n",
    "# Obtener los elementos desde el índice 1 hasta el 3 (el 4 no se incluye)\n",
    "print(f\"Slice de 1 a 3: {numeros[1:4]}\")\n",
    "\n",
    "# Si omites el inicio, empieza desde 0\n",
    "print(f\"Slice desde el inicio hasta el 2: {numeros[:3]}\")\n",
    "\n",
    "# Si omites el final, va hasta el último elemento\n",
    "print(f\"Slice desde el 3 hasta el final: {numeros[3:]}\")"
   ],
   "id": "33b84f32f19672d6",
   "outputs": [
    {
     "name": "stdout",
     "output_type": "stream",
     "text": [
      "Primer elemento: 10\n",
      "Último elemento: 60\n",
      "Slice de 1 a 3: [20, 30, 40]\n",
      "Slice desde el inicio hasta el 2: [10, 20, 30]\n",
      "Slice desde el 3 hasta el final: [40, 50, 60]\n"
     ]
    }
   ],
   "execution_count": 1
  },
  {
   "metadata": {},
   "cell_type": "markdown",
   "source": [
    "## 3. Métodos Fundamentales para Modificar Listas\n",
    "\n",
    "Aquí detallamos los métodos más importantes.\n",
    "\n",
    "### .append(elemento)\n",
    "* **Descripción:** Añade un `elemento` al **final** de la lista. Es el método más común para agregar datos.\n",
    "* **Uso en DS:** Construir una lista de resultados de forma iterativa. Por ejemplo, al recorrer un dataset y guardar en una lista los IDs de clientes que cumplen una condición.\n",
    "* **Ejemplo:**"
   ],
   "id": "9ff6a47e15b91a5a"
  },
  {
   "metadata": {
    "ExecuteTime": {
     "end_time": "2025-09-18T20:25:59.914714Z",
     "start_time": "2025-09-18T20:25:59.908189Z"
    }
   },
   "cell_type": "code",
   "source": [
    "resultados_modelo = [0.95, 0.92, 0.88]\n",
    "print(f\"Resultados iniciales: {resultados_modelo}\")\n",
    "\n",
    "# Añadimos un nuevo resultado\n",
    "resultados_modelo.append(0.98)\n",
    "print(f\"Resultados actualizados: {resultados_modelo}\")"
   ],
   "id": "e75bdeb496c18fcf",
   "outputs": [
    {
     "name": "stdout",
     "output_type": "stream",
     "text": [
      "Resultados iniciales: [0.95, 0.92, 0.88]\n",
      "Resultados actualizados: [0.95, 0.92, 0.88, 0.98]\n"
     ]
    }
   ],
   "execution_count": 24
  },
  {
   "metadata": {},
   "cell_type": "markdown",
   "source": [
    "### .insert(índice, elemento)\n",
    "* **Descripción:** Inserta un `elemento` en la posición exacta del `índice` que especifiques, desplazando el resto de elementos hacia la derecha.\n",
    "* **Uso en DS:** Útil en casos muy específicos donde el orden es crítico y necesitas añadir un dato en una posición concreta sin sobreescribir el que ya existe.\n",
    "* **Ejemplo:**"
   ],
   "id": "823027176dd13168"
  },
  {
   "metadata": {
    "ExecuteTime": {
     "end_time": "2025-09-18T20:26:47.707066Z",
     "start_time": "2025-09-18T20:26:47.328061Z"
    }
   },
   "cell_type": "code",
   "source": [
    "pasos_pipeline = [\"Cargar Datos\", \"Limpiar Datos\", \"Entrenar Modelo\"]\n",
    "print(f\"Pipeline inicial: {pasos_pipeline}\")\n",
    "\n",
    "# Nos dimos cuenta que faltaba un paso\n",
    "pasos_pipeline.insert(2, \"Ingeniería de Características\")\n",
    "print(f\"Pipeline actualizado: {pasos_pipeline}\")"
   ],
   "id": "5cc110bb5cac3399",
   "outputs": [
    {
     "name": "stdout",
     "output_type": "stream",
     "text": [
      "Pipeline inicial: ['Cargar Datos', 'Limpiar Datos', 'Entrenar Modelo']\n",
      "Pipeline actualizado: ['Cargar Datos', 'Limpiar Datos', 'Ingeniería de Características', 'Entrenar Modelo']\n"
     ]
    }
   ],
   "execution_count": 25
  },
  {
   "metadata": {},
   "cell_type": "markdown",
   "source": [
    "### .pop(índice)\n",
    "* **Descripción:** Elimina y **devuelve** el elemento de un `índice` específico. Si no se especifica un índice, elimina y devuelve el último elemento.\n",
    "* **Uso en DS:** Procesar elementos de una lista uno por uno mientras se los elimina. Es común en algoritmos que manejan colas o pilas de tareas.\n",
    "* **Ejemplo:**"
   ],
   "id": "f8909efec5bb6887"
  },
  {
   "metadata": {
    "ExecuteTime": {
     "end_time": "2025-09-18T20:28:00.251002Z",
     "start_time": "2025-09-18T20:28:00.243442Z"
    }
   },
   "cell_type": "code",
   "source": [
    "tareas_pendientes = [\"Analizar Ventas\", \"Reportar Métricas\", \"Optimizar Campaña\"]\n",
    "print(f\"Tareas: {tareas_pendientes}\")\n",
    "\n",
    "# Procesamos la última tarea\n",
    "ultima_tarea = tareas_pendientes.pop()\n",
    "print(f\"Tarea procesada: '{ultima_tarea}'\")\n",
    "print(f\"Tareas restantes: {tareas_pendientes}\")"
   ],
   "id": "6bc1d7ef5dc9352b",
   "outputs": [
    {
     "name": "stdout",
     "output_type": "stream",
     "text": [
      "Tareas: ['Analizar Ventas', 'Reportar Métricas', 'Optimizar Campaña']\n",
      "Tarea procesada: 'Optimizar Campaña'\n",
      "Tareas restantes: ['Analizar Ventas', 'Reportar Métricas']\n"
     ]
    }
   ],
   "execution_count": 26
  },
  {
   "metadata": {},
   "cell_type": "markdown",
   "source": [
    "### del (Sentencia de Python)\n",
    "* **Descripción:** `del` no es un método, sino una sentencia de Python. Permite eliminar elementos por su índice o incluso un *slice* completo.\n",
    "* **Uso en DS:** Limpieza de datos. Eliminar filas o columnas (representadas como listas) que son anómalas o ya no se necesitan.\n",
    "* **Ejemplo:**"
   ],
   "id": "b5e3a14e91e61cf9"
  },
  {
   "metadata": {
    "ExecuteTime": {
     "end_time": "2025-09-18T20:29:11.444799Z",
     "start_time": "2025-09-18T20:29:11.435821Z"
    }
   },
   "cell_type": "code",
   "source": [
    "datos_numericos = [10, 20, 999, 30, 40, -500] # 999 y -500 son outliers\n",
    "print(f\"Datos originales: {datos_numericos}\")\n",
    "\n",
    "# Eliminar el outlier en el índice -1\n",
    "del datos_numericos[-1]\n",
    "print(f\"Datos sin el último outlier: {datos_numericos}\")\n",
    "\n",
    "# Eliminar el outlier en el índice 2\n",
    "del datos_numericos[2]\n",
    "print(f\"Datos finales limpios: {datos_numericos}\")"
   ],
   "id": "7534e52f496676a5",
   "outputs": [
    {
     "name": "stdout",
     "output_type": "stream",
     "text": [
      "Datos originales: [10, 20, 999, 30, 40, -500]\n",
      "Datos sin el último outlier: [10, 20, 999, 30, 40]\n",
      "Datos finales limpios: [10, 20, 30, 40]\n"
     ]
    }
   ],
   "execution_count": 27
  },
  {
   "metadata": {},
   "cell_type": "markdown",
   "source": "## Referencia Completa de Métodos y Funciones para Listas",
   "id": "7b366bc584ff36d"
  },
  {
   "metadata": {},
   "cell_type": "markdown",
   "source": [
    "| Nombre Método/Función | ¿Qué Hace? | Casos de Uso en Ciencia de Datos | Categoría |\n",
    "| :--- | :--- | :--- | :--- |\n",
    "| **Adición de Elementos** | | | |\n",
    "| `.append(el)` | Añade un elemento al final de la lista. | Recopilar resultados, IDs, o cualquier dato de forma iterativa. | Adición |\n",
    "| `.insert(i, el)` | Inserta un elemento en el índice `i`. | Añadir un elemento en una posición específica de un pipeline o secuencia. | Adición |\n",
    "| `.extend(iter)` | Añade todos los elementos de un iterable al final. | Unir dos listas de datos para consolidar un dataset. | Adición |\n",
    "| **Eliminación de Elementos** | | | |\n",
    "| `.pop(i)` | Elimina y devuelve el elemento del índice `i` (o el último). | Procesar y consumir elementos de una cola de tareas. | Eliminación |\n",
    "| `.remove(val)` | Elimina la primera ocurrencia de un valor. | Eliminar un valor específico (ej. un ID de cliente duplicado) sin saber su índice. | Eliminación |\n",
    "| `.clear()` | Elimina todos los elementos de la lista. | Resetear una lista para reutilizarla en un bucle o función. | Eliminación |\n",
    "| `del lista[i]` | Elimina un elemento o slice por su índice. | Limpieza de datos anómalos (*outliers*) o innecesarios. | Eliminación |\n",
    "| **Búsqueda y Conteo** | | | |\n",
    "| `.index(val)` | Devuelve el índice de la primera aparición de un valor. | Encontrar la posición de un dato específico para luego modificarlo o analizarlo. | Búsqueda |\n",
    "| `.count(val)` | Cuenta cuántas veces aparece un valor. | Análisis de frecuencia de datos categóricos. | Búsqueda |\n",
    "| **Ordenamiento y Organización** | | | |\n",
    "| `.sort()` | Ordena la lista **en el sitio** (la modifica). | Ordenar una lista de scores de un modelo para encontrar el mejor. | Ordenamiento |\n",
    "| `sorted(lista)` | **Devuelve una nueva lista ordenada** (no modifica la original).| Obtener una versión ordenada para un reporte sin alterar los datos originales. | Ordenamiento |\n",
    "| `.reverse()` | Invierte el orden de los elementos **en el sitio**. | Invertir el orden de una serie de tiempo para análisis. | Ordenamiento |\n",
    "| `.copy()` | Devuelve una copia superficial de la lista. | Crear una copia para experimentar con ella sin afectar la lista original. | Organización |\n",
    "| **Funciones Generales** | | | |\n",
    "| `len(lista)` | Devuelve el número de elementos. | Obtener el tamaño de un dataset o el número de características. | General |\n",
    "| `max(lista)` | Devuelve el elemento con el valor máximo. | Encontrar el valor máximo de una métrica (ej. precio, score, temperatura). | General |\n",
    "| `min(lista)` | Devuelve el elemento con el valor mínimo. | Encontrar el valor mínimo de una métrica. | General |\n",
    "| `sum(lista)` | Suma todos los elementos (deben ser numéricos). | Calcular totales de ventas, errores acumulados, etc. | General |"
   ],
   "id": "561c7a210e41a80a"
  },
  {
   "metadata": {},
   "cell_type": "code",
   "source": "",
   "id": "fe6d3ccc16993436",
   "outputs": [],
   "execution_count": null
  }
 ],
 "metadata": {
  "kernelspec": {
   "name": "python3",
   "language": "python",
   "display_name": "Python 3 (ipykernel)"
  }
 },
 "nbformat": 5,
 "nbformat_minor": 9
}
