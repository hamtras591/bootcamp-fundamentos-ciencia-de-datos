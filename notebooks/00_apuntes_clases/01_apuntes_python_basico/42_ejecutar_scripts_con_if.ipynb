{
 "cells": [
  {
   "metadata": {},
   "cell_type": "markdown",
   "source": [
    "# El Bloque `if __name__ == \"__main__\"`: Scripts Reutilizables\n",
    "\n",
    "En Python, cada archivo `.py` es un **módulo**. La variable especial `__name__` nos ayuda a determinar si un archivo está siendo ejecutado directamente o si está siendo importado por otro módulo.\n",
    "\n",
    "**La Analogía:**\n",
    "Imagina que escribes un guion para una película.\n",
    "* Si **diriges la película tú mismo** (ejecutas el archivo directamente), `__name__` tiene el valor especial `\"__main__\"`.\n",
    "* Si **otro director usa tu guion** en su propia película (importa tu archivo), `__name__` tendrá el nombre del archivo (ej. `\"mi_guion\"`).\n",
    "\n",
    "El bloque `if __name__ == \"__main__\":` es como una sección del guion que dice: \"Estas escenas solo deben filmarse si yo soy el director principal\". Esto nos permite crear código de prueba o de ejecución que no se activará cuando otros importen nuestras funciones."
   ],
   "id": "16bed13f343250c5"
  },
  {
   "metadata": {},
   "cell_type": "markdown",
   "source": [
    "## 1. Creando un Módulo de Calculadora\n",
    "\n",
    "Vamos a crear un archivo `calculadora.py` que contenga funciones matemáticas. El objetivo es poder **importar** estas funciones desde otros scripts sin que se ejecute ningún código de ejemplo."
   ],
   "id": "ee53a48194605560"
  },
  {
   "metadata": {
    "ExecuteTime": {
     "end_time": "2025-10-01T23:09:59.029574Z",
     "start_time": "2025-10-01T23:09:59.007057Z"
    }
   },
   "cell_type": "code",
   "source": [
    "%%writefile calculadora.py\n",
    "# El comando %%writefile es una \"magia\" de Jupyter que guarda el contenido de esta celda en un archivo.\n",
    "\n",
    "# --- Definición de Funciones ---\n",
    "def sumar(a, b):\n",
    "    return a + b\n",
    "\n",
    "def restar(a, b):\n",
    "    return a - b\n",
    "\n",
    "def multiplicar(a, b):\n",
    "    return a * b\n",
    "\n",
    "def dividir(a, b):\n",
    "    if b == 0:\n",
    "        raise ValueError(\"El divisor no puede ser cero.\")\n",
    "    return a / b\n",
    "\n",
    "# --- Bloque de Ejecución Principal ---\n",
    "# Este código SOLO se ejecutará si corremos 'calculadora.py' directamente.\n",
    "# No se ejecutará si importamos este módulo desde otro archivo.\n",
    "if __name__ == \"__main__\":\n",
    "    print(\"Ejecutando la calculadora como script principal...\")\n",
    "\n",
    "    # Ejemplo de uso con suma\n",
    "    res1 = sumar(15, 5)\n",
    "    print(f\"Suma de 15 + 5 = {res1}\")\n",
    "\n",
    "    # Ejemplo de uso con división\n",
    "    res2 = dividir(20, 4)\n",
    "    print(f\"División de 20 / 4 = {res2}\")"
   ],
   "id": "23156619a7905e87",
   "outputs": [
    {
     "name": "stdout",
     "output_type": "stream",
     "text": [
      "Writing calculadora.py\n"
     ]
    }
   ],
   "execution_count": 2
  },
  {
   "metadata": {},
   "cell_type": "markdown",
   "source": [
    "## 2. Ejecutando el Módulo como Script Principal\n",
    "\n",
    "Ahora, podemos usar la terminal para ejecutar nuestro archivo directamente. El código dentro del bloque `if __name__ == \"__main__\":` se activará."
   ],
   "id": "e7bb15844f19396c"
  },
  {
   "metadata": {
    "ExecuteTime": {
     "end_time": "2025-10-01T23:10:07.946664Z",
     "start_time": "2025-10-01T23:10:07.628637Z"
    }
   },
   "cell_type": "code",
   "source": [
    "# El símbolo '!' nos permite ejecutar comandos de la terminal desde una celda de Jupyter.\n",
    "!python calculadora.py"
   ],
   "id": "8b5c158c273e746b",
   "outputs": [
    {
     "name": "stdout",
     "output_type": "stream",
     "text": [
      "Ejecutando la calculadora como script principal...\n",
      "Suma de 15 + 5 = 20\n",
      "División de 20 / 4 = 5.0\n"
     ]
    }
   ],
   "execution_count": 3
  },
  {
   "metadata": {},
   "cell_type": "markdown",
   "source": [
    "## 3. Reutilizando el Módulo (Importándolo)\n",
    "\n",
    "Ahora crearemos otro script (en otra celda) que **importe** las funciones de nuestra calculadora. Verás que el código de ejemplo del `if __name__ == \"__main__\":` no se ejecuta, permitiéndonos reutilizar las funciones de forma limpia."
   ],
   "id": "88d2f224387919be"
  },
  {
   "metadata": {
    "ExecuteTime": {
     "end_time": "2025-10-01T23:10:10.589171Z",
     "start_time": "2025-10-01T23:10:10.578924Z"
    }
   },
   "cell_type": "code",
   "source": [
    "# Importamos las funciones que creamos en nuestro módulo.\n",
    "from calculadora import sumar, multiplicar\n",
    "\n",
    "# Ahora podemos usar las funciones importadas en este nuevo script.\n",
    "resultado_proyecto = sumar(100, 200)\n",
    "print(f\"El resultado para nuestro proyecto es: {resultado_proyecto}\")\n",
    "\n",
    "resultado_multiplicacion = multiplicar(10, 10)\n",
    "print(f\"El resultado de la multiplicación es: {resultado_multiplicacion}\")"
   ],
   "id": "bd6cdfbaaaf09f25",
   "outputs": [
    {
     "name": "stdout",
     "output_type": "stream",
     "text": [
      "El resultado para nuestro proyecto es: 300\n",
      "El resultado de la multiplicación es: 100\n"
     ]
    }
   ],
   "execution_count": 4
  }
 ],
 "metadata": {
  "kernelspec": {
   "display_name": "Python 3",
   "language": "python",
   "name": "python3"
  },
  "language_info": {
   "codemirror_mode": {
    "name": "ipython",
    "version": 2
   },
   "file_extension": ".py",
   "mimetype": "text/x-python",
   "name": "python",
   "nbconvert_exporter": "python",
   "pygments_lexer": "ipython2",
   "version": "2.7.6"
  }
 },
 "nbformat": 4,
 "nbformat_minor": 5
}
