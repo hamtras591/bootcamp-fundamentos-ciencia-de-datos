{
 "cells": [
  {
   "metadata": {},
   "cell_type": "markdown",
   "source": [
    "# La Función print(): Tu Herramienta de Comunicación\n",
    "\n",
    "La función `print()` es la puerta de entrada a la comunicación de tus programas con el mundo exterior. Aunque parece básica, es una herramienta increíblemente versátil que usarás constantemente, desde mostrar un simple \"Hola, Mundo\" hasta depurar código complejo y presentar los resultados de tus análisis de datos.\n",
    "\n",
    "En este notebook, exploraremos sus usos, desde lo más sencillo hasta sus parámetros y opciones de formato más avanzadas."
   ],
   "id": "b6f8612bd3d6a9b5"
  },
  {
   "metadata": {},
   "cell_type": "markdown",
   "source": [
    "## 1. Uso Básico y la Diferencia entre `,` y `+`\n",
    "\n",
    "El uso más simple de `print()` es pasarle los datos que quieres mostrar.\n",
    "\n",
    "* **Usando comas (`,`)**: `print()` puede recibir múltiples argumentos separados por comas. Automáticamente, añadirá un espacio entre cada uno.\n",
    "* **Usando el operador `+`**: Esto se conoce como **concatenación de strings**. Une las cadenas sin añadir ningún espacio. Debes añadirlos tú explícitamente."
   ],
   "id": "4d71347354c6ba21"
  },
  {
   "metadata": {},
   "cell_type": "code",
   "source": [
    "# Usando comas, Python añade los espacios\n",
    "print(\"Nunca\", \"pares\", \"de\", \"aprender\")\n",
    "\n",
    "# Usando +, las cadenas se pegan sin espacios\n",
    "print(\"Nunca\" + \"pares\" + \"de\" + \"aprender\")\n",
    "\n",
    "# Para arreglarlo con +, debemos añadir los espacios manualmente\n",
    "print(\"Nunca\" + \" \" + \"pares\" + \" \" + \"de\" + \" \" + \"aprender\")"
   ],
   "id": "6890abf18365c4fb",
   "outputs": [],
   "execution_count": null
  },
  {
   "metadata": {},
   "cell_type": "markdown",
   "source": [
    "## 2. Parámetros Especiales: `sep` y `end`\n",
    "\n",
    "Puedes modificar el comportamiento por defecto de `print()` con dos parámetros muy útiles:\n",
    "\n",
    "* **`sep` (separador):** Define qué cadena de texto se usará para separar los argumentos, en lugar del espacio por defecto.\n",
    "* **`end` (final):** Define qué se imprimirá al final de la línea. Por defecto es un salto de línea (`\\n`), pero puedes cambiarlo para que el siguiente `print()` continúe en la misma línea."
   ],
   "id": "d5841802de1692fe"
  },
  {
   "metadata": {},
   "cell_type": "code",
   "source": [
    "# Usando sep para separar con guiones\n",
    "print(\"2025\", \"09\", \"18\", sep=\"-\")\n",
    "\n",
    "# Usando end para imprimir en la misma línea\n",
    "print(\"El modelo alcanzó una precisión de:\", end=\" \")\n",
    "print(\"95%\")"
   ],
   "id": "17be58a24cba1c8a",
   "outputs": [],
   "execution_count": null
  },
  {
   "metadata": {},
   "cell_type": "markdown",
   "source": [
    "## 3. Formateo de Cadenas: Mostrando Variables\n",
    "\n",
    "Para integrar variables dentro de un texto, existen varios métodos. Los dos más importantes son las **f-strings** y el método **`.format()`**.\n",
    "\n",
    "### F-Strings (El método moderno y preferido)\n",
    "Es la forma más legible y recomendada. Simplemente pones una `f` antes de las comillas y escribes el nombre de tus variables entre llaves `{}`.\n",
    "\n",
    "### El método `.format()`\n",
    "Era el estándar antes de las f-strings. Usas llaves `{}` como marcadores de posición y luego pasas las variables a la función `.format()`.\n",
    "\n",
    "### Formato Específico para Números\n",
    "Dentro de las llaves, puedes especificar formatos. Por ejemplo, `{variable:.2f}` le dice a Python que formatee la variable como un número flotante con solo dos decimales."
   ],
   "id": "ce846352be44f608"
  },
  {
   "metadata": {
    "ExecuteTime": {
     "end_time": "2025-09-18T15:13:45.027257Z",
     "start_time": "2025-09-18T15:13:45.018714Z"
    }
   },
   "cell_type": "code",
   "source": [
    "frase = \"Nunca pares de aprender\"\n",
    "author = \"Platzi\"\n",
    "accuracy = 0.951234\n",
    "\n",
    "# 1. Usando f-strings (método recomendado)\n",
    "print(f\"Frase: '{frase}', por {author}. Precisión del modelo: {accuracy:.2%}\")\n",
    "\n",
    "# 2. Usando el método .format()\n",
    "print(\"Frase: '{}', por {}. Precisión del modelo: {:.2%}\".format(frase, author, accuracy))\n",
    "\n",
    "# Nota: El formato :.2% multiplica el valor por 100 y lo muestra como un porcentaje con dos decimales"
   ],
   "id": "4f5200ad53a324b4",
   "outputs": [
    {
     "name": "stdout",
     "output_type": "stream",
     "text": [
      "Frase: 'Nunca pares de aprender', por Platzi. Precisión del modelo: 95.12%\n",
      "Frase: 'Nunca pares de aprender', por Platzi. Precisión del modelo: 95.12%\n"
     ]
    }
   ],
   "execution_count": 20
  },
  {
   "metadata": {},
   "cell_type": "markdown",
   "source": [
    "## 4. Caracteres Especiales y Secuencias de Escape\n",
    "\n",
    "La barra invertida `\\` se usa para \"escapar\" caracteres, dándoles un significado especial.\n",
    "\n",
    "* `\\n`: Crea un **salto de línea**.\n",
    "* `\\t`: Inserta una **tabulación**.\n",
    "* `\\'` o `\\\"`: Permite escribir comillas dentro de un string que usa el mismo tipo de comillas.\n",
    "* `\\\\`: Permite escribir una barra invertida literal."
   ],
   "id": "49f962d74fb023ed"
  },
  {
   "metadata": {},
   "cell_type": "code",
   "source": [
    "# Usando salto de línea y tabulación para un reporte simple\n",
    "print(\"Reporte de Ventas:\\n\\t- Producto A: $1500\\n\\t- Producto B: $2200\")\n",
    "\n",
    "# Usando secuencias de escape para comillas y rutas de archivo\n",
    "print('El me dijo: \\'Python es increíble.\\'')\n",
    "print(\"La ruta del archivo es: C:\\\\Users\\\\Anderson\\\\data\")"
   ],
   "id": "e1c1f7d0c8ae2b64",
   "outputs": [],
   "execution_count": null
  }
 ],
 "metadata": {
  "kernelspec": {
   "name": "python3",
   "language": "python",
   "display_name": "Python 3 (ipykernel)"
  }
 },
 "nbformat": 5,
 "nbformat_minor": 9
}
