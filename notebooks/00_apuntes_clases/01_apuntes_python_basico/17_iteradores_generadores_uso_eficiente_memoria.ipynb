{
 "cells": [
  {
   "metadata": {},
   "cell_type": "markdown",
   "source": [
    "# Iteradores y Generadores: Procesando Datos Eficientemente\n",
    "\n",
    "Hasta ahora, hemos trabajado con colecciones de datos que cargamos por completo en la memoria (como las listas). Pero, ¿qué pasa si tienes que procesar un archivo de 10 GB o una secuencia infinita de datos?\n",
    "\n",
    "Aquí es donde entran los **iteradores** y **generadores**. Son mecanismos que te permiten recorrer colecciones de datos **uno a la vez**, sin necesidad de tener todo en la memoria al mismo tiempo.\n",
    "\n",
    "**La Analogía:**\n",
    "* Una **lista** es como **fotocopiar un libro de 1000 páginas de una sola vez**. Ocupa mucho espacio en tu escritorio (memoria).\n",
    "* Un **iterador/generador** es como **leer ese mismo libro página por página**, usando un marcapáginas. Solo necesitas espacio para una página a la vez."
   ],
   "id": "20ac8208e244a2ab"
  },
  {
   "metadata": {},
   "cell_type": "markdown",
   "source": [
    "## 1. Iteradores: El Mecanismo Detrás del Bucle `for`\n",
    "\n",
    "Un **iterador** es un objeto que representa un flujo de datos. Sabe cómo obtener el siguiente elemento de una secuencia. De hecho, el bucle `for` usa iteradores internamente.\n",
    "\n",
    "Cuando haces `for item in mi_lista:`, Python secretamente hace dos cosas:\n",
    "1.  Crea un iterador de la lista con `iter(mi_lista)`.\n",
    "2.  En cada vuelta, llama a `next()` sobre ese iterador para obtener el siguiente elemento, hasta que se agotan y recibe un error `StopIteration`.\n",
    "\n",
    "Podemos simular este proceso manualmente:"
   ],
   "id": "19f7910d4c711da0"
  },
  {
   "metadata": {
    "collapsed": true
   },
   "cell_type": "code",
   "source": [
    "# Creamos una lista\n",
    "lista = [10, 20, 30]\n",
    "\n",
    "# 1. Obtenemos su iterador\n",
    "iterador_lista = iter(lista)\n",
    "print(f\"El objeto iterador es: {iterador_lista}\")\n",
    "\n",
    "# 2. Obtenemos los elementos uno por uno con next()\n",
    "print(next(iterador_lista))\n",
    "print(next(iterador_lista))\n",
    "print(next(iterador_lista))\n",
    "\n",
    "# Si intentamos llamar a next() de nuevo, dará un error StopIteration\n",
    "# Para manejarlo elegantemente, usamos un bloque try-except\n",
    "try:\n",
    "    print(next(iterador_lista))\n",
    "except StopIteration:\n",
    "    print(\"\\nError: Se han agotado los elementos del iterador.\")"
   ],
   "id": "824fd5c82cbbc3b1",
   "outputs": [],
   "execution_count": null
  },
  {
   "metadata": {},
   "cell_type": "markdown",
   "source": [
    "## 2. Generadores: Creando tus Propios Iteradores\n",
    "\n",
    "Los **generadores** son una forma mucho más sencilla y elegante de crear iteradores. Son básicamente funciones que, en lugar de usar `return` para devolver un valor y terminar, usan la palabra clave **`yield`**.\n",
    "\n",
    "La magia de `yield` es que **pausa la ejecución de la función**, \"entrega\" el valor, y recuerda su estado interno, lista para reanudarse desde donde se quedó la próxima vez que se le pida el siguiente valor."
   ],
   "id": "a0a3eb84649e5798"
  },
  {
   "metadata": {
    "ExecuteTime": {
     "end_time": "2025-09-22T16:28:28.653888Z",
     "start_time": "2025-09-22T16:28:28.647862Z"
    }
   },
   "cell_type": "code",
   "source": [
    "# Un generador simple que produce (yields) tres números\n",
    "def mi_generador():\n",
    "    print(\"Produciendo el primer valor...\")\n",
    "    yield 1\n",
    "    print(\"Produciendo el segundo valor...\")\n",
    "    yield 2\n",
    "    print(\"Produciendo el tercer valor...\")\n",
    "    yield 3\n",
    "\n",
    "# Podemos usarlo directamente en un bucle for\n",
    "for valor in mi_generador():\n",
    "    print(f\"Recibido: {valor}\\n\")"
   ],
   "id": "5e67134259aede60",
   "outputs": [
    {
     "name": "stdout",
     "output_type": "stream",
     "text": [
      "Produciendo el primer valor...\n",
      "Recibido: 1\n",
      "\n",
      "Produciendo el segundo valor...\n",
      "Recibido: 2\n",
      "\n",
      "Produciendo el tercer valor...\n",
      "Recibido: 3\n",
      "\n"
     ]
    }
   ],
   "execution_count": 4
  },
  {
   "metadata": {},
   "cell_type": "markdown",
   "source": [
    "## 3. Un Caso Práctico: El Generador de Fibonacci\n",
    "\n",
    "La serie de Fibonacci (0, 1, 1, 2, 3, 5, 8...) es un ejemplo perfecto para un generador, ya que es una secuencia potencialmente infinita. No podríamos guardarla toda en una lista."
   ],
   "id": "46284eaa31c6f8ec"
  },
  {
   "metadata": {},
   "cell_type": "code",
   "source": [
    "def fibonacci(limite):\n",
    "    # a y b son los dos números anteriores de la serie\n",
    "    a, b = 0, 1\n",
    "\n",
    "    # El bucle se ejecuta mientras el número actual sea menor que el límite\n",
    "    while a < limite:\n",
    "        # Entrega el número actual y pausa\n",
    "        yield a\n",
    "        # Actualiza los valores para la siguiente iteración\n",
    "        a, b = b, a + b\n",
    "\n",
    "# Usamos el generador para imprimir la serie hasta 100\n",
    "print(\"Serie de Fibonacci hasta 100:\")\n",
    "for numero in fibonacci(100):\n",
    "    print(numero, end=\", \") # Usamos end para imprimir en la misma línea"
   ],
   "id": "cf05faedf441868c",
   "outputs": [],
   "execution_count": null
  },
  {
   "metadata": {},
   "cell_type": "markdown",
   "source": [
    "## 4. ¿Por Qué es Crucial? La Prueba de la Memoria\n",
    "\n",
    "Aquí demostramos la diferencia de memoria entre una lista y un generador para un millón de números."
   ],
   "id": "6a17ac9d2a80e4c"
  },
  {
   "metadata": {
    "ExecuteTime": {
     "end_time": "2025-09-22T16:29:15.375002Z",
     "start_time": "2025-09-22T16:29:15.333095Z"
    }
   },
   "cell_type": "code",
   "source": [
    "import sys\n",
    "\n",
    "# Creamos una lista con un millón de números\n",
    "lista_grande = list(range(1000000))\n",
    "\n",
    "# Creamos un generador para un millón de números\n",
    "generador_grande = range(1000000)\n",
    "\n",
    "print(f\"Tamaño de la LISTA en memoria: {sys.getsizeof(lista_grande)} bytes\")\n",
    "print(f\"Tamaño del GENERADOR en memoria: {sys.getsizeof(generador_grande)} bytes\")"
   ],
   "id": "5c6dac62b61f3cb3",
   "outputs": [
    {
     "name": "stdout",
     "output_type": "stream",
     "text": [
      "Tamaño de la LISTA en memoria: 8000056 bytes\n",
      "Tamaño del GENERADOR en memoria: 48 bytes\n"
     ]
    }
   ],
   "execution_count": 5
  }
 ],
 "metadata": {
  "kernelspec": {
   "display_name": "Python 3",
   "language": "python",
   "name": "python3"
  },
  "language_info": {
   "codemirror_mode": {
    "name": "ipython",
    "version": 2
   },
   "file_extension": ".py",
   "mimetype": "text/x-python",
   "name": "python",
   "nbconvert_exporter": "python",
   "pygments_lexer": "ipython2",
   "version": "2.7.6"
  }
 },
 "nbformat": 4,
 "nbformat_minor": 5
}
