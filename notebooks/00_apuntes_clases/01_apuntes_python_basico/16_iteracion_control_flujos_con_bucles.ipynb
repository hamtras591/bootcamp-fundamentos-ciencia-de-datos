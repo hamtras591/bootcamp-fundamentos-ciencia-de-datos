{
 "cells": [
  {
   "metadata": {},
   "cell_type": "markdown",
   "source": [
    "# Bucles y Control de Flujo: Automatizando Tareas Repetitivas\n",
    "\n",
    "Los **bucles** son una de las herramientas más poderosas de la programación. Nos permiten ejecutar un bloque de código múltiples veces sin tener que reescribirlo, lo cual es fundamental para procesar colecciones de datos como las listas.\n",
    "\n",
    "En este notebook, exploraremos los dos tipos de bucles en Python (`for` y `while`) y cómo controlar su comportamiento."
   ],
   "id": "c64fc916a7cec6ad"
  },
  {
   "metadata": {},
   "cell_type": "markdown",
   "source": [
    "## 1. El Bucle `for`: Iterando sobre Colecciones\n",
    "\n",
    "El bucle `for` es tu herramienta principal para recorrer los elementos de una colección (como una lista, tupla o string) uno por uno.\n",
    "\n",
    "**La Lógica:** \"Para cada `elemento` **en** esta `coleccion`, haz lo siguiente..."
   ],
   "id": "f0b11bbb46151792"
  },
  {
   "metadata": {
    "ExecuteTime": {
     "end_time": "2025-09-22T15:59:53.727850Z",
     "start_time": "2025-09-22T15:59:53.717373Z"
    }
   },
   "cell_type": "code",
   "source": [
    "numeros = [1, 2, 3, 4, 5, 6]\n",
    "\n",
    "# En cada iteración, la variable 'numero' tomará el valor de un elemento de la lista\n",
    "for numero in numeros:\n",
    "    print(f\"El valor actual es: {numero}\")\n"
   ],
   "id": "8416323ccaed7968",
   "outputs": [
    {
     "name": "stdout",
     "output_type": "stream",
     "text": [
      "El valor actual es: 1\n",
      "El valor actual es: 2\n",
      "El valor actual es: 3\n",
      "El valor actual es: 4\n",
      "El valor actual es: 5\n",
      "El valor actual es: 6\n"
     ]
    }
   ],
   "execution_count": 10
  },
  {
   "metadata": {},
   "cell_type": "markdown",
   "source": [
    "## 2. La Función `range()`: Creando Secuencias Numéricas\n",
    "\n",
    "Cuando no tienes una lista predefinida y simplemente quieres repetir una acción un número específico de veces, `range()` es la función ideal para usar con un bucle `for`.\n",
    "\n",
    "* `range(fin)`: Genera números desde 0 hasta `fin-1`.\n",
    "* `range(inicio, fin)`: Genera números desde `inicio` hasta `fin-1`."
   ],
   "id": "9bb1b25a19eb0e40"
  },
  {
   "metadata": {
    "ExecuteTime": {
     "end_time": "2025-09-22T16:00:48.411764Z",
     "start_time": "2025-09-22T16:00:48.400192Z"
    }
   },
   "cell_type": "code",
   "source": [
    "# Repetir una acción 5 veces (imprime de 0 a 4)\n",
    "print(\"--- range(5) ---\")\n",
    "for i in range(5):\n",
    "    print(i)\n",
    "\n",
    "# Imprimir números en un rango específico (de 3 a 6)\n",
    "print(\"\\n--- range(3, 7) ---\")\n",
    "for i in range(3, 7):\n",
    "    print(i)"
   ],
   "id": "5adf250722d1a1a0",
   "outputs": [
    {
     "name": "stdout",
     "output_type": "stream",
     "text": [
      "--- range(5) ---\n",
      "0\n",
      "1\n",
      "2\n",
      "3\n",
      "4\n",
      "\n",
      "--- range(3, 7) ---\n",
      "3\n",
      "4\n",
      "5\n",
      "6\n"
     ]
    }
   ],
   "execution_count": 11
  },
  {
   "metadata": {},
   "cell_type": "markdown",
   "source": [
    "## 3. Combinando Bucles y Condicionales\n",
    "\n",
    "El verdadero poder de los bucles se desata cuando metemos estructuras `if/elif/else` dentro de ellos. Esto nos permite analizar cada elemento y tomar decisiones específicas para cada uno."
   ],
   "id": "b1e8653986dbe1b0"
  },
  {
   "metadata": {
    "ExecuteTime": {
     "end_time": "2025-09-22T16:01:34.671924Z",
     "start_time": "2025-09-22T16:01:34.660727Z"
    }
   },
   "cell_type": "code",
   "source": [
    "frutas = [\"manzana\", \"pera\", \"uva\", \"naranja\", \"tomate\"]\n",
    "\n",
    "# Buscaremos una fruta específica en la lista\n",
    "for fruta in frutas:\n",
    "    print(f\"Revisando: {fruta}\")\n",
    "    if fruta == \"naranja\":\n",
    "        print(\"¡Naranja encontrada!\")"
   ],
   "id": "8e84f629805da2ec",
   "outputs": [
    {
     "name": "stdout",
     "output_type": "stream",
     "text": [
      "Revisando: manzana\n",
      "Revisando: pera\n",
      "Revisando: uva\n",
      "Revisando: naranja\n",
      "¡Naranja encontrada!\n",
      "Revisando: tomate\n"
     ]
    }
   ],
   "execution_count": 12
  },
  {
   "metadata": {},
   "cell_type": "markdown",
   "source": [
    "## 4. El Bucle `while`: Repitiendo Mientras una Condición sea Verdadera\n",
    "\n",
    "A diferencia de `for`, que se ejecuta sobre una colección finita, el bucle `while` se ejecuta **mientras** una condición se evalúe como `True`.\n",
    "\n",
    "**¡Cuidado!** Es crucial que dentro del bucle haya una línea de código que en algún momento haga que la condición sea `False`, de lo contrario, crearás un **bucle infinito**."
   ],
   "id": "604a706634b0e8ca"
  },
  {
   "metadata": {
    "ExecuteTime": {
     "end_time": "2025-09-22T16:02:33.494403Z",
     "start_time": "2025-09-22T16:02:33.484311Z"
    }
   },
   "cell_type": "code",
   "source": [
    "# Este bucle se ejecutará mientras 'contador' sea menor que 5\n",
    "contador = 0\n",
    "\n",
    "while contador < 5:\n",
    "    print(f\"El contador vale: {contador}\")\n",
    "    # Esta línea es la que modifica la condición y evita un bucle infinito\n",
    "    contador += 1\n",
    "\n",
    "print(\"El bucle while ha terminado.\")"
   ],
   "id": "5f6f41191a365e4e",
   "outputs": [
    {
     "name": "stdout",
     "output_type": "stream",
     "text": [
      "El contador vale: 0\n",
      "El contador vale: 1\n",
      "El contador vale: 2\n",
      "El contador vale: 3\n",
      "El contador vale: 4\n",
      "El bucle while ha terminado.\n"
     ]
    }
   ],
   "execution_count": 13
  },
  {
   "metadata": {},
   "cell_type": "markdown",
   "source": [
    "## 5. Controlando el Flujo del Bucle: `break` y `continue`\n",
    "\n",
    "A veces necesitas un control más fino sobre el comportamiento de tus bucles.\n",
    "\n",
    "### `break`: Saliendo del Bucle\n",
    "La palabra clave `break` es la \"salida de emergencia\". Termina el bucle por completo, sin importar si quedaban elementos o si la condición del `while` seguía siendo verdadera.\n",
    "\n",
    "### `continue`: Saltando a la Siguiente Iteración\n",
    "La palabra clave `continue` es el botón de \"saltar\". Termina la iteración **actual** y salta inmediatamente al inicio de la siguiente."
   ],
   "id": "48a249eafb82bd77"
  },
  {
   "metadata": {
    "ExecuteTime": {
     "end_time": "2025-09-22T16:03:27.847958Z",
     "start_time": "2025-09-22T16:03:27.837030Z"
    }
   },
   "cell_type": "code",
   "source": [
    "numeros = [1, 2, 3, 4, 5, 6]\n",
    "\n",
    "# Ejemplo con 'break': El bucle se detendrá cuando encuentre el 4\n",
    "print(\"--- Ejemplo con break ---\")\n",
    "for numero in numeros:\n",
    "    if numero == 4:\n",
    "        print(\"Encontré el 4, ¡saliendo del bucle!\")\n",
    "        break\n",
    "    print(numero)\n",
    "\n",
    "# Ejemplo con 'continue': El bucle omitirá imprimir el 4, pero continuará\n",
    "print(\"\\n--- Ejemplo con continue ---\")\n",
    "for numero in numeros:\n",
    "    if numero == 4:\n",
    "        print(\"Omitiendo el 4...\")\n",
    "        continue\n",
    "    print(numero)"
   ],
   "id": "99f10d1facb841a4",
   "outputs": [
    {
     "name": "stdout",
     "output_type": "stream",
     "text": [
      "--- Ejemplo con break ---\n",
      "1\n",
      "2\n",
      "3\n",
      "Encontré el 4, ¡saliendo del bucle!\n",
      "\n",
      "--- Ejemplo con continue ---\n",
      "1\n",
      "2\n",
      "3\n",
      "Omitiendo el 4...\n",
      "5\n",
      "6\n"
     ]
    }
   ],
   "execution_count": 14
  }
 ],
 "metadata": {
  "kernelspec": {
   "display_name": "Python 3",
   "language": "python",
   "name": "python3"
  },
  "language_info": {
   "codemirror_mode": {
    "name": "ipython",
    "version": 2
   },
   "file_extension": ".py",
   "mimetype": "text/x-python",
   "name": "python",
   "nbconvert_exporter": "python",
   "pygments_lexer": "ipython2",
   "version": "2.7.6"
  }
 },
 "nbformat": 4,
 "nbformat_minor": 5
}
