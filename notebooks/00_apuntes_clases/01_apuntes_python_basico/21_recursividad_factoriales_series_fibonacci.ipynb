{
 "cells": [
  {
   "metadata": {},
   "cell_type": "markdown",
   "source": [
    "# Recursividad: Cuando una Función se Llama a Sí Misma\n",
    "\n",
    "La **recursividad** es una técnica de programación donde una función se llama a sí misma para resolver un problema. Es un enfoque muy poderoso para problemas que se pueden dividir en subproblemas más pequeños y de la misma naturaleza.\n",
    "\n",
    "**La Analogía:**\n",
    "Imagina que estás al frente de una fila de personas y quieres saber cuántas personas hay en total. En lugar de contarlas tú mismo, le preguntas a la persona que tienes detrás: \"¿Cuántas personas hay detrás de ti?\". Esa persona le pregunta a la que tiene detrás, y así sucesivamente hasta llegar a la última persona, que responde \"cero\". La respuesta va volviendo hacia adelante, sumando uno en cada paso, hasta que llega a ti con el total.\n",
    "\n",
    "Toda función recursiva necesita dos elementos clave:\n",
    "1.  **Caso Base:** La condición que detiene la recursividad. Es la respuesta más simple que no requiere más llamadas (la última persona de la fila que dice \"cero\").\n",
    "2.  **Caso Recursivo:** La parte de la función que se llama a sí misma, pero con un problema ligeramente más pequeño (preguntarle a la persona de detrás)."
   ],
   "id": "1a9a296be21de769"
  },
  {
   "metadata": {},
   "cell_type": "markdown",
   "source": [
    "## 1. Ejemplo Clásico: El Factorial de un Número\n",
    "\n",
    "El factorial de `n` (escrito como `n!`) es el producto de todos los números desde `n` hasta 1. Por ejemplo, `5! = 5 * 4 * 3 * 2 * 1`.\n",
    "\n",
    "Podemos definirlo recursivamente: `n! = n * (n-1)!`\n",
    "\n",
    "* **Caso Base:** Si `n` es 0, el factorial es 1. `0! = 1`.\n",
    "* **Caso Recursivo:** Si `n` es mayor que 0, el factorial es `n` multiplicado por el factorial de `n-1`."
   ],
   "id": "926a7c2a54d9838f"
  },
  {
   "metadata": {
    "collapsed": true
   },
   "cell_type": "code",
   "source": [
    "def factorial(n):\n",
    "    # Caso Base: La condición de parada.\n",
    "    if n == 0:\n",
    "        return 1\n",
    "    # Caso Recursivo: La función se llama a sí misma con un problema más pequeño (n-1).\n",
    "    else:\n",
    "        print(f\"Calculando {n} * factorial({n-1})\")\n",
    "        return n * factorial(n - 1)\n",
    "\n",
    "# Calculamos el factorial de 4\n",
    "resultado = factorial(4)\n",
    "print(f\"\\nEl factorial de 4 es: {resultado}\")"
   ],
   "id": "5df6a31b9edb980e",
   "outputs": [],
   "execution_count": null
  },
  {
   "metadata": {},
   "cell_type": "markdown",
   "source": [
    "## 2. Otro Ejemplo Famoso: La Serie de Fibonacci\n",
    "\n",
    "La serie de Fibonacci es una secuencia donde cada número es la suma de los dos anteriores (0, 1, 1, 2, 3, 5, 8...).\n",
    "\n",
    "La definición recursiva es `F(n) = F(n-1) + F(n-2)`.\n",
    "\n",
    "* **Casos Base:** Si `n` es 0, el resultado es 0. Si `n` es 1, el resultado es 1.\n",
    "* **Caso Recursivo:** Para cualquier otro `n`, el resultado es la suma de los dos números de Fibonacci anteriores."
   ],
   "id": "7b6dab805d2355b1"
  },
  {
   "metadata": {},
   "cell_type": "code",
   "source": [
    "def fibonacci(n):\n",
    "    # Casos Base\n",
    "    if n == 0:\n",
    "        return 0\n",
    "    elif n == 1:\n",
    "        return 1\n",
    "    # Caso Recursivo\n",
    "    else:\n",
    "        return fibonacci(n - 1) + fibonacci(n - 2)\n",
    "\n",
    "# Calculamos el 7º número en la serie de Fibonacci (empezando desde 0)\n",
    "# La serie es: 0, 1, 1, 2, 3, 5, 8, 13...\n",
    "resultado_fib = fibonacci(7)\n",
    "print(f\"El 7º número de Fibonacci es: {resultado_fib}\")\n"
   ],
   "id": "34457fa1e26bc3e0",
   "outputs": [],
   "execution_count": null
  },
  {
   "metadata": {},
   "cell_type": "markdown",
   "source": [
    "# Memoización: Optimizando la Recursividad\n",
    "\n",
    "Hemos visto que la función recursiva para calcular la serie de Fibonacci es muy elegante, pero también extremadamente ineficiente. ¿Por qué? Porque calcula los mismos valores una y otra vez.\n",
    "\n",
    "La **memoización** es una técnica de optimización que soluciona esto.\n",
    "\n",
    "**La Analogía:**\n",
    "Imagina que un amigo te pide que calcules `fibonacci(5)`. Para hacerlo, necesitas `fibonacci(4)` y `fibonacci(3)`. Luego, para `fibonacci(4)`, necesitas `fibonacci(3)` y `fibonacci(2)`. Te das cuenta de que has calculado `fibonacci(3)` dos veces.\n",
    "\n",
    "La memoización es como tener una **\"chuleta\" o \"cheat sheet\"**. La primera vez que calculas `fibonacci(3)`, **anotas el resultado en tu chuleta**. La próxima vez que necesites `fibonacci(3)`, en lugar de volver a calcularlo, simplemente miras tu chuleta y das la respuesta al instante."
   ],
   "id": "d4d9d2759161af4a"
  },
  {
   "metadata": {},
   "cell_type": "markdown",
   "source": [
    "## 1. El Problema: La Versión Lenta\n",
    "\n",
    "Primero, recordemos nuestra función recursiva original. Es elegante, pero su rendimiento se degrada exponencialmente."
   ],
   "id": "197d3c4f19b0220b"
  },
  {
   "metadata": {},
   "cell_type": "code",
   "outputs": [],
   "execution_count": null,
   "source": [
    "def fibonacci_recursivo(n):\n",
    "    # Casos Base\n",
    "    if n <= 1:\n",
    "        return n\n",
    "    # Caso Recursivo\n",
    "    else:\n",
    "        return fibonacci_recursivo(n - 1) + fibonacci_recursivo(n - 2)\n",
    "\n",
    "# Intentar calcular un número relativamente pequeño como 35 ya toma varios segundos.\n",
    "fibonacci_recursivo(35) # Descomenta para probar el tiempo de espera"
   ],
   "id": "951053f8882aa398"
  },
  {
   "metadata": {},
   "cell_type": "markdown",
   "source": [
    "## 2. La Solución: Añadiendo una \"Chuleta\" (Caché)\n",
    "\n",
    "Para implementar la memoización, usamos un diccionario como nuestra \"chuleta\" o **caché**.\n",
    "\n",
    "La lógica de la nueva función es:\n",
    "1.  Antes de calcular, **revisa la chuleta**: ¿Ya tengo la respuesta para `n`? Si es así, la devuelvo al instante.\n",
    "2.  Si no está en la chuleta, **hago el cálculo** recursivo.\n",
    "3.  **¡Paso Clave!** Antes de devolver el resultado, lo **anoto en la chuleta** para el futuro."
   ],
   "id": "4a2f078a5a2b3986"
  },
  {
   "metadata": {
    "ExecuteTime": {
     "end_time": "2025-09-23T13:51:14.720579Z",
     "start_time": "2025-09-23T13:51:14.712675Z"
    }
   },
   "cell_type": "code",
   "source": [
    "def fibonacci_memoizado(n, cache={}):\n",
    "    # 1. Revisa la chuleta (el diccionario cache)\n",
    "    if n in cache:\n",
    "        return cache[n]\n",
    "\n",
    "    # Casos Base\n",
    "    if n <= 1:\n",
    "        return n\n",
    "\n",
    "    # 2. Si no está en la chuleta, calcula el resultado\n",
    "    resultado = fibonacci_memoizado(n - 1, cache) + fibonacci_memoizado(n - 2, cache)\n",
    "\n",
    "    # 3. Anota el resultado en la chuleta antes de devolverlo\n",
    "    cache[n] = resultado\n",
    "\n",
    "    return resultado\n",
    "\n",
    "print(resultado)"
   ],
   "id": "d8b40e6cfd4d905a",
   "outputs": [
    {
     "name": "stdout",
     "output_type": "stream",
     "text": [
      "24\n"
     ]
    }
   ],
   "execution_count": 10
  },
  {
   "metadata": {},
   "cell_type": "markdown",
   "source": [
    "## 3. La Prueba: Comparando el Rendimiento\n",
    "\n",
    "Ahora vamos a usar el módulo `time` de Python para medir cuánto tarda cada función en calcular el mismo número. La diferencia es asombrosa."
   ],
   "id": "f8b4508926d8848a"
  },
  {
   "metadata": {},
   "cell_type": "code",
   "outputs": [],
   "execution_count": null,
   "source": [
    "import time\n",
    "\n",
    "# --- Prueba con la versión lenta ---\n",
    "start_time = time.time()\n",
    "resultado_lento = fibonacci_recursivo(35)\n",
    "end_time = time.time()\n",
    "print(f\"Resultado (Lento): {resultado_lento}\")\n",
    "print(f\"Tiempo de ejecución (Lento): {end_time - start_time:.4f} segundos\")\n",
    "\n",
    "\n",
    "# --- Prueba con la versión rápida ---\n",
    "start_time = time.time()\n",
    "resultado_rapido = fibonacci_memoizado(35)\n",
    "end_time = time.time()\n",
    "print(f\"\\nResultado (Rápido): {resultado_rapido}\")\n",
    "print(f\"Tiempo de ejecución (Rápido): {end_time - start_time:.4f} segundos\")\n",
    "\n",
    "# ¡Podemos calcular números mucho más grandes al instante!\n",
    "print(f\"\\nCalculando un número grande con la versión memoizada:\")\n",
    "print(f\"Fibonacci(100) = {fibonacci_memoizado(100)}\")"
   ],
   "id": "202f06b876310150"
  }
 ],
 "metadata": {
  "kernelspec": {
   "display_name": "Python 3",
   "language": "python",
   "name": "python3"
  },
  "language_info": {
   "codemirror_mode": {
    "name": "ipython",
    "version": 2
   },
   "file_extension": ".py",
   "mimetype": "text/x-python",
   "name": "python",
   "nbconvert_exporter": "python",
   "pygments_lexer": "ipython2",
   "version": "2.7.6"
  }
 },
 "nbformat": 4,
 "nbformat_minor": 5
}
