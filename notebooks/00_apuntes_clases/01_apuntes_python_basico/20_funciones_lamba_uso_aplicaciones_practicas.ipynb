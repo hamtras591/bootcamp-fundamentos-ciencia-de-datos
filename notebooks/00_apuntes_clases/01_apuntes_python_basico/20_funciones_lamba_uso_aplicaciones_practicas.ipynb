{
 "cells": [
  {
   "metadata": {},
   "cell_type": "markdown",
   "source": [
    "# Funciones Lambda: Creando Funciones Anónimas y Concisas\n",
    "\n",
    "Las **funciones lambda** (también conocidas como funciones anónimas) son una forma compacta de definir una función pequeña y de un solo uso en una sola línea. Son muy útiles cuando necesitas una función rápida para una operación simple, especialmente en combinación con otras funciones como `map` y `filter`.\n",
    "\n",
    "La sintaxis básica es: `lambda argumentos: expresion`"
   ],
   "id": "4d9b2d47f798068a"
  },
  {
   "metadata": {},
   "cell_type": "markdown",
   "source": [
    "## 1. Sintaxis Básica de Lambda\n",
    "\n",
    "Una función `lambda` puede tomar cualquier número de argumentos, pero solo puede tener una expresión. El resultado de esa expresión es lo que la función devuelve."
   ],
   "id": "9e585d2504536af2"
  },
  {
   "cell_type": "code",
   "id": "initial_id",
   "metadata": {
    "collapsed": true,
    "ExecuteTime": {
     "end_time": "2025-09-23T13:18:31.424089Z",
     "start_time": "2025-09-23T13:18:31.418056Z"
    }
   },
   "source": [
    "# Una función lambda para sumar dos números\n",
    "sumar = lambda a, b: a + b\n",
    "print(f\"Resultado de la suma: {sumar(10, 4)}\")\n",
    "\n",
    "# Una función lambda para multiplicar\n",
    "multiplicar = lambda a, b: a * b\n",
    "print(f\"Resultado de la multiplicación: {multiplicar(80, 4)}\")"
   ],
   "outputs": [
    {
     "name": "stdout",
     "output_type": "stream",
     "text": [
      "Resultado de la suma: 14\n",
      "Resultado de la multiplicación: 320\n"
     ]
    }
   ],
   "execution_count": 6
  },
  {
   "metadata": {},
   "cell_type": "markdown",
   "source": [
    "## 2. `map()`: Aplicando una Lambda a una Colección\n",
    "\n",
    "La función `map()` aplica una función a cada elemento de un iterable (como una lista). Es el caso de uso más común para `lambda`.\n",
    "\n",
    "* **La Lógica:** \"Aplica la siguiente función lambda a cada `x` en la lista `numeros`\"."
   ],
   "id": "7e76be6d1cf3d64b"
  },
  {
   "metadata": {
    "ExecuteTime": {
     "end_time": "2025-09-23T13:19:14.452407Z",
     "start_time": "2025-09-23T13:19:14.442655Z"
    }
   },
   "cell_type": "code",
   "source": [
    "numeros = list(range(11)) # Lista de números del 0 al 10\n",
    "print(f\"Lista original: {numeros}\")\n",
    "\n",
    "# Usamos map y lambda para obtener el cuadrado de cada número\n",
    "cuadrados = list(map(lambda x: x ** 2, numeros))\n",
    "print(f\"Cuadrados de los números: {cuadrados}\")"
   ],
   "id": "b7323db124acf429",
   "outputs": [
    {
     "name": "stdout",
     "output_type": "stream",
     "text": [
      "Lista original: [0, 1, 2, 3, 4, 5, 6, 7, 8, 9, 10]\n",
      "Cuadrados de los números: [0, 1, 4, 9, 16, 25, 36, 49, 64, 81, 100]\n"
     ]
    }
   ],
   "execution_count": 7
  },
  {
   "metadata": {},
   "cell_type": "markdown",
   "source": [
    "## 3. `filter()`: Filtrando una Colección con una Lambda\n",
    "\n",
    "La función `filter()` crea una nueva lista con los elementos que cumplen una condición. La función `lambda` que se le pasa debe devolver `True` o `False`.\n",
    "\n",
    "* **La Lógica:** \"Conserva solo los elementos `x` de la lista `numeros` para los cuales la siguiente función lambda devuelva `True`\"."
   ],
   "id": "3bd40b59ed249fd5"
  },
  {
   "metadata": {
    "ExecuteTime": {
     "end_time": "2025-09-23T13:20:30.950281Z",
     "start_time": "2025-09-23T13:20:30.942343Z"
    }
   },
   "cell_type": "code",
   "source": [
    "numeros = list(range(11)) # Lista de números del 0 al 10\n",
    "print(f\"Lista original: {numeros}\")\n",
    "\n",
    "# Usamos filter y lambda para obtener solo los números pares\n",
    "numeros_pares = list(filter(lambda x: x % 2 == 0, numeros))\n",
    "print(f\"Números pares de la lista: {numeros_pares}\")"
   ],
   "id": "2fc767023267a9aa",
   "outputs": [
    {
     "name": "stdout",
     "output_type": "stream",
     "text": [
      "Lista original: [0, 1, 2, 3, 4, 5, 6, 7, 8, 9, 10]\n",
      "Números pares de la lista: [0, 2, 4, 6, 8, 10]\n"
     ]
    }
   ],
   "execution_count": 11
  }
 ],
 "metadata": {
  "kernelspec": {
   "display_name": "Python 3",
   "language": "python",
   "name": "python3"
  },
  "language_info": {
   "codemirror_mode": {
    "name": "ipython",
    "version": 2
   },
   "file_extension": ".py",
   "mimetype": "text/x-python",
   "name": "python",
   "nbconvert_exporter": "python",
   "pygments_lexer": "ipython2",
   "version": "2.7.6"
  }
 },
 "nbformat": 4,
 "nbformat_minor": 5
}
