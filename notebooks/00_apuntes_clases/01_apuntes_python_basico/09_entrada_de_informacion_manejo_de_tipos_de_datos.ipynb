{
 "cells": [
  {
   "metadata": {},
   "cell_type": "markdown",
   "source": [
    "# input(): Recibiendo Información del Usuario\n",
    "\n",
    "La función `input()` es la principal herramienta en Python para hacer nuestros programas interactivos. Detiene la ejecución del código, muestra un mensaje al usuario (opcional) y espera a que este escriba algo y presione \"Enter\"."
   ],
   "id": "f409b1820e5eda25"
  },
  {
   "metadata": {},
   "cell_type": "markdown",
   "source": [
    "## 1. El Comportamiento Clave: ¡Todo es un String!\n",
    "\n",
    "El punto más importante que debes recordar sobre `input()` es que, sin importar lo que el usuario escriba (un nombre, un número, una fecha), **la función SIEMPRE devolverá el dato como un string (`str`)**."
   ],
   "id": "18e4b55d3aeba9d3"
  },
  {
   "metadata": {},
   "cell_type": "code",
   "source": [
    "# Solicitamos el nombre y la edad del usuario\n",
    "nombre_usuario = input(\"Por favor, ingresa tu nombre: \")\n",
    "edad_usuario = input(\"Ahora, ingresa tu edad: \")\n",
    "\n",
    "print(\"\\n--- Verificando los tipos de datos ---\")\n",
    "print(f\"El nombre del usuario es: {nombre_usuario} y el tipo de dato de 'nombre_usuario' es: {type(nombre_usuario)}\")\n",
    "print(f\"La edad del usuario es: {edad_usuario} y el tipo de dato de 'edad_usuario' es: {type(edad_usuario)}\")"
   ],
   "id": "c46e33fd5110d148",
   "outputs": [],
   "execution_count": null
  },
  {
   "metadata": {},
   "cell_type": "markdown",
   "source": [
    "## 2. Casting: Convirtiendo Tipos de Datos\n",
    "\n",
    "Como `input()` siempre nos da un string, si necesitamos operar matemáticamente con un número, primero debemos convertirlo. A este proceso de cambiar el tipo de dato se le llama **casting**.\n",
    "\n",
    "Lo hacemos \"envolviendo\" la función `input()` con la clase del tipo de dato que deseamos: `int()`, `float()`, etc."
   ],
   "id": "d0fee519bfbc62db"
  },
  {
   "metadata": {},
   "cell_type": "code",
   "source": [
    "# Hacemos el casting directamente al recibir el dato\n",
    "edad_numerica = int(input(\"Ingresa tu edad nuevamente (esta vez como número): \"))\n",
    "\n",
    "print(\"\\n--- Verificando el tipo de dato después del casting ---\")\n",
    "print(f\"El tipo de dato de 'edad_numerica' ahora es: {type(edad_numerica)}\")\n",
    "\n",
    "# Ahora podemos usarlo en operaciones matemáticas\n",
    "print(f\"En 10 años, tendrás {edad_numerica + 10} años.\")"
   ],
   "id": "967b0fc1a4df8dee",
   "outputs": [],
   "execution_count": null
  },
  {
   "metadata": {},
   "cell_type": "markdown",
   "source": [
    "## 3. El Problema: ¿Qué Pasa si el Usuario se Equivoca?\n",
    "\n",
    "Si le pedimos un número (`int`) al usuario y este escribe texto (ej. \"treinta\"), el casting `int(\"treinta\")` fallará y el programa se detendrá bruscamente con un error llamado **`ValueError`**.\n",
    "\n",
    "⚠️ **Atención:** La siguiente celda está diseñada para fallar. Escribe un texto cuando te pida la edad para ver el error en acción."
   ],
   "id": "cc6a134e34d79a69"
  },
  {
   "metadata": {},
   "cell_type": "code",
   "source": [
    "# Este código se romperá si no ingresas un número\n",
    "edad_con_error = int(input(\"Ingresa tu edad (escribe texto para ver el error): \"))\n",
    "print(edad_con_error)"
   ],
   "id": "9cfe1ae94850f806",
   "outputs": [],
   "execution_count": null
  },
  {
   "metadata": {},
   "cell_type": "markdown",
   "source": [
    "## 4. La Solución Profesional: Manejo de Errores con `try-except`\n",
    "\n",
    "Para evitar que nuestro programa se rompa, usamos un bloque **`try-except`**. Es la forma correcta y profesional de manejar situaciones que podrían generar un error.\n",
    "\n",
    "* **`try`**: Aquí pones el código \"peligroso\" que podría fallar (en este caso, el casting).\n",
    "* **`except ValueError`**: Este bloque de código solo se ejecutará **si y solo si** ocurre un `ValueError` en el bloque `try`. Aquí es donde le damos un mensaje amigable al usuario."
   ],
   "id": "8622d1e9038bf2fd"
  },
  {
   "metadata": {
    "ExecuteTime": {
     "end_time": "2025-09-18T19:44:08.575551Z",
     "start_time": "2025-09-18T19:44:04.602488Z"
    }
   },
   "cell_type": "code",
   "source": [
    "try:\n",
    "    # Intentamos ejecutar este código\n",
    "    edad_segura = int(input(\"Ingresa tu edad (puedes intentar con texto ahora): \"))\n",
    "    print(f\"¡Gracias! Tu edad es {edad_segura}.\")\n",
    "except ValueError:\n",
    "    # Si ocurre un ValueError, se ejecuta este bloque en su lugar\n",
    "    print(\"Error: Ingresaste un valor no válido. Por favor, introduce solo números.\")"
   ],
   "id": "d647259d5f2a3f32",
   "outputs": [
    {
     "name": "stdout",
     "output_type": "stream",
     "text": [
      "Error: Ingresaste un valor no válido. Por favor, introduce solo números.\n"
     ]
    }
   ],
   "execution_count": 10
  },
  {
   "metadata": {},
   "cell_type": "markdown",
   "source": [
    "## 5. Aplicación Avanzada: Bucle `while` para Insistir\n",
    "\n",
    "Un bloque `try-except` maneja el error una vez, pero un programa realmente robusto debería seguir preguntando hasta que el usuario ingrese un dato válido. Combinamos un bucle `while` con `try-except` para lograr esto."
   ],
   "id": "9ea941d6761a05b5"
  },
  {
   "metadata": {
    "ExecuteTime": {
     "end_time": "2025-09-18T19:45:47.854317Z",
     "start_time": "2025-09-18T19:45:26.470172Z"
    }
   },
   "cell_type": "code",
   "source": [
    "while True: # Inicia un bucle infinito\n",
    "    try:\n",
    "        # Intenta pedir y convertir la edad\n",
    "        edad_validada = int(input(\"Por favor, ingresa tu edad (el programa insistirá hasta que sea un número): \"))\n",
    "\n",
    "        # Si la línea de arriba tiene éxito y no hay error, rompemos el bucle\n",
    "        break\n",
    "\n",
    "    except ValueError:\n",
    "        # Si hay un error, mostramos un mensaje y el bucle vuelve a empezar\n",
    "        print(\"Entrada incorrecta. Debes ingresar un número entero. Inténtalo de nuevo.\")\n",
    "\n",
    "# Este código solo se ejecutará cuando se haya roto el bucle (es decir, con una edad válida)\n",
    "print(f\"¡Perfecto! Tu edad, {edad_validada}, ha sido registrada correctamente.\")"
   ],
   "id": "3b9758e298f1e5f0",
   "outputs": [
    {
     "name": "stdout",
     "output_type": "stream",
     "text": [
      "Entrada incorrecta. Debes ingresar un número entero. Inténtalo de nuevo.\n",
      "Entrada incorrecta. Debes ingresar un número entero. Inténtalo de nuevo.\n",
      "¡Perfecto! Tu edad, 50, ha sido registrada correctamente.\n"
     ]
    }
   ],
   "execution_count": 11
  }
 ],
 "metadata": {
  "kernelspec": {
   "name": "python3",
   "language": "python",
   "display_name": "Python 3 (ipykernel)"
  }
 },
 "nbformat": 5,
 "nbformat_minor": 9
}
