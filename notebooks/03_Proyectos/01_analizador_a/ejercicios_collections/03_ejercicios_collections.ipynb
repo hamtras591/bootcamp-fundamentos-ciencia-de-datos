{
 "cells": [
  {
   "cell_type": "code",
   "id": "initial_id",
   "metadata": {
    "collapsed": true,
    "ExecuteTime": {
     "end_time": "2025-09-26T15:59:07.759960Z",
     "start_time": "2025-09-26T15:59:07.748698Z"
    }
   },
   "source": [
    "import collections\n",
    "\n",
    "\n",
    "menciones_stream = [\n",
    "    \"user_A:python:¡Me encanta #Python y #DataScience!\",\n",
    "    \"user_B:java:Acabo de terminar un proyecto en #Java.\",\n",
    "    \"user_A:python:Aprendiendo sobre #POO en #Python.\",\n",
    "    \"user_C:javascript:Los frameworks de #JS son geniales.\",\n",
    "    \"user_B:python:Cambiándome a #Python para #MachineLearning.\",\n",
    "    \"user_A:sql:Repasando consultas de #SQL.\",\n",
    "]\n",
    "\n",
    "\n",
    "# 1. Creas la \"plantilla\" para tus menciones\n",
    "Mencion = collections.namedtuple('Mencion', ['Autor', 'plataforma', 'texto'])\n",
    "\n",
    "# 2. Crear lista vacía para guarda los resultados ya estructurados\n",
    "\n",
    "lista_limpia_menciones = []\n",
    "\n",
    "# 3. Crear ciclo for para obtener la información\n",
    "\n",
    "for mencion_texto in menciones_stream:\n",
    "    # Dividir el texto por el separador\n",
    "    partes = mencion_texto.split(':')\n",
    "    # Creamos la instancia namedtuple usando los trozos\n",
    "    mencion_obj = Mencion(*partes)\n",
    "    lista_limpia_menciones.append(mencion_obj)\n",
    "\n",
    "# 1. Creamos el deque directamente desde la lista limpia\n",
    "ultimas_3_menciones = collections.deque(lista_limpia_menciones, maxlen=3)\n",
    "\n",
    "# 2. Imprimimos el contenido del deque\n",
    "print(\"--- Últimas 3 Menciones ---\")\n",
    "for mencion in ultimas_3_menciones:\n",
    "    print(f\"- {mencion.Autor} ({mencion.plataforma}): {mencion.texto}\")\n",
    "\n",
    "for resultado in lista_limpia_menciones:\n",
    "    print(resultado.Autor, resultado.plataforma, resultado.texto)\n",
    "\n",
    "menciones_por_autor = collections.defaultdict(list)\n",
    "\n",
    "for mencion in lista_limpia_menciones:\n",
    "    menciones_por_autor[mencion.Autor].append(mencion.texto)\n",
    "\n",
    "for autor, textos in menciones_por_autor.items():\n",
    "    print(f\"--- Autor: {autor} ---\")\n",
    "    for texto in textos:\n",
    "        print(f\"  - {texto}\")\n",
    "\n",
    "# 1. Crea una lista vacía para guardar TODOS los hashtags\n",
    "todos_los_hashtags = []\n",
    "\n",
    "# 2. Itera sobre tu lista de menciones ya estructurada\n",
    "for mencion in lista_limpia_menciones:\n",
    "    # 3. Divide el texto de cada mención en palabras\n",
    "    palabras = mencion.texto.split()\n",
    "    # 4. Itera sobre las palabras\n",
    "    for palabra in palabras:\n",
    "        # 5. Si una palabra empieza con '#', la guardas\n",
    "        if palabra.startswith('#'):\n",
    "            # Limpiamos por si tiene comas o puntos pegados\n",
    "            hashtag_limpio = palabra.strip('.,!')\n",
    "            todos_los_hashtags.append(hashtag_limpio)\n",
    "\n",
    "# 6. Ahora, crea el Counter a partir de esa lista simple\n",
    "conteo_hashtags = collections.Counter(todos_los_hashtags)\n",
    "\n",
    "print(\"\\n--- Top 3 Hashtags más Populares ---\")\n",
    "print(conteo_hashtags.most_common(3))"
   ],
   "outputs": [
    {
     "name": "stdout",
     "output_type": "stream",
     "text": [
      "--- Últimas 3 Menciones ---\n",
      "- user_C (javascript): Los frameworks de #JS son geniales.\n",
      "- user_B (python): Cambiándome a #Python para #MachineLearning.\n",
      "- user_A (sql): Repasando consultas de #SQL.\n",
      "user_A python ¡Me encanta #Python y #DataScience!\n",
      "user_B java Acabo de terminar un proyecto en #Java.\n",
      "user_A python Aprendiendo sobre #POO en #Python.\n",
      "user_C javascript Los frameworks de #JS son geniales.\n",
      "user_B python Cambiándome a #Python para #MachineLearning.\n",
      "user_A sql Repasando consultas de #SQL.\n",
      "--- Autor: user_A ---\n",
      "  - ¡Me encanta #Python y #DataScience!\n",
      "  - Aprendiendo sobre #POO en #Python.\n",
      "  - Repasando consultas de #SQL.\n",
      "--- Autor: user_B ---\n",
      "  - Acabo de terminar un proyecto en #Java.\n",
      "  - Cambiándome a #Python para #MachineLearning.\n",
      "--- Autor: user_C ---\n",
      "  - Los frameworks de #JS son geniales.\n",
      "\n",
      "--- Top 3 Hashtags más Populares ---\n",
      "[('#Python', 3), ('#DataScience', 1), ('#Java', 1)]\n"
     ]
    }
   ],
   "execution_count": 87
  }
 ],
 "metadata": {
  "kernelspec": {
   "display_name": "Python 3",
   "language": "python",
   "name": "python3"
  },
  "language_info": {
   "codemirror_mode": {
    "name": "ipython",
    "version": 2
   },
   "file_extension": ".py",
   "mimetype": "text/x-python",
   "name": "python",
   "nbconvert_exporter": "python",
   "pygments_lexer": "ipython2",
   "version": "2.7.6"
  }
 },
 "nbformat": 4,
 "nbformat_minor": 5
}
