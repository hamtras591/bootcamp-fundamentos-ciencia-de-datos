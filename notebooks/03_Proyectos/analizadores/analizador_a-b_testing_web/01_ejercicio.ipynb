{
 "cells": [
  {
   "metadata": {},
   "cell_type": "markdown",
   "source": [
    "# Proyecto 1: Analizador de A/B Testing para una Web\n",
    "\n",
    "En este proyecto, crearás un sistema en Python que analiza los resultados de un test A/B. Un test A/B es un experimento donde se muestran dos versiones de una página web (un grupo \"A\" y un grupo \"B\") a diferentes usuarios para ver cuál funciona mejor. Tu sistema leerá los datos de un archivo, calculará las estadísticas clave para cada grupo y declarará un ganador.\n",
    "\n",
    "### Paso 1: Prepara tus Datos (Crea el archivo `test_ab_data.csv`)\n",
    "\n",
    "Crea un archivo llamado `test_ab_data.csv` en la misma carpeta que tu notebook con datos que simulen el tiempo (en segundos) que los usuarios pasaron en cada versión de la página. Debe tener las columnas: `id_usuario`, `grupo`, `tiempo_en_pagina`.\n",
    "\n",
    "### Paso 2: Define la Clase `GrupoExperimental`\n",
    "\n",
    "Esta clase representará a un grupo del test (A o B) y será responsable de analizar sus propios datos.\n",
    "\n",
    "* **Constructor `__init__`**: Debe recibir `nombre` y `dataset` (una lista de números).\n",
    "* **Método `calcular_estadisticas()`**: Debe calcular la media, mediana, desviación estándar, mínimo y máximo del `dataset` y devolver un diccionario con los resultados.\n",
    "* **Método `__str__()`**: Debe devolver un string bien formateado que resuma las estadísticas del grupo.\n",
    "\n",
    "### Paso 3: Define la Clase `AnalizadorAB`\n",
    "\n",
    "Esta es la clase principal que orquestará todo el análisis.\n",
    "\n",
    "* **Constructor `__init__`**: Debe recibir `nombre_test`.\n",
    "* **Método `cargar_datos_desde_csv(ruta_archivo)`**: Debe leer el archivo CSV, separar los datos para cada grupo y crear dos objetos de la clase `GrupoExperimental`.\n",
    "* **Método `declarar_ganador()`**: Debe usar los objetos de grupo para calcular sus estadísticas, imprimirlas y comparar una métrica clave (la media) para determinar un ganador.\n",
    "\n",
    "### Paso 4: Ejecuta el Análisis\n",
    "\n",
    "Crea el código final que ponga todo en marcha:\n",
    "1.  Crea una instancia de `AnalizadorAB`.\n",
    "2.  Llama a `cargar_datos_desde_csv()` para cargar los datos del archivo.\n",
    "3.  Llama a `declarar_ganador()` para ver los resultados."
   ],
   "id": "7864c7e271a31d29"
  },
  {
   "metadata": {},
   "cell_type": "markdown",
   "source": [
    "---\n",
    "\n",
    "# Solución\n",
    "\n",
    "---"
   ],
   "id": "9deb985d1881bc09"
  },
  {
   "metadata": {},
   "cell_type": "markdown",
   "source": [
    "## Proyecto Final: Solución del Analizador de A/B Testing\n",
    "\n",
    "**El Objetivo:** Crear un sistema en Python que lee los resultados de un test A/B desde un archivo CSV, calcula las estadísticas descriptivas para cada grupo (A y B) y declara un ganador basado en una métrica clave."
   ],
   "id": "f9dddad4fa89e5"
  },
  {
   "metadata": {},
   "cell_type": "markdown",
   "source": [
    "## 1. Preparación de Datos\n",
    "\n",
    "Como primer paso, creamos nuestro archivo `test_ab_data.csv` para tener una fuente de datos con la que trabajar. Esto hace que nuestro notebook sea autocontenido y reproducible."
   ],
   "id": "c13204b0b9370c29"
  },
  {
   "metadata": {
    "ExecuteTime": {
     "end_time": "2025-09-25T19:13:45.220923Z",
     "start_time": "2025-09-25T19:13:45.204768Z"
    }
   },
   "cell_type": "code",
   "source": [
    "# Importamos la librería para manejar archivos CSV.\n",
    "import csv\n",
    "\n",
    "# Definimos los datos que contendrá nuestro archivo.\n",
    "datos_csv = [\n",
    "    ['id_usuario', 'grupo', 'tiempo_en_pagina'],\n",
    "    ['user1', 'A', '120'],\n",
    "    ['user2', 'B', '135'],\n",
    "    ['user3', 'A', '110'],\n",
    "    ['user4', 'B', '145'],\n",
    "    ['user5', 'A', '95'],\n",
    "    ['user6', 'B', '150'],\n",
    "    ['user7', 'A', '115'],\n",
    "    ['user8', 'B', '125'],\n",
    "    ['user9', 'A', '130'],\n",
    "    ['user10', 'B', '160']\n",
    "]\n",
    "\n",
    "# Usamos with open() para crear y escribir en el archivo de forma segura.\n",
    "# 'w' es el modo de escritura (write) y newline='' es una buena práctica para archivos CSV.\n",
    "with open('test_ab_data.csv', 'w', newline='') as file:\n",
    "    # Creamos un objeto 'writer' para escribir en el archivo.\n",
    "    writer = csv.writer(file)\n",
    "    # El método .writerows() escribe todas las filas de nuestra lista de datos.\n",
    "    writer.writerows(datos_csv)\n",
    "\n",
    "# Imprimimos un mensaje para confirmar que el archivo se creó.\n",
    "print(\"Archivo 'test_ab_data.csv' creado con éxito.\")"
   ],
   "id": "7ed7eb6ed6f2565f",
   "outputs": [
    {
     "name": "stdout",
     "output_type": "stream",
     "text": [
      "Archivo 'test_ab_data.csv' creado con éxito.\n"
     ]
    }
   ],
   "execution_count": 1
  },
  {
   "metadata": {},
   "cell_type": "markdown",
   "source": [
    "## 2. Creación de los \"Planos\" (Clases)\n",
    "\n",
    "Diseñamos nuestras clases. La clase `GrupoExperimental` se encargará de los cálculos para un solo grupo, y `AnalizadorAB` orquestará todo el proceso."
   ],
   "id": "91f22ac51933d566"
  },
  {
   "metadata": {},
   "cell_type": "code",
   "outputs": [],
   "execution_count": null,
   "source": [
    "# Importamos la librería de statistics para los cálculos.\n",
    "import statistics\n",
    "# Importamos copy para crear copias seguras de nuestros datos.\n",
    "import copy\n",
    "\n",
    "# --- PLANO 1: Para analizar un solo grupo ---\n",
    "class GrupoExperimental:\n",
    "    # El constructor. Se ejecuta al crear un objeto GrupoExperimental.\n",
    "    def __init__(self, nombre, dataset):\n",
    "        # Guarda el nombre del grupo (ej. 'A') como un atributo del objeto.\n",
    "        self.nombre = nombre\n",
    "        # Guarda la lista de datos (tiempos) como un atributo.\n",
    "        self.dataset = dataset\n",
    "\n",
    "    # Método que realiza todos los cálculos estadísticos para este grupo.\n",
    "    def calcular_estadisticas(self):\n",
    "        # Devuelve un diccionario con todos los resultados para un fácil acceso.\n",
    "        return {\n",
    "            'media': statistics.mean(self.dataset),      # El promedio de los valores.\n",
    "            'mediana': statistics.median(self.dataset),    # El valor central de los datos ordenados.\n",
    "            'std_dev': statistics.stdev(self.dataset),   # La desviación estándar (dispersión).\n",
    "            'minimo': min(self.dataset),               # El valor más pequeño.\n",
    "            'maximo': max(self.dataset)                # El valor más grande.\n",
    "        }\n",
    "\n",
    "    # Método especial que define cómo imprimir el objeto de forma legible.\n",
    "    def __str__(self):\n",
    "        # Llama a su propio método para obtener las estadísticas.\n",
    "        stats = self.calcular_estadisticas()\n",
    "        # Devuelve un string formateado con los resultados clave.\n",
    "        return f\"--- Resumen del {self.nombre} ---\\nMedia: {stats['media']:.2f}\\nMediana: {stats['mediana']}\\nDesv. Estándar: {stats['std_dev']:.2f}\"\n",
    "\n",
    "\n",
    "# --- PLANO 2: Para orquestar todo el análisis ---\n",
    "class AnalizadorAB:\n",
    "    # Constructor que inicializa el análisis con un nombre.\n",
    "    def __init__(self, nombre_test):\n",
    "        # Guarda el nombre del experimento.\n",
    "        self.nombre_test = nombre_test\n",
    "        # Prepara los atributos para guardar los objetos de cada grupo, inicialmente vacíos.\n",
    "        self.grupo_a = None\n",
    "        self.grupo_b = None\n",
    "\n",
    "    # Método para leer el archivo y organizar los datos.\n",
    "    def cargar_datos_desde_csv(self, ruta_archivo):\n",
    "        # Creamos listas temporales para separar los datos de cada grupo.\n",
    "        datos_a = []\n",
    "        datos_b = []\n",
    "\n",
    "        # Abrimos el archivo CSV en modo lectura ('r').\n",
    "        with open(ruta_archivo, mode='r', newline='') as file:\n",
    "            # Usamos DictReader para leer cada fila como un diccionario.\n",
    "            lector_csv = csv.DictReader(file)\n",
    "            # Iteramos sobre cada fila del archivo CSV.\n",
    "            for fila in lector_csv:\n",
    "                # Usamos un condicional para dirigir cada dato a su lista correspondiente.\n",
    "                if fila['grupo'] == 'A':\n",
    "                    # Convertimos el tiempo a float y lo añadimos a la lista del grupo A.\n",
    "                    datos_a.append(float(fila['tiempo_en_pagina']))\n",
    "                elif fila['grupo'] == 'B':\n",
    "                    # Convertimos el tiempo a float y lo añadimos a la lista del grupo B.\n",
    "                    datos_b.append(float(fila['tiempo_en_pagina']))\n",
    "\n",
    "        # Creamos los objetos, pasando los datos que acabamos de separar.\n",
    "        self.grupo_a = GrupoExperimental(\"Grupo A\", datos_a)\n",
    "        self.grupo_b = GrupoExperimental(\"Grupo B\", datos_b)\n",
    "        # Imprimimos un mensaje de confirmación.\n",
    "        print(\"Datos cargados y grupos experimentales creados.\")\n",
    "\n",
    "    # Método principal que ejecuta y presenta el análisis.\n",
    "    def declarar_ganador(self):\n",
    "        # Imprime un encabezado para el reporte.\n",
    "        print(f\"\\n===== RESULTADOS DEL TEST: {self.nombre_test} =====\")\n",
    "\n",
    "        # Imprime el resumen del Grupo A (esto llama al método __str__ de self.grupo_a).\n",
    "        print(self.grupo_a)\n",
    "        # Imprime el resumen del Grupo B (esto llama al método __str__ de self.grupo_b).\n",
    "        print(self.grupo_b)\n",
    "\n",
    "        # Obtenemos los diccionarios de estadísticas para poder compararlos.\n",
    "        stats_a = self.grupo_a.calcular_estadisticas()\n",
    "        stats_b = self.grupo_b.calcular_estadisticas()\n",
    "\n",
    "        # Imprime una línea divisoria para separar los resultados.\n",
    "        print(\"\\n--- Conclusión ---\")\n",
    "        # Compara la métrica clave (la media) para determinar el ganador.\n",
    "        if stats_a['media'] > stats_b['media']:\n",
    "            # Declara al Grupo A como ganador si su media es mayor.\n",
    "            print(\"El ganador es el Grupo A, con un mayor tiempo promedio en la página.\")\n",
    "        elif stats_b['media'] > stats_a['media']:\n",
    "            # Declara al Grupo B como ganador si su media es mayor.\n",
    "            print(\"El ganador es el Grupo B, con un mayor tiempo promedio en la página.\")\n",
    "        else:\n",
    "            # Declara un empate si las medias son idénticas.\n",
    "            print(\"No hay un ganador claro, ambos grupos tuvieron el mismo tiempo promedio.\")\n",
    "        # Imprime un pie de página para el reporte.\n",
    "        print(\"=\" * 53)"
   ],
   "id": "767da78c1308cfcb"
  },
  {
   "metadata": {},
   "cell_type": "markdown",
   "source": "## 3. Simulación: Poniendo Todo en Marcha",
   "id": "ede76aab6a7d14a6"
  },
  {
   "metadata": {},
   "cell_type": "code",
   "outputs": [],
   "execution_count": null,
   "source": [
    "# 1. Creamos una instancia del analizador, dándole un nombre a nuestro test.\n",
    "test_landing_page = AnalizadorAB(\"Test de Tiempo en Página de Aterrizaje\")\n",
    "\n",
    "# 2. Llamamos al método para que cargue y procese los datos del archivo.\n",
    "test_landing_page.cargar_datos_desde_csv('test_ab_data.csv')\n",
    "\n",
    "# 3. Llamamos al método que realiza la comparación y muestra el reporte final.\n",
    "test_landing_page.declarar_ganador()"
   ],
   "id": "4fff1ed062b91488"
  }
 ],
 "metadata": {
  "kernelspec": {
   "display_name": "Python 3",
   "language": "python",
   "name": "python3"
  },
  "language_info": {
   "codemirror_mode": {
    "name": "ipython",
    "version": 2
   },
   "file_extension": ".py",
   "mimetype": "text/x-python",
   "name": "python",
   "nbconvert_exporter": "python",
   "pygments_lexer": "ipython2",
   "version": "2.7.6"
  }
 },
 "nbformat": 4,
 "nbformat_minor": 5
}
