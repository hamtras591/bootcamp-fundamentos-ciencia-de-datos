{
 "cells": [
  {
   "metadata": {},
   "cell_type": "markdown",
   "source": [
    "# Desafío #3: Agregador de Ventas por Producto\n",
    "\n",
    "### El Escenario 📈\n",
    "\n",
    "Trabajas en un e-commerce y tienes una lista de transacciones de ventas. Cada transacción es un diccionario. Tu tarea es procesar esta lista para crear un reporte que resuma el total de unidades vendidas y los ingresos totales ***por cada producto.***"
   ],
   "id": "f3a0588cff570b4b"
  },
  {
   "metadata": {},
   "cell_type": "markdown",
   "source": [
    "### Datos de Entrada\n",
    "\n",
    "Esta es tu lista de transacciones. Nota que los productos se repiten.\n",
    "\n",
    "---"
   ],
   "id": "26049d4b8450a53"
  },
  {
   "metadata": {},
   "cell_type": "code",
   "outputs": [],
   "execution_count": null,
   "source": [
    "ventas = [\n",
    "    {'producto_id': 'P001', 'cantidad': 2, 'precio_unitario': 50},\n",
    "    {'producto_id': 'P002', 'cantidad': 1, 'precio_unitario': 120},\n",
    "    {'producto_id': 'P001', 'cantidad': 3, 'precio_unitario': 50},\n",
    "    {'producto_id': 'P003', 'cantidad': 5, 'precio_unitario': 15},\n",
    "    {'producto_id': 'P002', 'cantidad': 2, 'precio_unitario': 120},\n",
    "    {'producto_id': 'P001', 'cantidad': 1, 'precio_unitario': 50},\n",
    "]"
   ],
   "id": "d0f56a1eaf484a1e"
  },
  {
   "metadata": {},
   "cell_type": "markdown",
   "source": [
    "### Tu Misión (Requisitos)\n",
    "\n",
    "1. Crea un diccionario vacío llamado reporte_productos.\n",
    "2. Itera sobre la lista ventas.\n",
    "3. Para cada venta (que es un diccionario):\n",
    "    * Extrae el producto_id, la cantidad y el precio_unitario.\n",
    "    * Calcula el ingreso de esa transacción (cantidad * precio_unitario).\n",
    "    * La Lógica Clave:\n",
    "        * Si el producto_id no existe todavía en tu reporte_productos, créalo. Debe ser un diccionario anidado con las claves 'unidades_vendidas' y 'ingresos_totales'.\n",
    "        * Si el producto_id ya existe, actualiza sus valores sumando la nueva cantidad y los nuevos ingresos.\n",
    "4. Al final, imprime el reporte_productos.\n",
    "\n",
    "### Salida Esperada\n",
    "\n",
    "El diccionario final debe tener esta estructura:\n",
    "\n",
    "---"
   ],
   "id": "9ca6ece8105a983b"
  },
  {
   "metadata": {},
   "cell_type": "code",
   "outputs": [],
   "execution_count": null,
   "source": [
    "{\n",
    "    'P001': {'unidades_vendidas': 6, 'ingresos_totales': 300},\n",
    "    'P002': {'unidades_vendidas': 3, 'ingresos_totales': 360},\n",
    "    'P003': {'unidades_vendidas': 5, 'ingresos_totales': 75}\n",
    "}"
   ],
   "id": "2d7a845e75b1a555"
  }
 ],
 "metadata": {},
 "nbformat": 4,
 "nbformat_minor": 5
}
