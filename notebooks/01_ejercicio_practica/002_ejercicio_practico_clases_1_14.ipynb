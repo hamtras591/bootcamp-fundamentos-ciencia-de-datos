{
 "cells": [
  {
   "metadata": {},
   "cell_type": "markdown",
   "source": [
    "# Desafío #2: Analizador de Logs del Servidor\n",
    "\n",
    "### El Escenario 🖥️\n",
    "\n",
    "Eres un analista de sistemas y te han entregado una lista de logs de un servidor. Necesitas procesarlos para obtener un resumen rápido de cuántos mensajes de cada tipo se han registrado.\n",
    "\n",
    "### Datos de Entrada\n",
    "\n",
    "---"
   ],
   "id": "a489c938a0def587"
  },
  {
   "metadata": {},
   "cell_type": "code",
   "outputs": [],
   "execution_count": null,
   "source": [
    "logs = [\n",
    "    \"INFO: Conexión exitosa\",\n",
    "    \"WARNING: Uso de CPU al 85%\",\n",
    "    \"INFO: Archivo de datos cargado\",\n",
    "    \"ERROR: No se pudo conectar a la base de datos\",\n",
    "    \"INFO: Usuario 'anderson' inició sesión\",\n",
    "    \"WARNING: Disco casi lleno\",\n",
    "    \"INFO: Proceso finalizado correctamente\",\n",
    "]"
   ],
   "id": "13c41c02b672ec47"
  },
  {
   "metadata": {},
   "cell_type": "markdown",
   "source": [
    "### Tu Misión (Requisitos)\n",
    "\n",
    "1. Crea un diccionario vacío llamado conteo_logs que usaremos como contador. Debería tener las claves 'INFO', 'WARNING' y 'ERROR', todas inicializadas en 0.\n",
    "2. Itera sobre la lista logs.\n",
    "3. Para cada log, extrae el nivel del log (la parte antes de los dos puntos :).\n",
    "4. Actualiza el contador en tu diccionario conteo_logs sumándole 1 a la clave correspondiente.\n",
    "5. Al final, imprime el diccionario conteo_logs con el resumen.\n",
    "\n",
    "---\n",
    "\n",
    "### Salida Esperada\n",
    "\n",
    "El resultado final en tu diccionario debería ser:"
   ],
   "id": "937abd3c8f15c87f"
  },
  {
   "metadata": {},
   "cell_type": "code",
   "outputs": [],
   "execution_count": null,
   "source": "{'INFO': 4, 'WARNING': 2, 'ERROR': 1}",
   "id": "2ba10e8980dc3469"
  }
 ],
 "metadata": {},
 "nbformat": 4,
 "nbformat_minor": 5
}
