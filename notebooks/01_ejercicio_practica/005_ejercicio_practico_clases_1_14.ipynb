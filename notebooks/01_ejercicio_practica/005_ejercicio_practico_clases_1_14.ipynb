{
 "cells": [
  {
   "metadata": {},
   "cell_type": "markdown",
   "source": [
    "# Desafío #4: Validador de Matrículas\n",
    "\n",
    "### El Escenario 🏫\n",
    "\n",
    "Eres el administrador de sistemas de una universidad y necesitas validar las solicitudes de matrícula de los estudiantes. Debes verificar que los cursos que solicitan existan y que haya cupos disponibles.\n",
    "# Datos de Entrada\n",
    "Tienes dos estructuras de datos:\n",
    "\n",
    "---"
   ],
   "id": "2016c1799cb275b2"
  },
  {
   "metadata": {
    "collapsed": true
   },
   "cell_type": "code",
   "outputs": [],
   "execution_count": null,
   "source": [
    "# Un diccionario con los cursos disponibles y sus cupos\n",
    "cursos_disponibles = {\n",
    "    'C101': {'nombre': 'Cálculo Diferencial', 'cupos': 3},\n",
    "    'P205': {'nombre': 'Fundamentos de Python', 'cupos': 2},\n",
    "    'D310': {'nombre': 'Bases de Datos', 'cupos': 4}\n",
    "}\n",
    "\n",
    "# Una lista con las solicitudes de los estudiantes\n",
    "solicitudes_estudiantes = [\n",
    "    {'id_estudiante': 'E01', 'cursos_solicitados': ['C101', 'P205']},\n",
    "    {'id_estudiante': 'E02', 'cursos_solicitados': ['P205', 'D310']},\n",
    "    {'id_estudiante': 'E03', 'cursos_solicitados': ['C101', 'P205', 'E500']}, # E500 no existe\n",
    "    {'id_estudiante': 'E04', 'cursos_solicitados': ['C101', 'D310']},\n",
    "    {'id_estudiante': 'E05', 'cursos_solicitados': ['C101', 'D310']},\n",
    "]"
   ],
   "id": "5317a66f1747f346"
  },
  {
   "metadata": {},
   "cell_type": "markdown",
   "source": [
    "### Tu Misión (Requisitos)\n",
    "\n",
    "1. Crea una lista vacía llamada reporte_matriculas.\n",
    "\n",
    "2. Itera sobre cada solicitud en la lista solicitudes_estudiantes.\n",
    "\n",
    "3. Para cada estudiante, crea un diccionario de reporte con su id_estudiante y dos listas vacías: 'cursos_aprobados' y 'cursos_rechazados'.\n",
    "\n",
    "4. Dentro de ese bucle, haz otro bucle para iterar sobre los cursos_solicitados del estudiante.\n",
    "\n",
    "5. Para cada curso solicitado:\n",
    "\n",
    "    * Verifica si el código del curso existe como clave en cursos_disponibles\n",
    "    * Si existe, verifica si los cupos de ese curso son mayores a 0.\n",
    "    * Si ambas condiciones son verdaderas, añade el nombre del curso a la lista `cursos_aprobados` del estudiante y resta 1 al cupo en `cursos_disponibles`.\n",
    "    * Si alguna de las dos condiciones falla, añade el código del curso a la lista `cursos_rechazados`.\n",
    "\n",
    "6. Añade el diccionario de reporte de cada estudiante a la lista reporte_matriculas\n",
    "7. Al final, imprime el reporte_matriculas.\n",
    "\n",
    "### Salida Esperada"
   ],
   "id": "5298f2bafe693e2d"
  },
  {
   "metadata": {},
   "cell_type": "code",
   "outputs": [],
   "execution_count": null,
   "source": [
    "[\n",
    "    {'id_estudiante': 'E01', 'cursos_aprobados': ['Cálculo Diferencial', 'Fundamentos de Python'], 'cursos_rechazados': []},\n",
    "    {'id_estudiante': 'E02', 'cursos_aprobados': ['Bases de Datos'], 'cursos_rechazados': ['P205']},\n",
    "    {'id_estudiante': 'E03', 'cursos_aprobados': ['Cálculo Diferencial'], 'cursos_rechazados': ['P205', 'E500']},\n",
    "    {'id_estudiante': 'E04', 'cursos_aprobados': ['Bases de Datos', 'Cálculo Diferencial'], 'cursos_rechazados': []},\n",
    "    {'id_estudiante': 'E05', 'cursos_aprobados': ['Bases de Datos'], 'cursos_rechazados': ['C101']}\n",
    "]"
   ],
   "id": "9f41f67c4bab1370"
  }
 ],
 "metadata": {
  "kernelspec": {
   "display_name": "Python 3",
   "language": "python",
   "name": "python3"
  },
  "language_info": {
   "codemirror_mode": {
    "name": "ipython",
    "version": 2
   },
   "file_extension": ".py",
   "mimetype": "text/x-python",
   "name": "python",
   "nbconvert_exporter": "python",
   "pygments_lexer": "ipython2",
   "version": "2.7.6"
  }
 },
 "nbformat": 4,
 "nbformat_minor": 5
}
