{
 "cells": [
  {
   "metadata": {},
   "cell_type": "markdown",
   "source": [
    "# Desafío #3: Calculadora de Calificaciones\n",
    "\n",
    "### El Escenario 🎓\n",
    "\n",
    "Eres asistente de un profesor y necesitas automatizar el proceso de calcular el promedio final de los estudiantes y determinar si aprobaron o no.\n",
    "\n",
    "## Datos de Entrada\n",
    "\n",
    "Tienes un diccionario donde las claves son los nombres de los estudiantes y los valores son listas con sus calificaciones.\n",
    "\n",
    "---"
   ],
   "id": "5cebe8148dfd3b89"
  },
  {
   "metadata": {},
   "cell_type": "code",
   "outputs": [],
   "execution_count": null,
   "source": [
    "calificaciones_estudiantes = {\n",
    "    \"Ana\": [90, 85, 92, 88],\n",
    "    \"Luis\": [65, 70, 68, 72],\n",
    "    \"Sofia\": [95, 98, 100, 97],\n",
    "    \"Carlos\": [50, 60, 55, 62]\n",
    "}"
   ],
   "id": "97a3ec0a50c303a6"
  },
  {
   "metadata": {},
   "cell_type": "markdown",
   "source": [
    "# Tu Misión (Requisitos)\n",
    "\n",
    "1. Crea una lista vacía llamada reporte_final.\n",
    "2. Itera sobre el diccionario calificaciones_estudiantes (Pista: .items() te dará el nombre y la lista de notas).\n",
    "3. Para cada estudiante:\n",
    "    * Calcula su promedio de calificaciones.\n",
    "    * Determina su estado: si el promedio es mayor o igual a 70, el estado es \"Aprobado\"; de lo contrario, es \"Reprobado\".\n",
    "    * Crea un nuevo diccionario para ese estudiante con las claves: 'nombre', 'promedio' y 'estado'.\n",
    "4. Añade el diccionario de cada estudiante a la lista reporte_final.\n",
    "5. Al final, imprime la lista reporte_final.\n",
    "\n",
    "### Salida Esperada\n",
    "\n",
    "Tu lista final debería verse así:"
   ],
   "id": "3baed608519e507c"
  },
  {
   "metadata": {},
   "cell_type": "code",
   "outputs": [],
   "execution_count": null,
   "source": [
    "[\n",
    "    {'nombre': 'Ana', 'promedio': 88.75, 'estado': 'Aprobado'},\n",
    "    {'nombre': 'Luis', 'promedio': 68.75, 'estado': 'Reprobado'},\n",
    "    {'nombre': 'Sofia', 'promedio': 97.5, 'estado': 'Aprobado'},\n",
    "    {'nombre': 'Carlos', 'promedio': 56.75, 'estado': 'Reprobado'}\n",
    "]"
   ],
   "id": "b635f0e714fbf2c4"
  }
 ],
 "metadata": {},
 "nbformat": 4,
 "nbformat_minor": 5
}
