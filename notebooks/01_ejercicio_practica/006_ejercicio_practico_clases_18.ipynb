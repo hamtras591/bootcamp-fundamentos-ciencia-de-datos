{
 "cells": [
  {
   "metadata": {
    "ExecuteTime": {
     "end_time": "2025-09-22T21:59:11.818376Z",
     "start_time": "2025-09-22T21:59:11.799401Z"
    }
   },
   "cell_type": "code",
   "source": [
    "matriz = [\n",
    "    [8, 12, 90],\n",
    "    [7, 25, 30],\n",
    "    [15, 6, 22]\n",
    "]\n",
    "\n",
    "lista_plana = [valor for fila in matriz for valor in fila if valor % 2 == 0 and valor > 10]\n",
    "lista_plana\n",
    "\n"
   ],
   "id": "138e363acd78857b",
   "outputs": [
    {
     "data": {
      "text/plain": [
       "[12, 90, 30, 22]"
      ]
     },
     "execution_count": 61,
     "metadata": {},
     "output_type": "execute_result"
    }
   ],
   "execution_count": 61
  },
  {
   "metadata": {
    "ExecuteTime": {
     "end_time": "2025-09-22T22:15:40.390007Z",
     "start_time": "2025-09-22T22:15:40.370591Z"
    }
   },
   "cell_type": "code",
   "source": [
    "carrito = [\n",
    "    (\"Manzana\", 2, 1.50), # (Producto, Cantidad, Precio Unitario)\n",
    "    (\"Banana\", 3, 0.75),\n",
    "    (\"Leche\", 1, 2.50),\n",
    "    (\"Pan\", 2, 1.25)\n",
    "]\n",
    "\n",
    "resumen_carrito = [fruta[1] * fruta[2]  for fruta in carrito]\n",
    "resumen_carrito\n"
   ],
   "id": "b70218db616fdbc1",
   "outputs": [
    {
     "data": {
      "text/plain": [
       "[3.0, 2.25, 2.5, 2.5]"
      ]
     },
     "execution_count": 108,
     "metadata": {},
     "output_type": "execute_result"
    }
   ],
   "execution_count": 108
  },
  {
   "metadata": {
    "ExecuteTime": {
     "end_time": "2025-09-22T22:28:55.395629Z",
     "start_time": "2025-09-22T22:28:34.391236Z"
    }
   },
   "cell_type": "code",
   "source": [
    "temperatura = []\n",
    "\n",
    "while True:\n",
    "    temperatura_actual = input(\"Ingrese la temperatura actual o escribir 'salir' para terminar: \")\n",
    "    if temperatura_actual.lower().strip() == \"salir\":\n",
    "        break\n",
    "    try:\n",
    "        temperatura_actual = float(temperatura_actual)\n",
    "        print(temperatura_actual)\n",
    "        temperatura.append(temperatura_actual)\n",
    "    except:\n",
    "        print(f\"Lo que puso el puto usuario {temperatura_actual} no es un puto número.\")\n",
    "\n",
    "promedio_temperatura = sum(temperatura) / len(temperatura)"
   ],
   "id": "d88d2670d08783c1",
   "outputs": [
    {
     "name": "stdout",
     "output_type": "stream",
     "text": [
      "15646.0\n",
      "45645.0\n",
      "4546.0\n",
      "46456.0\n",
      "456478.0\n"
     ]
    }
   ],
   "execution_count": 117
  },
  {
   "metadata": {
    "ExecuteTime": {
     "end_time": "2025-09-22T22:29:23.904428Z",
     "start_time": "2025-09-22T22:29:23.893116Z"
    }
   },
   "cell_type": "code",
   "source": "print(promedio_temperatura)",
   "id": "b9147517224fffd0",
   "outputs": [
    {
     "name": "stdout",
     "output_type": "stream",
     "text": [
      "113754.2\n"
     ]
    }
   ],
   "execution_count": 118
  },
  {
   "metadata": {},
   "cell_type": "code",
   "source": [
    "logs = [\n",
    "    \"INFO: Conexión exitosa\",\n",
    "    \"WARNING: Uso de CPU al 85%\",\n",
    "    \"INFO: Archivo de datos cargado\",\n",
    "    \"ERROR: No se pudo conectar a la base de datos\",\n",
    "    \"INFO: Usuario 'anderson' inició sesión\",\n",
    "    \"WARNING: Disco casi lleno\",\n",
    "    \"INFO: Proceso finalizado correctamente\",\n",
    "]\n",
    "\n",
    "encabezados_logs = []\n",
    "\n",
    "for log in logs:\n",
    "    # Separar los encabezados del log\n",
    "    encabezados = log.split(\":\")[0]\n",
    "    if encabezados in encabezados_logs:\n",
    "        encabezados_logs[encabezados] += 1\n",
    "    else:\n",
    "        encabezados_logs[encabezados] = 1\n",
    "\n",
    "\n",
    "\n",
    "print(encabezados_logs)\n"
   ],
   "id": "edadf38e6cea0dcd",
   "outputs": [],
   "execution_count": null
  },
  {
   "metadata": {
    "ExecuteTime": {
     "end_time": "2025-09-22T21:40:50.186026Z",
     "start_time": "2025-09-22T21:40:50.169801Z"
    }
   },
   "cell_type": "code",
   "source": [
    "# El \"contenedor\" es una lista.\n",
    "resultados_lista = []\n",
    "\n",
    "for log in logs:\n",
    "    tipo_log = log.split(\":\")[0]\n",
    "\n",
    "    # Por cada log, tenemos que buscar en TODA la lista de resultados.\n",
    "    encontrado = False\n",
    "    for item in resultados_lista:\n",
    "        # Si encontramos una sublista que ya tiene nuestro tipo_log...\n",
    "        if item[0] == tipo_log:\n",
    "            # ...incrementamos su contador y marcamos que lo encontramos.\n",
    "            item[1] += 1\n",
    "            encontrado = True\n",
    "            break # Rompemos el bucle de búsqueda\n",
    "\n",
    "    # Si, después de buscar, no lo encontramos...\n",
    "    if not encontrado:\n",
    "        # ...añadimos una nueva sublista para este nuevo tipo.\n",
    "        resultados_lista.append([tipo_log, 1])\n",
    "\n",
    "print(f\"Resultado con Lista: {resultados_lista}\")"
   ],
   "id": "2851e8168f4e7132",
   "outputs": [
    {
     "name": "stdout",
     "output_type": "stream",
     "text": [
      "Resultado con Lista: [['INFO', 4], ['WARNING', 2], ['ERROR', 1]]\n"
     ]
    }
   ],
   "execution_count": 37
  },
  {
   "metadata": {
    "ExecuteTime": {
     "end_time": "2025-09-22T22:53:28.658386Z",
     "start_time": "2025-09-22T22:53:28.638700Z"
    }
   },
   "cell_type": "code",
   "source": [
    "usuarios_sucios = [\n",
    "    {\"id\": \" user01 \", \"nombre\": \"  ana \", \"tags\": \"PYTHON, Data, AI\"},\n",
    "    {\"id\": \"user02\", \"nombre\": \"Pedro\", \"tags\": \"   data, anAlytics\"},\n",
    "    {\"id\": \" user03 \", \"nombre\": \" SOFÍA\", \"tags\": \"Python, ML, DEEP LEARNING\"}\n",
    "]\n",
    "\n",
    "usuarios_limpios = [ i['id'].strip().capitalize() for i in usuarios_sucios]\n",
    "print(usuarios_limpios)\n",
    "\n",
    "usuarios_limpios = []\n",
    "\n",
    "\n",
    "for i in usuarios_sucios:\n",
    "    ids = i['id'].strip().capitalize()\n",
    "    nombres = i['nombre'].strip().capitalize()\n",
    "    tags = i['tags']\n",
    "    usuarios_limpios.append({\"id\": ids, \"nombre\": nombres, \"tags\": tags})\n",
    "\n",
    "print(usuarios_limpios)\n",
    "\n",
    "tags_unicos = [i['tags'].lower().strip() for i in usuarios_sucios]\n",
    "tags_unicos\n"
   ],
   "id": "24978ceec9355be4",
   "outputs": [
    {
     "ename": "SyntaxError",
     "evalue": "did you forget parentheses around the comprehension target? (1906202580.py, line 7)",
     "output_type": "error",
     "traceback": [
      "  \u001B[36mCell\u001B[39m\u001B[36m \u001B[39m\u001B[32mIn[154]\u001B[39m\u001B[32m, line 7\u001B[39m\n\u001B[31m    \u001B[39m\u001B[31musuarios_limpios = [ i['id'].strip().capitalize(), i['nombre'].strip().capitalize()  for i in usuarios_sucios]\u001B[39m\n                         ^\n\u001B[31mSyntaxError\u001B[39m\u001B[31m:\u001B[39m did you forget parentheses around the comprehension target?\n"
     ]
    }
   ],
   "execution_count": 154
  },
  {
   "metadata": {
    "ExecuteTime": {
     "end_time": "2025-09-22T22:56:11.325443Z",
     "start_time": "2025-09-22T22:56:11.306162Z"
    }
   },
   "cell_type": "code",
   "source": [
    "usuarios_limpios = [{'id': i['id'].strip(),'nombre': i['nombre'].strip().capitalize(), 'tags': i['tags']} for i in usuarios_sucios]\n",
    "usuarios_limpios\n",
    "# Para una mejor visualización\n",
    "for usuario in usuarios_limpios:\n",
    "    print(usuario)"
   ],
   "id": "7be0e72babc8134a",
   "outputs": [
    {
     "data": {
      "text/plain": [
       "[{'id': 'user01', 'nombre': 'Ana', 'tags': 'PYTHON, Data, AI'},\n",
       " {'id': 'user02', 'nombre': 'Pedro', 'tags': '   data, anAlytics'},\n",
       " {'id': 'user03', 'nombre': 'Sofía', 'tags': 'Python, ML, DEEP LEARNING'}]"
      ]
     },
     "execution_count": 157,
     "metadata": {},
     "output_type": "execute_result"
    }
   ],
   "execution_count": 157
  }
 ],
 "metadata": {
  "kernelspec": {
   "display_name": "Python 3",
   "language": "python",
   "name": "python3"
  },
  "language_info": {
   "codemirror_mode": {
    "name": "ipython",
    "version": 2
   },
   "file_extension": ".py",
   "mimetype": "text/x-python",
   "name": "python",
   "nbconvert_exporter": "python",
   "pygments_lexer": "ipython2",
   "version": "2.7.6"
  }
 },
 "nbformat": 4,
 "nbformat_minor": 5
}
