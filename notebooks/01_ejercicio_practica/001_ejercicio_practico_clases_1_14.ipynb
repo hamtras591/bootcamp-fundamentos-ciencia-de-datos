{
 "cells": [
  {
   "metadata": {},
   "cell_type": "markdown",
   "source": [
    "# Desafío Práctico #1: Procesador de Comentarios de Clientes\n",
    "\n",
    "### El Escenario 🏢\n",
    "\n",
    "Imagina que trabajas como Data Analyst en una empresa de e-commerce. El equipo de producto te ha entregado una lista de comentarios de clientes extraídos directamente de la web. Los datos están \"sucios\": tienen espacios extra, mayúsculas y minúsculas inconsistentes, etc.\n",
    "\n",
    "### Tu Objetivo 🎯\n",
    "\n",
    "Tu misión es escribir un script en Python que procese esta lista de comentarios \"crudos\" y la transforme en una lista de diccionarios estructurados que contenga estadísticas clave de cada comentario.\n",
    "\n",
    "---\n",
    "\n",
    "### 1. Datos de Entrada\n"
   ],
   "id": "6f891b0f6b452a5"
  },
  {
   "metadata": {},
   "cell_type": "code",
   "source": [
    "comentarios_clientes = [\n",
    "    \"  Excelente producto! Muy bueno. Lo recomiendo. \",\n",
    "    \"El servicio de entrega fue TERRIBLE. Muy malo. \",\n",
    "    \"         me gusto mucho, es de buena calidad. \",\n",
    "    \"No fue lo que esperaba, el material es de mala calidad.\",\n",
    "    \"bueno bonito y barato! Excelente! \"\n",
    "]"
   ],
   "id": "e29aa9bf3bbb25e8",
   "outputs": [],
   "execution_count": null
  },
  {
   "metadata": {},
   "cell_type": "markdown",
   "source": [
    "### 2. Requisitos del Procesamiento\n",
    "\n",
    "Debes crear una nueva lista llamada resultados_analisis. Tu script debe hacer lo siguiente:\n",
    "\n",
    "1. Iterar sobre cada comentario en la lista comentarios_clientes.\n",
    "2. Para cada comentario, debes crear un diccionario que almacene su análisis.\n",
    "3. Normalizar el texto: Convierte el comentario a minúsculas y elimina cualquier espacio en blanco al principio o al final.\n",
    "4. Calcular Métricas:\n",
    "\n",
    "    * Cuenta el número de palabras.\n",
    "    * Cuenta el número de caracteres (del texto ya normalizado).\n",
    "\n",
    "5. Análisis de Sentimiento Simple:\n",
    "\n",
    "    * Si el comentario contiene la palabra **\"bueno\"** o **\"excelente\"**, clasifícalo como <span style=\"color:#C6EFCE\">\"Positivo\"</span>.\n",
    "    * Si contiene la palabra **\"malo\"** o **\"terrible\"**, clasifícalo como <span style=\"color:#FFC7CE\">\"Negativo\"</span>.\n",
    "    * Si no contiene ninguna de esas palabras, clasifícalo como <span style=\"color:#FFEB9C\">\"Neutro\"</span>\n",
    "\n",
    "6. Poblar la Lista Final: Añade el diccionario con el análisis completo a tu lista `resultados_analisis`\n",
    "\n",
    "---\n",
    "\n",
    "### 3. Salida Esperada\n",
    "\n",
    "Al final, al imprimir resultados_analisis, la estructura debería verse así:\n",
    "\n",
    "---"
   ],
   "id": "f3360a99563b220c"
  },
  {
   "metadata": {},
   "cell_type": "code",
   "source": [
    "[\n",
    "  {\n",
    "    'id_comentario': 1,\n",
    "    'texto_original': '  Excelente producto! Muy bueno. Lo recomiendo. ',\n",
    "    'texto_normalizado': 'excelente producto! muy bueno. lo recomiendo.',\n",
    "    'num_palabras': 6,\n",
    "    'num_caracteres': 45,\n",
    "    'sentimiento': 'Positivo'\n",
    "  },\n",
    "  {\n",
    "    'id_comentario': 2,\n",
    "    'texto_original': 'El servicio de entrega fue TERRIBLE. Muy malo. ',\n",
    "    'texto_normalizado': 'el servicio de entrega fue terrible. muy malo.',\n",
    "    'num_palabras': 8,\n",
    "    'num_caracteres': 45,\n",
    "    'sentimiento': 'Negativo'\n",
    "  },\n",
    "  # ... y así para cada comentario\n",
    "]"
   ],
   "id": "e70208e8ecb00c9",
   "outputs": [],
   "execution_count": null
  }
 ],
 "metadata": {
  "kernelspec": {
   "name": "python3",
   "language": "python",
   "display_name": "Python 3 (ipykernel)"
  }
 },
 "nbformat": 5,
 "nbformat_minor": 9
}
